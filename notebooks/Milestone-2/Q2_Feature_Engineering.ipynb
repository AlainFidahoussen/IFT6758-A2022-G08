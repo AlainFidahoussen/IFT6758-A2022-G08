{
 "cells": [
  {
   "cell_type": "code",
   "execution_count": 39,
   "id": "cefbf9bc-1d37-4de6-93b5-669340db6075",
   "metadata": {},
   "outputs": [
    {
     "name": "stdout",
     "output_type": "stream",
     "text": [
      "The autoreload extension is already loaded. To reload it, use:\n",
      "  %reload_ext autoreload\n"
     ]
    }
   ],
   "source": [
    "%load_ext autoreload\n",
    "%autoreload 2"
   ]
  },
  {
   "cell_type": "code",
   "execution_count": 40,
   "id": "aa431605-3081-4159-a4e4-45f00acb2a7d",
   "metadata": {},
   "outputs": [],
   "source": [
    "from dotenv import load_dotenv\n",
    "load_dotenv();"
   ]
  },
  {
   "cell_type": "code",
   "execution_count": 41,
   "id": "bb483050-2100-45b9-bd10-599cf356cced",
   "metadata": {},
   "outputs": [],
   "source": [
    "import os\n",
    "import numpy as np\n",
    "import pandas as pd"
   ]
  },
  {
   "cell_type": "code",
   "execution_count": 42,
   "id": "de356422-8987-4f84-9674-8d568fc07b6a",
   "metadata": {},
   "outputs": [],
   "source": [
    "import src.features.build_features as FeaturesManager"
   ]
  },
  {
   "cell_type": "code",
   "execution_count": 69,
   "id": "9effa339-7060-43b0-8ffb-eec10a2b963e",
   "metadata": {},
   "outputs": [
    {
     "name": "stderr",
     "output_type": "stream",
     "text": [
      "C:\\Users\\anniw\\anaconda3\\envs\\ift6758\\lib\\site-packages\\numpy\\linalg\\linalg.py:2154: RuntimeWarning: invalid value encountered in det\n",
      "  r = _umath_linalg.det(a, signature=signature)\n"
     ]
    },
    {
     "data": {
      "application/vnd.jupyter.widget-view+json": {
       "model_id": "932bd24cb15e432d8bbf57a101d253b4",
       "version_major": 2,
       "version_minor": 0
      },
      "text/plain": [
       "  0%|          | 0/1271 [00:00<?, ?it/s]"
      ]
     },
     "metadata": {},
     "output_type": "display_data"
    },
    {
     "data": {
      "application/vnd.jupyter.widget-view+json": {
       "model_id": "b937476b4f554de78f223482a8b3b97d",
       "version_major": 2,
       "version_minor": 0
      },
      "text/plain": [
       "  0%|          | 0/1270 [00:00<?, ?it/s]"
      ]
     },
     "metadata": {},
     "output_type": "display_data"
    },
    {
     "name": "stderr",
     "output_type": "stream",
     "text": [
      "C:\\Users\\anniw\\anaconda3\\envs\\ift6758\\lib\\site-packages\\numpy\\linalg\\linalg.py:2154: RuntimeWarning: invalid value encountered in det\n",
      "  r = _umath_linalg.det(a, signature=signature)\n"
     ]
    },
    {
     "data": {
      "application/vnd.jupyter.widget-view+json": {
       "model_id": "890d6de0001441e08af10e7f3292b1c4",
       "version_major": 2,
       "version_minor": 0
      },
      "text/plain": [
       "  0%|          | 0/1271 [00:00<?, ?it/s]"
      ]
     },
     "metadata": {},
     "output_type": "display_data"
    },
    {
     "data": {
      "application/vnd.jupyter.widget-view+json": {
       "model_id": "9ea010e132ec4082b54b7bbfd8aa8ec2",
       "version_major": 2,
       "version_minor": 0
      },
      "text/plain": [
       "  0%|          | 0/1270 [00:00<?, ?it/s]"
      ]
     },
     "metadata": {},
     "output_type": "display_data"
    },
    {
     "name": "stderr",
     "output_type": "stream",
     "text": [
      "C:\\Users\\anniw\\anaconda3\\envs\\ift6758\\lib\\site-packages\\numpy\\linalg\\linalg.py:2154: RuntimeWarning: invalid value encountered in det\n",
      "  r = _umath_linalg.det(a, signature=signature)\n"
     ]
    },
    {
     "data": {
      "application/vnd.jupyter.widget-view+json": {
       "model_id": "3e05f943d3c04fcd8224935997d957a0",
       "version_major": 2,
       "version_minor": 0
      },
      "text/plain": [
       "  0%|          | 0/1271 [00:00<?, ?it/s]"
      ]
     },
     "metadata": {},
     "output_type": "display_data"
    },
    {
     "data": {
      "application/vnd.jupyter.widget-view+json": {
       "model_id": "528fb0f5d7d64c3fbc26f479c7402ca6",
       "version_major": 2,
       "version_minor": 0
      },
      "text/plain": [
       "  0%|          | 0/1270 [00:00<?, ?it/s]"
      ]
     },
     "metadata": {},
     "output_type": "display_data"
    },
    {
     "name": "stderr",
     "output_type": "stream",
     "text": [
      "C:\\Users\\anniw\\anaconda3\\envs\\ift6758\\lib\\site-packages\\numpy\\linalg\\linalg.py:2154: RuntimeWarning: invalid value encountered in det\n",
      "  r = _umath_linalg.det(a, signature=signature)\n"
     ]
    }
   ],
   "source": [
    "seasons_year = [2016, 2017, 2018, 2019]\n",
    "df = FeaturesManager.build_features(seasons_year)"
   ]
  },
  {
   "cell_type": "code",
   "execution_count": 70,
   "id": "a1107421-713d-465d-a282-d87167194aee",
   "metadata": {},
   "outputs": [
    {
     "data": {
      "text/html": [
       "<div>\n",
       "<style scoped>\n",
       "    .dataframe tbody tr th:only-of-type {\n",
       "        vertical-align: middle;\n",
       "    }\n",
       "\n",
       "    .dataframe tbody tr th {\n",
       "        vertical-align: top;\n",
       "    }\n",
       "\n",
       "    .dataframe thead th {\n",
       "        text-align: right;\n",
       "    }\n",
       "</style>\n",
       "<table border=\"1\" class=\"dataframe\">\n",
       "  <thead>\n",
       "    <tr style=\"text-align: right;\">\n",
       "      <th></th>\n",
       "      <th>Game ID</th>\n",
       "      <th>Event Index</th>\n",
       "      <th>Period</th>\n",
       "      <th>Team</th>\n",
       "      <th>Type</th>\n",
       "      <th>Shot Type</th>\n",
       "      <th>Shooter</th>\n",
       "      <th>Goalie</th>\n",
       "      <th>Strength</th>\n",
       "      <th>X</th>\n",
       "      <th>...</th>\n",
       "      <th>st_X</th>\n",
       "      <th>st_Y</th>\n",
       "      <th>Last event st_X</th>\n",
       "      <th>Last event st_Y</th>\n",
       "      <th>Shot distance</th>\n",
       "      <th>Shot angle</th>\n",
       "      <th>Is Goal</th>\n",
       "      <th>Is Empty</th>\n",
       "      <th>Game seconds</th>\n",
       "      <th>Last event shot angle</th>\n",
       "    </tr>\n",
       "  </thead>\n",
       "  <tbody>\n",
       "    <tr>\n",
       "      <th>0</th>\n",
       "      <td>2016020001</td>\n",
       "      <td>43</td>\n",
       "      <td>1</td>\n",
       "      <td>Toronto Maple Leafs (TOR)</td>\n",
       "      <td>GOAL</td>\n",
       "      <td>Wrist Shot</td>\n",
       "      <td>Auston Matthews</td>\n",
       "      <td>Craig Anderson</td>\n",
       "      <td>Even</td>\n",
       "      <td>-70.0</td>\n",
       "      <td>...</td>\n",
       "      <td>70.0</td>\n",
       "      <td>-1.0</td>\n",
       "      <td>85.0</td>\n",
       "      <td>8.0</td>\n",
       "      <td>19.026298</td>\n",
       "      <td>-3.012788</td>\n",
       "      <td>1</td>\n",
       "      <td>0</td>\n",
       "      <td>501</td>\n",
       "      <td>63.434949</td>\n",
       "    </tr>\n",
       "    <tr>\n",
       "      <th>1</th>\n",
       "      <td>2016020001</td>\n",
       "      <td>61</td>\n",
       "      <td>1</td>\n",
       "      <td>Ottawa Senators (OTT)</td>\n",
       "      <td>GOAL</td>\n",
       "      <td>Backhand</td>\n",
       "      <td>Bobby Ryan</td>\n",
       "      <td>Frederik Andersen</td>\n",
       "      <td>Even</td>\n",
       "      <td>82.0</td>\n",
       "      <td>...</td>\n",
       "      <td>82.0</td>\n",
       "      <td>3.0</td>\n",
       "      <td>34.0</td>\n",
       "      <td>-25.0</td>\n",
       "      <td>7.615773</td>\n",
       "      <td>23.198591</td>\n",
       "      <td>1</td>\n",
       "      <td>0</td>\n",
       "      <td>626</td>\n",
       "      <td>-24.443955</td>\n",
       "    </tr>\n",
       "    <tr>\n",
       "      <th>2</th>\n",
       "      <td>2016020001</td>\n",
       "      <td>71</td>\n",
       "      <td>1</td>\n",
       "      <td>Ottawa Senators (OTT)</td>\n",
       "      <td>GOAL</td>\n",
       "      <td>Slap Shot</td>\n",
       "      <td>Erik Karlsson</td>\n",
       "      <td>Frederik Andersen</td>\n",
       "      <td>Even</td>\n",
       "      <td>34.0</td>\n",
       "      <td>...</td>\n",
       "      <td>34.0</td>\n",
       "      <td>-1.0</td>\n",
       "      <td>69.0</td>\n",
       "      <td>-8.0</td>\n",
       "      <td>55.009090</td>\n",
       "      <td>-1.041627</td>\n",
       "      <td>1</td>\n",
       "      <td>0</td>\n",
       "      <td>769</td>\n",
       "      <td>-21.801409</td>\n",
       "    </tr>\n",
       "    <tr>\n",
       "      <th>3</th>\n",
       "      <td>2016020001</td>\n",
       "      <td>80</td>\n",
       "      <td>1</td>\n",
       "      <td>Toronto Maple Leafs (TOR)</td>\n",
       "      <td>GOAL</td>\n",
       "      <td>Snap Shot</td>\n",
       "      <td>Auston Matthews</td>\n",
       "      <td>Craig Anderson</td>\n",
       "      <td>Even</td>\n",
       "      <td>-76.0</td>\n",
       "      <td>...</td>\n",
       "      <td>76.0</td>\n",
       "      <td>28.0</td>\n",
       "      <td>21.0</td>\n",
       "      <td>-3.0</td>\n",
       "      <td>30.870698</td>\n",
       "      <td>65.095231</td>\n",
       "      <td>1</td>\n",
       "      <td>0</td>\n",
       "      <td>858</td>\n",
       "      <td>-2.526117</td>\n",
       "    </tr>\n",
       "    <tr>\n",
       "      <th>4</th>\n",
       "      <td>2016020001</td>\n",
       "      <td>132</td>\n",
       "      <td>2</td>\n",
       "      <td>Toronto Maple Leafs (TOR)</td>\n",
       "      <td>GOAL</td>\n",
       "      <td>Wrist Shot</td>\n",
       "      <td>Auston Matthews</td>\n",
       "      <td>Craig Anderson</td>\n",
       "      <td>Even</td>\n",
       "      <td>76.0</td>\n",
       "      <td>...</td>\n",
       "      <td>76.0</td>\n",
       "      <td>-14.0</td>\n",
       "      <td>-89.0</td>\n",
       "      <td>-25.0</td>\n",
       "      <td>19.104973</td>\n",
       "      <td>-47.121096</td>\n",
       "      <td>1</td>\n",
       "      <td>0</td>\n",
       "      <td>1285</td>\n",
       "      <td>-7.994865</td>\n",
       "    </tr>\n",
       "  </tbody>\n",
       "</table>\n",
       "<p>5 rows × 26 columns</p>\n",
       "</div>"
      ],
      "text/plain": [
       "      Game ID Event Index Period                       Team  Type   Shot Type  \\\n",
       "0  2016020001          43      1  Toronto Maple Leafs (TOR)  GOAL  Wrist Shot   \n",
       "1  2016020001          61      1      Ottawa Senators (OTT)  GOAL    Backhand   \n",
       "2  2016020001          71      1      Ottawa Senators (OTT)  GOAL   Slap Shot   \n",
       "3  2016020001          80      1  Toronto Maple Leafs (TOR)  GOAL   Snap Shot   \n",
       "4  2016020001         132      2  Toronto Maple Leafs (TOR)  GOAL  Wrist Shot   \n",
       "\n",
       "           Shooter             Goalie Strength     X  ...  st_X  st_Y  \\\n",
       "0  Auston Matthews     Craig Anderson     Even -70.0  ...  70.0  -1.0   \n",
       "1       Bobby Ryan  Frederik Andersen     Even  82.0  ...  82.0   3.0   \n",
       "2    Erik Karlsson  Frederik Andersen     Even  34.0  ...  34.0  -1.0   \n",
       "3  Auston Matthews     Craig Anderson     Even -76.0  ...  76.0  28.0   \n",
       "4  Auston Matthews     Craig Anderson     Even  76.0  ...  76.0 -14.0   \n",
       "\n",
       "  Last event st_X Last event st_Y Shot distance Shot angle Is Goal Is Empty  \\\n",
       "0            85.0             8.0     19.026298  -3.012788       1        0   \n",
       "1            34.0           -25.0      7.615773  23.198591       1        0   \n",
       "2            69.0            -8.0     55.009090  -1.041627       1        0   \n",
       "3            21.0            -3.0     30.870698  65.095231       1        0   \n",
       "4           -89.0           -25.0     19.104973 -47.121096       1        0   \n",
       "\n",
       "  Game seconds Last event shot angle  \n",
       "0          501             63.434949  \n",
       "1          626            -24.443955  \n",
       "2          769            -21.801409  \n",
       "3          858             -2.526117  \n",
       "4         1285             -7.994865  \n",
       "\n",
       "[5 rows x 26 columns]"
      ]
     },
     "execution_count": 70,
     "metadata": {},
     "output_type": "execute_result"
    }
   ],
   "source": [
    "df.head()"
   ]
  },
  {
   "cell_type": "code",
   "execution_count": 71,
   "id": "f8db609e-624c-45e3-b167-2849261fe3be",
   "metadata": {},
   "outputs": [
    {
     "name": "stdout",
     "output_type": "stream",
     "text": [
      "<class 'pandas.core.frame.DataFrame'>\n",
      "Int64Index: 298117 entries, 0 to 66044\n",
      "Data columns (total 26 columns):\n",
      " #   Column                   Non-Null Count   Dtype  \n",
      "---  ------                   --------------   -----  \n",
      " 0   Game ID                  298117 non-null  object \n",
      " 1   Event Index              298117 non-null  object \n",
      " 2   Period                   298117 non-null  object \n",
      " 3   Team                     298117 non-null  object \n",
      " 4   Type                     298117 non-null  object \n",
      " 5   Shot Type                298080 non-null  object \n",
      " 6   Shooter                  298117 non-null  object \n",
      " 7   Goalie                   298117 non-null  object \n",
      " 8   Strength                 28290 non-null   object \n",
      " 9   X                        298117 non-null  object \n",
      " 10  Y                        298117 non-null  object \n",
      " 11  Last event type          298117 non-null  object \n",
      " 12  Last event X             295999 non-null  object \n",
      " 13  Last event Y             295999 non-null  object \n",
      " 14  Last event elapsed time  298117 non-null  object \n",
      " 15  Last event distance      295999 non-null  object \n",
      " 16  st_X                     298117 non-null  object \n",
      " 17  st_Y                     298117 non-null  object \n",
      " 18  Last event st_X          295999 non-null  object \n",
      " 19  Last event st_Y          295999 non-null  object \n",
      " 20  Shot distance            298117 non-null  float64\n",
      " 21  Shot angle               298117 non-null  float64\n",
      " 22  Is Goal                  298117 non-null  int64  \n",
      " 23  Is Empty                 298117 non-null  int64  \n",
      " 24  Game seconds             298117 non-null  int64  \n",
      " 25  Last event shot angle    295999 non-null  float64\n",
      "dtypes: float64(3), int64(3), object(20)\n",
      "memory usage: 61.4+ MB\n"
     ]
    }
   ],
   "source": [
    "df.info()"
   ]
  },
  {
   "cell_type": "code",
   "execution_count": 50,
   "id": "af3f0f0f-c115-4ae7-8420-4b1b1e453ebb",
   "metadata": {},
   "outputs": [
    {
     "data": {
      "text/plain": [
       "189.6549498431296"
      ]
     },
     "execution_count": 50,
     "metadata": {},
     "output_type": "execute_result"
    }
   ],
   "source": [
    "df['Shot distance'].max()"
   ]
  },
  {
   "cell_type": "code",
   "execution_count": 51,
   "id": "ba66a4ef-a675-4fd3-bc7e-7aa6b74c0309",
   "metadata": {},
   "outputs": [
    {
     "data": {
      "text/plain": [
       "0.0"
      ]
     },
     "execution_count": 51,
     "metadata": {},
     "output_type": "execute_result"
    }
   ],
   "source": [
    "df['Shot distance'].min()"
   ]
  },
  {
   "cell_type": "code",
   "execution_count": 52,
   "id": "af306d0e-fdc0-4516-ad75-301b465a619e",
   "metadata": {},
   "outputs": [
    {
     "data": {
      "text/plain": [
       "180.0"
      ]
     },
     "execution_count": 52,
     "metadata": {},
     "output_type": "execute_result"
    }
   ],
   "source": [
    "df['Shot angle'].max()"
   ]
  },
  {
   "cell_type": "code",
   "execution_count": 53,
   "id": "80795e18-89a7-4fe2-aa6d-94f3f19e1424",
   "metadata": {},
   "outputs": [
    {
     "data": {
      "text/plain": [
       "-173.6598082540901"
      ]
     },
     "execution_count": 53,
     "metadata": {},
     "output_type": "execute_result"
    }
   ],
   "source": [
    "df['Shot angle'].min()"
   ]
  },
  {
   "cell_type": "code",
   "execution_count": 54,
   "id": "fff42d31-9cbb-45c0-8bc1-29c8409a5c12",
   "metadata": {},
   "outputs": [],
   "source": [
    "distance_bins = list(range(0, 195, 5))\n",
    "angle_bins = list(range(0, 185, 5)) # All but the last (righthand-most) bin is half-open in Numpy"
   ]
  },
  {
   "cell_type": "code",
   "execution_count": 55,
   "id": "9de512a3-9a1e-4aba-89e0-ad4846b09ecd",
   "metadata": {},
   "outputs": [],
   "source": [
    "import matplotlib.pyplot as plt\n",
    "import seaborn as sns\n",
    "\n",
    "sns.set()"
   ]
  },
  {
   "cell_type": "code",
   "execution_count": 56,
   "id": "201f4101-6b7d-46c0-ab4d-42f0280880fd",
   "metadata": {},
   "outputs": [
    {
     "data": {
      "text/plain": [
       "Text(0.5, 1.0, 'Goals')"
      ]
     },
     "execution_count": 56,
     "metadata": {},
     "output_type": "execute_result"
    },
    {
     "data": {
      "image/png": "[encoded data removed]",
      "text/plain": [
       "<Figure size 1800x576 with 2 Axes>"
      ]
     },
     "metadata": {},
     "output_type": "display_data"
    }
   ],
   "source": [
    "# Q1 - Hist1\n",
    "fig, axes = plt.subplots(1, 2, figsize=(25, 8), sharey=True)\n",
    "fig.suptitle('Number of shots and goals, binned by distance')\n",
    "\n",
    "sns.histplot(ax=axes[0], data=df, x=df[df['Is Goal'] == 0][\"Shot distance\"], bins=distance_bins)\n",
    "axes[0].set_title('Shots')\n",
    "\n",
    "sns.histplot(ax=axes[1], data=df, x=df[df['Is Goal'] == 1][\"Shot distance\"], bins=distance_bins)\n",
    "axes[1].set_title('Goals')"
   ]
  },
  {
   "cell_type": "code",
   "execution_count": 57,
   "id": "d7244e1f-bd4c-4b3f-a2a6-5d8b2ddb0ffa",
   "metadata": {},
   "outputs": [
    {
     "data": {
      "text/plain": [
       "Text(0.5, 1.0, 'Goals')"
      ]
     },
     "execution_count": 57,
     "metadata": {},
     "output_type": "execute_result"
    },
    {
     "data": {
      "image/png": "[encoded data removed]",
      "text/plain": [
       "<Figure size 1800x576 with 2 Axes>"
      ]
     },
     "metadata": {},
     "output_type": "display_data"
    }
   ],
   "source": [
    "# Q1 - Hist2\n",
    "fig, axes = plt.subplots(1, 2, figsize=(25, 8), sharey=True)\n",
    "fig.suptitle('Number of shots and goals, binned by angle')\n",
    "\n",
    "sns.histplot(ax=axes[0], data=df, x=df[df['Is Goal'] == 0][\"Shot angle\"].abs(), bins=angle_bins)\n",
    "axes[0].set_title('Shots')\n",
    "\n",
    "sns.histplot(ax=axes[1], data=df, x=df[df['Is Goal'] == 1][\"Shot angle\"].abs(), bins=angle_bins)\n",
    "axes[1].set_title('Goals')"
   ]
  },
  {
   "cell_type": "code",
   "execution_count": 58,
   "id": "94d54719-e72d-4f08-aba4-d66e06d3a979",
   "metadata": {},
   "outputs": [
    {
     "data": {
      "text/plain": [
       "<seaborn.axisgrid.JointGrid at 0x21c1b9e20b0>"
      ]
     },
     "execution_count": 58,
     "metadata": {},
     "output_type": "execute_result"
    },
    {
     "data": {
      "image/png": "[encoded data removed]",
      "text/plain": [
       "<Figure size 432x432 with 3 Axes>"
      ]
     },
     "metadata": {},
     "output_type": "display_data"
    }
   ],
   "source": [
    "# Q1 - Hist3\n",
    "sns.jointplot(data=df, x=df[\"Shot distance\"], y=df[\"Shot angle\"].abs(), marginal_kws=dict(bins=distance_bins)) # I took the absolute value"
   ]
  },
  {
   "cell_type": "code",
   "execution_count": 59,
   "id": "99d4f5e3-ebf1-4a3c-9839-6c9810f169d6",
   "metadata": {},
   "outputs": [],
   "source": [
    "# Q2\n",
    "distance_bins_2 = list(range(0, 195, 10))\n",
    "angle_bins_2 = list(range(0, 185, 10))\n",
    "df['Angle Bins'] = pd.cut(df['Shot angle'].abs(), bins=angle_bins_2, include_lowest=True)\n",
    "df['Distance Bins'] = pd.cut(df['Shot distance'], bins=distance_bins_2, include_lowest=True)"
   ]
  },
  {
   "cell_type": "code",
   "execution_count": 60,
   "id": "4eca1961-754b-4cc2-b760-f05907125594",
   "metadata": {},
   "outputs": [
    {
     "data": {
      "text/html": [
       "<div>\n",
       "<style scoped>\n",
       "    .dataframe tbody tr th:only-of-type {\n",
       "        vertical-align: middle;\n",
       "    }\n",
       "\n",
       "    .dataframe tbody tr th {\n",
       "        vertical-align: top;\n",
       "    }\n",
       "\n",
       "    .dataframe thead th {\n",
       "        text-align: right;\n",
       "    }\n",
       "</style>\n",
       "<table border=\"1\" class=\"dataframe\">\n",
       "  <thead>\n",
       "    <tr style=\"text-align: right;\">\n",
       "      <th></th>\n",
       "      <th>Angle Bins</th>\n",
       "      <th>GOAL</th>\n",
       "      <th>SHOT</th>\n",
       "    </tr>\n",
       "  </thead>\n",
       "  <tbody>\n",
       "    <tr>\n",
       "      <th>0</th>\n",
       "      <td>(-0.001, 10.0]</td>\n",
       "      <td>7276</td>\n",
       "      <td>48258</td>\n",
       "    </tr>\n",
       "    <tr>\n",
       "      <th>1</th>\n",
       "      <td>(10.0, 20.0]</td>\n",
       "      <td>5185</td>\n",
       "      <td>40993</td>\n",
       "    </tr>\n",
       "    <tr>\n",
       "      <th>2</th>\n",
       "      <td>(20.0, 30.0]</td>\n",
       "      <td>5104</td>\n",
       "      <td>56300</td>\n",
       "    </tr>\n",
       "    <tr>\n",
       "      <th>3</th>\n",
       "      <td>(30.0, 40.0]</td>\n",
       "      <td>4262</td>\n",
       "      <td>47679</td>\n",
       "    </tr>\n",
       "    <tr>\n",
       "      <th>4</th>\n",
       "      <td>(40.0, 50.0]</td>\n",
       "      <td>2852</td>\n",
       "      <td>30274</td>\n",
       "    </tr>\n",
       "    <tr>\n",
       "      <th>5</th>\n",
       "      <td>(50.0, 60.0]</td>\n",
       "      <td>1715</td>\n",
       "      <td>19372</td>\n",
       "    </tr>\n",
       "    <tr>\n",
       "      <th>6</th>\n",
       "      <td>(60.0, 70.0]</td>\n",
       "      <td>986</td>\n",
       "      <td>13125</td>\n",
       "    </tr>\n",
       "    <tr>\n",
       "      <th>7</th>\n",
       "      <td>(70.0, 80.0]</td>\n",
       "      <td>526</td>\n",
       "      <td>8491</td>\n",
       "    </tr>\n",
       "    <tr>\n",
       "      <th>8</th>\n",
       "      <td>(80.0, 90.0]</td>\n",
       "      <td>211</td>\n",
       "      <td>4270</td>\n",
       "    </tr>\n",
       "    <tr>\n",
       "      <th>9</th>\n",
       "      <td>(90.0, 100.0]</td>\n",
       "      <td>59</td>\n",
       "      <td>538</td>\n",
       "    </tr>\n",
       "    <tr>\n",
       "      <th>10</th>\n",
       "      <td>(100.0, 110.0]</td>\n",
       "      <td>47</td>\n",
       "      <td>281</td>\n",
       "    </tr>\n",
       "    <tr>\n",
       "      <th>11</th>\n",
       "      <td>(110.0, 120.0]</td>\n",
       "      <td>33</td>\n",
       "      <td>144</td>\n",
       "    </tr>\n",
       "    <tr>\n",
       "      <th>12</th>\n",
       "      <td>(120.0, 130.0]</td>\n",
       "      <td>17</td>\n",
       "      <td>64</td>\n",
       "    </tr>\n",
       "    <tr>\n",
       "      <th>13</th>\n",
       "      <td>(130.0, 140.0]</td>\n",
       "      <td>10</td>\n",
       "      <td>23</td>\n",
       "    </tr>\n",
       "    <tr>\n",
       "      <th>14</th>\n",
       "      <td>(140.0, 150.0]</td>\n",
       "      <td>1</td>\n",
       "      <td>13</td>\n",
       "    </tr>\n",
       "    <tr>\n",
       "      <th>15</th>\n",
       "      <td>(150.0, 160.0]</td>\n",
       "      <td>0</td>\n",
       "      <td>0</td>\n",
       "    </tr>\n",
       "    <tr>\n",
       "      <th>16</th>\n",
       "      <td>(160.0, 170.0]</td>\n",
       "      <td>1</td>\n",
       "      <td>1</td>\n",
       "    </tr>\n",
       "    <tr>\n",
       "      <th>17</th>\n",
       "      <td>(170.0, 180.0]</td>\n",
       "      <td>5</td>\n",
       "      <td>1</td>\n",
       "    </tr>\n",
       "  </tbody>\n",
       "</table>\n",
       "</div>"
      ],
      "text/plain": [
       "        Angle Bins  GOAL   SHOT\n",
       "0   (-0.001, 10.0]  7276  48258\n",
       "1     (10.0, 20.0]  5185  40993\n",
       "2     (20.0, 30.0]  5104  56300\n",
       "3     (30.0, 40.0]  4262  47679\n",
       "4     (40.0, 50.0]  2852  30274\n",
       "5     (50.0, 60.0]  1715  19372\n",
       "6     (60.0, 70.0]   986  13125\n",
       "7     (70.0, 80.0]   526   8491\n",
       "8     (80.0, 90.0]   211   4270\n",
       "9    (90.0, 100.0]    59    538\n",
       "10  (100.0, 110.0]    47    281\n",
       "11  (110.0, 120.0]    33    144\n",
       "12  (120.0, 130.0]    17     64\n",
       "13  (130.0, 140.0]    10     23\n",
       "14  (140.0, 150.0]     1     13\n",
       "15  (150.0, 160.0]     0      0\n",
       "16  (160.0, 170.0]     1      1\n",
       "17  (170.0, 180.0]     5      1"
      ]
     },
     "execution_count": 60,
     "metadata": {},
     "output_type": "execute_result"
    }
   ],
   "source": [
    "df_angle = pd.pivot_table(df, values='Is Goal', index='Angle Bins', columns='Type',  aggfunc='count').reset_index()\n",
    "df_angle.columns.name=None\n",
    "df_angle"
   ]
  },
  {
   "cell_type": "code",
   "execution_count": 61,
   "id": "1d95bddd-9d40-4ea0-a877-df5a477eab49",
   "metadata": {},
   "outputs": [
    {
     "data": {
      "text/html": [
       "<div>\n",
       "<style scoped>\n",
       "    .dataframe tbody tr th:only-of-type {\n",
       "        vertical-align: middle;\n",
       "    }\n",
       "\n",
       "    .dataframe tbody tr th {\n",
       "        vertical-align: top;\n",
       "    }\n",
       "\n",
       "    .dataframe thead th {\n",
       "        text-align: right;\n",
       "    }\n",
       "</style>\n",
       "<table border=\"1\" class=\"dataframe\">\n",
       "  <thead>\n",
       "    <tr style=\"text-align: right;\">\n",
       "      <th></th>\n",
       "      <th>Distance Bins</th>\n",
       "      <th>GOAL</th>\n",
       "      <th>SHOT</th>\n",
       "    </tr>\n",
       "  </thead>\n",
       "  <tbody>\n",
       "    <tr>\n",
       "      <th>0</th>\n",
       "      <td>(-0.001, 10.0]</td>\n",
       "      <td>5796</td>\n",
       "      <td>23137</td>\n",
       "    </tr>\n",
       "    <tr>\n",
       "      <th>1</th>\n",
       "      <td>(10.0, 20.0]</td>\n",
       "      <td>9658</td>\n",
       "      <td>49958</td>\n",
       "    </tr>\n",
       "    <tr>\n",
       "      <th>2</th>\n",
       "      <td>(20.0, 30.0]</td>\n",
       "      <td>5276</td>\n",
       "      <td>40669</td>\n",
       "    </tr>\n",
       "    <tr>\n",
       "      <th>3</th>\n",
       "      <td>(30.0, 40.0]</td>\n",
       "      <td>3364</td>\n",
       "      <td>44690</td>\n",
       "    </tr>\n",
       "    <tr>\n",
       "      <th>4</th>\n",
       "      <td>(40.0, 50.0]</td>\n",
       "      <td>1751</td>\n",
       "      <td>40823</td>\n",
       "    </tr>\n",
       "    <tr>\n",
       "      <th>5</th>\n",
       "      <td>(50.0, 60.0]</td>\n",
       "      <td>1303</td>\n",
       "      <td>41347</td>\n",
       "    </tr>\n",
       "    <tr>\n",
       "      <th>6</th>\n",
       "      <td>(60.0, 70.0]</td>\n",
       "      <td>390</td>\n",
       "      <td>15327</td>\n",
       "    </tr>\n",
       "    <tr>\n",
       "      <th>7</th>\n",
       "      <td>(70.0, 80.0]</td>\n",
       "      <td>95</td>\n",
       "      <td>3360</td>\n",
       "    </tr>\n",
       "    <tr>\n",
       "      <th>8</th>\n",
       "      <td>(80.0, 90.0]</td>\n",
       "      <td>90</td>\n",
       "      <td>2791</td>\n",
       "    </tr>\n",
       "    <tr>\n",
       "      <th>9</th>\n",
       "      <td>(90.0, 100.0]</td>\n",
       "      <td>85</td>\n",
       "      <td>1521</td>\n",
       "    </tr>\n",
       "    <tr>\n",
       "      <th>10</th>\n",
       "      <td>(100.0, 110.0]</td>\n",
       "      <td>38</td>\n",
       "      <td>738</td>\n",
       "    </tr>\n",
       "    <tr>\n",
       "      <th>11</th>\n",
       "      <td>(110.0, 120.0]</td>\n",
       "      <td>36</td>\n",
       "      <td>464</td>\n",
       "    </tr>\n",
       "    <tr>\n",
       "      <th>12</th>\n",
       "      <td>(120.0, 130.0]</td>\n",
       "      <td>60</td>\n",
       "      <td>715</td>\n",
       "    </tr>\n",
       "    <tr>\n",
       "      <th>13</th>\n",
       "      <td>(130.0, 140.0]</td>\n",
       "      <td>50</td>\n",
       "      <td>699</td>\n",
       "    </tr>\n",
       "    <tr>\n",
       "      <th>14</th>\n",
       "      <td>(140.0, 150.0]</td>\n",
       "      <td>48</td>\n",
       "      <td>714</td>\n",
       "    </tr>\n",
       "    <tr>\n",
       "      <th>15</th>\n",
       "      <td>(150.0, 160.0]</td>\n",
       "      <td>59</td>\n",
       "      <td>803</td>\n",
       "    </tr>\n",
       "    <tr>\n",
       "      <th>16</th>\n",
       "      <td>(160.0, 170.0]</td>\n",
       "      <td>97</td>\n",
       "      <td>887</td>\n",
       "    </tr>\n",
       "    <tr>\n",
       "      <th>17</th>\n",
       "      <td>(170.0, 180.0]</td>\n",
       "      <td>55</td>\n",
       "      <td>720</td>\n",
       "    </tr>\n",
       "    <tr>\n",
       "      <th>18</th>\n",
       "      <td>(180.0, 190.0]</td>\n",
       "      <td>39</td>\n",
       "      <td>464</td>\n",
       "    </tr>\n",
       "  </tbody>\n",
       "</table>\n",
       "</div>"
      ],
      "text/plain": [
       "     Distance Bins  GOAL   SHOT\n",
       "0   (-0.001, 10.0]  5796  23137\n",
       "1     (10.0, 20.0]  9658  49958\n",
       "2     (20.0, 30.0]  5276  40669\n",
       "3     (30.0, 40.0]  3364  44690\n",
       "4     (40.0, 50.0]  1751  40823\n",
       "5     (50.0, 60.0]  1303  41347\n",
       "6     (60.0, 70.0]   390  15327\n",
       "7     (70.0, 80.0]    95   3360\n",
       "8     (80.0, 90.0]    90   2791\n",
       "9    (90.0, 100.0]    85   1521\n",
       "10  (100.0, 110.0]    38    738\n",
       "11  (110.0, 120.0]    36    464\n",
       "12  (120.0, 130.0]    60    715\n",
       "13  (130.0, 140.0]    50    699\n",
       "14  (140.0, 150.0]    48    714\n",
       "15  (150.0, 160.0]    59    803\n",
       "16  (160.0, 170.0]    97    887\n",
       "17  (170.0, 180.0]    55    720\n",
       "18  (180.0, 190.0]    39    464"
      ]
     },
     "execution_count": 61,
     "metadata": {},
     "output_type": "execute_result"
    }
   ],
   "source": [
    "df_distance = pd.pivot_table(df, values='Is Goal', index='Distance Bins', columns='Type',  aggfunc='count').reset_index()\n",
    "df_distance.columns.name=None\n",
    "df_distance"
   ]
  },
  {
   "cell_type": "code",
   "execution_count": 62,
   "id": "9be4c06f-3e6c-46dd-b6e4-cc39f5582d69",
   "metadata": {},
   "outputs": [],
   "source": [
    "def calculate_percentage(a, b):\n",
    "    try:\n",
    "        result = (a/(a+b))*100\n",
    "    except:\n",
    "        result = np.nan\n",
    "    return result"
   ]
  },
  {
   "cell_type": "code",
   "execution_count": 63,
   "id": "fd1f35de-466b-48ad-9865-a772fd4b4bbb",
   "metadata": {},
   "outputs": [],
   "source": [
    "df_angle['Goal Percentage'] = df_angle.apply(lambda row : calculate_percentage(row['GOAL'], row['SHOT']), axis=1)\n",
    "df_distance['Goal Percentage'] = df_distance.apply(lambda row : calculate_percentage(row['GOAL'], row['SHOT']), axis=1)"
   ]
  },
  {
   "cell_type": "code",
   "execution_count": 64,
   "id": "ab52e7f1-3bd9-473e-9d49-4643fbd0011e",
   "metadata": {},
   "outputs": [
    {
     "data": {
      "text/plain": [
       "(array([ 0,  1,  2,  3,  4,  5,  6,  7,  8,  9, 10, 11, 12, 13, 14, 15, 16,\n",
       "        17, 18]),\n",
       " [Text(0, 0, '(-0.001, 10.0]'),\n",
       "  Text(1, 0, '(10.0, 20.0]'),\n",
       "  Text(2, 0, '(20.0, 30.0]'),\n",
       "  Text(3, 0, '(30.0, 40.0]'),\n",
       "  Text(4, 0, '(40.0, 50.0]'),\n",
       "  Text(5, 0, '(50.0, 60.0]'),\n",
       "  Text(6, 0, '(60.0, 70.0]'),\n",
       "  Text(7, 0, '(70.0, 80.0]'),\n",
       "  Text(8, 0, '(80.0, 90.0]'),\n",
       "  Text(9, 0, '(90.0, 100.0]'),\n",
       "  Text(10, 0, '(100.0, 110.0]'),\n",
       "  Text(11, 0, '(110.0, 120.0]'),\n",
       "  Text(12, 0, '(120.0, 130.0]'),\n",
       "  Text(13, 0, '(130.0, 140.0]'),\n",
       "  Text(14, 0, '(140.0, 150.0]'),\n",
       "  Text(15, 0, '(150.0, 160.0]'),\n",
       "  Text(16, 0, '(160.0, 170.0]'),\n",
       "  Text(17, 0, '(170.0, 180.0]'),\n",
       "  Text(18, 0, '(180.0, 190.0]')])"
      ]
     },
     "execution_count": 64,
     "metadata": {},
     "output_type": "execute_result"
    },
    {
     "data": {
      "image/png": "[encoded data removed]",
      "text/plain": [
       "<Figure size 1080x720 with 1 Axes>"
      ]
     },
     "metadata": {},
     "output_type": "display_data"
    }
   ],
   "source": [
    "# Q2 - Hist1\n",
    "plt.figure(figsize=(15, 10))\n",
    "sns.barplot(data=df_distance, x=\"Distance Bins\", y=\"Goal Percentage\").set_title('Relationship between goal percentage and angle, binned by distance')\n",
    "plt.xticks(rotation=90)"
   ]
  },
  {
   "cell_type": "code",
   "execution_count": 65,
   "id": "eb9150b0-551e-4b73-88c5-e69591d172e5",
   "metadata": {},
   "outputs": [
    {
     "data": {
      "text/plain": [
       "(array([ 0,  1,  2,  3,  4,  5,  6,  7,  8,  9, 10, 11, 12, 13, 14, 15, 16,\n",
       "        17]),\n",
       " [Text(0, 0, '(-0.001, 10.0]'),\n",
       "  Text(1, 0, '(10.0, 20.0]'),\n",
       "  Text(2, 0, '(20.0, 30.0]'),\n",
       "  Text(3, 0, '(30.0, 40.0]'),\n",
       "  Text(4, 0, '(40.0, 50.0]'),\n",
       "  Text(5, 0, '(50.0, 60.0]'),\n",
       "  Text(6, 0, '(60.0, 70.0]'),\n",
       "  Text(7, 0, '(70.0, 80.0]'),\n",
       "  Text(8, 0, '(80.0, 90.0]'),\n",
       "  Text(9, 0, '(90.0, 100.0]'),\n",
       "  Text(10, 0, '(100.0, 110.0]'),\n",
       "  Text(11, 0, '(110.0, 120.0]'),\n",
       "  Text(12, 0, '(120.0, 130.0]'),\n",
       "  Text(13, 0, '(130.0, 140.0]'),\n",
       "  Text(14, 0, '(140.0, 150.0]'),\n",
       "  Text(15, 0, '(150.0, 160.0]'),\n",
       "  Text(16, 0, '(160.0, 170.0]'),\n",
       "  Text(17, 0, '(170.0, 180.0]')])"
      ]
     },
     "execution_count": 65,
     "metadata": {},
     "output_type": "execute_result"
    },
    {
     "data": {
      "image/png": "[encoded data removed]",
      "text/plain": [
       "<Figure size 1080x720 with 1 Axes>"
      ]
     },
     "metadata": {},
     "output_type": "display_data"
    }
   ],
   "source": [
    "# Q2 - Hist2\n",
    "plt.figure(figsize=(15, 10))\n",
    "sns.barplot(data=df_angle, x=\"Angle Bins\", y=\"Goal Percentage\").set_title('Relationship between goal percentage and angle, binned by angle')\n",
    "plt.xticks(rotation=90)"
   ]
  },
  {
   "cell_type": "code",
   "execution_count": 66,
   "id": "85c8cbae-a5b7-4ad4-ac01-d00aa339cd47",
   "metadata": {},
   "outputs": [
    {
     "data": {
      "text/plain": [
       "Text(0.5, 1.0, 'Empty Net')"
      ]
     },
     "execution_count": 66,
     "metadata": {},
     "output_type": "execute_result"
    },
    {
     "data": {
      "image/png": "[encoded data removed]",
      "text/plain": [
       "<Figure size 1800x576 with 2 Axes>"
      ]
     },
     "metadata": {},
     "output_type": "display_data"
    }
   ],
   "source": [
    "# Q3\n",
    "df_goals = df[df['Is Goal'] == 1]\n",
    "\n",
    "fig, axes = plt.subplots(1, 2, figsize=(25, 8), sharey=True)\n",
    "fig.suptitle('Number of goals, binned by distance')\n",
    "\n",
    "sns.histplot(ax=axes[0], data=df_goals, x=df_goals[df_goals['Is Empty'] == 0][\"Shot distance\"], bins=distance_bins)\n",
    "axes[0].set_title('Not Empty Net')\n",
    "\n",
    "sns.histplot(ax=axes[1], data=df_goals, x=df_goals[df_goals['Is Empty'] == 1][\"Shot distance\"], bins=distance_bins)\n",
    "axes[1].set_title('Empty Net')"
   ]
  },
  {
   "cell_type": "code",
   "execution_count": 67,
   "id": "8f652d7c-b4d2-42e8-8db5-3dc37ba133bb",
   "metadata": {},
   "outputs": [
    {
     "data": {
      "text/html": [
       "<div>\n",
       "<style scoped>\n",
       "    .dataframe tbody tr th:only-of-type {\n",
       "        vertical-align: middle;\n",
       "    }\n",
       "\n",
       "    .dataframe tbody tr th {\n",
       "        vertical-align: top;\n",
       "    }\n",
       "\n",
       "    .dataframe thead th {\n",
       "        text-align: right;\n",
       "    }\n",
       "</style>\n",
       "<table border=\"1\" class=\"dataframe\">\n",
       "  <thead>\n",
       "    <tr style=\"text-align: right;\">\n",
       "      <th></th>\n",
       "      <th>Game ID</th>\n",
       "      <th>Event Index</th>\n",
       "      <th>Time</th>\n",
       "      <th>Period</th>\n",
       "      <th>Team</th>\n",
       "      <th>Type</th>\n",
       "      <th>Shot Type</th>\n",
       "      <th>Shooter</th>\n",
       "      <th>Goalie</th>\n",
       "      <th>Strength</th>\n",
       "      <th>...</th>\n",
       "      <th>Last event elapsed time</th>\n",
       "      <th>Last event distance</th>\n",
       "      <th>st_X</th>\n",
       "      <th>st_Y</th>\n",
       "      <th>Shot distance</th>\n",
       "      <th>Shot angle</th>\n",
       "      <th>Is Goal</th>\n",
       "      <th>Is Empty</th>\n",
       "      <th>Angle Bins</th>\n",
       "      <th>Distance Bins</th>\n",
       "    </tr>\n",
       "  </thead>\n",
       "  <tbody>\n",
       "    <tr>\n",
       "      <th>1764</th>\n",
       "      <td>2016020030</td>\n",
       "      <td>241</td>\n",
       "      <td>07:59</td>\n",
       "      <td>3</td>\n",
       "      <td>New York Islanders (NYI)</td>\n",
       "      <td>GOAL</td>\n",
       "      <td>Wrist Shot</td>\n",
       "      <td>John Tavares</td>\n",
       "      <td>John Gibson</td>\n",
       "      <td>Even</td>\n",
       "      <td>...</td>\n",
       "      <td>0</td>\n",
       "      <td>107.670795</td>\n",
       "      <td>-33.0</td>\n",
       "      <td>-21.0</td>\n",
       "      <td>123.794184</td>\n",
       "      <td>-9.766679</td>\n",
       "      <td>1</td>\n",
       "      <td>0</td>\n",
       "      <td>(-0.001, 10.0]</td>\n",
       "      <td>(120.0, 130.0]</td>\n",
       "    </tr>\n",
       "    <tr>\n",
       "      <th>4562</th>\n",
       "      <td>2016020077</td>\n",
       "      <td>145</td>\n",
       "      <td>09:24</td>\n",
       "      <td>2</td>\n",
       "      <td>Edmonton Oilers (EDM)</td>\n",
       "      <td>GOAL</td>\n",
       "      <td>Snap Shot</td>\n",
       "      <td>Mark Letestu</td>\n",
       "      <td>Connor Hellebuyck</td>\n",
       "      <td>Short Handed</td>\n",
       "      <td>...</td>\n",
       "      <td>6</td>\n",
       "      <td>118.207445</td>\n",
       "      <td>-76.0</td>\n",
       "      <td>2.0</td>\n",
       "      <td>165.012121</td>\n",
       "      <td>0.694460</td>\n",
       "      <td>1</td>\n",
       "      <td>0</td>\n",
       "      <td>(-0.001, 10.0]</td>\n",
       "      <td>(160.0, 170.0]</td>\n",
       "    </tr>\n",
       "    <tr>\n",
       "      <th>4563</th>\n",
       "      <td>2016020077</td>\n",
       "      <td>154</td>\n",
       "      <td>11:10</td>\n",
       "      <td>2</td>\n",
       "      <td>Edmonton Oilers (EDM)</td>\n",
       "      <td>GOAL</td>\n",
       "      <td>Snap Shot</td>\n",
       "      <td>Darnell Nurse</td>\n",
       "      <td>Connor Hellebuyck</td>\n",
       "      <td>Even</td>\n",
       "      <td>...</td>\n",
       "      <td>4</td>\n",
       "      <td>114.982607</td>\n",
       "      <td>-79.0</td>\n",
       "      <td>8.0</td>\n",
       "      <td>168.190368</td>\n",
       "      <td>2.726311</td>\n",
       "      <td>1</td>\n",
       "      <td>0</td>\n",
       "      <td>(-0.001, 10.0]</td>\n",
       "      <td>(160.0, 170.0]</td>\n",
       "    </tr>\n",
       "    <tr>\n",
       "      <th>4564</th>\n",
       "      <td>2016020077</td>\n",
       "      <td>187</td>\n",
       "      <td>17:16</td>\n",
       "      <td>2</td>\n",
       "      <td>Edmonton Oilers (EDM)</td>\n",
       "      <td>GOAL</td>\n",
       "      <td>Snap Shot</td>\n",
       "      <td>Zack Kassian</td>\n",
       "      <td>Connor Hellebuyck</td>\n",
       "      <td>Even</td>\n",
       "      <td>...</td>\n",
       "      <td>2</td>\n",
       "      <td>19.235384</td>\n",
       "      <td>-73.0</td>\n",
       "      <td>16.0</td>\n",
       "      <td>162.788206</td>\n",
       "      <td>5.640549</td>\n",
       "      <td>1</td>\n",
       "      <td>0</td>\n",
       "      <td>(-0.001, 10.0]</td>\n",
       "      <td>(160.0, 170.0]</td>\n",
       "    </tr>\n",
       "    <tr>\n",
       "      <th>20724</th>\n",
       "      <td>2016020342</td>\n",
       "      <td>126</td>\n",
       "      <td>02:10</td>\n",
       "      <td>2</td>\n",
       "      <td>New York Islanders (NYI)</td>\n",
       "      <td>GOAL</td>\n",
       "      <td>Tip-In</td>\n",
       "      <td>Jason Chimera</td>\n",
       "      <td>Matt Murray</td>\n",
       "      <td>Even</td>\n",
       "      <td>...</td>\n",
       "      <td>1</td>\n",
       "      <td>110.168053</td>\n",
       "      <td>-37.0</td>\n",
       "      <td>-16.0</td>\n",
       "      <td>127.011810</td>\n",
       "      <td>-7.236922</td>\n",
       "      <td>1</td>\n",
       "      <td>0</td>\n",
       "      <td>(-0.001, 10.0]</td>\n",
       "      <td>(120.0, 130.0]</td>\n",
       "    </tr>\n",
       "    <tr>\n",
       "      <th>...</th>\n",
       "      <td>...</td>\n",
       "      <td>...</td>\n",
       "      <td>...</td>\n",
       "      <td>...</td>\n",
       "      <td>...</td>\n",
       "      <td>...</td>\n",
       "      <td>...</td>\n",
       "      <td>...</td>\n",
       "      <td>...</td>\n",
       "      <td>...</td>\n",
       "      <td>...</td>\n",
       "      <td>...</td>\n",
       "      <td>...</td>\n",
       "      <td>...</td>\n",
       "      <td>...</td>\n",
       "      <td>...</td>\n",
       "      <td>...</td>\n",
       "      <td>...</td>\n",
       "      <td>...</td>\n",
       "      <td>...</td>\n",
       "      <td>...</td>\n",
       "    </tr>\n",
       "    <tr>\n",
       "      <th>287166</th>\n",
       "      <td>2019020902</td>\n",
       "      <td>201</td>\n",
       "      <td>19:18</td>\n",
       "      <td>2</td>\n",
       "      <td>Colorado Avalanche (COL)</td>\n",
       "      <td>GOAL</td>\n",
       "      <td>Wrist Shot</td>\n",
       "      <td>Samuel Girard</td>\n",
       "      <td>Jonathan Quick</td>\n",
       "      <td>Even</td>\n",
       "      <td>...</td>\n",
       "      <td>1</td>\n",
       "      <td>15.652476</td>\n",
       "      <td>-52.0</td>\n",
       "      <td>11.0</td>\n",
       "      <td>141.428427</td>\n",
       "      <td>4.460848</td>\n",
       "      <td>1</td>\n",
       "      <td>0</td>\n",
       "      <td>(-0.001, 10.0]</td>\n",
       "      <td>(140.0, 150.0]</td>\n",
       "    </tr>\n",
       "    <tr>\n",
       "      <th>287167</th>\n",
       "      <td>2019020902</td>\n",
       "      <td>292</td>\n",
       "      <td>19:05</td>\n",
       "      <td>3</td>\n",
       "      <td>Los Angeles Kings (LAK)</td>\n",
       "      <td>GOAL</td>\n",
       "      <td>Wrist Shot</td>\n",
       "      <td>Tyler Toffoli</td>\n",
       "      <td>Pavel Francouz</td>\n",
       "      <td>Even</td>\n",
       "      <td>...</td>\n",
       "      <td>5</td>\n",
       "      <td>21.189620</td>\n",
       "      <td>-62.0</td>\n",
       "      <td>-2.0</td>\n",
       "      <td>151.013244</td>\n",
       "      <td>-0.758840</td>\n",
       "      <td>1</td>\n",
       "      <td>0</td>\n",
       "      <td>(-0.001, 10.0]</td>\n",
       "      <td>(150.0, 160.0]</td>\n",
       "    </tr>\n",
       "    <tr>\n",
       "      <th>292395</th>\n",
       "      <td>2019020989</td>\n",
       "      <td>35</td>\n",
       "      <td>08:19</td>\n",
       "      <td>1</td>\n",
       "      <td>Minnesota Wild (MIN)</td>\n",
       "      <td>GOAL</td>\n",
       "      <td>Wrist Shot</td>\n",
       "      <td>Ryan Donato</td>\n",
       "      <td>Jimmy Howard</td>\n",
       "      <td>Even</td>\n",
       "      <td>...</td>\n",
       "      <td>0</td>\n",
       "      <td>153.003268</td>\n",
       "      <td>-76.0</td>\n",
       "      <td>-3.0</td>\n",
       "      <td>165.027270</td>\n",
       "      <td>-1.041627</td>\n",
       "      <td>1</td>\n",
       "      <td>0</td>\n",
       "      <td>(-0.001, 10.0]</td>\n",
       "      <td>(160.0, 170.0]</td>\n",
       "    </tr>\n",
       "    <tr>\n",
       "      <th>293050</th>\n",
       "      <td>2019021001</td>\n",
       "      <td>176</td>\n",
       "      <td>13:14</td>\n",
       "      <td>2</td>\n",
       "      <td>Los Angeles Kings (LAK)</td>\n",
       "      <td>GOAL</td>\n",
       "      <td>Wrist Shot</td>\n",
       "      <td>Dustin Brown</td>\n",
       "      <td>Mackenzie Blackwood</td>\n",
       "      <td>Even</td>\n",
       "      <td>...</td>\n",
       "      <td>4</td>\n",
       "      <td>47.539457</td>\n",
       "      <td>-77.0</td>\n",
       "      <td>5.0</td>\n",
       "      <td>166.075284</td>\n",
       "      <td>1.725255</td>\n",
       "      <td>1</td>\n",
       "      <td>0</td>\n",
       "      <td>(-0.001, 10.0]</td>\n",
       "      <td>(160.0, 170.0]</td>\n",
       "    </tr>\n",
       "    <tr>\n",
       "      <th>293051</th>\n",
       "      <td>2019021001</td>\n",
       "      <td>323</td>\n",
       "      <td>01:58</td>\n",
       "      <td>4</td>\n",
       "      <td>Los Angeles Kings (LAK)</td>\n",
       "      <td>GOAL</td>\n",
       "      <td>Snap Shot</td>\n",
       "      <td>Adrian Kempe</td>\n",
       "      <td>Mackenzie Blackwood</td>\n",
       "      <td>Even</td>\n",
       "      <td>...</td>\n",
       "      <td>29</td>\n",
       "      <td>55.326305</td>\n",
       "      <td>-65.0</td>\n",
       "      <td>15.0</td>\n",
       "      <td>154.728795</td>\n",
       "      <td>5.563209</td>\n",
       "      <td>1</td>\n",
       "      <td>0</td>\n",
       "      <td>(-0.001, 10.0]</td>\n",
       "      <td>(150.0, 160.0]</td>\n",
       "    </tr>\n",
       "  </tbody>\n",
       "</table>\n",
       "<p>113 rows × 25 columns</p>\n",
       "</div>"
      ],
      "text/plain": [
       "           Game ID  Event Index   Time  Period                      Team  \\\n",
       "1764    2016020030          241  07:59       3  New York Islanders (NYI)   \n",
       "4562    2016020077          145  09:24       2     Edmonton Oilers (EDM)   \n",
       "4563    2016020077          154  11:10       2     Edmonton Oilers (EDM)   \n",
       "4564    2016020077          187  17:16       2     Edmonton Oilers (EDM)   \n",
       "20724   2016020342          126  02:10       2  New York Islanders (NYI)   \n",
       "...            ...          ...    ...     ...                       ...   \n",
       "287166  2019020902          201  19:18       2  Colorado Avalanche (COL)   \n",
       "287167  2019020902          292  19:05       3   Los Angeles Kings (LAK)   \n",
       "292395  2019020989           35  08:19       1      Minnesota Wild (MIN)   \n",
       "293050  2019021001          176  13:14       2   Los Angeles Kings (LAK)   \n",
       "293051  2019021001          323  01:58       4   Los Angeles Kings (LAK)   \n",
       "\n",
       "        Type   Shot Type        Shooter               Goalie      Strength  \\\n",
       "1764    GOAL  Wrist Shot   John Tavares          John Gibson          Even   \n",
       "4562    GOAL   Snap Shot   Mark Letestu    Connor Hellebuyck  Short Handed   \n",
       "4563    GOAL   Snap Shot  Darnell Nurse    Connor Hellebuyck          Even   \n",
       "4564    GOAL   Snap Shot   Zack Kassian    Connor Hellebuyck          Even   \n",
       "20724   GOAL      Tip-In  Jason Chimera          Matt Murray          Even   \n",
       "...      ...         ...            ...                  ...           ...   \n",
       "287166  GOAL  Wrist Shot  Samuel Girard       Jonathan Quick          Even   \n",
       "287167  GOAL  Wrist Shot  Tyler Toffoli       Pavel Francouz          Even   \n",
       "292395  GOAL  Wrist Shot    Ryan Donato         Jimmy Howard          Even   \n",
       "293050  GOAL  Wrist Shot   Dustin Brown  Mackenzie Blackwood          Even   \n",
       "293051  GOAL   Snap Shot   Adrian Kempe  Mackenzie Blackwood          Even   \n",
       "\n",
       "        ...  Last event elapsed time  Last event distance  st_X  st_Y  \\\n",
       "1764    ...                        0           107.670795 -33.0 -21.0   \n",
       "4562    ...                        6           118.207445 -76.0   2.0   \n",
       "4563    ...                        4           114.982607 -79.0   8.0   \n",
       "4564    ...                        2            19.235384 -73.0  16.0   \n",
       "20724   ...                        1           110.168053 -37.0 -16.0   \n",
       "...     ...                      ...                  ...   ...   ...   \n",
       "287166  ...                        1            15.652476 -52.0  11.0   \n",
       "287167  ...                        5            21.189620 -62.0  -2.0   \n",
       "292395  ...                        0           153.003268 -76.0  -3.0   \n",
       "293050  ...                        4            47.539457 -77.0   5.0   \n",
       "293051  ...                       29            55.326305 -65.0  15.0   \n",
       "\n",
       "        Shot distance  Shot angle  Is Goal  Is Empty      Angle Bins  \\\n",
       "1764       123.794184   -9.766679        1         0  (-0.001, 10.0]   \n",
       "4562       165.012121    0.694460        1         0  (-0.001, 10.0]   \n",
       "4563       168.190368    2.726311        1         0  (-0.001, 10.0]   \n",
       "4564       162.788206    5.640549        1         0  (-0.001, 10.0]   \n",
       "20724      127.011810   -7.236922        1         0  (-0.001, 10.0]   \n",
       "...               ...         ...      ...       ...             ...   \n",
       "287166     141.428427    4.460848        1         0  (-0.001, 10.0]   \n",
       "287167     151.013244   -0.758840        1         0  (-0.001, 10.0]   \n",
       "292395     165.027270   -1.041627        1         0  (-0.001, 10.0]   \n",
       "293050     166.075284    1.725255        1         0  (-0.001, 10.0]   \n",
       "293051     154.728795    5.563209        1         0  (-0.001, 10.0]   \n",
       "\n",
       "         Distance Bins  \n",
       "1764    (120.0, 130.0]  \n",
       "4562    (160.0, 170.0]  \n",
       "4563    (160.0, 170.0]  \n",
       "4564    (160.0, 170.0]  \n",
       "20724   (120.0, 130.0]  \n",
       "...                ...  \n",
       "287166  (140.0, 150.0]  \n",
       "287167  (150.0, 160.0]  \n",
       "292395  (160.0, 170.0]  \n",
       "293050  (160.0, 170.0]  \n",
       "293051  (150.0, 160.0]  \n",
       "\n",
       "[113 rows x 25 columns]"
      ]
     },
     "execution_count": 67,
     "metadata": {},
     "output_type": "execute_result"
    }
   ],
   "source": [
    "# Check for goal in defensive net without empty net\n",
    "df_goals[(df_goals['Is Empty'] == 0) & (df_goals['st_X'] < -25)]"
   ]
  },
  {
   "cell_type": "code",
   "execution_count": null,
   "id": "44fbfb11-8ad7-46e3-aa80-8db08f4018fc",
   "metadata": {},
   "outputs": [],
   "source": []
  }
 ],
 "metadata": {
  "kernelspec": {
   "display_name": "Python 3 (ipykernel)",
   "language": "python",
   "name": "python3"
  },
  "language_info": {
   "codemirror_mode": {
    "name": "ipython",
    "version": 3
   },
   "file_extension": ".py",
   "mimetype": "text/x-python",
   "name": "python",
   "nbconvert_exporter": "python",
   "pygments_lexer": "ipython3",
   "version": "3.10.4"
  }
 },
 "nbformat": 4,
 "nbformat_minor": 5
}
