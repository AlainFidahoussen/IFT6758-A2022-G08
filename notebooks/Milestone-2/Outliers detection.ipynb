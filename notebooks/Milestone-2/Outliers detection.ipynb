{
 "cells": [
  {
   "cell_type": "code",
   "execution_count": 1,
   "id": "62b87b21-1de2-4856-9c73-bd0cfad7bf22",
   "metadata": {},
   "outputs": [],
   "source": [
    "%load_ext autoreload\n",
    "%autoreload 2"
   ]
  },
  {
   "cell_type": "code",
   "execution_count": 2,
   "id": "f7f0ddf8-6e04-4d44-89b1-52fb251843ef",
   "metadata": {},
   "outputs": [],
   "source": [
    "# To load the environment variable defined in the .env file\n",
    "from dotenv import load_dotenv\n",
    "load_dotenv();"
   ]
  },
  {
   "cell_type": "code",
   "execution_count": 3,
   "id": "50669554-ffc0-4be9-b959-fafaff16cf28",
   "metadata": {},
   "outputs": [],
   "source": [
    "import sys\n",
    "import os\n",
    "sys.path.append(os.path.join(os.environ['NHL_DATA_DIR'], '..'))"
   ]
  },
  {
   "cell_type": "code",
   "execution_count": 4,
   "id": "9c30ed83-27d1-487d-9aa4-ac83c6f89d8e",
   "metadata": {},
   "outputs": [],
   "source": [
    "import pandas as pd\n",
    "import numpy as np\n",
    "import matplotlib.pyplot as plt\n",
    "from scipy import stats\n",
    "\n",
    "import src.visualization.visualize as VizManager\n",
    "import src.features.build_features as FeaturesManager"
   ]
  },
  {
   "cell_type": "code",
   "execution_count": 5,
   "id": "0d5ec450-ad86-4ffc-b7cd-493c2fa4720d",
   "metadata": {},
   "outputs": [],
   "source": [
    "SEED = 42"
   ]
  },
  {
   "cell_type": "code",
   "execution_count": 6,
   "id": "480b4903-e726-4fc8-9c2f-6b244d035418",
   "metadata": {},
   "outputs": [],
   "source": [
    "seasons_year = [2015, 2016, 2017, 2018]\n",
    "season_type = \"Regular\"\n",
    "features_data = FeaturesManager.build_features(seasons_year, season_type)"
   ]
  },
  {
   "cell_type": "code",
   "execution_count": 7,
   "id": "7aed8480-2f4b-4fcf-a45b-c4377e644a5a",
   "metadata": {},
   "outputs": [
    {
     "name": "stdout",
     "output_type": "stream",
     "text": [
      "<class 'pandas.core.frame.DataFrame'>\n",
      "RangeIndex: 305860 entries, 0 to 305859\n",
      "Data columns (total 34 columns):\n",
      " #   Column                          Non-Null Count   Dtype  \n",
      "---  ------                          --------------   -----  \n",
      " 0   Game ID                         305860 non-null  object \n",
      " 1   Event Index                     305860 non-null  int64  \n",
      " 2   Period                          305860 non-null  int64  \n",
      " 3   Team                            305860 non-null  object \n",
      " 4   Type                            305860 non-null  object \n",
      " 5   Shot Type                       305827 non-null  object \n",
      " 6   Shooter                         305860 non-null  object \n",
      " 7   Shooter ID                      305860 non-null  int64  \n",
      " 8   Goalie                          305860 non-null  object \n",
      " 9   Goalie ID                       305860 non-null  int64  \n",
      " 10  Strength                        28689 non-null   object \n",
      " 11  X                               305860 non-null  float64\n",
      " 12  Y                               305860 non-null  float64\n",
      " 13  Last event type                 305860 non-null  object \n",
      " 14  Last event X                    302885 non-null  float64\n",
      " 15  Last event Y                    302885 non-null  float64\n",
      " 16  Last event elapsed time         305860 non-null  int64  \n",
      " 17  Last event distance             302885 non-null  float64\n",
      " 18  st_X                            305860 non-null  float64\n",
      " 19  st_Y                            305860 non-null  float64\n",
      " 20  Last event st_X                 302885 non-null  float64\n",
      " 21  Last event st_Y                 302885 non-null  float64\n",
      " 22  Shot distance                   305860 non-null  float64\n",
      " 23  Shot angle                      305860 non-null  float64\n",
      " 24  Is Goal                         305860 non-null  int64  \n",
      " 25  Is Empty                        305860 non-null  int64  \n",
      " 26  Period seconds                  305860 non-null  int64  \n",
      " 27  Game seconds                    305860 non-null  int64  \n",
      " 28  Last event angle                302885 non-null  float64\n",
      " 29  Rebound                         305860 non-null  bool   \n",
      " 30  Change in Shot Angle            305856 non-null  float64\n",
      " 31  Speed From Previous Event       297179 non-null  float64\n",
      " 32  Shooter Goal Ratio Last Season  284886 non-null  float64\n",
      " 33  Goalie Goal Ratio Last Season   285454 non-null  float64\n",
      "dtypes: bool(1), float64(16), int64(9), object(8)\n",
      "memory usage: 77.3+ MB\n"
     ]
    }
   ],
   "source": [
    "features_data.info()"
   ]
  },
  {
   "cell_type": "code",
   "execution_count": 8,
   "id": "98cd3910-baf9-40f0-9c53-69ec90b13543",
   "metadata": {},
   "outputs": [],
   "source": [
    "from sklearn.model_selection import train_test_split\n",
    "\n",
    "from sklearn.pipeline import Pipeline # Outlier not integrated in pipeline actually"
   ]
  },
  {
   "cell_type": "code",
   "execution_count": 9,
   "id": "f3a04f49-c15e-442a-840e-db7ea4c5b438",
   "metadata": {},
   "outputs": [],
   "source": [
    "# Separate features from target\n",
    "X = features_data.drop(['Is Goal', 'Type'], axis=1)\n",
    "y = features_data['Is Goal']"
   ]
  },
  {
   "cell_type": "code",
   "execution_count": 10,
   "id": "9d9a6c99-7e9e-496e-a5c5-870e98e3de80",
   "metadata": {},
   "outputs": [],
   "source": [
    "# Data split\n",
    "X_train, X_valid, y_train, y_valid = train_test_split(X, y, test_size=0.2, random_state=SEED, stratify=y)"
   ]
  },
  {
   "cell_type": "code",
   "execution_count": 11,
   "id": "5238c619-7adf-4077-b161-547c87687728",
   "metadata": {},
   "outputs": [],
   "source": [
    "import warnings \n",
    "warnings.filterwarnings(\"ignore\")"
   ]
  },
  {
   "cell_type": "code",
   "execution_count": 12,
   "id": "d283989e-3f13-4c04-98e4-fd21166b23a4",
   "metadata": {},
   "outputs": [
    {
     "data": {
      "text/plain": [
       "235128"
      ]
     },
     "execution_count": 12,
     "metadata": {},
     "output_type": "execute_result"
    }
   ],
   "source": [
    "# Check how many shots are in defensive zone - these are potentially outliers if not empty net\n",
    "out = X_train[X_train['st_X'] < -25]['st_X'].count()\n",
    "X_train.shape[0] - out # we should expect approximately this much rows left after outlier removal"
   ]
  },
  {
   "cell_type": "code",
   "execution_count": 13,
   "id": "7a3e7af1-c35d-4287-864b-527b7a1b31e9",
   "metadata": {},
   "outputs": [
    {
     "data": {
      "text/plain": [
       "<AxesSubplot:xlabel='st_X'>"
      ]
     },
     "execution_count": 13,
     "metadata": {},
     "output_type": "execute_result"
    },
    {
     "data": {
      "image/png": "[encoded data removed]",
      "text/plain": [
       "<Figure size 432x288 with 1 Axes>"
      ]
     },
     "metadata": {
      "needs_background": "light"
     },
     "output_type": "display_data"
    }
   ],
   "source": [
    "import seaborn as sns\n",
    "import warnings\n",
    "warnings.filterwarnings(\"ignore\")\n",
    "\n",
    "# Outliers - Boxplot\n",
    "sns.boxplot(x=X_train['st_X']) # hahaha"
   ]
  },
  {
   "cell_type": "code",
   "execution_count": 14,
   "id": "b8ce57f8-b5fb-4446-b4e5-555c9dab5f14",
   "metadata": {},
   "outputs": [
    {
     "data": {
      "text/plain": [
       "((216353, 32), (216353,))"
      ]
     },
     "execution_count": 14,
     "metadata": {},
     "output_type": "execute_result"
    }
   ],
   "source": [
    "# Outliers - Percentile\n",
    "min_thresold, max_thresold = X_train['st_X'].quantile([0.05, 0.95]) # define threshold\n",
    "\n",
    "percentile_mask = (X_train['st_X']<max_thresold) & (X_train['st_X']>min_thresold) # create bool mask for threshold\n",
    "\n",
    "X_train_percentile = X_train[percentile_mask]\n",
    "y_train_percentile  = y_train[percentile_mask]\n",
    "\n",
    "X_train_percentile.shape, y_train_percentile.shape"
   ]
  },
  {
   "cell_type": "code",
   "execution_count": 15,
   "id": "4abfdbbb-410a-4965-9853-bc1f913b0f6e",
   "metadata": {},
   "outputs": [
    {
     "data": {
      "text/plain": [
       "<AxesSubplot:xlabel='st_X', ylabel='Count'>"
      ]
     },
     "execution_count": 15,
     "metadata": {},
     "output_type": "execute_result"
    },
    {
     "data": {
      "image/png": "[encoded data removed]",
      "text/plain": [
       "<Figure size 432x288 with 1 Axes>"
      ]
     },
     "metadata": {
      "needs_background": "light"
     },
     "output_type": "display_data"
    }
   ],
   "source": [
    "sns.histplot(X_train_percentile['st_X'])"
   ]
  },
  {
   "cell_type": "code",
   "execution_count": 16,
   "id": "b33f6e42-5744-4139-abad-604197d25a4c",
   "metadata": {},
   "outputs": [
    {
     "data": {
      "text/plain": [
       "((234121, 32), (234121, 32))"
      ]
     },
     "execution_count": 16,
     "metadata": {},
     "output_type": "execute_result"
    }
   ],
   "source": [
    "# Outliers - STD\n",
    "factor = 2\n",
    "upper_limit = X_train['st_X'].mean() + factor*X_train['st_X'].std()\n",
    "lower_limit = X_train['st_X'].mean() - factor*X_train['st_X'].std()\n",
    "\n",
    "std_mask = (X_train['st_X']<upper_limit) & (X_train['st_X']>lower_limit)\n",
    "\n",
    "X_train_std = X_train[std_mask]\n",
    "y_train_std = y_train[std_mask]\n",
    "\n",
    "X_train_std.shape, X_train_std.shape "
   ]
  },
  {
   "cell_type": "code",
   "execution_count": 17,
   "id": "c9b6fdf8-84e3-48d4-8290-f21345c3b8de",
   "metadata": {},
   "outputs": [
    {
     "data": {
      "text/plain": [
       "<AxesSubplot:xlabel='st_X', ylabel='Count'>"
      ]
     },
     "execution_count": 17,
     "metadata": {},
     "output_type": "execute_result"
    },
    {
     "data": {
      "image/png": "[encoded data removed]",
      "text/plain": [
       "<Figure size 432x288 with 1 Axes>"
      ]
     },
     "metadata": {
      "needs_background": "light"
     },
     "output_type": "display_data"
    }
   ],
   "source": [
    "sns.histplot(X_train_std['st_X'])"
   ]
  },
  {
   "cell_type": "code",
   "execution_count": 18,
   "id": "1310006d-f3cd-41ed-96ce-23ac9cb9a5db",
   "metadata": {},
   "outputs": [
    {
     "data": {
      "text/plain": [
       "((235964, 32), (235964,))"
      ]
     },
     "execution_count": 18,
     "metadata": {},
     "output_type": "execute_result"
    }
   ],
   "source": [
    "# Outliers - Z-Score\n",
    "threshold = 3\n",
    "zscore_mask = (np.abs(stats.zscore(X_train['st_X'])) < threshold)\n",
    "\n",
    "X_train_zscore = X_train[zscore_mask]\n",
    "y_train_zscore = y_train[zscore_mask]\n",
    "\n",
    "X_train_zscore.shape, y_train_zscore.shape"
   ]
  },
  {
   "cell_type": "code",
   "execution_count": 19,
   "id": "2ec834de-8391-42c7-a536-3645af9fca81",
   "metadata": {},
   "outputs": [
    {
     "data": {
      "text/plain": [
       "<AxesSubplot:xlabel='st_X', ylabel='Count'>"
      ]
     },
     "execution_count": 19,
     "metadata": {},
     "output_type": "execute_result"
    },
    {
     "data": {
      "image/png": "[encoded data removed]",
      "text/plain": [
       "<Figure size 432x288 with 1 Axes>"
      ]
     },
     "metadata": {
      "needs_background": "light"
     },
     "output_type": "display_data"
    }
   ],
   "source": [
    "sns.histplot(X_train_zscore['st_X'])"
   ]
  },
  {
   "cell_type": "code",
   "execution_count": null,
   "id": "527c6287-9073-493f-8b15-6ba3fce760d4",
   "metadata": {},
   "outputs": [],
   "source": [
    "from sklearn.svm import OneClassSVM\n",
    "\n",
    "clf = OneClassSVM(gamma='auto').fit_predict(X_train[['st_X']]) # So slow, i killed the kernel, not sure how to interpret the result"
   ]
  },
  {
   "cell_type": "code",
   "execution_count": null,
   "id": "d32fe9b5-4102-4640-bbe9-5cff67b9517b",
   "metadata": {},
   "outputs": [],
   "source": [
    "from sklearn.neighbors import LocalOutlierFactor\n",
    "\n",
    "clf = LocalOutlierFactor().fit_predict(X_train[['st_X']])"
   ]
  }
 ],
 "metadata": {
  "kernelspec": {
   "display_name": "Python 3 (ipykernel)",
   "language": "python",
   "name": "python3"
  },
  "language_info": {
   "codemirror_mode": {
    "name": "ipython",
    "version": 3
   },
   "file_extension": ".py",
   "mimetype": "text/x-python",
   "name": "python",
   "nbconvert_exporter": "python",
   "pygments_lexer": "ipython3",
   "version": "3.10.4"
  }
 },
 "nbformat": 4,
 "nbformat_minor": 5
}
