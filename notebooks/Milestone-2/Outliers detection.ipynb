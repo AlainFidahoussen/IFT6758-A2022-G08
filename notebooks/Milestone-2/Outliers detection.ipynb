{
 "cells": [
  {
   "cell_type": "code",
   "execution_count": 1,
   "id": "62b87b21-1de2-4856-9c73-bd0cfad7bf22",
   "metadata": {},
   "outputs": [],
   "source": [
    "%load_ext autoreload\n",
    "%autoreload 2"
   ]
  },
  {
   "cell_type": "code",
   "execution_count": 2,
   "id": "f7f0ddf8-6e04-4d44-89b1-52fb251843ef",
   "metadata": {},
   "outputs": [],
   "source": [
    "# To load the environment variable defined in the .env file\n",
    "from dotenv import load_dotenv\n",
    "load_dotenv();"
   ]
  },
  {
   "cell_type": "code",
   "execution_count": 4,
   "id": "a6db43c7-68b3-4a6b-93fb-72f22748ca44",
   "metadata": {},
   "outputs": [
    {
     "data": {
      "text/plain": [
       "'C:\\\\Users\\\\anniw\\\\IFT6758-A2022-G08\\\\notebooks\\\\Milestone-2'"
      ]
     },
     "execution_count": 4,
     "metadata": {},
     "output_type": "execute_result"
    }
   ],
   "source": [
    "import os\n",
    "\n",
    "os.getcwd()"
   ]
  },
  {
   "cell_type": "code",
   "execution_count": 3,
   "id": "9c30ed83-27d1-487d-9aa4-ac83c6f89d8e",
   "metadata": {},
   "outputs": [
    {
     "ename": "ModuleNotFoundError",
     "evalue": "No module named 'src'",
     "output_type": "error",
     "traceback": [
      "\u001b[1;31m---------------------------------------------------------------------------\u001b[0m",
      "\u001b[1;31mModuleNotFoundError\u001b[0m                       Traceback (most recent call last)",
      "Input \u001b[1;32mIn [3]\u001b[0m, in \u001b[0;36m<cell line: 6>\u001b[1;34m()\u001b[0m\n\u001b[0;32m      3\u001b[0m \u001b[38;5;28;01mimport\u001b[39;00m \u001b[38;5;21;01mmatplotlib\u001b[39;00m\u001b[38;5;21;01m.\u001b[39;00m\u001b[38;5;21;01mpyplot\u001b[39;00m \u001b[38;5;28;01mas\u001b[39;00m \u001b[38;5;21;01mplt\u001b[39;00m\n\u001b[0;32m      4\u001b[0m \u001b[38;5;28;01mfrom\u001b[39;00m \u001b[38;5;21;01mscipy\u001b[39;00m \u001b[38;5;28;01mimport\u001b[39;00m stats\n\u001b[1;32m----> 6\u001b[0m \u001b[38;5;28;01mimport\u001b[39;00m \u001b[38;5;21;01msrc\u001b[39;00m\u001b[38;5;21;01m.\u001b[39;00m\u001b[38;5;21;01mvisualization\u001b[39;00m\u001b[38;5;21;01m.\u001b[39;00m\u001b[38;5;21;01mvisualize\u001b[39;00m \u001b[38;5;28;01mas\u001b[39;00m \u001b[38;5;21;01mVizManager\u001b[39;00m\n\u001b[0;32m      7\u001b[0m \u001b[38;5;28;01mimport\u001b[39;00m \u001b[38;5;21;01msrc\u001b[39;00m\u001b[38;5;21;01m.\u001b[39;00m\u001b[38;5;21;01mfeatures\u001b[39;00m\u001b[38;5;21;01m.\u001b[39;00m\u001b[38;5;21;01mbuild_features\u001b[39;00m \u001b[38;5;28;01mas\u001b[39;00m \u001b[38;5;21;01mFeaturesManager\u001b[39;00m\n",
      "\u001b[1;31mModuleNotFoundError\u001b[0m: No module named 'src'"
     ]
    }
   ],
   "source": [
    "import pandas as pd\n",
    "import numpy as np\n",
    "import matplotlib.pyplot as plt\n",
    "from scipy import stats\n",
    "\n",
    "import src.visualization.visualize as VizManager\n",
    "import src.features.build_features as FeaturesManager"
   ]
  },
  {
   "cell_type": "code",
   "execution_count": null,
   "id": "0d5ec450-ad86-4ffc-b7cd-493c2fa4720d",
   "metadata": {},
   "outputs": [],
   "source": [
    "SEED = 42"
   ]
  },
  {
   "cell_type": "code",
   "execution_count": null,
   "id": "480b4903-e726-4fc8-9c2f-6b244d035418",
   "metadata": {},
   "outputs": [],
   "source": [
    "seasons_year = [2015, 2016, 2017, 2018]\n",
    "season_type = \"Regular\"\n",
    "features_data = FeaturesManager.build_features(seasons_year, season_type)"
   ]
  },
  {
   "cell_type": "code",
   "execution_count": null,
   "id": "7aed8480-2f4b-4fcf-a45b-c4377e644a5a",
   "metadata": {},
   "outputs": [],
   "source": [
    "features_data.info()"
   ]
  },
  {
   "cell_type": "code",
   "execution_count": null,
   "id": "98cd3910-baf9-40f0-9c53-69ec90b13543",
   "metadata": {},
   "outputs": [],
   "source": [
    "from sklearn.model_selection import train_test_split\n",
    "\n",
    "from sklearn.pipeline import Pipeline # Outlier not integrated in pipeline actually"
   ]
  },
  {
   "cell_type": "code",
   "execution_count": null,
   "id": "f3a04f49-c15e-442a-840e-db7ea4c5b438",
   "metadata": {},
   "outputs": [],
   "source": [
    "# Separate features from target\n",
    "X = features_data.drop(['Is Goal', 'Type'], axis=1)\n",
    "y = features_data['Is Goal']"
   ]
  },
  {
   "cell_type": "code",
   "execution_count": null,
   "id": "9d9a6c99-7e9e-496e-a5c5-870e98e3de80",
   "metadata": {},
   "outputs": [],
   "source": [
    "# Data split\n",
    "X_train, X_valid, y_train, y_valid = train_test_split(X, y, test_size=0.2, random_state=SEED, stratify=y)"
   ]
  },
  {
   "cell_type": "code",
   "execution_count": null,
   "id": "5238c619-7adf-4077-b161-547c87687728",
   "metadata": {},
   "outputs": [],
   "source": [
    "import warnings \n",
    "warnings.filterwarnings(\"ignore\")"
   ]
  },
  {
   "cell_type": "code",
   "execution_count": null,
   "id": "d283989e-3f13-4c04-98e4-fd21166b23a4",
   "metadata": {},
   "outputs": [],
   "source": [
    "# Check how many shots are in defensive zone - these are potentially outliers if not empty net\n",
    "out = X_train[X_train['st_X'] < -25]['st_X'].count()\n",
    "X_train.shape[0] - out # we should expect approximately this much rows left after outlier removal"
   ]
  },
  {
   "cell_type": "code",
   "execution_count": null,
   "id": "7a3e7af1-c35d-4287-864b-527b7a1b31e9",
   "metadata": {},
   "outputs": [],
   "source": [
    "import seaborn as sns\n",
    "import warnings\n",
    "warnings.filterwarnings(\"ignore\")\n",
    "\n",
    "# Outliers - Boxplot\n",
    "sns.boxplot(x=X_train['st_X']) # hahaha"
   ]
  },
  {
   "cell_type": "code",
   "execution_count": null,
   "id": "896f548a-f3a7-4292-bffd-3604e1e8ecc5",
   "metadata": {},
   "outputs": [],
   "source": [
    "# Distribution before outliers removal\n",
    "sns.histplot(X_train['st_X'])"
   ]
  },
  {
   "cell_type": "code",
   "execution_count": null,
   "id": "b8ce57f8-b5fb-4446-b4e5-555c9dab5f14",
   "metadata": {},
   "outputs": [],
   "source": [
    "# Outliers - Percentile\n",
    "min_thresold, max_thresold = X_train['st_X'].quantile([0.05, 0.95]) # define threshold\n",
    "\n",
    "percentile_mask = ~(X_train['st_X']<min_thresold) | (X_train['st_X']>max_thresold) # create bool mask for threshold\n",
    "\n",
    "X_train_percentile = X_train[percentile_mask]\n",
    "y_train_percentile  = y_train[percentile_mask]\n",
    "\n",
    "X_train_percentile.shape, y_train_percentile.shape"
   ]
  },
  {
   "cell_type": "code",
   "execution_count": null,
   "id": "4abfdbbb-410a-4965-9853-bc1f913b0f6e",
   "metadata": {},
   "outputs": [],
   "source": [
    "sns.histplot(X_train_percentile['st_X'])"
   ]
  },
  {
   "cell_type": "code",
   "execution_count": null,
   "id": "0df0f370-b88f-4416-9249-9c846135f72f",
   "metadata": {},
   "outputs": [],
   "source": [
    "# Outliers - IQR\n",
    "Q1 = X_train['st_X'].quantile(0.25)\n",
    "Q3 = X_train['st_X'].quantile(0.75)\n",
    "IQR = Q3 - Q1\n",
    "\n",
    "lower_limit = Q1 - 1.5*IQR\n",
    "upper_limit = Q3 + 1.5*IQR\n",
    "\n",
    "IQR_mask = ~(X_train['st_X']<lower_limit) | (X_train['st_X']>upper_limit)\n",
    "X_train_IQR = X_train[IQR_mask]\n",
    "y_train_IQR = y_train[IQR_mask]\n",
    "\n",
    "X_train_IQR.shape, X_train_IQR.shape "
   ]
  },
  {
   "cell_type": "code",
   "execution_count": null,
   "id": "8ea863b7-3a50-4212-927b-cd41b1e43c21",
   "metadata": {},
   "outputs": [],
   "source": [
    "sns.histplot(X_train_IQR['st_X'])"
   ]
  },
  {
   "cell_type": "code",
   "execution_count": null,
   "id": "b33f6e42-5744-4139-abad-604197d25a4c",
   "metadata": {},
   "outputs": [],
   "source": [
    "# Outliers - STD\n",
    "factor = 2\n",
    "upper_limit = X_train['st_X'].mean() + factor*X_train['st_X'].std()\n",
    "lower_limit = X_train['st_X'].mean() - factor*X_train['st_X'].std()\n",
    "\n",
    "std_mask = (X_train['st_X']<upper_limit) & (X_train['st_X']>lower_limit)\n",
    "\n",
    "X_train_std = X_train[std_mask]\n",
    "y_train_std = y_train[std_mask]\n",
    "\n",
    "X_train_std.shape, X_train_std.shape "
   ]
  },
  {
   "cell_type": "code",
   "execution_count": null,
   "id": "c9b6fdf8-84e3-48d4-8290-f21345c3b8de",
   "metadata": {},
   "outputs": [],
   "source": [
    "sns.histplot(X_train_std['st_X'])"
   ]
  },
  {
   "cell_type": "code",
   "execution_count": null,
   "id": "1310006d-f3cd-41ed-96ce-23ac9cb9a5db",
   "metadata": {},
   "outputs": [],
   "source": [
    "# Outliers - Z-Score\n",
    "threshold = 3\n",
    "zscore_mask = ~(np.abs(stats.zscore(X_train['st_X'])) > threshold)\n",
    "\n",
    "X_train_zscore = X_train[zscore_mask]\n",
    "y_train_zscore = y_train[zscore_mask]\n",
    "\n",
    "X_train_zscore.shape, y_train_zscore.shape"
   ]
  },
  {
   "cell_type": "code",
   "execution_count": null,
   "id": "2ec834de-8391-42c7-a536-3645af9fca81",
   "metadata": {},
   "outputs": [],
   "source": [
    "sns.histplot(X_train_zscore['st_X'])"
   ]
  },
  {
   "cell_type": "code",
   "execution_count": null,
   "id": "ddd6b8d3-df92-40b0-a2bd-c17feb279ccf",
   "metadata": {},
   "outputs": [],
   "source": [
    "from sklearn.preprocessing import StandardScaler\n",
    "\n",
    "scaler = StandardScaler()\n",
    "test = pd.DataFrame(scaler.fit_transform(X_train[['st_X']]))"
   ]
  },
  {
   "cell_type": "code",
   "execution_count": null,
   "id": "54a93667-ebfe-4d49-aca2-0048a2b98a26",
   "metadata": {},
   "outputs": [],
   "source": [
    "sns.histplot(test[0])"
   ]
  },
  {
   "cell_type": "code",
   "execution_count": null,
   "id": "527c6287-9073-493f-8b15-6ba3fce760d4",
   "metadata": {},
   "outputs": [],
   "source": [
    "from sklearn.svm import OneClassSVM\n",
    "\n",
    "clf = OneClassSVM(gamma='auto').fit_predict(X_train[['st_X']]) # So slow, i killed the kernel, not sure how to interpret the result"
   ]
  },
  {
   "cell_type": "code",
   "execution_count": null,
   "id": "d32fe9b5-4102-4640-bbe9-5cff67b9517b",
   "metadata": {},
   "outputs": [],
   "source": [
    "from sklearn.neighbors import LocalOutlierFactor\n",
    "\n",
    "clf = LocalOutlierFactor().fit_predict(X_train[['st_X']])"
   ]
  }
 ],
 "metadata": {
  "kernelspec": {
   "display_name": "Python 3 (ipykernel)",
   "language": "python",
   "name": "python3"
  },
  "language_info": {
   "codemirror_mode": {
    "name": "ipython",
    "version": 3
   },
   "file_extension": ".py",
   "mimetype": "text/x-python",
   "name": "python",
   "nbconvert_exporter": "python",
   "pygments_lexer": "ipython3",
   "version": "3.10.4"
  }
 },
 "nbformat": 4,
 "nbformat_minor": 5
}
