{
 "cells": [
  {
   "cell_type": "code",
   "execution_count": 5,
   "id": "c5908ad5-f292-48db-a070-78633f150b3e",
   "metadata": {},
   "outputs": [
    {
     "name": "stdout",
     "output_type": "stream",
     "text": [
      "The autoreload extension is already loaded. To reload it, use:\n",
      "  %reload_ext autoreload\n"
     ]
    }
   ],
   "source": [
    "%load_ext autoreload\n",
    "%autoreload 2"
   ]
  },
  {
   "cell_type": "code",
   "execution_count": 6,
   "id": "2a89cec8-8e5a-49d0-aacd-9202f3e2b15d",
   "metadata": {},
   "outputs": [
    {
     "name": "stdout",
     "output_type": "stream",
     "text": [
      "C:\\Users\\anniw\\IFT6758-A2022-G08\n"
     ]
    }
   ],
   "source": [
    "cd C:\\Users\\anniw\\IFT6758-A2022-G08"
   ]
  },
  {
   "cell_type": "code",
   "execution_count": 7,
   "id": "bd4818c9-e44b-490f-8741-b3b04d65e4b0",
   "metadata": {},
   "outputs": [],
   "source": [
    "import src.data.NHLDataManager as DataManager"
   ]
  },
  {
   "cell_type": "code",
   "execution_count": 8,
   "id": "22085473-557a-431d-882f-ce08c5182a42",
   "metadata": {},
   "outputs": [
    {
     "name": "stdin",
     "output_type": "stream",
     "text": [
      "Enter NHL_DATA_DIR environment:  C:\\Users\\anniw\\OneDrive - Universite de Montreal\\MSc 2022-2024\\IFT6758 Science des données\\nhl_data_dir\n"
     ]
    }
   ],
   "source": [
    "nhl_data = DataManager.NHLDataManager()"
   ]
  },
  {
   "cell_type": "code",
   "execution_count": 110,
   "id": "15829768-33cf-4010-ad43-6dc9ec66eced",
   "metadata": {},
   "outputs": [
    {
     "data": {
      "application/vnd.jupyter.widget-view+json": {
       "model_id": "f013f68faa9246f3ab89321bacbc48e0",
       "version_major": 2,
       "version_minor": 0
      },
      "text/plain": [
       "interactive(children=(IntSlider(value=2016, description='Year', max=2020, min=2016), Dropdown(description='Sea…"
      ]
     },
     "metadata": {},
     "output_type": "display_data"
    }
   ],
   "source": [
    "import os\n",
    "import json\n",
    "import pprint\n",
    "\n",
    "import ipywidgets as widgets\n",
    "from ipywidgets import interact\n",
    "\n",
    "import matplotlib.pyplot as plt\n",
    "from matplotlib.ticker import FormatStrFormatter\n",
    "import matplotlib.image as mpimg\n",
    "\n",
    "\n",
    "@ interact(season_year=widgets.IntSlider(min=2016, max=2020, step=1, value=1, description='Year'), \n",
    "           season=widgets.Dropdown(options=['regular', 'playoffs'], value='regular',description='Season'))\n",
    "def interactive_tool(season_year: int, season: str):\n",
    "      \n",
    "    dir_path = os.path.join(os.environ['NHL_DATA_DIR'], str(season_year), season)\n",
    "    \n",
    "    if season == 'regular':\n",
    "        game_numbers = list(range(1, len(os.listdir(dir_path))+1))\n",
    "    else: # read last three characters of file names instead of using the nested for loop cuz 2016 only has 102 files so the loop doesn't work 100%\n",
    "        game_numbers = [int(os.path.splitext(filename)[0][-3:]) for filename in os.listdir(dir_path)]\n",
    "\n",
    "    @ interact(game_id=widgets.SelectionSlider(options=game_numbers, value=115, description='Game ID'))\n",
    "    def load_json(game_id: int): \n",
    "        \n",
    "        # -- Build filename\n",
    "        temp_game_id = str(game_id).zfill(4) \n",
    "        \n",
    "        if season == 'regular':\n",
    "            code = '02'\n",
    "        else:\n",
    "            code = '03' \n",
    "            \n",
    "        file_path = os.path.join(dir_path, f'{season_year}{code}{temp_game_id}.json')\n",
    "        \n",
    "        # -- Open JSON file\n",
    "        with open(file_path, 'r') as json_file:\n",
    "              data = json.load(json_file)\n",
    "        \n",
    "        # -- Header\n",
    "        print(data['gameData']['datetime']['dateTime'])\n",
    "        \n",
    "        abb_home = data['gameData']['teams']['home']['abbreviation']\n",
    "        abb_away = data['gameData']['teams']['away']['abbreviation']\n",
    "        print(f'Game ID: {game_id}; {abb_home} (home) vs {abb_away} (away)\\n')\n",
    "        \n",
    "        # -- Table\n",
    "        print('{}{}{}'.format(''.ljust(15), 'Home'.ljust(7), 'Away'.ljust(7)))\n",
    "        print('{}{}{}'.format('Teams:'.ljust(15), abb_home.ljust(7), abb_away.ljust(7)))\n",
    "        \n",
    "        goals_home = str(data['liveData']['linescore']['teams']['home']['goals'])\n",
    "        goals_away = str(data['liveData']['linescore']['teams']['away']['goals'])\n",
    "        print('{}{}{}'.format('Goals:'.ljust(15), goals_home.ljust(7), goals_away.ljust(7)))\n",
    "\n",
    "        sog_home = str(data['liveData']['linescore']['teams']['home']['shotsOnGoal'])\n",
    "        sog_away = str(data['liveData']['linescore']['teams']['away']['shotsOnGoal'])\n",
    "        print('{}{}{}'.format('SoG:'.ljust(15), sog_home.ljust(7), sog_away.ljust(7)))\n",
    "         \n",
    "        so_goals_home = str(data['liveData']['linescore']['shootoutInfo']['home']['scores'])\n",
    "        so_goals_away = str(data['liveData']['linescore']['shootoutInfo']['away']['scores'])\n",
    "        print('{}{}{}'.format('SO Goals:'.ljust(15), so_goals_home.ljust(7), so_goals_away.ljust(7)))\n",
    "            \n",
    "        so_attempts_home = str(data['liveData']['linescore']['shootoutInfo']['home']['attempts'])\n",
    "        so_attempts_away = str(data['liveData']['linescore']['shootoutInfo']['away']['attempts'])\n",
    "        print('{}{}{}'.format('SO Attempts:'.ljust(15), so_attempts_home.ljust(7), so_attempts_away.ljust(7)))\n",
    "        \n",
    "        @ interact(event_idx=widgets.IntSlider(min=0, max=max(0, len(data['liveData']['plays']['allPlays'])-1), step=1, value=0, description='Event Index'))\n",
    "        def print_info(event_idx: int):\n",
    "    \n",
    "            plt.figure(figsize = (10, 5), dpi=100)\n",
    "            img = mpimg.imread(\"https://raw.githubusercontent.com/udem-ift6758/project-template/main/figures/nhl_rink.png\")\n",
    "            plt.imshow(img, extent=[-100.0, 100.0, -42.5, 42.5])\n",
    "            \n",
    "            plt.xlabel('feet')\n",
    "            plt.ylabel('feet')\n",
    "            \n",
    "            if data['gameData']['status']['abstractGameState'] != 'Preview':\n",
    "                title1 = data['liveData']['plays']['allPlays'][event_idx]['result']['description'] \n",
    "                title2_0 = data['liveData']['plays']['allPlays'][event_idx]['about']['periodTime']\n",
    "                title2_1 = data['liveData']['plays']['allPlays'][event_idx]['about']['period']\n",
    "                plt.suptitle(f'{title1}\\n{title2_0} P-{title2_1}')\n",
    "            else:\n",
    "                pass\n",
    "            \n",
    "            title3_0 = data['gameData']['teams']['away']['abbreviation']\n",
    "            title3_1 = data['gameData']['teams']['home']['abbreviation']\n",
    "            plt.title('{}{}'.format(title3_0.center(60), title3_1.center(60)), horizontalalignment='center')\n",
    "              \n",
    "            try: # plot event if exists\n",
    "                x_coord = data['liveData']['plays']['allPlays'][event_idx]['coordinates']['x']\n",
    "                y_coord = data['liveData']['plays']['allPlays'][event_idx]['coordinates']['y']\n",
    "                plt.plot(x_coord, y_coord, marker='o', color='blue', markersize=10)\n",
    "                \n",
    "                plt.show()\n",
    "                \n",
    "                pprint.pprint(data['liveData']['plays']['allPlays'][event_idx])\n",
    "            except:\n",
    "                pass"
   ]
  },
  {
   "cell_type": "code",
   "execution_count": null,
   "id": "414a6802-e337-47b3-b0c3-dbed92a4fa7a",
   "metadata": {},
   "outputs": [],
   "source": []
  }
 ],
 "metadata": {
  "kernelspec": {
   "display_name": "Python 3 (ipykernel)",
   "language": "python",
   "name": "python3"
  },
  "language_info": {
   "codemirror_mode": {
    "name": "ipython",
    "version": 3
   },
   "file_extension": ".py",
   "mimetype": "text/x-python",
   "name": "python",
   "nbconvert_exporter": "python",
   "pygments_lexer": "ipython3",
   "version": "3.10.4"
  }
 },
 "nbformat": 4,
 "nbformat_minor": 5
}
