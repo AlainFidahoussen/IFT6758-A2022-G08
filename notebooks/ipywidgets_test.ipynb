{
 "cells": [
  {
   "cell_type": "code",
   "execution_count": 6,
   "id": "c924c2d1-1947-4fc3-8077-17f03c247872",
   "metadata": {},
   "outputs": [
    {
     "data": {
      "application/vnd.jupyter.widget-view+json": {
       "model_id": "00e060742eaa42b7ae6fe2bb3d12c607",
       "version_major": 2,
       "version_minor": 0
      },
      "text/plain": [
       "interactive(children=(IntSlider(value=2016, description='Year', max=2020, min=2016), Dropdown(description='Sea…"
      ]
     },
     "metadata": {},
     "output_type": "display_data"
    }
   ],
   "source": [
    "import os\n",
    "\n",
    "import ipywidgets as widgets\n",
    "from ipywidgets import interact, interactive\n",
    "from IPython.display import display\n",
    "\n",
    "import matplotlib.pyplot as plt\n",
    "import matplotlib.image as mpimg\n",
    "\n",
    "import urllib.request\n",
    "from PIL import Image\n",
    "import numpy as np\n",
    "\n",
    "@ interact(season_year=widgets.IntSlider(min=2016, max=2020, step=1, value=1, description='Year'), \n",
    "           season=widgets.Dropdown(options=['regular', 'playoffs'], value='regular',description='Season'))\n",
    "def interactive_tool(season_year: int, season: str):\n",
    "      \n",
    "    dir_path = os.path.join(os.environ['NHL_DATA_DIR'], str(season_year), season)\n",
    "    \n",
    "    if season == 'regular':\n",
    "        game_numbers = list(range(1, len(os.listdir(dir_path))+1))\n",
    "    else: \n",
    "        game_numbers = []\n",
    "        ronde = 4\n",
    "        matchup = 8\n",
    "        game = 7\n",
    "        for i in range(1, ronde + 1):\n",
    "            for j in range(1, int(matchup) + 1):\n",
    "                for k in range(1, game + 1):\n",
    "                    code = int(f'{i}{j}{k}')\n",
    "                    game_numbers.append(code)\n",
    "            matchup /= 2\n",
    "\n",
    "    @ interact(game_id=widgets.SelectionSlider(options=game_numbers, value=115, description='Game ID'))\n",
    "    def load_json(game_id: int):                   \n",
    "        game_id = str(game_id).zfill(4) \n",
    "        if season == 'regular':\n",
    "            code = '02'\n",
    "        else:\n",
    "            code = '03' \n",
    "        file_path = os.path.join(dir_path, f'{season_year}{code}{game_id}.json')\n",
    "        print(file_path)\n",
    "        with open(file_path, 'r') as json_file:\n",
    "              data = json.load(json_file)\n",
    "        print(data['gameData']['datetime']['dateTime'])\n",
    "        print(f'Game ID: {game_id}; \\n')\n",
    "        \n",
    "        print('{}{}{}'.format(''.ljust(15), 'Home'.ljust(7), 'Away'.ljust(7)))\n",
    "        \n",
    "        abb_home = data['gameData']['teams']['home']['abbreviation']\n",
    "        abb_away = data['gameData']['teams']['away']['abbreviation']\n",
    "        print('{}{}{}'.format('Teams:'.ljust(15), abb_home.ljust(7), abb_away.ljust(7)))\n",
    "        \n",
    "        goals_home = str(data['liveData']['plays']['allPlays'][data['liveData']['plays']['scoringPlays'][-1]]['about']['goals']['home'])\n",
    "        goals_away = str(data['liveData']['plays']['allPlays'][data['liveData']['plays']['scoringPlays'][-1]]['about']['goals']['away'])\n",
    "        print('{}{}{}'.format('Goals:'.ljust(15), goals_home.ljust(7), goals_away.ljust(7)))\n",
    "        \n",
    "        \n",
    "        print('{}{}{}'.format('SoG:'.ljust(15), ''.ljust(7), ''.ljust(7)))\n",
    "        print('{}{}{}'.format('50 Goals:'.ljust(15), ''.ljust(7), ''.ljust(7)))\n",
    "        print('{}{}{}'.format('50 Attempts:'.ljust(15), ''.ljust(7), ''.ljust(7)))\n",
    "        \n",
    "        @ interact(event_idx=widgets.IntSlider(min=0, max=max(0, len(data['liveData']['plays']['allPlays'])-1), step=1, value=0, description='Event Index'))\n",
    "        def print_info(event_idx: int):\n",
    "            try:\n",
    "                plt.figure(figsize = (10,10))\n",
    "                img = mpimg.imread(\"https://raw.githubusercontent.com/udem-ift6758/project-template/main/figures/nhl_rink.png\")\n",
    "                plt.imshow(img, extent=[-100.0, 100.0, -42.5, 42.5])\n",
    "                             \n",
    "                x_coord = data['liveData']['plays']['allPlays'][event_idx]['coordinates']['x']\n",
    "                y_coord = data['liveData']['plays']['allPlays'][event_idx]['coordinates']['y']\n",
    "                plt.plot(x_coord, y_coord, marker='o', color='blue', markersize=20)\n",
    "                \n",
    "                plt.xlabel('feet')\n",
    "                plt.ylabel('feet')\n",
    "                \n",
    "                title1 = data['liveData']['plays']['allPlays'][event_idx]['result']['description'] \n",
    "                title2_0 = data['liveData']['plays']['allPlays'][event_idx]['about']['periodTime']\n",
    "                title2_1 = data['liveData']['plays']['allPlays'][event_idx]['about']['period']\n",
    "                title3_0 = data['gameData']['teams']['away']['abbreviation']\n",
    "                title3_1 = data['gameData']['teams']['home']['abbreviation']\n",
    "                plt.title(f'{title1}\\n{title2_0} P-{title2_1}\\n{title3_0}                                                         {title3_1}' )\n",
    "                \n",
    "                plt.show()\n",
    "                print(json.dumps(data['liveData']['plays']['allPlays'][event_idx], indent=4))\n",
    "            except:\n",
    "                print(f'No data for this event')"
   ]
  },
  {
   "cell_type": "code",
   "execution_count": null,
   "id": "e751d199-6684-437c-9911-73364277829e",
   "metadata": {},
   "outputs": [],
   "source": []
  }
 ],
 "metadata": {
  "kernelspec": {
   "display_name": "Python 3 (ipykernel)",
   "language": "python",
   "name": "python3"
  },
  "language_info": {
   "codemirror_mode": {
    "name": "ipython",
    "version": 3
   },
   "file_extension": ".py",
   "mimetype": "text/x-python",
   "name": "python",
   "nbconvert_exporter": "python",
   "pygments_lexer": "ipython3",
   "version": "3.10.4"
  }
 },
 "nbformat": 4,
 "nbformat_minor": 5
}
