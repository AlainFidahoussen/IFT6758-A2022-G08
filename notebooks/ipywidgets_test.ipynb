{
 "cells": [
  {
   "cell_type": "code",
   "execution_count": 8,
   "id": "c5908ad5-f292-48db-a070-78633f150b3e",
   "metadata": {},
   "outputs": [
    {
     "name": "stdout",
     "output_type": "stream",
     "text": [
      "The autoreload extension is already loaded. To reload it, use:\n",
      "  %reload_ext autoreload\n"
     ]
    },
    {
     "ename": "ModuleNotFoundError",
     "evalue": "No module named 'dotenv'",
     "output_type": "error",
     "traceback": [
      "\u001b[1;31m---------------------------------------------------------------------------\u001b[0m",
      "\u001b[1;31mModuleNotFoundError\u001b[0m                       Traceback (most recent call last)",
      "Input \u001b[1;32mIn [8]\u001b[0m, in \u001b[0;36m<cell line: 5>\u001b[1;34m()\u001b[0m\n\u001b[0;32m      2\u001b[0m get_ipython()\u001b[38;5;241m.\u001b[39mrun_line_magic(\u001b[38;5;124m'\u001b[39m\u001b[38;5;124mautoreload\u001b[39m\u001b[38;5;124m'\u001b[39m, \u001b[38;5;124m'\u001b[39m\u001b[38;5;124m2\u001b[39m\u001b[38;5;124m'\u001b[39m)\n\u001b[0;32m      4\u001b[0m \u001b[38;5;66;03m# To load the environment variable defined in the .env file\u001b[39;00m\n\u001b[1;32m----> 5\u001b[0m \u001b[38;5;28;01mfrom\u001b[39;00m \u001b[38;5;21;01mdotenv\u001b[39;00m \u001b[38;5;28;01mimport\u001b[39;00m load_dotenv\n\u001b[0;32m      6\u001b[0m load_dotenv()\n",
      "\u001b[1;31mModuleNotFoundError\u001b[0m: No module named 'dotenv'"
     ]
    }
   ],
   "source": [
    "%load_ext autoreload\n",
    "%autoreload 2\n",
    "\n",
    "# To load the environment variable defined in the .env file\n",
    "from dotenv import load_dotenv\n",
    "load_dotenv();"
   ]
  },
  {
   "cell_type": "code",
   "execution_count": 9,
   "id": "bd4818c9-e44b-490f-8741-b3b04d65e4b0",
   "metadata": {},
   "outputs": [],
   "source": [
    "import src.data.NHLDataManager as DataManager"
   ]
  },
  {
   "cell_type": "code",
   "execution_count": 15,
   "id": "22085473-557a-431d-882f-ce08c5182a42",
   "metadata": {},
   "outputs": [],
   "source": [
    "data_manager = DataManager.NHLDataManager(r'C:\\Users\\anniw\\OneDrive - Universite de Montreal\\MSc 2022-2024\\IFT6758 Science des données\\nhl_data_dir')"
   ]
  },
  {
   "cell_type": "code",
   "execution_count": 17,
   "id": "b5dec27e-07cb-48bc-b681-05e45efdb662",
   "metadata": {},
   "outputs": [
    {
     "name": "stdout",
     "output_type": "stream",
     "text": [
      "C:\\Users\\anniw\\IFT6758-A2022-G08\\notebooks\n"
     ]
    }
   ],
   "source": [
    "cd C:\\Users\\anniw\\IFT6758-A2022-G08\\notebooks"
   ]
  },
  {
   "cell_type": "code",
   "execution_count": 23,
   "id": "15829768-33cf-4010-ad43-6dc9ec66eced",
   "metadata": {},
   "outputs": [
    {
     "data": {
      "application/vnd.jupyter.widget-view+json": {
       "model_id": "1227a2a07864470b891e9eb8ab066811",
       "version_major": 2,
       "version_minor": 0
      },
      "text/plain": [
       "interactive(children=(IntSlider(value=2016, description='Year', max=2020, min=2016), Dropdown(description='Sea…"
      ]
     },
     "metadata": {},
     "output_type": "display_data"
    }
   ],
   "source": [
    "import os\n",
    "import json\n",
    "import pprint\n",
    "\n",
    "import numpy as np\n",
    "\n",
    "import ipywidgets as widgets\n",
    "from ipywidgets import interact\n",
    "\n",
    "import matplotlib.pyplot as plt\n",
    "import matplotlib.image as mpimg\n",
    "\n",
    "from matplotlib.ticker import FormatStrFormatter\n",
    "\n",
    "\n",
    "@ interact(season_year=widgets.IntSlider(min=2016, max=2020, step=1, value=1, description='Year'), \n",
    "           season_type=widgets.Dropdown(options=data_manager.season_types, value=data_manager.season_types[0], description='Season'))\n",
    "def interactive_tool(season_year: int, season_type: str):\n",
    "      \n",
    "    game_numbers = data_manager.get_game_numbers(season_year, season_type)\n",
    "\n",
    "    @ interact(game_num=widgets.SelectionSlider(options=game_numbers, value=game_numbers[0], description='Game ID'))\n",
    "    def load_json(game_num: int): \n",
    "                    \n",
    "        data = data_manager.load_game(season_year, season_type, game_num)\n",
    "                   \n",
    "        # -- Header\n",
    "        print(data['gameData']['datetime']['dateTime'])\n",
    "        \n",
    "        abb_home = data['gameData']['teams']['home']['abbreviation']\n",
    "        abb_away = data['gameData']['teams']['away']['abbreviation']\n",
    "        print(f'Game ID: {game_num}; {abb_home} (home) vs {abb_away} (away)\\n')\n",
    "        \n",
    "        # -- Table\n",
    "        print('{}{}{}'.format(''.ljust(15), 'Home'.ljust(7), 'Away'.ljust(7)))\n",
    "        print('{}{}{}'.format('Teams:'.ljust(15), abb_home.ljust(7), abb_away.ljust(7)))\n",
    "        \n",
    "        goals_home = str(data['liveData']['linescore']['teams']['home']['goals'])\n",
    "        goals_away = str(data['liveData']['linescore']['teams']['away']['goals'])\n",
    "        print('{}{}{}'.format('Goals (line):'.ljust(15), goals_home.ljust(7), goals_away.ljust(7)))\n",
    "        \n",
    "        goals_home1 = str(data['liveData']['boxscore']['teams']['home']['teamStats']['teamSkaterStats']['goals'])\n",
    "        goals_away1 = str(data['liveData']['boxscore']['teams']['away']['teamStats']['teamSkaterStats']['goals'])\n",
    "        print('{}{}{}'.format('Goals (box):'.ljust(15), goals_home1.ljust(7), goals_away1.ljust(7)))\n",
    "\n",
    "        sog_home = str(data['liveData']['linescore']['teams']['home']['shotsOnGoal'])\n",
    "        sog_away = str(data['liveData']['linescore']['teams']['away']['shotsOnGoal'])\n",
    "        print('{}{}{}'.format('SoG:'.ljust(15), sog_home.ljust(7), sog_away.ljust(7)))\n",
    "         \n",
    "        so_goals_home = str(data['liveData']['linescore']['shootoutInfo']['home']['scores'])\n",
    "        so_goals_away = str(data['liveData']['linescore']['shootoutInfo']['away']['scores'])\n",
    "        print('{}{}{}'.format('SO Goals:'.ljust(15), so_goals_home.ljust(7), so_goals_away.ljust(7)))\n",
    "            \n",
    "        so_attempts_home = str(data['liveData']['linescore']['shootoutInfo']['home']['attempts'])\n",
    "        so_attempts_away = str(data['liveData']['linescore']['shootoutInfo']['away']['attempts'])\n",
    "        print('{}{}{}'.format('SO Attempts:'.ljust(15), so_attempts_home.ljust(7), so_attempts_away.ljust(7)))\n",
    "        \n",
    "        @ interact(event_idx=widgets.IntSlider(min=0, max=max(0, len(data['liveData']['plays']['allPlays'])-1), step=1, value=0, description='Event Index'))\n",
    "        def print_info(event_idx: int):\n",
    "    \n",
    "            plt.figure(figsize = (10, 5), dpi=100)\n",
    "            img = mpimg.imread(\"./figures/nhl_rink.png\")\n",
    "            plt.imshow(img, extent=[-100.0, 100.0, -42.5, 42.5])\n",
    "            \n",
    "            plt.xlabel('feet')\n",
    "            plt.ylabel('feet')\n",
    "#             plt.yticks(np.linspace(-42.5, 42.5, 21.25))\n",
    "            \n",
    "            if data['gameData']['status']['abstractGameState'] != 'Preview':\n",
    "                title_desc = data['liveData']['plays']['allPlays'][event_idx]['result']['description'] \n",
    "                title_period_time = data['liveData']['plays']['allPlays'][event_idx]['about']['periodTime']\n",
    "                title_period = data['liveData']['plays']['allPlays'][event_idx]['about']['period']\n",
    "                plt.suptitle(f'{title_desc}\\n{title_period_time} P-{title_period}')\n",
    "            else:\n",
    "                pass\n",
    "            \n",
    "            title_away_abb = data['gameData']['teams']['away']['abbreviation']\n",
    "            title_home_abb = data['gameData']['teams']['home']['abbreviation']\n",
    "            plt.title('{}{}'.format(title_away_abb.center(60), title_home_abb.center(60)), horizontalalignment='center')\n",
    "              \n",
    "            try: # plot event if exists\n",
    "                x_coord = data['liveData']['plays']['allPlays'][event_idx]['coordinates']['x']\n",
    "                y_coord = data['liveData']['plays']['allPlays'][event_idx]['coordinates']['y']\n",
    "                plt.plot(x_coord, y_coord, marker='o', color='blue', markersize=10)\n",
    "                \n",
    "                plt.show()\n",
    "                \n",
    "                pprint.pprint(data['liveData']['plays']['allPlays'][event_idx])\n",
    "            except:\n",
    "                pass"
   ]
  },
  {
   "cell_type": "code",
   "execution_count": null,
   "id": "6049dafb",
   "metadata": {},
   "outputs": [],
   "source": []
  }
 ],
 "metadata": {
  "kernelspec": {
   "display_name": "Python 3 (ipykernel)",
   "language": "python",
   "name": "python3"
  },
  "language_info": {
   "codemirror_mode": {
    "name": "ipython",
    "version": 3
   },
   "file_extension": ".py",
   "mimetype": "text/x-python",
   "name": "python",
   "nbconvert_exporter": "python",
   "pygments_lexer": "ipython3",
   "version": "3.9.13"
  }
 },
 "nbformat": 4,
 "nbformat_minor": 5
}
