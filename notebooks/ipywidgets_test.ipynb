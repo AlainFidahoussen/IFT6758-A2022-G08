{
 "cells": [
  {
   "cell_type": "code",
   "execution_count": 5,
   "id": "c924c2d1-1947-4fc3-8077-17f03c247872",
   "metadata": {},
   "outputs": [],
   "source": [
    "import os\n",
    "\n",
    "import ipywidgets as widgets\n",
    "from ipywidgets import interact, interactive\n",
    "from IPython.display import display\n",
    "\n",
    "import matplotlib.pyplot as plt\n",
    "import matplotlib.image as mpimg\n",
    "\n",
    "import urllib.request\n",
    "from PIL import Image\n",
    "import numpy as np\n",
    "\n",
    "def interactive_tool(game_id: int, season_year: int, season: str, event_idx: int):\n",
    "  \n",
    "    game_id = str(game_id).zfill(4) \n",
    "    \n",
    "    if season == 'regular':\n",
    "        code = '02'\n",
    "    else:\n",
    "        code = '03'   \n",
    "        \n",
    "    \n",
    "    try:\n",
    "        path = os.path.join(os.environ['NHL_DATA_DIR'], str(season_year), season, f'{season_year}{code}{game_id}.json')\n",
    "        with open(path, 'r') as json_file:\n",
    "              data = json.load(json_file)\n",
    "        print(data['gameData']['datetime']['dateTime'])\n",
    "        print(f'Game ID: {game_id}; ')\n",
    "        print(json.dumps(data['liveData']['plays']['allPlays'][event_idx], indent=4))\n",
    "    except: \n",
    "        print(f'No such game: {path}')\n",
    "        \n",
    "    \n",
    "    # img = np.array(Image.open(urllib.request.urlopen('https://raw.githubusercontent.com/udem-ift6758/project-template/main/figures/nhl_rink.png')))\n",
    "    img = mpimg.imread(\"https://raw.githubusercontent.com/udem-ift6758/project-template/main/figures/nhl_rink.png\")\n",
    "    title1 = data['liveData']['plays']['allPlays'][event_idx]['result']['description'] \n",
    "    title2_0 = data['liveData']['plays']['allPlays'][event_idx]['about']['periodTime']\n",
    "    title2_1 = data['liveData']['plays']['allPlays'][event_idx]['about']['period']\n",
    "    imgplot = plt.imshow(img)\n",
    "    plt.xlabel('feet')\n",
    "    plt.ylabel('feet')\n",
    "    plt.title(f'{title1}\\n{title2_0} P-{title2_1}' )\n",
    "    plt.show()"
   ]
  },
  {
   "cell_type": "code",
   "execution_count": 4,
   "id": "8aca266f-4a45-4737-bc09-84dd2e321743",
   "metadata": {},
   "outputs": [
    {
     "data": {
      "application/vnd.jupyter.widget-view+json": {
       "model_id": "0896848ed2a94b94b176457967767661",
       "version_major": 2,
       "version_minor": 0
      },
      "text/plain": [
       "interactive(children=(IntSlider(value=1, description='game_id', max=1271, min=1), IntSlider(value=2016, descri…"
      ]
     },
     "metadata": {},
     "output_type": "display_data"
    },
    {
     "data": {
      "text/plain": [
       "<function __main__.interactive_tool(game_id: int, season_year: int, season: str, event_idx: int)>"
      ]
     },
     "execution_count": 4,
     "metadata": {},
     "output_type": "execute_result"
    }
   ],
   "source": [
    "interact(interactive_tool, \n",
    "         season_year=widgets.IntSlider(min=2016, max=2020, step=1, value=1), \n",
    "         game_id=widgets.IntSlider(min=1, max=1271, step=1, value=1),\n",
    "         event_idx=widgets.IntSlider(min=1, max=1271, step=1, value=1),\n",
    "         season=widgets.Dropdown(options=['regular', 'playoffs'], value='regular',description='Season:', disabled=False),)"
   ]
  },
  {
   "cell_type": "code",
   "execution_count": null,
   "id": "e751d199-6684-437c-9911-73364277829e",
   "metadata": {},
   "outputs": [],
   "source": []
  }
 ],
 "metadata": {
  "kernelspec": {
   "display_name": "Python 3 (ipykernel)",
   "language": "python",
   "name": "python3"
  },
  "language_info": {
   "codemirror_mode": {
    "name": "ipython",
    "version": 3
   },
   "file_extension": ".py",
   "mimetype": "text/x-python",
   "name": "python",
   "nbconvert_exporter": "python",
   "pygments_lexer": "ipython3",
   "version": "3.10.4"
  }
 },
 "nbformat": 4,
 "nbformat_minor": 5
}
