{
 "cells": [
  {
   "cell_type": "code",
   "execution_count": 1,
   "metadata": {},
   "outputs": [],
   "source": [
    "%load_ext autoreload\n",
    "%autoreload 2"
   ]
  },
  {
   "cell_type": "code",
   "execution_count": 2,
   "metadata": {},
   "outputs": [],
   "source": [
    "from dotenv import load_dotenv\n",
    "load_dotenv();\n",
    "\n",
    "import os\n",
    "import sys\n",
    "sys.path.append(os.path.join(os.environ['NHL_DATA_DIR'], '..'))"
   ]
  },
  {
   "cell_type": "code",
   "execution_count": 3,
   "metadata": {},
   "outputs": [],
   "source": [
    "import src.features.build_features as FeaturesManager\n",
    "RANDOM_SEED = 42"
   ]
  },
  {
   "cell_type": "code",
   "execution_count": 4,
   "metadata": {},
   "outputs": [],
   "source": [
    "season_year = 2018\n",
    "season_type = \"Regular\"\n",
    "game_number = 20"
   ]
  },
  {
   "cell_type": "code",
   "execution_count": null,
   "metadata": {},
   "outputs": [],
   "source": [
    "# features_df = FeaturesManager.build_features_one_game(season_year, season_type, game_number, with_player_stats=True, with_strength_stats=True)"
   ]
  },
  {
   "cell_type": "code",
   "execution_count": 5,
   "metadata": {},
   "outputs": [
    {
     "name": "stderr",
     "output_type": "stream",
     "text": [
      "/mnt/c/Users/mmrz3/Desktop/IFT6758/IFT6758-A2022-G08-master/src/features/build_features.py:477: FutureWarning: The default value of numeric_only in DataFrame.median is deprecated. In a future version, it will default to False. In addition, specifying 'numeric_only=None' is deprecated. Select only valid columns or specify the value of numeric_only to silence this warning.\n",
      "  df_features = df_features.fillna(df_features.median())\n"
     ]
    }
   ],
   "source": [
    "_, features_df, _, _ = FeaturesManager.GetTrainValid()"
   ]
  },
  {
   "cell_type": "code",
   "execution_count": 6,
   "metadata": {},
   "outputs": [
    {
     "data": {
      "text/plain": [
       "(61172, 37)"
      ]
     },
     "execution_count": 6,
     "metadata": {},
     "output_type": "execute_result"
    }
   ],
   "source": [
    "features_df.shape"
   ]
  },
  {
   "cell_type": "code",
   "execution_count": 27,
   "metadata": {},
   "outputs": [
    {
     "data": {
      "text/plain": [
       "<Response [204]>"
      ]
     },
     "execution_count": 27,
     "metadata": {},
     "output_type": "execute_result"
    }
   ],
   "source": [
    "import json\n",
    "import requests\n",
    "\n",
    "# Testing /download_registry_model\n",
    "workspace = \"ift6758-a22-g08\"\n",
    "model_name = \"xgboost-randomforest\"\n",
    "version = \"1.1.0\"\n",
    "requests.post(\"http://127.0.0.1:6758/download_registry_model\", json={\n",
    "    \"workspace\": workspace,\n",
    "    \"model\": model_name,\n",
    "    \"version\": version\n",
    "})"
   ]
  },
  {
   "cell_type": "code",
   "execution_count": 28,
   "metadata": {},
   "outputs": [
    {
     "data": {
      "text/plain": [
       "[\"INFO:app:{'workspace': 'ift6758-a22-g08', 'model': 'xgboost-randomforest', 'version': '1.1.0'}\\n\",\n",
       " 'INFO:app:Loaded xgboost-randomforest (already downloaded).\\n',\n",
       " \"INFO:app:Pipeline(steps=[('feature_selection',\\n\",\n",
       " '                 SelectFromModel(estimator=RandomForestClassifier(random_state=0))),\\n',\n",
       " \"                ('classification',\\n\",\n",
       " \"                 XGBClassifier(base_score=0.5, booster='gbtree', callbacks=None,\\n\",\n",
       " '                               colsample_bylevel=1, colsample_bynode=1,\\n',\n",
       " '                               colsample_bytree=1, early_stopping_rounds=None,\\n',\n",
       " '                               enable_categorical=False, eval_metric=None,\\n',\n",
       " '                               feature_types=None, gamma=0, gpu_id=-1,\\n',\n",
       " \"                               grow_policy='depthwise', importance_type=None,\\n\",\n",
       " \"                               interaction_constraints='',\\n\",\n",
       " '                               learning_rate=0.300000012, max_bin=256,\\n',\n",
       " '                               max_cat_threshold=64, max_cat_to_onehot=4,\\n',\n",
       " '                               max_delta_step=0, max_depth=6, max_leaves=0,\\n',\n",
       " '                               min_child_weight=1, missing=nan,\\n',\n",
       " \"                               monotone_constraints='()', n_estimators=100,\\n\",\n",
       " \"                               n_jobs=0, num_parallel_tree=1, predictor='auto',\\n\",\n",
       " '                               random_state=0, ...))])\\n']"
      ]
     },
     "execution_count": 28,
     "metadata": {},
     "output_type": "execute_result"
    }
   ],
   "source": [
    "# Testing /logs\n",
    "requests.get(\"http://127.0.0.1:6758/logs\").json()"
   ]
  },
  {
   "cell_type": "code",
   "execution_count": null,
   "metadata": {},
   "outputs": [],
   "source": [
    "# Testing /predict\n",
    "r = requests.post(\n",
    "\t\"http://127.0.0.1:6758/predict\", \n",
    "\tjson=json.loads(features_df.to_json())\n",
    ")"
   ]
  },
  {
   "cell_type": "code",
   "execution_count": 35,
   "metadata": {},
   "outputs": [
    {
     "data": {
      "text/plain": [
       "array([[0.80988365, 0.19011635],\n",
       "       [0.01348746, 0.98651254],\n",
       "       [0.48014456, 0.51985544],\n",
       "       [0.72458923, 0.2754108 ],\n",
       "       [0.76288217, 0.23711781],\n",
       "       [0.93194824, 0.06805176],\n",
       "       [0.74236345, 0.25763652],\n",
       "       [0.8720715 , 0.12792848],\n",
       "       [0.42095411, 0.57904589],\n",
       "       [0.64151394, 0.35848606]])"
      ]
     },
     "execution_count": 35,
     "metadata": {},
     "output_type": "execute_result"
    }
   ],
   "source": [
    "# Predictions\n",
    "import numpy as np\n",
    "np.array(r.json())[:10]"
   ]
  }
 ],
 "metadata": {
  "kernelspec": {
   "display_name": "ift6758-venv",
   "language": "python",
   "name": "ift6758-venv"
  },
  "language_info": {
   "codemirror_mode": {
    "name": "ipython",
    "version": 3
   },
   "file_extension": ".py",
   "mimetype": "text/x-python",
   "name": "python",
   "nbconvert_exporter": "python",
   "pygments_lexer": "ipython3",
   "version": "3.9.12"
  },
  "vscode": {
   "interpreter": {
    "hash": "92f48083c8218174491cd4f669c156bacd48c2621c374208378e0b05beed392f"
   }
  }
 },
 "nbformat": 4,
 "nbformat_minor": 4
}
