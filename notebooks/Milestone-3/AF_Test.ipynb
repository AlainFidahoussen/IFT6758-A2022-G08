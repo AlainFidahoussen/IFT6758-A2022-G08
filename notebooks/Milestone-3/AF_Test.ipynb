{
 "cells": [
  {
   "cell_type": "code",
   "execution_count": 1,
   "metadata": {},
   "outputs": [],
   "source": [
    "%load_ext autoreload\n",
    "%autoreload 2"
   ]
  },
  {
   "cell_type": "code",
   "execution_count": 2,
   "metadata": {},
   "outputs": [
    {
     "name": "stdout",
     "output_type": "stream",
     "text": [
      "/mnt/e/GitHub/IFT6758-A2022-G08/data/../docker-project/ift6758/ift6758/client\n"
     ]
    }
   ],
   "source": [
    "from dotenv import load_dotenv\n",
    "load_dotenv();\n",
    "\n",
    "import os\n",
    "import sys\n",
    "sys.path.append(os.path.join(os.environ['NHL_DATA_DIR'], '..'))\n",
    "sys.path.append(os.path.join(os.environ['NHL_DATA_DIR'], '..', 'docker-project', 'ift6758', 'ift6758', 'client'))\n",
    "\n",
    "print(os.path.join(os.environ['NHL_DATA_DIR'], '..', 'docker-project', 'ift6758', 'ift6758', 'client'))"
   ]
  },
  {
   "cell_type": "code",
   "execution_count": 3,
   "metadata": {},
   "outputs": [],
   "source": [
    "import src.features.build_features as FeaturesManager\n",
    "import serving_client\n",
    "import game_client\n",
    "RANDOM_SEED = 42"
   ]
  },
  {
   "cell_type": "code",
   "execution_count": 4,
   "metadata": {},
   "outputs": [],
   "source": [
    "season_year = 2016\n",
    "season_type = \"Regular\"\n",
    "game_number = 20"
   ]
  },
  {
   "cell_type": "code",
   "execution_count": 5,
   "metadata": {},
   "outputs": [],
   "source": [
    "features_df = FeaturesManager.build_features_one_game(season_year, season_type, game_number, with_player_stats=True, with_strength_stats=True)"
   ]
  },
  {
   "cell_type": "code",
   "execution_count": 6,
   "metadata": {},
   "outputs": [
    {
     "data": {
      "text/plain": [
       "(60, 39)"
      ]
     },
     "execution_count": 6,
     "metadata": {},
     "output_type": "execute_result"
    }
   ],
   "source": [
    "features_df.shape"
   ]
  },
  {
   "cell_type": "code",
   "execution_count": 10,
   "metadata": {},
   "outputs": [],
   "source": [
    "gc = game_client.GameClient()"
   ]
  },
  {
   "cell_type": "code",
   "execution_count": 12,
   "metadata": {},
   "outputs": [
    {
     "data": {
      "text/html": [
       "<div>\n",
       "<style scoped>\n",
       "    .dataframe tbody tr th:only-of-type {\n",
       "        vertical-align: middle;\n",
       "    }\n",
       "\n",
       "    .dataframe tbody tr th {\n",
       "        vertical-align: top;\n",
       "    }\n",
       "\n",
       "    .dataframe thead th {\n",
       "        text-align: right;\n",
       "    }\n",
       "</style>\n",
       "<table border=\"1\" class=\"dataframe\">\n",
       "  <thead>\n",
       "    <tr style=\"text-align: right;\">\n",
       "      <th></th>\n",
       "      <th>Game ID</th>\n",
       "      <th>Event Index</th>\n",
       "      <th>Period</th>\n",
       "      <th>Team</th>\n",
       "      <th>Type</th>\n",
       "      <th>Shot Type</th>\n",
       "      <th>Shooter</th>\n",
       "      <th>Shooter ID</th>\n",
       "      <th>Shooter Side</th>\n",
       "      <th>Shooter Ice Position</th>\n",
       "      <th>...</th>\n",
       "      <th>Game seconds</th>\n",
       "      <th>Last event angle</th>\n",
       "      <th>Rebound</th>\n",
       "      <th>Change in Shot Angle</th>\n",
       "      <th>Speed From Previous Event</th>\n",
       "      <th>Shooter Goal Ratio Last Season</th>\n",
       "      <th>Goalie Goal Ratio Last Season</th>\n",
       "      <th>Num players With</th>\n",
       "      <th>Num players Against</th>\n",
       "      <th>Elapsed time since Power Play</th>\n",
       "    </tr>\n",
       "  </thead>\n",
       "  <tbody>\n",
       "  </tbody>\n",
       "</table>\n",
       "<p>0 rows × 39 columns</p>\n",
       "</div>"
      ],
      "text/plain": [
       "Empty DataFrame\n",
       "Columns: [Game ID, Event Index, Period, Team, Type, Shot Type, Shooter, Shooter ID, Shooter Side, Shooter Ice Position, Goalie, Goalie ID, Strength, X, Y, Last event type, Last event X, Last event Y, Last event elapsed time, Last event distance, st_X, st_Y, Last event st_X, Last event st_Y, Shot distance, Shot angle, Is Goal, Is Empty, Period seconds, Game seconds, Last event angle, Rebound, Change in Shot Angle, Speed From Previous Event, Shooter Goal Ratio Last Season, Goalie Goal Ratio Last Season, Num players With, Num players Against, Elapsed time since Power Play]\n",
       "Index: []\n",
       "\n",
       "[0 rows x 39 columns]"
      ]
     },
     "execution_count": 12,
     "metadata": {},
     "output_type": "execute_result"
    }
   ],
   "source": [
    "# import os\n",
    "# os.environ['COMET_API_KEY'] = 'QZdghKtgvGASmWLqe8bMYZnxN'\n",
    "\n",
    "# sc = serving_client.ServingClient()\n",
    "# workspace = \"ift6758-a22-g08\"\n",
    "# model = \"randomforest-allfeatures\"\n",
    "# version = \"1.0.0\"\n",
    "# sc.download_registry_model(workspace, model, version)\n",
    "\n",
    "\n",
    "season_year = 2016\n",
    "season_type = \"Regular\"\n",
    "game_number = 20\n",
    "gc.ping_game(season_year, season_type, game_number)\n",
    "# df_features_out = sc.predict(df_features)\n",
    "\n",
    "# print(sc.logs())"
   ]
  },
  {
   "cell_type": "code",
   "execution_count": 16,
   "metadata": {},
   "outputs": [
    {
     "data": {
      "text/plain": [
       "'INFO:werkzeug:172.17.0.1 - - [13/Dec/2022 20:48:43] \"GET / HTTP/1.1\" 200 -\\nINFO:werkzeug:172.17.0.1 - - [13/Dec/2022 20:48:45] \"\\x1b[33mGET /favicon.ico HTTP/1.1\\x1b[0m\" 404 -\\nINFO:werkzeug:172.17.0.1 - - [13/Dec/2022 20:49:10] \"GET /logs HTTP/1.1\" 200 -\\nINFO:werkzeug:172.17.0.1 - - [13/Dec/2022 20:49:13] \"GET / HTTP/1.1\" 200 -\\n'"
      ]
     },
     "execution_count": 16,
     "metadata": {},
     "output_type": "execute_result"
    }
   ],
   "source": [
    "sc = serving_client.ServingClient()\n",
    "sc.logs()"
   ]
  },
  {
   "cell_type": "code",
   "execution_count": null,
   "metadata": {},
   "outputs": [],
   "source": []
  }
 ],
 "metadata": {
  "kernelspec": {
   "display_name": "NHL",
   "language": "python",
   "name": "python3"
  },
  "language_info": {
   "codemirror_mode": {
    "name": "ipython",
    "version": 3
   },
   "file_extension": ".py",
   "mimetype": "text/x-python",
   "name": "python",
   "nbconvert_exporter": "python",
   "pygments_lexer": "ipython3",
   "version": "3.9.13"
  },
  "vscode": {
   "interpreter": {
    "hash": "92f48083c8218174491cd4f669c156bacd48c2621c374208378e0b05beed392f"
   }
  }
 },
 "nbformat": 4,
 "nbformat_minor": 4
}
