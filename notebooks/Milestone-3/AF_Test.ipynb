{
 "cells": [
  {
   "cell_type": "code",
   "execution_count": 18,
   "metadata": {},
   "outputs": [
    {
     "name": "stdout",
     "output_type": "stream",
     "text": [
      "The autoreload extension is already loaded. To reload it, use:\n",
      "  %reload_ext autoreload\n"
     ]
    }
   ],
   "source": [
    "%load_ext autoreload\n",
    "%autoreload 2"
   ]
  },
  {
   "cell_type": "code",
   "execution_count": 22,
   "metadata": {},
   "outputs": [
    {
     "name": "stdout",
     "output_type": "stream",
     "text": [
      "/mnt/e/GitHub/IFT6758-A2022-G08/data/../docker-project/ift6758/ift6758/client\n"
     ]
    }
   ],
   "source": [
    "from dotenv import load_dotenv\n",
    "load_dotenv();\n",
    "\n",
    "import os\n",
    "import sys\n",
    "sys.path.append(os.path.join(os.environ['NHL_DATA_DIR'], '..'))\n",
    "sys.path.append(os.path.join(os.environ['NHL_DATA_DIR'], '..', 'docker-project', 'ift6758', 'ift6758', 'client'))\n",
    "\n",
    "print(os.path.join(os.environ['NHL_DATA_DIR'], '..', 'docker-project', 'ift6758', 'ift6758', 'client'))"
   ]
  },
  {
   "cell_type": "code",
   "execution_count": 24,
   "metadata": {},
   "outputs": [],
   "source": [
    "import src.features.build_features as FeaturesManager\n",
    "import serving_client\n",
    "import game_client\n",
    "RANDOM_SEED = 42"
   ]
  },
  {
   "cell_type": "code",
   "execution_count": 25,
   "metadata": {},
   "outputs": [],
   "source": [
    "season_year = 2018\n",
    "season_type = \"Regular\"\n",
    "game_number = 20"
   ]
  },
  {
   "cell_type": "code",
   "execution_count": 26,
   "metadata": {},
   "outputs": [],
   "source": [
    "features_df = FeaturesManager.build_features_one_game(season_year, season_type, game_number, with_player_stats=True, with_strength_stats=True)"
   ]
  },
  {
   "cell_type": "code",
   "execution_count": 27,
   "metadata": {},
   "outputs": [
    {
     "data": {
      "text/plain": [
       "(46, 39)"
      ]
     },
     "execution_count": 27,
     "metadata": {},
     "output_type": "execute_result"
    }
   ],
   "source": [
    "features_df.shape"
   ]
  },
  {
   "cell_type": "code",
   "execution_count": 30,
   "metadata": {},
   "outputs": [],
   "source": [
    "gc = game_client.GameClient()\n",
    "features_out = gc.get_game_prediction(season_year, season_type, game_number)"
   ]
  }
 ],
 "metadata": {
  "kernelspec": {
   "display_name": "NHL",
   "language": "python",
   "name": "python3"
  },
  "language_info": {
   "codemirror_mode": {
    "name": "ipython",
    "version": 3
   },
   "file_extension": ".py",
   "mimetype": "text/x-python",
   "name": "python",
   "nbconvert_exporter": "python",
   "pygments_lexer": "ipython3",
   "version": "3.9.13"
  },
  "vscode": {
   "interpreter": {
    "hash": "92f48083c8218174491cd4f669c156bacd48c2621c374208378e0b05beed392f"
   }
  }
 },
 "nbformat": 4,
 "nbformat_minor": 4
}
