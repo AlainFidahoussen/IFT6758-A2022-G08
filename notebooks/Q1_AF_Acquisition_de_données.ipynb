{
 "cells": [
  {
   "cell_type": "code",
   "execution_count": 8,
   "id": "92993b7c",
   "metadata": {},
   "outputs": [
    {
     "name": "stdout",
     "output_type": "stream",
     "text": [
      "The autoreload extension is already loaded. To reload it, use:\n",
      "  %reload_ext autoreload\n"
     ]
    }
   ],
   "source": [
    "%load_ext autoreload\n",
    "%autoreload 2"
   ]
  },
  {
   "cell_type": "code",
   "execution_count": 20,
   "id": "ce59f542",
   "metadata": {},
   "outputs": [],
   "source": [
    "# To load the environment variable defined in the .env file\n",
    "from dotenv import load_dotenv\n",
    "load_dotenv();"
   ]
  },
  {
   "cell_type": "code",
   "execution_count": 21,
   "id": "4490749b",
   "metadata": {},
   "outputs": [],
   "source": [
    "import src.data.NHLDataManager as DataManager"
   ]
  },
  {
   "cell_type": "code",
   "execution_count": 34,
   "id": "42966b09",
   "metadata": {},
   "outputs": [
    {
     "data": {
      "text/plain": [
       "'fdfds'"
      ]
     },
     "execution_count": 34,
     "metadata": {},
     "output_type": "execute_result"
    }
   ],
   "source": [
    "data_manager = DataManager.NHLDataManager()\n",
    "data_manager.data_dir"
   ]
  },
  {
   "cell_type": "code",
   "execution_count": 26,
   "id": "61cb0886",
   "metadata": {},
   "outputs": [
    {
     "data": {
      "application/vnd.jupyter.widget-view+json": {
       "model_id": "ec6f0681e5ac4be6b5fa8a6fa5382d80",
       "version_major": 2,
       "version_minor": 0
      },
      "text/plain": [
       "  0%|          | 0/2 [00:00<?, ?it/s]"
      ]
     },
     "metadata": {},
     "output_type": "display_data"
    },
    {
     "data": {
      "application/vnd.jupyter.widget-view+json": {
       "model_id": "ec9145b23a934fe5b745ef679b32d069",
       "version_major": 2,
       "version_minor": 0
      },
      "text/plain": [
       "  0%|          | 0/1230 [00:00<?, ?it/s]"
      ]
     },
     "metadata": {},
     "output_type": "display_data"
    },
    {
     "data": {
      "application/vnd.jupyter.widget-view+json": {
       "model_id": "2a855b0351d54ee1b05a0b1af474042a",
       "version_major": 2,
       "version_minor": 0
      },
      "text/plain": [
       "  0%|          | 0/1271 [00:00<?, ?it/s]"
      ]
     },
     "metadata": {},
     "output_type": "display_data"
    },
    {
     "data": {
      "application/vnd.jupyter.widget-view+json": {
       "model_id": "6e169e56e3b042049829efdca9c3c31b",
       "version_major": 2,
       "version_minor": 0
      },
      "text/plain": [
       "  0%|          | 0/2 [00:00<?, ?it/s]"
      ]
     },
     "metadata": {},
     "output_type": "display_data"
    },
    {
     "data": {
      "application/vnd.jupyter.widget-view+json": {
       "model_id": "3ab69d374722418080d2af0e1447530c",
       "version_major": 2,
       "version_minor": 0
      },
      "text/plain": [
       "  0%|          | 0/105 [00:00<?, ?it/s]"
      ]
     },
     "metadata": {},
     "output_type": "display_data"
    },
    {
     "data": {
      "application/vnd.jupyter.widget-view+json": {
       "model_id": "0d73537200e742949398c43cafa86f88",
       "version_major": 2,
       "version_minor": 0
      },
      "text/plain": [
       "  0%|          | 0/105 [00:00<?, ?it/s]"
      ]
     },
     "metadata": {},
     "output_type": "display_data"
    }
   ],
   "source": [
    "seasons_year = [2016, 2017]\n",
    "\n",
    "\n",
    "data_manager.download_data(seasons_year=seasons_year, season_type=\"Regular\")\n",
    "data_manager.download_data(seasons_year=seasons_year, season_type=\"Playoffs\")"
   ]
  },
  {
   "cell_type": "code",
   "execution_count": 29,
   "id": "c4a8fed1",
   "metadata": {},
   "outputs": [
    {
     "ename": "AttributeError",
     "evalue": "'NHLDataManager' object has no attribute 'get_teams_final_score'",
     "output_type": "error",
     "traceback": [
      "\u001b[0;31m---------------------------------------------------------------------------\u001b[0m",
      "\u001b[0;31mAttributeError\u001b[0m                            Traceback (most recent call last)",
      "Cell \u001b[0;32mIn [29], line 1\u001b[0m\n\u001b[0;32m----> 1\u001b[0m data_manager\u001b[38;5;241m.\u001b[39mget_teams_final_score(\u001b[38;5;241m2011\u001b[39m, \u001b[38;5;124m\"\u001b[39m\u001b[38;5;124mRegular\u001b[39m\u001b[38;5;124m\"\u001b[39m, \u001b[38;5;241m26\u001b[39m)\n",
      "\u001b[0;31mAttributeError\u001b[0m: 'NHLDataManager' object has no attribute 'get_teams_final_score'"
     ]
    }
   ],
   "source": [
    "data_manager.get_teams_final_score(2011, \"Regular\", 26)"
   ]
  },
  {
   "cell_type": "code",
   "execution_count": null,
   "id": "7d066b18",
   "metadata": {},
   "outputs": [],
   "source": []
  }
 ],
 "metadata": {
  "kernelspec": {
   "display_name": "NHL",
   "language": "python",
   "name": "nhl"
  },
  "language_info": {
   "codemirror_mode": {
    "name": "ipython",
    "version": 3
   },
   "file_extension": ".py",
   "mimetype": "text/x-python",
   "name": "python",
   "nbconvert_exporter": "python",
   "pygments_lexer": "ipython3",
   "version": "3.9.13"
  }
 },
 "nbformat": 4,
 "nbformat_minor": 5
}
