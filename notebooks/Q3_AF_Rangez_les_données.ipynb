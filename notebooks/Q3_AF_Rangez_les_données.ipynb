{
 "cells": [
  {
   "cell_type": "code",
   "execution_count": 3,
   "id": "92993b7c",
   "metadata": {},
   "outputs": [],
   "source": [
    "%load_ext autoreload\n",
    "%autoreload 2"
   ]
  },
  {
   "cell_type": "code",
   "execution_count": 4,
   "id": "ce59f542",
   "metadata": {},
   "outputs": [],
   "source": [
    "import pandas as pd\n",
    "\n",
    "# To load the environment variable defined in the .env file\n",
    "from dotenv import load_dotenv\n",
    "load_dotenv();"
   ]
  },
  {
   "cell_type": "code",
   "execution_count": 5,
   "id": "4490749b",
   "metadata": {},
   "outputs": [],
   "source": [
    "import src.data.NHLDataManager as DataManager"
   ]
  },
  {
   "cell_type": "code",
   "execution_count": 6,
   "id": "61cb0886",
   "metadata": {},
   "outputs": [
    {
     "name": "stdout",
     "output_type": "stream",
     "text": [
      "This is your NHL_DATA_DIR environment: /mnt/d/GitHub/IFT6758-A2022-G08/data/raw\n"
     ]
    },
    {
     "data": {
      "application/vnd.jupyter.widget-view+json": {
       "model_id": "401846d657634cc9a3cced2f3eb0ac30",
       "version_major": 2,
       "version_minor": 0
      },
      "text/plain": [
       "  0%|          | 0/2 [00:00<?, ?it/s]"
      ]
     },
     "metadata": {},
     "output_type": "display_data"
    },
    {
     "data": {
      "application/vnd.jupyter.widget-view+json": {
       "model_id": "6f824d98cece4c8e974dd9b4503bf527",
       "version_major": 2,
       "version_minor": 0
      },
      "text/plain": [
       "  0%|          | 0/1230 [00:00<?, ?it/s]"
      ]
     },
     "metadata": {},
     "output_type": "display_data"
    },
    {
     "data": {
      "application/vnd.jupyter.widget-view+json": {
       "model_id": "600eca5bb2d7412aacfecd69271475d4",
       "version_major": 2,
       "version_minor": 0
      },
      "text/plain": [
       "  0%|          | 0/1271 [00:00<?, ?it/s]"
      ]
     },
     "metadata": {},
     "output_type": "display_data"
    },
    {
     "name": "stdout",
     "output_type": "stream",
     "text": [
      "This is your NHL_DATA_DIR environment: /mnt/d/GitHub/IFT6758-A2022-G08/data/raw\n"
     ]
    },
    {
     "data": {
      "application/vnd.jupyter.widget-view+json": {
       "model_id": "fc36fa82d9b748d5a8c670ee2495494f",
       "version_major": 2,
       "version_minor": 0
      },
      "text/plain": [
       "  0%|          | 0/2 [00:00<?, ?it/s]"
      ]
     },
     "metadata": {},
     "output_type": "display_data"
    },
    {
     "data": {
      "application/vnd.jupyter.widget-view+json": {
       "model_id": "ba98c9521d38438f9807100c984e62fb",
       "version_major": 2,
       "version_minor": 0
      },
      "text/plain": [
       "  0%|          | 0/105 [00:00<?, ?it/s]"
      ]
     },
     "metadata": {},
     "output_type": "display_data"
    },
    {
     "data": {
      "application/vnd.jupyter.widget-view+json": {
       "model_id": "e795785283c14b7a91d567dc1a1c8155",
       "version_major": 2,
       "version_minor": 0
      },
      "text/plain": [
       "  0%|          | 0/105 [00:00<?, ?it/s]"
      ]
     },
     "metadata": {},
     "output_type": "display_data"
    }
   ],
   "source": [
    "seasons_year = [2016, 2017]\n",
    "\n",
    "data_manager_regular = DataManager.NHLDataManager()\n",
    "nhl_data_regular = data_manager_regular.download_data(seasons_year=seasons_year, is_regular=True)\n",
    "\n",
    "data_manager_playoffs = DataManager.NHLDataManager()\n",
    "nhl_data_playoffs = data_manager_playoffs.download_data(seasons_year=seasons_year, is_regular=False)"
   ]
  },
  {
   "cell_type": "code",
   "execution_count": 7,
   "id": "f24f47bd",
   "metadata": {},
   "outputs": [],
   "source": [
    "nhl_data = {}\n",
    "nhl_data['Regular'] = nhl_data_regular\n",
    "nhl_data['Playoffs'] = nhl_data_playoffs"
   ]
  },
  {
   "cell_type": "code",
   "execution_count": 8,
   "id": "fdb879eb",
   "metadata": {},
   "outputs": [
    {
     "data": {
      "text/plain": [
       "2016020002"
      ]
     },
     "execution_count": 8,
     "metadata": {},
     "output_type": "execute_result"
    }
   ],
   "source": [
    "nhl_data['Regular'][2016][1]['gamePk']"
   ]
  },
  {
   "cell_type": "code",
   "execution_count": 9,
   "id": "22c8e5ca",
   "metadata": {},
   "outputs": [
    {
     "data": {
      "text/plain": [
       "{'currentPeriod': 3,\n",
       " 'currentPeriodOrdinal': '3rd',\n",
       " 'currentPeriodTimeRemaining': 'Final',\n",
       " 'periods': [{'periodType': 'REGULAR',\n",
       "   'startTime': '2016-10-13T00:12:27Z',\n",
       "   'endTime': '2016-10-13T00:46:06Z',\n",
       "   'num': 1,\n",
       "   'ordinalNum': '1st',\n",
       "   'home': {'goals': 1, 'shotsOnGoal': 6, 'rinkSide': 'right'},\n",
       "   'away': {'goals': 0, 'shotsOnGoal': 9, 'rinkSide': 'left'}},\n",
       "  {'periodType': 'REGULAR',\n",
       "   'startTime': '2016-10-13T01:04:40Z',\n",
       "   'endTime': '2016-10-13T01:45:02Z',\n",
       "   'num': 2,\n",
       "   'ordinalNum': '2nd',\n",
       "   'home': {'goals': 1, 'shotsOnGoal': 3, 'rinkSide': 'left'},\n",
       "   'away': {'goals': 2, 'shotsOnGoal': 15, 'rinkSide': 'right'}},\n",
       "  {'periodType': 'REGULAR',\n",
       "   'startTime': '2016-10-13T02:03:33Z',\n",
       "   'endTime': '2016-10-13T02:41:15Z',\n",
       "   'num': 3,\n",
       "   'ordinalNum': '3rd',\n",
       "   'home': {'goals': 0, 'shotsOnGoal': 10, 'rinkSide': 'right'},\n",
       "   'away': {'goals': 3, 'shotsOnGoal': 10, 'rinkSide': 'left'}}],\n",
       " 'shootoutInfo': {'away': {'scores': 0, 'attempts': 0},\n",
       "  'home': {'scores': 0, 'attempts': 0}},\n",
       " 'teams': {'home': {'team': {'id': 16,\n",
       "    'name': 'Chicago Blackhawks',\n",
       "    'link': '/api/v1/teams/16',\n",
       "    'abbreviation': 'CHI',\n",
       "    'triCode': 'CHI'},\n",
       "   'goals': 2,\n",
       "   'shotsOnGoal': 19,\n",
       "   'goaliePulled': False,\n",
       "   'numSkaters': 5,\n",
       "   'powerPlay': False},\n",
       "  'away': {'team': {'id': 19,\n",
       "    'name': 'St. Louis Blues',\n",
       "    'link': '/api/v1/teams/19',\n",
       "    'abbreviation': 'STL',\n",
       "    'triCode': 'STL'},\n",
       "   'goals': 5,\n",
       "   'shotsOnGoal': 34,\n",
       "   'goaliePulled': False,\n",
       "   'numSkaters': 5,\n",
       "   'powerPlay': False}},\n",
       " 'powerPlayStrength': 'Even',\n",
       " 'hasShootout': False,\n",
       " 'intermissionInfo': {'intermissionTimeRemaining': 0,\n",
       "  'intermissionTimeElapsed': 0,\n",
       "  'inIntermission': False}}"
      ]
     },
     "execution_count": 9,
     "metadata": {},
     "output_type": "execute_result"
    }
   ],
   "source": [
    "nhl_data['Regular'][2016][1]['liveData']['linescore']"
   ]
  },
  {
   "cell_type": "code",
   "execution_count": 10,
   "id": "c4a8fed1",
   "metadata": {},
   "outputs": [],
   "source": [
    "# Stats final par équipe :\n",
    "# nhl_data['Regular'][2016][1]['liveData']['boxscore']['teams']['home']['teamStats']"
   ]
  },
  {
   "cell_type": "code",
   "execution_count": 11,
   "id": "9a0e015f",
   "metadata": {},
   "outputs": [],
   "source": [
    "# Score final : \n",
    "# nhl_data['Regular'][2016][1]['liveData']['plays']['currentPlay']"
   ]
  },
  {
   "cell_type": "code",
   "execution_count": 43,
   "id": "e51f65a2",
   "metadata": {},
   "outputs": [
    {
     "data": {
      "text/plain": [
       "[30, 136, 183, 210, 224, 292, 298]"
      ]
     },
     "execution_count": 43,
     "metadata": {},
     "output_type": "execute_result"
    }
   ],
   "source": [
    "nhl_data['Regular'][2016][1]['liveData']['plays']['scoringPlays']"
   ]
  },
  {
   "cell_type": "code",
   "execution_count": 50,
   "id": "b12d0010",
   "metadata": {},
   "outputs": [
    {
     "data": {
      "text/plain": [
       "{'event': 'Goal',\n",
       " 'eventCode': 'CHI1101',\n",
       " 'eventTypeId': 'GOAL',\n",
       " 'description': 'Scottie Upshall (1) , assists: none',\n",
       " 'strength': {'code': 'EVEN', 'name': 'Even'},\n",
       " 'gameWinningGoal': False,\n",
       " 'emptyNet': True}"
      ]
     },
     "execution_count": 50,
     "metadata": {},
     "output_type": "execute_result"
    }
   ],
   "source": [
    " nhl_data['Regular'][2016][1]['liveData']['plays']['allPlays'][298]['result']"
   ]
  },
  {
   "cell_type": "code",
   "execution_count": 111,
   "id": "ace6d1ed",
   "metadata": {},
   "outputs": [
    {
     "data": {
      "text/plain": [
       "[11, 108, 173, 200, 206, 211, 282, 319, 322]"
      ]
     },
     "execution_count": 111,
     "metadata": {},
     "output_type": "execute_result"
    }
   ],
   "source": [
    "nhl_data['Regular'][2017][1]['liveData']['plays']['penaltyPlays']"
   ]
  },
  {
   "cell_type": "code",
   "execution_count": 114,
   "id": "da02135e",
   "metadata": {},
   "outputs": [
    {
     "data": {
      "text/plain": [
       "dict_keys(['copyright', 'gamePk', 'link', 'metaData', 'gameData', 'liveData'])"
      ]
     },
     "execution_count": 114,
     "metadata": {},
     "output_type": "execute_result"
    }
   ],
   "source": [
    "nhl_data['Regular'][2017][1].keys()"
   ]
  },
  {
   "cell_type": "code",
   "execution_count": 113,
   "id": "2eba1297",
   "metadata": {},
   "outputs": [
    {
     "data": {
      "text/plain": [
       "{'players': [{'player': {'id': 8471675,\n",
       "    'fullName': 'Sidney Crosby',\n",
       "    'link': '/api/v1/people/8471675'},\n",
       "   'playerType': 'PenaltyOn'},\n",
       "  {'player': {'id': 8476436,\n",
       "    'fullName': 'Dmitrij Jaskin',\n",
       "    'link': '/api/v1/people/8476436'},\n",
       "   'playerType': 'DrewBy'}],\n",
       " 'result': {'event': 'Penalty',\n",
       "  'eventCode': 'PIT11',\n",
       "  'eventTypeId': 'PENALTY',\n",
       "  'description': 'Sidney Crosby Hooking against Dmitrij Jaskin',\n",
       "  'secondaryType': 'Hooking',\n",
       "  'penaltySeverity': 'Minor',\n",
       "  'penaltyMinutes': 2},\n",
       " 'about': {'eventIdx': 11,\n",
       "  'eventId': 11,\n",
       "  'period': 1,\n",
       "  'periodType': 'REGULAR',\n",
       "  'ordinalNum': '1st',\n",
       "  'periodTime': '00:50',\n",
       "  'periodTimeRemaining': '19:10',\n",
       "  'dateTime': '2017-10-05T00:24:53Z',\n",
       "  'goals': {'away': 0, 'home': 0}},\n",
       " 'coordinates': {'x': -82.0, 'y': 0.0},\n",
       " 'team': {'id': 5,\n",
       "  'name': 'Pittsburgh Penguins',\n",
       "  'link': '/api/v1/teams/5',\n",
       "  'triCode': 'PIT'}}"
      ]
     },
     "execution_count": 113,
     "metadata": {},
     "output_type": "execute_result"
    }
   ],
   "source": [
    "nhl_data['Regular'][2017][1]['liveData']['plays']['allPlays'][11]"
   ]
  },
  {
   "cell_type": "code",
   "execution_count": 34,
   "id": "50ec60c6",
   "metadata": {},
   "outputs": [],
   "source": [
    "def get_goals_and_shots(nhl_data, season_year, game_type, game_number):\n",
    "    \n",
    "    game_id = nhl_data[game_type][season_year][game_number]['gamePk']\n",
    "    data = nhl_data[game_type][season_year][game_number]['liveData']['plays']\n",
    "    num_events = len(data['allPlays'])\n",
    "    \n",
    "    list_goals = data['scoringPlays']\n",
    "    goal_events = [data['allPlays'][g] for g in list_goals]\n",
    "    \n",
    "    shot_events = [data['allPlays'][ev] for ev in range(num_events) if data['allPlays'][ev]['result']['event'] == 'Hit']\n",
    "\n",
    "    return (game_id, goal_events, shot_events)"
   ]
  },
  {
   "cell_type": "code",
   "execution_count": 70,
   "id": "69d7195c",
   "metadata": {},
   "outputs": [
    {
     "name": "stdout",
     "output_type": "stream",
     "text": [
      "{'event': 'Hit', 'eventCode': 'PIT19', 'eventTypeId': 'HIT', 'description': 'Scottie Upshall hit Ian Cole'}\n"
     ]
    }
   ],
   "source": [
    "(game_id, goal_events, shot_events) = get_goals_and_shots(nhl_data, 2017, 'Regular', 1)\n",
    "print(shot_events[2]['result'])"
   ]
  },
  {
   "cell_type": "code",
   "execution_count": 100,
   "id": "e9bbea57",
   "metadata": {},
   "outputs": [],
   "source": [
    "def convert_goals_and_shots_to_df(game_id, goal_events, shot_events):\n",
    "    \n",
    "    num_events = len(goal_events) + len(shot_events)\n",
    "    df = pd.DataFrame(index=range(num_events), columns=['Time', 'Period', 'Game ID', 'Team', 'Type', 'Shooter', 'Goalie', 'Empty Net', 'Strength', 'X', 'Y'])\n",
    "    \n",
    "    count = 0\n",
    "    for goal in goal_events:\n",
    "        df.loc[count]['Time'] = goal['about']['periodTime']   \n",
    "        df.loc[count]['Period'] = goal['about']['period']   \n",
    "        df.loc[count]['Game ID'] = game_id\n",
    "        df.loc[count]['Team'] = f\"{goal['team']['name']} ({goal['team']['triCode']})\"\n",
    "        df.loc[count]['X'] = goal['coordinates']['x']\n",
    "        df.loc[count]['Y'] = goal['coordinates']['y']\n",
    "        df.loc[count]['Type'] = 'GOAL'\n",
    "        df.loc[count]['Shooter'] = goal['players'][0]['player']['fullName']\n",
    "        df.loc[count]['Goalie'] = goal['players'][-1]['player']['fullName']\n",
    "        df.loc[count]['Empty Net'] = goal['result']['emptyNet']\n",
    "        \n",
    "        # Could not be preset ... why ?\n",
    "        if 'secondaryType' in goal['result']:\n",
    "            df.loc[count]['Shot Type'] = goal['result']['secondaryType']\n",
    "            \n",
    "        df.loc[count]['Strength'] = goal['result']['strength']['name']\n",
    "\n",
    "        count += 1\n",
    "    \n",
    "    for shot in shot_events:\n",
    "        df.loc[count]['Time'] = shot['about']['periodTime']   \n",
    "        df.loc[count]['Period'] = shot['about']['period']   \n",
    "        df.loc[count]['Game ID'] = game_id\n",
    "        df.loc[count]['Team'] = f\"{shot['team']['name']} ({shot['team']['triCode']})\"\n",
    "        df.loc[count]['X'] = shot['coordinates']['x']\n",
    "        df.loc[count]['Y'] = shot['coordinates']['y']\n",
    "        df.loc[count]['Type'] = 'SHOT'\n",
    "        df.loc[count]['Shooter'] = shot['players'][0]['player']['fullName']\n",
    "        df.loc[count]['Goalie'] = shot['players'][-1]['player']['fullName']\n",
    "#         df.loc[count]['Empty Net'] = shot['result']['emptyNet']\n",
    "#         df.loc[count]['Shot Type'] = # --> Not available\n",
    "\n",
    "        count += 1\n",
    "        \n",
    "    return df\n",
    "    "
   ]
  },
  {
   "cell_type": "code",
   "execution_count": 106,
   "id": "4180b1a3",
   "metadata": {},
   "outputs": [
    {
     "data": {
      "text/plain": [
       "{'players': [{'player': {'id': 8476293,\n",
       "    'fullName': 'Scott Wilson',\n",
       "    'link': '/api/v1/people/8476293'},\n",
       "   'playerType': 'Hitter'},\n",
       "  {'player': {'id': 8476436,\n",
       "    'fullName': 'Dmitrij Jaskin',\n",
       "    'link': '/api/v1/people/8476436'},\n",
       "   'playerType': 'Hittee'}],\n",
       " 'result': {'event': 'Hit',\n",
       "  'eventCode': 'PIT16',\n",
       "  'eventTypeId': 'HIT',\n",
       "  'description': 'Scott Wilson hit Dmitrij Jaskin'},\n",
       " 'about': {'eventIdx': 22,\n",
       "  'eventId': 16,\n",
       "  'period': 1,\n",
       "  'periodType': 'REGULAR',\n",
       "  'ordinalNum': '1st',\n",
       "  'periodTime': '02:32',\n",
       "  'periodTimeRemaining': '17:28',\n",
       "  'dateTime': '2017-10-05T00:27:28Z',\n",
       "  'goals': {'away': 0, 'home': 0}},\n",
       " 'coordinates': {'x': 0.0, 'y': 40.0},\n",
       " 'team': {'id': 5,\n",
       "  'name': 'Pittsburgh Penguins',\n",
       "  'link': '/api/v1/teams/5',\n",
       "  'triCode': 'PIT'}}"
      ]
     },
     "execution_count": 106,
     "metadata": {},
     "output_type": "execute_result"
    }
   ],
   "source": [
    "shot_events[1]"
   ]
  },
  {
   "cell_type": "code",
   "execution_count": 102,
   "id": "d3cb00c9",
   "metadata": {},
   "outputs": [],
   "source": [
    "df = convert_goals_and_shots_to_df(game_id, goal_events, shot_events)"
   ]
  },
  {
   "cell_type": "code",
   "execution_count": 104,
   "id": "3bb6d7a5",
   "metadata": {},
   "outputs": [
    {
     "data": {
      "text/html": [
       "<div>\n",
       "<style scoped>\n",
       "    .dataframe tbody tr th:only-of-type {\n",
       "        vertical-align: middle;\n",
       "    }\n",
       "\n",
       "    .dataframe tbody tr th {\n",
       "        vertical-align: top;\n",
       "    }\n",
       "\n",
       "    .dataframe thead th {\n",
       "        text-align: right;\n",
       "    }\n",
       "</style>\n",
       "<table border=\"1\" class=\"dataframe\">\n",
       "  <thead>\n",
       "    <tr style=\"text-align: right;\">\n",
       "      <th></th>\n",
       "      <th>Time</th>\n",
       "      <th>Period</th>\n",
       "      <th>Game ID</th>\n",
       "      <th>Team</th>\n",
       "      <th>Type</th>\n",
       "      <th>Shooter</th>\n",
       "      <th>Goalie</th>\n",
       "      <th>Empty Net</th>\n",
       "      <th>Strength</th>\n",
       "      <th>X</th>\n",
       "      <th>Y</th>\n",
       "    </tr>\n",
       "  </thead>\n",
       "  <tbody>\n",
       "    <tr>\n",
       "      <th>55</th>\n",
       "      <td>01:15</td>\n",
       "      <td>3</td>\n",
       "      <td>2017020002</td>\n",
       "      <td>St. Louis Blues (STL)</td>\n",
       "      <td>SHOT</td>\n",
       "      <td>Brayden Schenn</td>\n",
       "      <td>Olli Maatta</td>\n",
       "      <td>NaN</td>\n",
       "      <td>NaN</td>\n",
       "      <td>89.0</td>\n",
       "      <td>36.0</td>\n",
       "    </tr>\n",
       "    <tr>\n",
       "      <th>32</th>\n",
       "      <td>18:05</td>\n",
       "      <td>1</td>\n",
       "      <td>2017020002</td>\n",
       "      <td>St. Louis Blues (STL)</td>\n",
       "      <td>SHOT</td>\n",
       "      <td>Magnus Paajarvi</td>\n",
       "      <td>Justin Schultz</td>\n",
       "      <td>NaN</td>\n",
       "      <td>NaN</td>\n",
       "      <td>-56.0</td>\n",
       "      <td>-39.0</td>\n",
       "    </tr>\n",
       "    <tr>\n",
       "      <th>48</th>\n",
       "      <td>14:11</td>\n",
       "      <td>2</td>\n",
       "      <td>2017020002</td>\n",
       "      <td>St. Louis Blues (STL)</td>\n",
       "      <td>SHOT</td>\n",
       "      <td>Jaden Schwartz</td>\n",
       "      <td>Justin Schultz</td>\n",
       "      <td>NaN</td>\n",
       "      <td>NaN</td>\n",
       "      <td>88.0</td>\n",
       "      <td>41.0</td>\n",
       "    </tr>\n",
       "    <tr>\n",
       "      <th>41</th>\n",
       "      <td>03:47</td>\n",
       "      <td>2</td>\n",
       "      <td>2017020002</td>\n",
       "      <td>St. Louis Blues (STL)</td>\n",
       "      <td>SHOT</td>\n",
       "      <td>Magnus Paajarvi</td>\n",
       "      <td>Justin Schultz</td>\n",
       "      <td>NaN</td>\n",
       "      <td>NaN</td>\n",
       "      <td>74.0</td>\n",
       "      <td>40.0</td>\n",
       "    </tr>\n",
       "    <tr>\n",
       "      <th>50</th>\n",
       "      <td>18:15</td>\n",
       "      <td>2</td>\n",
       "      <td>2017020002</td>\n",
       "      <td>St. Louis Blues (STL)</td>\n",
       "      <td>SHOT</td>\n",
       "      <td>Carl Gunnarsson</td>\n",
       "      <td>Ryan Reaves</td>\n",
       "      <td>NaN</td>\n",
       "      <td>NaN</td>\n",
       "      <td>-62.0</td>\n",
       "      <td>-40.0</td>\n",
       "    </tr>\n",
       "    <tr>\n",
       "      <th>61</th>\n",
       "      <td>05:07</td>\n",
       "      <td>3</td>\n",
       "      <td>2017020002</td>\n",
       "      <td>St. Louis Blues (STL)</td>\n",
       "      <td>SHOT</td>\n",
       "      <td>Scottie Upshall</td>\n",
       "      <td>Olli Maatta</td>\n",
       "      <td>NaN</td>\n",
       "      <td>NaN</td>\n",
       "      <td>52.0</td>\n",
       "      <td>-40.0</td>\n",
       "    </tr>\n",
       "    <tr>\n",
       "      <th>34</th>\n",
       "      <td>18:55</td>\n",
       "      <td>1</td>\n",
       "      <td>2017020002</td>\n",
       "      <td>St. Louis Blues (STL)</td>\n",
       "      <td>SHOT</td>\n",
       "      <td>Vladimir Sobotka</td>\n",
       "      <td>Bryan Rust</td>\n",
       "      <td>NaN</td>\n",
       "      <td>NaN</td>\n",
       "      <td>-42.0</td>\n",
       "      <td>40.0</td>\n",
       "    </tr>\n",
       "    <tr>\n",
       "      <th>64</th>\n",
       "      <td>08:45</td>\n",
       "      <td>3</td>\n",
       "      <td>2017020002</td>\n",
       "      <td>Pittsburgh Penguins (PIT)</td>\n",
       "      <td>SHOT</td>\n",
       "      <td>Carter Rowney</td>\n",
       "      <td>Carl Gunnarsson</td>\n",
       "      <td>NaN</td>\n",
       "      <td>NaN</td>\n",
       "      <td>93.0</td>\n",
       "      <td>-38.0</td>\n",
       "    </tr>\n",
       "    <tr>\n",
       "      <th>30</th>\n",
       "      <td>17:26</td>\n",
       "      <td>1</td>\n",
       "      <td>2017020002</td>\n",
       "      <td>Pittsburgh Penguins (PIT)</td>\n",
       "      <td>SHOT</td>\n",
       "      <td>Matt Hunwick</td>\n",
       "      <td>Tage Thompson</td>\n",
       "      <td>NaN</td>\n",
       "      <td>NaN</td>\n",
       "      <td>-45.0</td>\n",
       "      <td>39.0</td>\n",
       "    </tr>\n",
       "    <tr>\n",
       "      <th>63</th>\n",
       "      <td>08:09</td>\n",
       "      <td>3</td>\n",
       "      <td>2017020002</td>\n",
       "      <td>St. Louis Blues (STL)</td>\n",
       "      <td>SHOT</td>\n",
       "      <td>Robert Bortuzzo</td>\n",
       "      <td>Greg McKegg</td>\n",
       "      <td>NaN</td>\n",
       "      <td>NaN</td>\n",
       "      <td>98.0</td>\n",
       "      <td>-23.0</td>\n",
       "    </tr>\n",
       "  </tbody>\n",
       "</table>\n",
       "</div>"
      ],
      "text/plain": [
       "     Time Period     Game ID                       Team  Type  \\\n",
       "55  01:15      3  2017020002      St. Louis Blues (STL)  SHOT   \n",
       "32  18:05      1  2017020002      St. Louis Blues (STL)  SHOT   \n",
       "48  14:11      2  2017020002      St. Louis Blues (STL)  SHOT   \n",
       "41  03:47      2  2017020002      St. Louis Blues (STL)  SHOT   \n",
       "50  18:15      2  2017020002      St. Louis Blues (STL)  SHOT   \n",
       "61  05:07      3  2017020002      St. Louis Blues (STL)  SHOT   \n",
       "34  18:55      1  2017020002      St. Louis Blues (STL)  SHOT   \n",
       "64  08:45      3  2017020002  Pittsburgh Penguins (PIT)  SHOT   \n",
       "30  17:26      1  2017020002  Pittsburgh Penguins (PIT)  SHOT   \n",
       "63  08:09      3  2017020002      St. Louis Blues (STL)  SHOT   \n",
       "\n",
       "             Shooter           Goalie Empty Net Strength     X     Y  \n",
       "55    Brayden Schenn      Olli Maatta       NaN      NaN  89.0  36.0  \n",
       "32   Magnus Paajarvi   Justin Schultz       NaN      NaN -56.0 -39.0  \n",
       "48    Jaden Schwartz   Justin Schultz       NaN      NaN  88.0  41.0  \n",
       "41   Magnus Paajarvi   Justin Schultz       NaN      NaN  74.0  40.0  \n",
       "50   Carl Gunnarsson      Ryan Reaves       NaN      NaN -62.0 -40.0  \n",
       "61   Scottie Upshall      Olli Maatta       NaN      NaN  52.0 -40.0  \n",
       "34  Vladimir Sobotka       Bryan Rust       NaN      NaN -42.0  40.0  \n",
       "64     Carter Rowney  Carl Gunnarsson       NaN      NaN  93.0 -38.0  \n",
       "30      Matt Hunwick    Tage Thompson       NaN      NaN -45.0  39.0  \n",
       "63   Robert Bortuzzo      Greg McKegg       NaN      NaN  98.0 -23.0  "
      ]
     },
     "execution_count": 104,
     "metadata": {},
     "output_type": "execute_result"
    }
   ],
   "source": [
    "df.sample(10)"
   ]
  },
  {
   "cell_type": "code",
   "execution_count": null,
   "id": "71e9061e",
   "metadata": {},
   "outputs": [],
   "source": []
  },
  {
   "cell_type": "code",
   "execution_count": null,
   "id": "ec84e55d",
   "metadata": {},
   "outputs": [],
   "source": []
  }
 ],
 "metadata": {
  "kernelspec": {
   "display_name": "NHL",
   "language": "python",
   "name": "nhl"
  },
  "language_info": {
   "codemirror_mode": {
    "name": "ipython",
    "version": 3
   },
   "file_extension": ".py",
   "mimetype": "text/x-python",
   "name": "python",
   "nbconvert_exporter": "python",
   "pygments_lexer": "ipython3",
   "version": "3.9.13"
  }
 },
 "nbformat": 4,
 "nbformat_minor": 5
}
