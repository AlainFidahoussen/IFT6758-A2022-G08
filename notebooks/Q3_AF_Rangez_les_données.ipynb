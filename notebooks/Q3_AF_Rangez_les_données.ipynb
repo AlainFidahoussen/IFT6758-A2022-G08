{
 "cells": [
  {
   "cell_type": "code",
   "execution_count": 3,
   "id": "92993b7c",
   "metadata": {},
   "outputs": [],
   "source": [
    "%load_ext autoreload\n",
    "%autoreload 2"
   ]
  },
  {
   "cell_type": "code",
   "execution_count": 4,
   "id": "ce59f542",
   "metadata": {},
   "outputs": [],
   "source": [
    "import pandas as pd\n",
    "\n",
    "# To load the environment variable defined in the .env file\n",
    "from dotenv import load_dotenv\n",
    "load_dotenv();"
   ]
  },
  {
   "cell_type": "code",
   "execution_count": 5,
   "id": "4490749b",
   "metadata": {},
   "outputs": [],
   "source": [
    "import src.data.NHLDataManager as DataManager"
   ]
  },
  {
   "cell_type": "code",
   "execution_count": 6,
   "id": "61cb0886",
   "metadata": {},
   "outputs": [
    {
     "name": "stdout",
     "output_type": "stream",
     "text": [
      "This is your NHL_DATA_DIR environment: /mnt/d/GitHub/IFT6758-A2022-G08/data/raw\n"
     ]
    },
    {
     "data": {
      "application/vnd.jupyter.widget-view+json": {
       "model_id": "401846d657634cc9a3cced2f3eb0ac30",
       "version_major": 2,
       "version_minor": 0
      },
      "text/plain": [
       "  0%|          | 0/2 [00:00<?, ?it/s]"
      ]
     },
     "metadata": {},
     "output_type": "display_data"
    },
    {
     "data": {
      "application/vnd.jupyter.widget-view+json": {
       "model_id": "6f824d98cece4c8e974dd9b4503bf527",
       "version_major": 2,
       "version_minor": 0
      },
      "text/plain": [
       "  0%|          | 0/1230 [00:00<?, ?it/s]"
      ]
     },
     "metadata": {},
     "output_type": "display_data"
    },
    {
     "data": {
      "application/vnd.jupyter.widget-view+json": {
       "model_id": "600eca5bb2d7412aacfecd69271475d4",
       "version_major": 2,
       "version_minor": 0
      },
      "text/plain": [
       "  0%|          | 0/1271 [00:00<?, ?it/s]"
      ]
     },
     "metadata": {},
     "output_type": "display_data"
    },
    {
     "name": "stdout",
     "output_type": "stream",
     "text": [
      "This is your NHL_DATA_DIR environment: /mnt/d/GitHub/IFT6758-A2022-G08/data/raw\n"
     ]
    },
    {
     "data": {
      "application/vnd.jupyter.widget-view+json": {
       "model_id": "fc36fa82d9b748d5a8c670ee2495494f",
       "version_major": 2,
       "version_minor": 0
      },
      "text/plain": [
       "  0%|          | 0/2 [00:00<?, ?it/s]"
      ]
     },
     "metadata": {},
     "output_type": "display_data"
    },
    {
     "data": {
      "application/vnd.jupyter.widget-view+json": {
       "model_id": "ba98c9521d38438f9807100c984e62fb",
       "version_major": 2,
       "version_minor": 0
      },
      "text/plain": [
       "  0%|          | 0/105 [00:00<?, ?it/s]"
      ]
     },
     "metadata": {},
     "output_type": "display_data"
    },
    {
     "data": {
      "application/vnd.jupyter.widget-view+json": {
       "model_id": "e795785283c14b7a91d567dc1a1c8155",
       "version_major": 2,
       "version_minor": 0
      },
      "text/plain": [
       "  0%|          | 0/105 [00:00<?, ?it/s]"
      ]
     },
     "metadata": {},
     "output_type": "display_data"
    }
   ],
   "source": [
    "seasons_year = [2016, 2017]\n",
    "\n",
    "data_manager_regular = DataManager.NHLDataManager()\n",
    "nhl_data_regular = data_manager_regular.download_data(seasons_year=seasons_year, is_regular=True)\n",
    "\n",
    "data_manager_playoffs = DataManager.NHLDataManager()\n",
    "nhl_data_playoffs = data_manager_playoffs.download_data(seasons_year=seasons_year, is_regular=False)"
   ]
  },
  {
   "cell_type": "code",
   "execution_count": 7,
   "id": "f24f47bd",
   "metadata": {},
   "outputs": [],
   "source": [
    "nhl_data = {}\n",
    "nhl_data['Regular'] = nhl_data_regular\n",
    "nhl_data['Playoffs'] = nhl_data_playoffs"
   ]
  },
  {
   "cell_type": "code",
   "execution_count": 8,
   "id": "fdb879eb",
   "metadata": {},
   "outputs": [
    {
     "data": {
      "text/plain": [
       "2016020002"
      ]
     },
     "execution_count": 8,
     "metadata": {},
     "output_type": "execute_result"
    }
   ],
   "source": [
    "nhl_data['Regular'][2016][1]['gamePk']"
   ]
  },
  {
   "cell_type": "code",
   "execution_count": 9,
   "id": "22c8e5ca",
   "metadata": {},
   "outputs": [
    {
     "data": {
      "text/plain": [
       "{'currentPeriod': 3,\n",
       " 'currentPeriodOrdinal': '3rd',\n",
       " 'currentPeriodTimeRemaining': 'Final',\n",
       " 'periods': [{'periodType': 'REGULAR',\n",
       "   'startTime': '2016-10-13T00:12:27Z',\n",
       "   'endTime': '2016-10-13T00:46:06Z',\n",
       "   'num': 1,\n",
       "   'ordinalNum': '1st',\n",
       "   'home': {'goals': 1, 'shotsOnGoal': 6, 'rinkSide': 'right'},\n",
       "   'away': {'goals': 0, 'shotsOnGoal': 9, 'rinkSide': 'left'}},\n",
       "  {'periodType': 'REGULAR',\n",
       "   'startTime': '2016-10-13T01:04:40Z',\n",
       "   'endTime': '2016-10-13T01:45:02Z',\n",
       "   'num': 2,\n",
       "   'ordinalNum': '2nd',\n",
       "   'home': {'goals': 1, 'shotsOnGoal': 3, 'rinkSide': 'left'},\n",
       "   'away': {'goals': 2, 'shotsOnGoal': 15, 'rinkSide': 'right'}},\n",
       "  {'periodType': 'REGULAR',\n",
       "   'startTime': '2016-10-13T02:03:33Z',\n",
       "   'endTime': '2016-10-13T02:41:15Z',\n",
       "   'num': 3,\n",
       "   'ordinalNum': '3rd',\n",
       "   'home': {'goals': 0, 'shotsOnGoal': 10, 'rinkSide': 'right'},\n",
       "   'away': {'goals': 3, 'shotsOnGoal': 10, 'rinkSide': 'left'}}],\n",
       " 'shootoutInfo': {'away': {'scores': 0, 'attempts': 0},\n",
       "  'home': {'scores': 0, 'attempts': 0}},\n",
       " 'teams': {'home': {'team': {'id': 16,\n",
       "    'name': 'Chicago Blackhawks',\n",
       "    'link': '/api/v1/teams/16',\n",
       "    'abbreviation': 'CHI',\n",
       "    'triCode': 'CHI'},\n",
       "   'goals': 2,\n",
       "   'shotsOnGoal': 19,\n",
       "   'goaliePulled': False,\n",
       "   'numSkaters': 5,\n",
       "   'powerPlay': False},\n",
       "  'away': {'team': {'id': 19,\n",
       "    'name': 'St. Louis Blues',\n",
       "    'link': '/api/v1/teams/19',\n",
       "    'abbreviation': 'STL',\n",
       "    'triCode': 'STL'},\n",
       "   'goals': 5,\n",
       "   'shotsOnGoal': 34,\n",
       "   'goaliePulled': False,\n",
       "   'numSkaters': 5,\n",
       "   'powerPlay': False}},\n",
       " 'powerPlayStrength': 'Even',\n",
       " 'hasShootout': False,\n",
       " 'intermissionInfo': {'intermissionTimeRemaining': 0,\n",
       "  'intermissionTimeElapsed': 0,\n",
       "  'inIntermission': False}}"
      ]
     },
     "execution_count": 9,
     "metadata": {},
     "output_type": "execute_result"
    }
   ],
   "source": [
    "nhl_data['Regular'][2016][1]['liveData']['linescore']"
   ]
  },
  {
   "cell_type": "code",
   "execution_count": 10,
   "id": "c4a8fed1",
   "metadata": {},
   "outputs": [],
   "source": [
    "# Stats final par équipe :\n",
    "# nhl_data['Regular'][2016][1]['liveData']['boxscore']['teams']['home']['teamStats']"
   ]
  },
  {
   "cell_type": "code",
   "execution_count": 11,
   "id": "9a0e015f",
   "metadata": {},
   "outputs": [],
   "source": [
    "# Score final : \n",
    "# nhl_data['Regular'][2016][1]['liveData']['plays']['currentPlay']"
   ]
  },
  {
   "cell_type": "code",
   "execution_count": 12,
   "id": "e51f65a2",
   "metadata": {},
   "outputs": [
    {
     "data": {
      "text/plain": [
       "dict_keys(['allPlays', 'scoringPlays', 'penaltyPlays', 'playsByPeriod', 'currentPlay'])"
      ]
     },
     "execution_count": 12,
     "metadata": {},
     "output_type": "execute_result"
    }
   ],
   "source": [
    "nhl_data['Regular'][2016][1]['liveData']['plays'].keys()"
   ]
  },
  {
   "cell_type": "code",
   "execution_count": 13,
   "id": "b12d0010",
   "metadata": {},
   "outputs": [
    {
     "data": {
      "text/plain": [
       "{'event': 'Goal',\n",
       " 'eventCode': 'CHI21',\n",
       " 'eventTypeId': 'GOAL',\n",
       " 'description': 'Richard Panik (1) Wrist Shot, assists: Jonathan Toews (1), Marian Hossa (1)',\n",
       " 'secondaryType': 'Wrist Shot',\n",
       " 'strength': {'code': 'PPG', 'name': 'Power Play'},\n",
       " 'gameWinningGoal': False,\n",
       " 'emptyNet': False}"
      ]
     },
     "execution_count": 13,
     "metadata": {},
     "output_type": "execute_result"
    }
   ],
   "source": [
    " nhl_data['Regular'][2016][1]['liveData']['plays']['allPlays'][30]['result']"
   ]
  },
  {
   "cell_type": "code",
   "execution_count": 14,
   "id": "ace6d1ed",
   "metadata": {},
   "outputs": [
    {
     "data": {
      "text/plain": [
       "{'players': [{'player': {'id': 8474145,\n",
       "    'fullName': 'Robert Bortuzzo',\n",
       "    'link': '/api/v1/people/8474145'},\n",
       "   'playerType': 'Hitter'},\n",
       "  {'player': {'id': 8466148,\n",
       "    'fullName': 'Marian Hossa',\n",
       "    'link': '/api/v1/people/8466148'},\n",
       "   'playerType': 'Hittee'}],\n",
       " 'result': {'event': 'Hit',\n",
       "  'eventCode': 'CHI60',\n",
       "  'eventTypeId': 'HIT',\n",
       "  'description': 'Robert Bortuzzo hit Marian Hossa'},\n",
       " 'about': {'eventIdx': 20,\n",
       "  'eventId': 60,\n",
       "  'period': 1,\n",
       "  'periodType': 'REGULAR',\n",
       "  'ordinalNum': '1st',\n",
       "  'periodTime': '03:22',\n",
       "  'periodTimeRemaining': '16:38',\n",
       "  'dateTime': '2016-10-13T00:16:46Z',\n",
       "  'goals': {'away': 0, 'home': 0}},\n",
       " 'coordinates': {'x': -65.0, 'y': -39.0},\n",
       " 'team': {'id': 19,\n",
       "  'name': 'St. Louis Blues',\n",
       "  'link': '/api/v1/teams/19',\n",
       "  'triCode': 'STL'}}"
      ]
     },
     "execution_count": 14,
     "metadata": {},
     "output_type": "execute_result"
    }
   ],
   "source": [
    "nhl_data['Regular'][2016][1]['liveData']['plays']['allPlays'][20]"
   ]
  },
  {
   "cell_type": "code",
   "execution_count": 15,
   "id": "50ec60c6",
   "metadata": {},
   "outputs": [],
   "source": [
    "def get_goals_and_shots(nhl_data, season_year, game_type, game_number):\n",
    "    \n",
    "    game_id = nhl_data[game_type][season_year][game_number]['gamePk']\n",
    "    data = nhl_data[game_type][season_year][game_number]['liveData']['plays']\n",
    "    num_events = len(data['allPlays'])\n",
    "    \n",
    "    list_goals = data['scoringPlays']\n",
    "    goal_events = [data['allPlays'][g] for g in list_goals]\n",
    "    \n",
    "    shot_events = [data['allPlays'][ev] for ev in range(num_events) if data['allPlays'][ev]['result']['event'] == 'Hit']\n",
    "\n",
    "    return (game_id, goal_events, shot_events)"
   ]
  },
  {
   "cell_type": "code",
   "execution_count": 16,
   "id": "69d7195c",
   "metadata": {},
   "outputs": [
    {
     "name": "stdout",
     "output_type": "stream",
     "text": [
      "{'event': 'Goal', 'eventCode': 'CHI246', 'eventTypeId': 'GOAL', 'description': 'Ryan Hartman (1) Backhand, assists: Tyler Motte (1), Marcus Kruger (1)', 'secondaryType': 'Backhand', 'strength': {'code': 'EVEN', 'name': 'Even'}, 'gameWinningGoal': False, 'emptyNet': False}\n"
     ]
    }
   ],
   "source": [
    "(game_id, goal_events, shot_events) = get_goals_and_shots(nhl_data, 2016, 'Regular', 1)\n",
    "print(goal_events[2]['result'])"
   ]
  },
  {
   "cell_type": "code",
   "execution_count": 21,
   "id": "e9bbea57",
   "metadata": {},
   "outputs": [],
   "source": [
    "def convert_goals_and_shots_to_df(game_id, goal_events, shot_events):\n",
    "    \n",
    "    num_events = len(goal_events) + len(shot_events)\n",
    "    df = pd.DataFrame(index=range(num_events), columns=['Time', 'Period', 'Game ID', 'Team', 'Type', 'X', 'Y', 'Shooter', 'Goalie', 'Empty Net'])\n",
    "    \n",
    "    count = 0\n",
    "    for goal in goal_events:\n",
    "        df.loc[count]['Time'] = goal['about']['periodTime']   \n",
    "        df.loc[count]['Period'] = goal['about']['period']   \n",
    "        df.loc[count]['Game ID'] = game_id\n",
    "        df.loc[count]['Team'] = f\"{goal['team']['name']} ({goal['team']['triCode']})\"\n",
    "        df.loc[count]['X'] = goal['coordinates']['x']\n",
    "        df.loc[count]['Y'] = goal['coordinates']['y']\n",
    "        df.loc[count]['Type'] = 'GOAL'\n",
    "        df.loc[count]['Shooter'] = goal['players'][0]['player']['fullName']\n",
    "        df.loc[count]['Goalie'] = goal['players'][-1]['player']['fullName']\n",
    "        df.loc[count]['Empty Net'] = goal['result']['emptyNet']\n",
    "        df.loc[count]['Shot Type'] = goal['result']['description'].split()[2]\n",
    "\n",
    "        count += 1\n",
    "    \n",
    "    for shot in shot_events:\n",
    "        df.loc[count]['Time'] = shot['about']['periodTime']   \n",
    "        df.loc[count]['Period'] = shot['about']['period']   \n",
    "        df.loc[count]['Game ID'] = game_id\n",
    "        df.loc[count]['Team'] = f\"{shot['team']['name']} ({shot['team']['triCode']})\"\n",
    "        df.loc[count]['X'] = shot['coordinates']['x']\n",
    "        df.loc[count]['Y'] = shot['coordinates']['y']\n",
    "        df.loc[count]['Type'] = 'SHOT'\n",
    "        df.loc[count]['Shooter'] = shot['players'][0]['player']['fullName']\n",
    "        df.loc[count]['Goalie'] = shot['players'][-1]['player']['fullName']\n",
    "#         df.loc[count]['Empty Net'] = shot['result']['emptyNet']\n",
    "#         df.loc[count]['Shot Type'] = # --> Not available\n",
    "\n",
    "        count += 1\n",
    "        \n",
    "    return df\n",
    "    "
   ]
  },
  {
   "cell_type": "code",
   "execution_count": 22,
   "id": "4180b1a3",
   "metadata": {},
   "outputs": [
    {
     "data": {
      "text/plain": [
       "{'eventIdx': 4,\n",
       " 'eventId': 51,\n",
       " 'period': 1,\n",
       " 'periodType': 'REGULAR',\n",
       " 'ordinalNum': '1st',\n",
       " 'periodTime': '00:11',\n",
       " 'periodTimeRemaining': '19:49',\n",
       " 'dateTime': '2016-10-13T00:12:41Z',\n",
       " 'goals': {'away': 0, 'home': 0}}"
      ]
     },
     "execution_count": 22,
     "metadata": {},
     "output_type": "execute_result"
    }
   ],
   "source": [
    "shot_events[0]['about']"
   ]
  },
  {
   "cell_type": "code",
   "execution_count": 23,
   "id": "5baefdfa",
   "metadata": {},
   "outputs": [],
   "source": [
    "df = convert_goals_and_shots_to_df(game_id, goal_events, shot_events)"
   ]
  },
  {
   "cell_type": "code",
   "execution_count": 25,
   "id": "3bb6d7a5",
   "metadata": {},
   "outputs": [
    {
     "data": {
      "text/html": [
       "<div>\n",
       "<style scoped>\n",
       "    .dataframe tbody tr th:only-of-type {\n",
       "        vertical-align: middle;\n",
       "    }\n",
       "\n",
       "    .dataframe tbody tr th {\n",
       "        vertical-align: top;\n",
       "    }\n",
       "\n",
       "    .dataframe thead th {\n",
       "        text-align: right;\n",
       "    }\n",
       "</style>\n",
       "<table border=\"1\" class=\"dataframe\">\n",
       "  <thead>\n",
       "    <tr style=\"text-align: right;\">\n",
       "      <th></th>\n",
       "      <th>Time</th>\n",
       "      <th>Period</th>\n",
       "      <th>Game ID</th>\n",
       "      <th>Team</th>\n",
       "      <th>Type</th>\n",
       "      <th>X</th>\n",
       "      <th>Y</th>\n",
       "      <th>Shooter</th>\n",
       "      <th>Goalie</th>\n",
       "      <th>Empty Net</th>\n",
       "    </tr>\n",
       "  </thead>\n",
       "  <tbody>\n",
       "    <tr>\n",
       "      <th>32</th>\n",
       "      <td>18:33</td>\n",
       "      <td>1</td>\n",
       "      <td>2016020002</td>\n",
       "      <td>St. Louis Blues (STL)</td>\n",
       "      <td>SHOT</td>\n",
       "      <td>-57.0</td>\n",
       "      <td>41.0</td>\n",
       "      <td>Joel Edmundson</td>\n",
       "      <td>Artem Anisimov</td>\n",
       "      <td>NaN</td>\n",
       "    </tr>\n",
       "    <tr>\n",
       "      <th>51</th>\n",
       "      <td>13:44</td>\n",
       "      <td>3</td>\n",
       "      <td>2016020002</td>\n",
       "      <td>St. Louis Blues (STL)</td>\n",
       "      <td>SHOT</td>\n",
       "      <td>-46.0</td>\n",
       "      <td>41.0</td>\n",
       "      <td>Jay Bouwmeester</td>\n",
       "      <td>Marian Hossa</td>\n",
       "      <td>NaN</td>\n",
       "    </tr>\n",
       "    <tr>\n",
       "      <th>48</th>\n",
       "      <td>05:22</td>\n",
       "      <td>3</td>\n",
       "      <td>2016020002</td>\n",
       "      <td>Chicago Blackhawks (CHI)</td>\n",
       "      <td>SHOT</td>\n",
       "      <td>-92.0</td>\n",
       "      <td>37.0</td>\n",
       "      <td>Richard Panik</td>\n",
       "      <td>Alex Pietrangelo</td>\n",
       "      <td>NaN</td>\n",
       "    </tr>\n",
       "    <tr>\n",
       "      <th>6</th>\n",
       "      <td>19:41</td>\n",
       "      <td>3</td>\n",
       "      <td>2016020002</td>\n",
       "      <td>St. Louis Blues (STL)</td>\n",
       "      <td>GOAL</td>\n",
       "      <td>26.0</td>\n",
       "      <td>27.0</td>\n",
       "      <td>Scottie Upshall</td>\n",
       "      <td>Scottie Upshall</td>\n",
       "      <td>True</td>\n",
       "    </tr>\n",
       "    <tr>\n",
       "      <th>42</th>\n",
       "      <td>09:53</td>\n",
       "      <td>2</td>\n",
       "      <td>2016020002</td>\n",
       "      <td>Chicago Blackhawks (CHI)</td>\n",
       "      <td>SHOT</td>\n",
       "      <td>94.0</td>\n",
       "      <td>-35.0</td>\n",
       "      <td>Richard Panik</td>\n",
       "      <td>Kevin Shattenkirk</td>\n",
       "      <td>NaN</td>\n",
       "    </tr>\n",
       "    <tr>\n",
       "      <th>47</th>\n",
       "      <td>03:06</td>\n",
       "      <td>3</td>\n",
       "      <td>2016020002</td>\n",
       "      <td>Chicago Blackhawks (CHI)</td>\n",
       "      <td>SHOT</td>\n",
       "      <td>51.0</td>\n",
       "      <td>36.0</td>\n",
       "      <td>Artem Anisimov</td>\n",
       "      <td>David Perron</td>\n",
       "      <td>NaN</td>\n",
       "    </tr>\n",
       "    <tr>\n",
       "      <th>19</th>\n",
       "      <td>10:20</td>\n",
       "      <td>1</td>\n",
       "      <td>2016020002</td>\n",
       "      <td>St. Louis Blues (STL)</td>\n",
       "      <td>SHOT</td>\n",
       "      <td>93.0</td>\n",
       "      <td>31.0</td>\n",
       "      <td>Robby Fabbri</td>\n",
       "      <td>Patrick Kane</td>\n",
       "      <td>NaN</td>\n",
       "    </tr>\n",
       "    <tr>\n",
       "      <th>7</th>\n",
       "      <td>00:11</td>\n",
       "      <td>1</td>\n",
       "      <td>2016020002</td>\n",
       "      <td>St. Louis Blues (STL)</td>\n",
       "      <td>SHOT</td>\n",
       "      <td>88.0</td>\n",
       "      <td>-37.0</td>\n",
       "      <td>Paul Stastny</td>\n",
       "      <td>Duncan Keith</td>\n",
       "      <td>NaN</td>\n",
       "    </tr>\n",
       "    <tr>\n",
       "      <th>15</th>\n",
       "      <td>05:38</td>\n",
       "      <td>1</td>\n",
       "      <td>2016020002</td>\n",
       "      <td>Chicago Blackhawks (CHI)</td>\n",
       "      <td>SHOT</td>\n",
       "      <td>-95.0</td>\n",
       "      <td>32.0</td>\n",
       "      <td>Ryan Hartman</td>\n",
       "      <td>Dmitrij Jaskin</td>\n",
       "      <td>NaN</td>\n",
       "    </tr>\n",
       "    <tr>\n",
       "      <th>31</th>\n",
       "      <td>17:03</td>\n",
       "      <td>1</td>\n",
       "      <td>2016020002</td>\n",
       "      <td>St. Louis Blues (STL)</td>\n",
       "      <td>SHOT</td>\n",
       "      <td>54.0</td>\n",
       "      <td>35.0</td>\n",
       "      <td>Kyle Brodziak</td>\n",
       "      <td>Jordin Tootoo</td>\n",
       "      <td>NaN</td>\n",
       "    </tr>\n",
       "  </tbody>\n",
       "</table>\n",
       "</div>"
      ],
      "text/plain": [
       "     Time Period     Game ID                      Team  Type     X     Y  \\\n",
       "32  18:33      1  2016020002     St. Louis Blues (STL)  SHOT -57.0  41.0   \n",
       "51  13:44      3  2016020002     St. Louis Blues (STL)  SHOT -46.0  41.0   \n",
       "48  05:22      3  2016020002  Chicago Blackhawks (CHI)  SHOT -92.0  37.0   \n",
       "6   19:41      3  2016020002     St. Louis Blues (STL)  GOAL  26.0  27.0   \n",
       "42  09:53      2  2016020002  Chicago Blackhawks (CHI)  SHOT  94.0 -35.0   \n",
       "47  03:06      3  2016020002  Chicago Blackhawks (CHI)  SHOT  51.0  36.0   \n",
       "19  10:20      1  2016020002     St. Louis Blues (STL)  SHOT  93.0  31.0   \n",
       "7   00:11      1  2016020002     St. Louis Blues (STL)  SHOT  88.0 -37.0   \n",
       "15  05:38      1  2016020002  Chicago Blackhawks (CHI)  SHOT -95.0  32.0   \n",
       "31  17:03      1  2016020002     St. Louis Blues (STL)  SHOT  54.0  35.0   \n",
       "\n",
       "            Shooter             Goalie Empty Net  \n",
       "32   Joel Edmundson     Artem Anisimov       NaN  \n",
       "51  Jay Bouwmeester       Marian Hossa       NaN  \n",
       "48    Richard Panik   Alex Pietrangelo       NaN  \n",
       "6   Scottie Upshall    Scottie Upshall      True  \n",
       "42    Richard Panik  Kevin Shattenkirk       NaN  \n",
       "47   Artem Anisimov       David Perron       NaN  \n",
       "19     Robby Fabbri       Patrick Kane       NaN  \n",
       "7      Paul Stastny       Duncan Keith       NaN  \n",
       "15     Ryan Hartman     Dmitrij Jaskin       NaN  \n",
       "31    Kyle Brodziak      Jordin Tootoo       NaN  "
      ]
     },
     "execution_count": 25,
     "metadata": {},
     "output_type": "execute_result"
    }
   ],
   "source": [
    "df.sample(10)"
   ]
  },
  {
   "cell_type": "code",
   "execution_count": null,
   "id": "71e9061e",
   "metadata": {},
   "outputs": [],
   "source": []
  },
  {
   "cell_type": "code",
   "execution_count": null,
   "id": "8347ca94",
   "metadata": {},
   "outputs": [],
   "source": []
  }
 ],
 "metadata": {
  "kernelspec": {
   "display_name": "NHL",
   "language": "python",
   "name": "nhl"
  },
  "language_info": {
   "codemirror_mode": {
    "name": "ipython",
    "version": 3
   },
   "file_extension": ".py",
   "mimetype": "text/x-python",
   "name": "python",
   "nbconvert_exporter": "python",
   "pygments_lexer": "ipython3",
   "version": "3.9.13"
  }
 },
 "nbformat": 4,
 "nbformat_minor": 5
}
