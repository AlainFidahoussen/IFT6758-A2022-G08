{
 "cells": [
  {
   "cell_type": "code",
   "execution_count": 1,
   "id": "92993b7c",
   "metadata": {},
   "outputs": [],
   "source": [
    "%load_ext autoreload\n",
    "%autoreload 2"
   ]
  },
  {
   "cell_type": "code",
   "execution_count": 2,
   "id": "ce59f542",
   "metadata": {},
   "outputs": [],
   "source": [
    "# To load the environment variable defined in the .env file\n",
    "from dotenv import load_dotenv\n",
    "load_dotenv();"
   ]
  },
  {
   "cell_type": "code",
   "execution_count": 3,
   "id": "4490749b",
   "metadata": {},
   "outputs": [],
   "source": [
    "import src.data.NHLDataManager as DataManager"
   ]
  },
  {
   "cell_type": "code",
   "execution_count": 4,
   "id": "61cb0886",
   "metadata": {},
   "outputs": [
    {
     "data": {
      "application/vnd.jupyter.widget-view+json": {
       "model_id": "74969f49ebd34159a8379295c39d9dca",
       "version_major": 2,
       "version_minor": 0
      },
      "text/plain": [
       "  0%|          | 0/2 [00:00<?, ?it/s]"
      ]
     },
     "metadata": {},
     "output_type": "display_data"
    },
    {
     "data": {
      "application/vnd.jupyter.widget-view+json": {
       "model_id": "44942a4828364763bb0545c1ceb5f303",
       "version_major": 2,
       "version_minor": 0
      },
      "text/plain": [
       "  0%|          | 0/1230 [00:00<?, ?it/s]"
      ]
     },
     "metadata": {},
     "output_type": "display_data"
    },
    {
     "data": {
      "application/vnd.jupyter.widget-view+json": {
       "model_id": "119987a3744c4ca8b350336e4aa3bbbb",
       "version_major": 2,
       "version_minor": 0
      },
      "text/plain": [
       "  0%|          | 0/1271 [00:00<?, ?it/s]"
      ]
     },
     "metadata": {},
     "output_type": "display_data"
    },
    {
     "data": {
      "application/vnd.jupyter.widget-view+json": {
       "model_id": "34274d4e40344baa99eb8a8bbd80e01d",
       "version_major": 2,
       "version_minor": 0
      },
      "text/plain": [
       "  0%|          | 0/2 [00:00<?, ?it/s]"
      ]
     },
     "metadata": {},
     "output_type": "display_data"
    },
    {
     "data": {
      "application/vnd.jupyter.widget-view+json": {
       "model_id": "19c6cdd716824c61aad99d59e51691ad",
       "version_major": 2,
       "version_minor": 0
      },
      "text/plain": [
       "  0%|          | 0/105 [00:00<?, ?it/s]"
      ]
     },
     "metadata": {},
     "output_type": "display_data"
    },
    {
     "data": {
      "application/vnd.jupyter.widget-view+json": {
       "model_id": "d72baca09e834d8a8df618b5e54365f9",
       "version_major": 2,
       "version_minor": 0
      },
      "text/plain": [
       "  0%|          | 0/105 [00:00<?, ?it/s]"
      ]
     },
     "metadata": {},
     "output_type": "display_data"
    }
   ],
   "source": [
    "seasons_year = [2016, 2017]\n",
    "\n",
    "data_manager = DataManager.NHLDataManager()\n",
    "data_manager.download_data(seasons_year=seasons_year, season_type=\"Regular\")\n",
    "data_manager.download_data(seasons_year=seasons_year, season_type=\"Playoffs\")"
   ]
  },
  {
   "cell_type": "code",
   "execution_count": 30,
   "id": "d3cb00c9",
   "metadata": {},
   "outputs": [
    {
     "data": {
      "text/html": [
       "<div>\n",
       "<style scoped>\n",
       "    .dataframe tbody tr th:only-of-type {\n",
       "        vertical-align: middle;\n",
       "    }\n",
       "\n",
       "    .dataframe tbody tr th {\n",
       "        vertical-align: top;\n",
       "    }\n",
       "\n",
       "    .dataframe thead th {\n",
       "        text-align: right;\n",
       "    }\n",
       "</style>\n",
       "<table border=\"1\" class=\"dataframe\">\n",
       "  <thead>\n",
       "    <tr style=\"text-align: right;\">\n",
       "      <th></th>\n",
       "      <th>Game ID</th>\n",
       "      <th>Event Index</th>\n",
       "      <th>Time</th>\n",
       "      <th>Period</th>\n",
       "      <th>Team</th>\n",
       "      <th>Type</th>\n",
       "      <th>Shot Type</th>\n",
       "      <th>Shooter</th>\n",
       "      <th>Goalie</th>\n",
       "      <th>Empty Net</th>\n",
       "      <th>Strength</th>\n",
       "      <th>X</th>\n",
       "      <th>Y</th>\n",
       "    </tr>\n",
       "  </thead>\n",
       "  <tbody>\n",
       "    <tr>\n",
       "      <th>0</th>\n",
       "      <td>2016020429</td>\n",
       "      <td>52</td>\n",
       "      <td>08:40</td>\n",
       "      <td>1</td>\n",
       "      <td>Pittsburgh Penguins (PIT)</td>\n",
       "      <td>GOAL</td>\n",
       "      <td>Wrist Shot</td>\n",
       "      <td>Scott Wilson</td>\n",
       "      <td>Mike Smith</td>\n",
       "      <td>False</td>\n",
       "      <td>Even</td>\n",
       "      <td>68.0</td>\n",
       "      <td>32.0</td>\n",
       "    </tr>\n",
       "    <tr>\n",
       "      <th>1</th>\n",
       "      <td>2016020429</td>\n",
       "      <td>148</td>\n",
       "      <td>04:30</td>\n",
       "      <td>2</td>\n",
       "      <td>Pittsburgh Penguins (PIT)</td>\n",
       "      <td>GOAL</td>\n",
       "      <td>Wrist Shot</td>\n",
       "      <td>Nick Bonino</td>\n",
       "      <td>Mike Smith</td>\n",
       "      <td>False</td>\n",
       "      <td>Even</td>\n",
       "      <td>-75.0</td>\n",
       "      <td>11.0</td>\n",
       "    </tr>\n",
       "    <tr>\n",
       "      <th>2</th>\n",
       "      <td>2016020429</td>\n",
       "      <td>159</td>\n",
       "      <td>06:58</td>\n",
       "      <td>2</td>\n",
       "      <td>Pittsburgh Penguins (PIT)</td>\n",
       "      <td>GOAL</td>\n",
       "      <td>Slap Shot</td>\n",
       "      <td>Trevor Daley</td>\n",
       "      <td>Mike Smith</td>\n",
       "      <td>False</td>\n",
       "      <td>Even</td>\n",
       "      <td>-51.0</td>\n",
       "      <td>1.0</td>\n",
       "    </tr>\n",
       "    <tr>\n",
       "      <th>3</th>\n",
       "      <td>2016020429</td>\n",
       "      <td>169</td>\n",
       "      <td>08:30</td>\n",
       "      <td>2</td>\n",
       "      <td>Pittsburgh Penguins (PIT)</td>\n",
       "      <td>GOAL</td>\n",
       "      <td>Wrist Shot</td>\n",
       "      <td>Bryan Rust</td>\n",
       "      <td>Mike Smith</td>\n",
       "      <td>False</td>\n",
       "      <td>Even</td>\n",
       "      <td>-54.0</td>\n",
       "      <td>3.0</td>\n",
       "    </tr>\n",
       "    <tr>\n",
       "      <th>4</th>\n",
       "      <td>2016020429</td>\n",
       "      <td>212</td>\n",
       "      <td>15:13</td>\n",
       "      <td>2</td>\n",
       "      <td>Pittsburgh Penguins (PIT)</td>\n",
       "      <td>GOAL</td>\n",
       "      <td>Wrist Shot</td>\n",
       "      <td>Sidney Crosby</td>\n",
       "      <td>Louis Domingue</td>\n",
       "      <td>False</td>\n",
       "      <td>Power Play</td>\n",
       "      <td>-86.0</td>\n",
       "      <td>7.0</td>\n",
       "    </tr>\n",
       "    <tr>\n",
       "      <th>5</th>\n",
       "      <td>2016020429</td>\n",
       "      <td>244</td>\n",
       "      <td>01:20</td>\n",
       "      <td>3</td>\n",
       "      <td>Pittsburgh Penguins (PIT)</td>\n",
       "      <td>GOAL</td>\n",
       "      <td>Slap Shot</td>\n",
       "      <td>Phil Kessel</td>\n",
       "      <td>Louis Domingue</td>\n",
       "      <td>False</td>\n",
       "      <td>Even</td>\n",
       "      <td>57.0</td>\n",
       "      <td>-17.0</td>\n",
       "    </tr>\n",
       "    <tr>\n",
       "      <th>6</th>\n",
       "      <td>2016020429</td>\n",
       "      <td>298</td>\n",
       "      <td>12:26</td>\n",
       "      <td>3</td>\n",
       "      <td>Pittsburgh Penguins (PIT)</td>\n",
       "      <td>GOAL</td>\n",
       "      <td>Slap Shot</td>\n",
       "      <td>Justin Schultz</td>\n",
       "      <td>Louis Domingue</td>\n",
       "      <td>False</td>\n",
       "      <td>Power Play</td>\n",
       "      <td>48.0</td>\n",
       "      <td>-9.0</td>\n",
       "    </tr>\n",
       "    <tr>\n",
       "      <th>7</th>\n",
       "      <td>2016020429</td>\n",
       "      <td>10</td>\n",
       "      <td>01:07</td>\n",
       "      <td>1</td>\n",
       "      <td>Pittsburgh Penguins (PIT)</td>\n",
       "      <td>SHOT</td>\n",
       "      <td>Slap Shot</td>\n",
       "      <td>Carl Hagelin</td>\n",
       "      <td>Mike Smith</td>\n",
       "      <td>NaN</td>\n",
       "      <td>NaN</td>\n",
       "      <td>89.0</td>\n",
       "      <td>-6.0</td>\n",
       "    </tr>\n",
       "    <tr>\n",
       "      <th>8</th>\n",
       "      <td>2016020429</td>\n",
       "      <td>12</td>\n",
       "      <td>01:16</td>\n",
       "      <td>1</td>\n",
       "      <td>Pittsburgh Penguins (PIT)</td>\n",
       "      <td>SHOT</td>\n",
       "      <td>Slap Shot</td>\n",
       "      <td>Phil Kessel</td>\n",
       "      <td>Mike Smith</td>\n",
       "      <td>NaN</td>\n",
       "      <td>NaN</td>\n",
       "      <td>60.0</td>\n",
       "      <td>-15.0</td>\n",
       "    </tr>\n",
       "    <tr>\n",
       "      <th>9</th>\n",
       "      <td>2016020429</td>\n",
       "      <td>13</td>\n",
       "      <td>01:18</td>\n",
       "      <td>1</td>\n",
       "      <td>Pittsburgh Penguins (PIT)</td>\n",
       "      <td>SHOT</td>\n",
       "      <td>Slap Shot</td>\n",
       "      <td>Evgeni Malkin</td>\n",
       "      <td>Mike Smith</td>\n",
       "      <td>NaN</td>\n",
       "      <td>NaN</td>\n",
       "      <td>86.0</td>\n",
       "      <td>-8.0</td>\n",
       "    </tr>\n",
       "  </tbody>\n",
       "</table>\n",
       "</div>"
      ],
      "text/plain": [
       "      Game ID Event Index   Time Period                       Team  Type  \\\n",
       "0  2016020429          52  08:40      1  Pittsburgh Penguins (PIT)  GOAL   \n",
       "1  2016020429         148  04:30      2  Pittsburgh Penguins (PIT)  GOAL   \n",
       "2  2016020429         159  06:58      2  Pittsburgh Penguins (PIT)  GOAL   \n",
       "3  2016020429         169  08:30      2  Pittsburgh Penguins (PIT)  GOAL   \n",
       "4  2016020429         212  15:13      2  Pittsburgh Penguins (PIT)  GOAL   \n",
       "5  2016020429         244  01:20      3  Pittsburgh Penguins (PIT)  GOAL   \n",
       "6  2016020429         298  12:26      3  Pittsburgh Penguins (PIT)  GOAL   \n",
       "7  2016020429          10  01:07      1  Pittsburgh Penguins (PIT)  SHOT   \n",
       "8  2016020429          12  01:16      1  Pittsburgh Penguins (PIT)  SHOT   \n",
       "9  2016020429          13  01:18      1  Pittsburgh Penguins (PIT)  SHOT   \n",
       "\n",
       "    Shot Type         Shooter          Goalie Empty Net    Strength     X  \\\n",
       "0  Wrist Shot    Scott Wilson      Mike Smith     False        Even  68.0   \n",
       "1  Wrist Shot     Nick Bonino      Mike Smith     False        Even -75.0   \n",
       "2   Slap Shot    Trevor Daley      Mike Smith     False        Even -51.0   \n",
       "3  Wrist Shot      Bryan Rust      Mike Smith     False        Even -54.0   \n",
       "4  Wrist Shot   Sidney Crosby  Louis Domingue     False  Power Play -86.0   \n",
       "5   Slap Shot     Phil Kessel  Louis Domingue     False        Even  57.0   \n",
       "6   Slap Shot  Justin Schultz  Louis Domingue     False  Power Play  48.0   \n",
       "7   Slap Shot    Carl Hagelin      Mike Smith       NaN         NaN  89.0   \n",
       "8   Slap Shot     Phil Kessel      Mike Smith       NaN         NaN  60.0   \n",
       "9   Slap Shot   Evgeni Malkin      Mike Smith       NaN         NaN  86.0   \n",
       "\n",
       "      Y  \n",
       "0  32.0  \n",
       "1  11.0  \n",
       "2   1.0  \n",
       "3   3.0  \n",
       "4   7.0  \n",
       "5 -17.0  \n",
       "6  -9.0  \n",
       "7  -6.0  \n",
       "8 -15.0  \n",
       "9  -8.0  "
      ]
     },
     "execution_count": 30,
     "metadata": {},
     "output_type": "execute_result"
    }
   ],
   "source": [
    "df = data_manager.get_goals_and_shots_df(2016, \"Regular\", 429)\n",
    "df.head(10)"
   ]
  },
  {
   "cell_type": "code",
   "execution_count": 28,
   "id": "3bb6d7a5",
   "metadata": {},
   "outputs": [
    {
     "data": {
      "text/html": [
       "<div>\n",
       "<style scoped>\n",
       "    .dataframe tbody tr th:only-of-type {\n",
       "        vertical-align: middle;\n",
       "    }\n",
       "\n",
       "    .dataframe tbody tr th {\n",
       "        vertical-align: top;\n",
       "    }\n",
       "\n",
       "    .dataframe thead th {\n",
       "        text-align: right;\n",
       "    }\n",
       "</style>\n",
       "<table border=\"1\" class=\"dataframe\">\n",
       "  <thead>\n",
       "    <tr style=\"text-align: right;\">\n",
       "      <th></th>\n",
       "      <th>Game ID</th>\n",
       "      <th>Event Index</th>\n",
       "      <th>Time</th>\n",
       "      <th>Period</th>\n",
       "      <th>Team</th>\n",
       "      <th>Type</th>\n",
       "      <th>Shot Type</th>\n",
       "      <th>Shooter</th>\n",
       "      <th>Goalie</th>\n",
       "      <th>Empty Net</th>\n",
       "      <th>Strength</th>\n",
       "      <th>X</th>\n",
       "      <th>Y</th>\n",
       "    </tr>\n",
       "  </thead>\n",
       "  <tbody>\n",
       "    <tr>\n",
       "      <th>0</th>\n",
       "      <td>2016020427</td>\n",
       "      <td>106</td>\n",
       "      <td>01:25</td>\n",
       "      <td>2</td>\n",
       "      <td>Dallas Stars (DAL)</td>\n",
       "      <td>GOAL</td>\n",
       "      <td>Wrist Shot</td>\n",
       "      <td>Devin Shore</td>\n",
       "      <td>Scott Darling</td>\n",
       "      <td>False</td>\n",
       "      <td>Even</td>\n",
       "      <td>-82.0</td>\n",
       "      <td>2.0</td>\n",
       "    </tr>\n",
       "    <tr>\n",
       "      <th>1</th>\n",
       "      <td>2016020427</td>\n",
       "      <td>109</td>\n",
       "      <td>02:17</td>\n",
       "      <td>2</td>\n",
       "      <td>Chicago Blackhawks (CHI)</td>\n",
       "      <td>GOAL</td>\n",
       "      <td>Slap Shot</td>\n",
       "      <td>Marian Hossa</td>\n",
       "      <td>Kari Lehtonen</td>\n",
       "      <td>False</td>\n",
       "      <td>Even</td>\n",
       "      <td>54.0</td>\n",
       "      <td>27.0</td>\n",
       "    </tr>\n",
       "    <tr>\n",
       "      <th>2</th>\n",
       "      <td>2016020427</td>\n",
       "      <td>160</td>\n",
       "      <td>12:30</td>\n",
       "      <td>2</td>\n",
       "      <td>Chicago Blackhawks (CHI)</td>\n",
       "      <td>GOAL</td>\n",
       "      <td>Deflected</td>\n",
       "      <td>Artem Anisimov</td>\n",
       "      <td>Kari Lehtonen</td>\n",
       "      <td>False</td>\n",
       "      <td>Even</td>\n",
       "      <td>82.0</td>\n",
       "      <td>-5.0</td>\n",
       "    </tr>\n",
       "    <tr>\n",
       "      <th>3</th>\n",
       "      <td>2016020427</td>\n",
       "      <td>234</td>\n",
       "      <td>10:03</td>\n",
       "      <td>3</td>\n",
       "      <td>Chicago Blackhawks (CHI)</td>\n",
       "      <td>GOAL</td>\n",
       "      <td>Slap Shot</td>\n",
       "      <td>Artemi Panarin</td>\n",
       "      <td>Kari Lehtonen</td>\n",
       "      <td>False</td>\n",
       "      <td>Power Play</td>\n",
       "      <td>-72.0</td>\n",
       "      <td>-20.0</td>\n",
       "    </tr>\n",
       "  </tbody>\n",
       "</table>\n",
       "</div>"
      ],
      "text/plain": [
       "      Game ID Event Index   Time Period                      Team  Type  \\\n",
       "0  2016020427         106  01:25      2        Dallas Stars (DAL)  GOAL   \n",
       "1  2016020427         109  02:17      2  Chicago Blackhawks (CHI)  GOAL   \n",
       "2  2016020427         160  12:30      2  Chicago Blackhawks (CHI)  GOAL   \n",
       "3  2016020427         234  10:03      3  Chicago Blackhawks (CHI)  GOAL   \n",
       "\n",
       "    Shot Type         Shooter         Goalie Empty Net    Strength     X     Y  \n",
       "0  Wrist Shot     Devin Shore  Scott Darling     False        Even -82.0   2.0  \n",
       "1   Slap Shot    Marian Hossa  Kari Lehtonen     False        Even  54.0  27.0  \n",
       "2   Deflected  Artem Anisimov  Kari Lehtonen     False        Even  82.0  -5.0  \n",
       "3   Slap Shot  Artemi Panarin  Kari Lehtonen     False  Power Play -72.0 -20.0  "
      ]
     },
     "execution_count": 28,
     "metadata": {},
     "output_type": "execute_result"
    }
   ],
   "source": [
    "df.loc[df['Type'] == 'GOAL']"
   ]
  },
  {
   "cell_type": "code",
   "execution_count": null,
   "id": "71e9061e",
   "metadata": {},
   "outputs": [],
   "source": [
    "# Question: how to get the true strengh value?\n",
    "\n",
    "# Pour chaque goals/shots, n "
   ]
  },
  {
   "cell_type": "code",
   "execution_count": null,
   "id": "ec84e55d",
   "metadata": {},
   "outputs": [],
   "source": []
  }
 ],
 "metadata": {
  "kernelspec": {
   "display_name": "NHL",
   "language": "python",
   "name": "nhl"
  },
  "language_info": {
   "codemirror_mode": {
    "name": "ipython",
    "version": 3
   },
   "file_extension": ".py",
   "mimetype": "text/x-python",
   "name": "python",
   "nbconvert_exporter": "python",
   "pygments_lexer": "ipython3",
   "version": "3.9.13"
  }
 },
 "nbformat": 4,
 "nbformat_minor": 5
}
