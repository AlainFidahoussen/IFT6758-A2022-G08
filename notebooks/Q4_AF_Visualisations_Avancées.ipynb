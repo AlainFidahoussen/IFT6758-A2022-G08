{
 "cells": [
  {
   "cell_type": "code",
   "execution_count": 2,
   "metadata": {},
   "outputs": [],
   "source": [
    "%load_ext autoreload\n",
    "%autoreload 2\n",
    "\n",
    "# To load the environment variable defined in the .env file\n",
    "from dotenv import load_dotenv\n",
    "load_dotenv();\n",
    "\n",
    "import os\n",
    "import pandas as pd\n",
    "from tqdm import tqdm\n",
    "import matplotlib.pyplot as plt\n",
    "import matplotlib.image as mpimg\n",
    "import numpy as np\n",
    "from scipy import ndimage\n",
    "from scipy import stats\n",
    "from scipy.ndimage import gaussian_filter \n",
    "from sklearn.neighbors import KernelDensity\n",
    "import seaborn as sns\n",
    "import plotly.graph_objects as go"
   ]
  },
  {
   "cell_type": "code",
   "execution_count": 1,
   "metadata": {},
   "outputs": [],
   "source": [
    "season_year = 2017\n",
    "season_type = \"Regular\""
   ]
  },
  {
   "cell_type": "code",
   "execution_count": 3,
   "metadata": {},
   "outputs": [],
   "source": [
    "import src.data.NHLDataManager as DataManager\n",
    "data_manager = DataManager.NHLDataManager()"
   ]
  },
  {
   "cell_type": "code",
   "execution_count": 410,
   "metadata": {},
   "outputs": [],
   "source": [
    "game_numbers = data_manager.get_game_numbers(season_year=season_year, season_type=season_type)\n",
    "data_season_df = data_manager.get_goals_and_shots_df(season_year=season_year, season_type=season_type, game_number=game_numbers[0])\n",
    "\n",
    "for game_number in game_numbers[1:]:\n",
    "    data_season_df = pd.concat([data_season_df, data_manager.get_goals_and_shots_df(season_year=season_year, season_type=season_type, game_number=game_number)], ignore_index=True)"
   ]
  },
  {
   "cell_type": "code",
   "execution_count": 5,
   "metadata": {},
   "outputs": [
    {
     "name": "stdout",
     "output_type": "stream",
     "text": [
      "          Game ID Event Index   Time Period                         Team  \\\n",
      "51072  2017020795         103  03:10      2         Buffalo Sabres (BUF)   \n",
      "53686  2017020836         118  17:01      1       New York Rangers (NYR)   \n",
      "22687  2017020353         222  16:13      2    Pittsburgh Penguins (PIT)   \n",
      "2785   2017020042          43  08:15      1    Nashville Predators (NSH)   \n",
      "38012  2017020593         279  14:15      3   Vegas Golden Knights (VGK)   \n",
      "10504  2017020162         219  00:38      3  Columbus Blue Jackets (CBJ)   \n",
      "14541  2017020225         279  15:41      3     New York Islanders (NYI)   \n",
      "64389  2017020999         131  02:42      2          Anaheim Ducks (ANA)   \n",
      "48802  2017020760         168  17:09      2       New York Rangers (NYR)   \n",
      "74963  2017021163           4  00:26      1    Philadelphia Flyers (PHI)   \n",
      "\n",
      "       Type   Shot Type        Shooter             Goalie Empty Net  \\\n",
      "51072  SHOT   Snap Shot    Kyle Okposo      Carter Hutton       NaN   \n",
      "53686  SHOT   Snap Shot  Peter Holland         Mike Smith       NaN   \n",
      "22687  SHOT  Wrist Shot   Carl Hagelin        Peter Budaj       NaN   \n",
      "2785   SHOT  Wrist Shot  Ryan Johansen      Brian Elliott       NaN   \n",
      "38012  SHOT    Backhand      Alex Tuch  Frederik Andersen       NaN   \n",
      "10504  SHOT      Tip-In  Josh Anderson         Jake Allen       NaN   \n",
      "14541  SHOT   Snap Shot  Thomas Hickey         Cam Talbot       NaN   \n",
      "64389  SHOT  Wrist Shot    Corey Perry   Sergei Bobrovsky       NaN   \n",
      "48802  GOAL   Deflected    Brady Skjei         Aaron Dell     False   \n",
      "74963  SHOT      Tip-In  Claude Giroux        Matt Murray       NaN   \n",
      "\n",
      "           Strength     X     Y  \n",
      "51072           NaN -80.0  11.0  \n",
      "53686           NaN -79.0   7.0  \n",
      "22687           NaN  58.0  32.0  \n",
      "2785            NaN  81.0   2.0  \n",
      "38012           NaN -54.0 -22.0  \n",
      "10504           NaN -82.0 -11.0  \n",
      "14541           NaN  29.0  19.0  \n",
      "64389           NaN -71.0  22.0  \n",
      "48802  Short Handed  74.0   2.0  \n",
      "74963           NaN -43.0 -19.0  \n"
     ]
    }
   ],
   "source": [
    "data_season_df.to_json(os.path.join(data_manager.data_dir, str(season_year), season_type, f\"data_season_df_{season_year}_{season_type}.json\"))\n",
    "print(data_season_df.sample(10))"
   ]
  },
  {
   "cell_type": "code",
   "execution_count": 6,
   "metadata": {},
   "outputs": [
    {
     "name": "stdout",
     "output_type": "stream",
     "text": [
      "Total number of shots during season 2017 (Regular) = 81873\n",
      "Number of games during season 2017 (Regular) = 1271\n",
      "Mean shots per hour during season 2017 (Regular) = 64.4162077104642\n",
      "Mean goals per hour during season 2017 (Regular) = 6.051140833988985\n"
     ]
    }
   ],
   "source": [
    "total_shots_league = len(data_season_df)\n",
    "number_of_games = len(data_season_df['Game ID'].unique())\n",
    "print(f'Total number of shots during season {season_year} ({season_type}) = {total_shots_league}')\n",
    "print(f'Number of games during season {season_year} ({season_type}) = {number_of_games}')\n",
    "\n",
    "mean_shots_per_hour = total_shots_league / number_of_games\n",
    "print(f'Mean shots per hour during season {season_year} ({season_type}) = {mean_shots_per_hour}')\n",
    "\n",
    "total_goals_league = len(data_season_df[data_season_df['Type'] == 'GOAL'])\n",
    "mean_goals_per_hour = total_goals_league / number_of_games\n",
    "print(f'Mean goals per hour during season {season_year} ({season_type}) = {mean_goals_per_hour}')\n"
   ]
  },
  {
   "cell_type": "code",
   "execution_count": 7,
   "metadata": {},
   "outputs": [
    {
     "name": "stdout",
     "output_type": "stream",
     "text": [
      "Number of Teams during season 2017 (Regular) = 31\n"
     ]
    }
   ],
   "source": [
    "list_of_teams = data_season_df['Team'].unique()\n",
    "number_of_teams = len(list_of_teams)\n",
    "\n",
    "print(f'Number of Teams during season {season_year} ({season_type}) = {number_of_teams}')"
   ]
  },
  {
   "cell_type": "code",
   "execution_count": 8,
   "metadata": {},
   "outputs": [],
   "source": [
    "number_of_games_by_team = int(2 * len(data_season_df['Game ID'].unique()) / len(data_season_df['Team'].unique()))\n",
    "assert(number_of_games_by_team == 82)"
   ]
  },
  {
   "cell_type": "code",
   "execution_count": 9,
   "metadata": {},
   "outputs": [
    {
     "data": {
      "text/html": [
       "<div>\n",
       "<style scoped>\n",
       "    .dataframe tbody tr th:only-of-type {\n",
       "        vertical-align: middle;\n",
       "    }\n",
       "\n",
       "    .dataframe tbody tr th {\n",
       "        vertical-align: top;\n",
       "    }\n",
       "\n",
       "    .dataframe thead th {\n",
       "        text-align: right;\n",
       "    }\n",
       "</style>\n",
       "<table border=\"1\" class=\"dataframe\">\n",
       "  <thead>\n",
       "    <tr style=\"text-align: right;\">\n",
       "      <th></th>\n",
       "      <th>Team</th>\n",
       "      <th>Type</th>\n",
       "      <th>X</th>\n",
       "      <th>Y</th>\n",
       "      <th>Period</th>\n",
       "      <th>Game ID</th>\n",
       "    </tr>\n",
       "  </thead>\n",
       "  <tbody>\n",
       "    <tr>\n",
       "      <th>0</th>\n",
       "      <td>Toronto Maple Leafs (TOR)</td>\n",
       "      <td>GOAL</td>\n",
       "      <td>84.0</td>\n",
       "      <td>-6.0</td>\n",
       "      <td>1</td>\n",
       "      <td>2017020001</td>\n",
       "    </tr>\n",
       "    <tr>\n",
       "      <th>1</th>\n",
       "      <td>Toronto Maple Leafs (TOR)</td>\n",
       "      <td>GOAL</td>\n",
       "      <td>62.0</td>\n",
       "      <td>5.0</td>\n",
       "      <td>1</td>\n",
       "      <td>2017020001</td>\n",
       "    </tr>\n",
       "    <tr>\n",
       "      <th>2</th>\n",
       "      <td>Toronto Maple Leafs (TOR)</td>\n",
       "      <td>GOAL</td>\n",
       "      <td>84.0</td>\n",
       "      <td>-22.0</td>\n",
       "      <td>1</td>\n",
       "      <td>2017020001</td>\n",
       "    </tr>\n",
       "    <tr>\n",
       "      <th>3</th>\n",
       "      <td>Toronto Maple Leafs (TOR)</td>\n",
       "      <td>GOAL</td>\n",
       "      <td>-82.0</td>\n",
       "      <td>2.0</td>\n",
       "      <td>2</td>\n",
       "      <td>2017020001</td>\n",
       "    </tr>\n",
       "    <tr>\n",
       "      <th>4</th>\n",
       "      <td>Toronto Maple Leafs (TOR)</td>\n",
       "      <td>GOAL</td>\n",
       "      <td>68.0</td>\n",
       "      <td>12.0</td>\n",
       "      <td>3</td>\n",
       "      <td>2017020001</td>\n",
       "    </tr>\n",
       "    <tr>\n",
       "      <th>5</th>\n",
       "      <td>Toronto Maple Leafs (TOR)</td>\n",
       "      <td>GOAL</td>\n",
       "      <td>85.0</td>\n",
       "      <td>-6.0</td>\n",
       "      <td>3</td>\n",
       "      <td>2017020001</td>\n",
       "    </tr>\n",
       "    <tr>\n",
       "      <th>6</th>\n",
       "      <td>Winnipeg Jets (WPG)</td>\n",
       "      <td>GOAL</td>\n",
       "      <td>-82.0</td>\n",
       "      <td>8.0</td>\n",
       "      <td>3</td>\n",
       "      <td>2017020001</td>\n",
       "    </tr>\n",
       "    <tr>\n",
       "      <th>7</th>\n",
       "      <td>Toronto Maple Leafs (TOR)</td>\n",
       "      <td>GOAL</td>\n",
       "      <td>84.0</td>\n",
       "      <td>-3.0</td>\n",
       "      <td>3</td>\n",
       "      <td>2017020001</td>\n",
       "    </tr>\n",
       "    <tr>\n",
       "      <th>8</th>\n",
       "      <td>Winnipeg Jets (WPG)</td>\n",
       "      <td>GOAL</td>\n",
       "      <td>-80.0</td>\n",
       "      <td>1.0</td>\n",
       "      <td>3</td>\n",
       "      <td>2017020001</td>\n",
       "    </tr>\n",
       "    <tr>\n",
       "      <th>9</th>\n",
       "      <td>Winnipeg Jets (WPG)</td>\n",
       "      <td>SHOT</td>\n",
       "      <td>-36.0</td>\n",
       "      <td>-28.0</td>\n",
       "      <td>1</td>\n",
       "      <td>2017020001</td>\n",
       "    </tr>\n",
       "    <tr>\n",
       "      <th>10</th>\n",
       "      <td>Winnipeg Jets (WPG)</td>\n",
       "      <td>SHOT</td>\n",
       "      <td>-75.0</td>\n",
       "      <td>1.0</td>\n",
       "      <td>1</td>\n",
       "      <td>2017020001</td>\n",
       "    </tr>\n",
       "    <tr>\n",
       "      <th>11</th>\n",
       "      <td>Winnipeg Jets (WPG)</td>\n",
       "      <td>SHOT</td>\n",
       "      <td>-73.0</td>\n",
       "      <td>10.0</td>\n",
       "      <td>1</td>\n",
       "      <td>2017020001</td>\n",
       "    </tr>\n",
       "    <tr>\n",
       "      <th>12</th>\n",
       "      <td>Toronto Maple Leafs (TOR)</td>\n",
       "      <td>SHOT</td>\n",
       "      <td>80.0</td>\n",
       "      <td>-3.0</td>\n",
       "      <td>1</td>\n",
       "      <td>2017020001</td>\n",
       "    </tr>\n",
       "    <tr>\n",
       "      <th>13</th>\n",
       "      <td>Winnipeg Jets (WPG)</td>\n",
       "      <td>SHOT</td>\n",
       "      <td>-44.0</td>\n",
       "      <td>-21.0</td>\n",
       "      <td>1</td>\n",
       "      <td>2017020001</td>\n",
       "    </tr>\n",
       "    <tr>\n",
       "      <th>14</th>\n",
       "      <td>Winnipeg Jets (WPG)</td>\n",
       "      <td>SHOT</td>\n",
       "      <td>-38.0</td>\n",
       "      <td>-5.0</td>\n",
       "      <td>1</td>\n",
       "      <td>2017020001</td>\n",
       "    </tr>\n",
       "  </tbody>\n",
       "</table>\n",
       "</div>"
      ],
      "text/plain": [
       "                         Team  Type     X     Y Period     Game ID\n",
       "0   Toronto Maple Leafs (TOR)  GOAL  84.0  -6.0      1  2017020001\n",
       "1   Toronto Maple Leafs (TOR)  GOAL  62.0   5.0      1  2017020001\n",
       "2   Toronto Maple Leafs (TOR)  GOAL  84.0 -22.0      1  2017020001\n",
       "3   Toronto Maple Leafs (TOR)  GOAL -82.0   2.0      2  2017020001\n",
       "4   Toronto Maple Leafs (TOR)  GOAL  68.0  12.0      3  2017020001\n",
       "5   Toronto Maple Leafs (TOR)  GOAL  85.0  -6.0      3  2017020001\n",
       "6         Winnipeg Jets (WPG)  GOAL -82.0   8.0      3  2017020001\n",
       "7   Toronto Maple Leafs (TOR)  GOAL  84.0  -3.0      3  2017020001\n",
       "8         Winnipeg Jets (WPG)  GOAL -80.0   1.0      3  2017020001\n",
       "9         Winnipeg Jets (WPG)  SHOT -36.0 -28.0      1  2017020001\n",
       "10        Winnipeg Jets (WPG)  SHOT -75.0   1.0      1  2017020001\n",
       "11        Winnipeg Jets (WPG)  SHOT -73.0  10.0      1  2017020001\n",
       "12  Toronto Maple Leafs (TOR)  SHOT  80.0  -3.0      1  2017020001\n",
       "13        Winnipeg Jets (WPG)  SHOT -44.0 -21.0      1  2017020001\n",
       "14        Winnipeg Jets (WPG)  SHOT -38.0  -5.0      1  2017020001"
      ]
     },
     "execution_count": 9,
     "metadata": {},
     "output_type": "execute_result"
    }
   ],
   "source": [
    "data_season_df[['Team', 'Type', 'X', 'Y', 'Period', 'Game ID']].head(15)"
   ]
  },
  {
   "cell_type": "code",
   "execution_count": 10,
   "metadata": {},
   "outputs": [
    {
     "data": {
      "text/plain": [
       "Team\n",
       "Chicago Blackhawks (CHI)     2805\n",
       "San Jose Sharks (SJS)        2736\n",
       "Dallas Stars (DAL)           2579\n",
       "New York Rangers (NYR)       2562\n",
       "Toronto Maple Leafs (TOR)    2674\n",
       "Carolina Hurricanes (CAR)    2796\n",
       "Montréal Canadiens (MTL)     2710\n",
       "Minnesota Wild (MIN)         2501\n",
       "Edmonton Oilers (EDM)        2756\n",
       "Washington Capitals (WSH)    2388\n",
       "Philadelphia Flyers (PHI)    2664\n",
       "New Jersey Devils (NJD)      2628\n",
       "Vancouver Canucks (VAN)      2486\n",
       "Arizona Coyotes (ARI)        2472\n",
       "Buffalo Sabres (BUF)         2565\n",
       "Los Angeles Kings (LAK)      2553\n",
       "Ottawa Senators (OTT)        2542\n",
       "Anaheim Ducks (ANA)          2514\n",
       "Detroit Red Wings (DET)      2517\n",
       "Pittsburgh Penguins (PIT)    2832\n",
       "dtype: int64"
      ]
     },
     "execution_count": 10,
     "metadata": {},
     "output_type": "execute_result"
    }
   ],
   "source": [
    "df_total_shots_season_by_team = data_season_df[['Team', 'Type', 'X', 'Y']].dropna().groupby('Team').size()\n",
    "df_total_shots_season_by_team.sample(20)"
   ]
  },
  {
   "cell_type": "code",
   "execution_count": 11,
   "metadata": {},
   "outputs": [
    {
     "name": "stdout",
     "output_type": "stream",
     "text": [
      "Team\n",
      "Edmonton Oilers (EDM)        33.609756\n",
      "Tampa Bay Lightning (TBL)    32.878049\n",
      "New York Islanders (NYI)     31.548780\n",
      "Buffalo Sabres (BUF)         31.280488\n",
      "Minnesota Wild (MIN)         30.500000\n",
      "Ottawa Senators (OTT)        31.000000\n",
      "Montréal Canadiens (MTL)     33.048780\n",
      "Winnipeg Jets (WPG)          32.475610\n",
      "Carolina Hurricanes (CAR)    34.097561\n",
      "Toronto Maple Leafs (TOR)    32.609756\n",
      "dtype: float64\n"
     ]
    }
   ],
   "source": [
    "df_mean_shots_per_team_by_hour = df_total_shots_season_by_team / number_of_games_by_team\n",
    "print(df_mean_shots_per_team_by_hour.sample(10))"
   ]
  },
  {
   "cell_type": "code",
   "execution_count": 12,
   "metadata": {},
   "outputs": [],
   "source": [
    "def convert_shots_to_offensize_zone(x_shots, y_shots):\n",
    "\n",
    "   # Shots taken from behind the goal is from the defensive zone.\n",
    "   # Since we are only interested in shots taken in the offensive zone, we skip them\n",
    "   shots_defzone_mask = (x_shots < -89) | (x_shots > 89)\n",
    "   x_shots = x_shots[~shots_defzone_mask] \n",
    "   y_shots = y_shots[~shots_defzone_mask]\n",
    "\n",
    "   # Flip the y coordinates if x is negative\n",
    "   shots_xneg_mask = x_shots < 0\n",
    "   x_shots = abs(x_shots)\n",
    "   y_shots[shots_xneg_mask] = -y_shots[shots_xneg_mask] \n",
    "\n",
    "   # Reverse the x axis, so the goal is at 0\n",
    "   x_shots = 89 - x_shots\n",
    "\n",
    "   return [x_shots, y_shots]"
   ]
  },
  {
   "cell_type": "code",
   "execution_count": 13,
   "metadata": {},
   "outputs": [
    {
     "name": "stdout",
     "output_type": "stream",
     "text": [
      "1271\n"
     ]
    }
   ],
   "source": [
    "x_shots_season = data_season_df['X'].dropna().to_numpy().copy().astype(np.float32)\n",
    "y_shots_season = data_season_df['Y'].dropna().to_numpy().copy().astype(np.float32)\n",
    "\n",
    "[x_shots_season, y_shots_season] = convert_shots_to_offensize_zone(x_shots_season, y_shots_season)\n",
    "\n",
    "number_of_games = len(data_season_df['Game ID'].unique())\n",
    "print(number_of_games)\n",
    "\n",
    "#print(x_shots_season.__len__())"
   ]
  },
  {
   "cell_type": "code",
   "execution_count": 270,
   "metadata": {},
   "outputs": [],
   "source": [
    "# data_one_team_df = data_season_df.loc[data_season_df['Team'] == \"Buffalo Sabres (BUF)\"]\n",
    "data_one_team_df = data_season_df.loc[data_season_df['Team'] == \"Tampa Bay Lightning (TBL)\"]\n",
    "\n",
    "\n",
    "df_total_shots_one_team = data_one_team_df[['Team', 'Type', 'X', 'Y']].dropna()\n",
    "\n",
    "x_shots_one_team = df_total_shots_one_team['X'].dropna().to_numpy().copy().astype(np.float32)\n",
    "y_shots_one_team = df_total_shots_one_team['Y'].dropna().to_numpy().copy().astype(np.float32)\n",
    "\n",
    "[x_shots_one_team, y_shots_one_team] = convert_shots_to_offensize_zone(x_shots_one_team, y_shots_one_team)\n"
   ]
  },
  {
   "cell_type": "code",
   "execution_count": 271,
   "metadata": {},
   "outputs": [],
   "source": [
    "def get_shots_hist2D(x_shots, y_shots, num_pts_x=20, num_pts_y=20):\n",
    "\n",
    "    x_min, x_max = 0.0, 89.0\n",
    "    y_min, y_max = -42.5, 42.5\n",
    "\n",
    "    x_grid = np.linspace(x_min-1, x_max+1, num_pts_x+1)\n",
    "    y_grid = np.linspace(y_min-1, y_max+1, num_pts_y+1)\n",
    "\n",
    "    ret = stats.binned_statistic_2d(x_shots.tolist(), y_shots.tolist(), None, 'count', bins=[x_grid.tolist(), y_grid.tolist()])\n",
    "\n",
    "    x_bins = (0.5 * (x_grid[1:] + x_grid[0:-1]))\n",
    "    y_bins = (0.5 * (y_grid[1:] + y_grid[0:-1]))\n",
    "\n",
    "    return  ret.statistic, x_bins, y_bins\n"
   ]
  },
  {
   "cell_type": "code",
   "execution_count": 272,
   "metadata": {},
   "outputs": [
    {
     "name": "stdout",
     "output_type": "stream",
     "text": [
      "0.5\n"
     ]
    },
    {
     "data": {
      "image/png": "[encoded data removed]",
      "text/plain": [
       "<Figure size 1200x1200 with 3 Axes>"
      ]
     },
     "metadata": {},
     "output_type": "display_data"
    }
   ],
   "source": [
    "shots_hist2D_season, _, _ = get_shots_hist2D(x_shots_season, y_shots_season, num_pts_x=40, num_pts_y=20)\n",
    "shots_hist2D_season_by_hour = shots_hist2D_season / (number_of_games*2)\n",
    "\n",
    "shots_hist2D_one_team, _, _ = get_shots_hist2D(x_shots_one_team, y_shots_one_team, num_pts_x=40, num_pts_y=20)\n",
    "shots_hist2D_one_team_by_hour = shots_hist2D_one_team / number_of_games_by_team\n",
    "\n",
    "\n",
    "fig, ax = plt.subplots(1, 3, figsize=(12,12))\n",
    "\n",
    "ax[0].imshow(shots_hist2D_season_by_hour, extent=[-42.5, 42.5, 89, 0])\n",
    "ax[1].imshow(shots_hist2D_one_team_by_hour, extent=[-42.5, 42.5, 89, 0])\n",
    "ax[2].imshow(shots_hist2D_one_team_by_hour-shots_hist2D_season_by_hour, extent=[-42.5, 42.5, 89, 0])\n",
    "\n",
    "print(shots_hist2D_one_team_by_hour.max())\n",
    "plt.show()\n"
   ]
  },
  {
   "cell_type": "code",
   "execution_count": 288,
   "metadata": {},
   "outputs": [
    {
     "data": {
      "text/plain": [
       "<matplotlib.image.AxesImage at 0x7fcb44de3730>"
      ]
     },
     "execution_count": 288,
     "metadata": {},
     "output_type": "execute_result"
    },
    {
     "data": {
      "image/png": "[encoded data removed]",
      "text/plain": [
       "<Figure size 1000x1000 with 2 Axes>"
      ]
     },
     "metadata": {},
     "output_type": "display_data"
    }
   ],
   "source": [
    "shots_hist2D_season, x_grid, y_grid = get_shots_hist2D(x_shots_season, y_shots_season, num_pts_x=40, num_pts_y=20)\n",
    "shots_hist2D_season_by_hour = shots_hist2D_season / (number_of_games*2)\n",
    "\n",
    "shots_hist2D_one_team, x_grid, y_grid = get_shots_hist2D(x_shots_one_team, y_shots_one_team, num_pts_x=40, num_pts_y=20)\n",
    "shots_hist2D_one_team_by_hour = shots_hist2D_one_team / (number_of_games_by_team)\n",
    "\n",
    "shots_hist2D_season_by_hour_s = gaussian_filter(shots_hist2D_season_by_hour, sigma = 1.5)\n",
    "shots_hist2D_one_team_by_hour_s = gaussian_filter(shots_hist2D_one_team_by_hour, sigma = 1.5)\n",
    "\n",
    "diff = (shots_hist2D_one_team_by_hour_s-shots_hist2D_season_by_hour_s) / shots_hist2D_season_by_hour_s\n",
    "\n",
    "# Not necessary\n",
    "diff_min = diff.min()\n",
    "diff_max = diff.max()\n",
    "alpha = (-2./(diff_min-diff_max)) \n",
    "beta = (diff_min + diff_max) / (diff_min - diff_max)\n",
    "diff_norm = alpha * diff + beta\n",
    "\n",
    "rink_img = (255 * mpimg.imread(\"./figures/nhl_rink.png\")).astype(int)\n",
    "(h, w, c) = rink_img.shape\n",
    "rink_half_img = rink_img[:, int(w/2):, :]\n",
    "rink_half_img = ndimage.rotate(rink_half_img, 90).astype(int)\n",
    "\n",
    "fig = plt.figure(figsize=(10,10))\n",
    "plt.contourf(y_grid, x_grid, diff, alpha=0.8, cmap='bwr', levels = np.linspace(diff.min(), diff.max(), 12), vmin=diff.min(), vmax=diff.max())\n",
    "plt.colorbar(orientation = 'vertical')\n",
    "plt.imshow(rink_half_img, extent=[-42.5, 42.5, 89, -11])\n",
    "\n",
    "# plt.contourf(y_grid, x_grid, diff_norm, alpha=0.8, cmap='bwr', levels = np.linspace(-1, 1, 20))\n",
    "\n",
    "\n"
   ]
  },
  {
   "cell_type": "code",
   "execution_count": 306,
   "metadata": {},
   "outputs": [
    {
     "name": "stdout",
     "output_type": "stream",
     "text": [
      "[ 0.1375  2.4125  4.6875  6.9625  9.2375 11.5125 13.7875 16.0625 18.3375\n",
      " 20.6125 22.8875 25.1625 27.4375 29.7125 31.9875 34.2625 36.5375 38.8125\n",
      " 41.0875 43.3625 45.6375 47.9125 50.1875 52.4625 54.7375 57.0125 59.2875\n",
      " 61.5625 63.8375 66.1125 68.3875 70.6625 72.9375 75.2125 77.4875 79.7625\n",
      " 82.0375 84.3125 86.5875 88.8625]\n",
      "[-11.     -8.725  -6.45   -4.175  -1.9  ]\n",
      "[-11.      -8.725   -6.45    -4.175   -1.9      0.1375   2.4125   4.6875\n",
      "   6.9625   9.2375  11.5125  13.7875  16.0625  18.3375  20.6125  22.8875\n",
      "  25.1625  27.4375  29.7125  31.9875  34.2625  36.5375  38.8125  41.0875\n",
      "  43.3625  45.6375  47.9125  50.1875  52.4625  54.7375  57.0125  59.2875\n",
      "  61.5625  63.8375  66.1125  68.3875  70.6625  72.9375  75.2125  77.4875\n",
      "  79.7625  82.0375  84.3125  86.5875  88.8625]\n"
     ]
    }
   ],
   "source": [
    "delta_x = x_grid[1] - x_grid[0]\n",
    "delta_x\n",
    "\n",
    "print(x_grid)\n",
    "\n",
    "x_grid_0 = np.arange(-11, x_grid[0], delta_x)\n",
    "print(x_grid_0)\n",
    "\n",
    "x_grid_2 = np.append(x_grid_0, x_grid)\n",
    "print(x_grid_2)"
   ]
  },
  {
   "cell_type": "code",
   "execution_count": 411,
   "metadata": {},
   "outputs": [
    {
     "data": {
      "application/vnd.plotly.v1+json": {
       "config": {
        "plotlyServerURL": "https://plot.ly"
       },
       "data": [
        {
         "colorscale": [
          [
           0,
           "rgb(103,0,31)"
          ],
          [
           0.1,
           "rgb(178,24,43)"
          ],
          [
           0.2,
           "rgb(214,96,77)"
          ],
          [
           0.3,
           "rgb(244,165,130)"
          ],
          [
           0.4,
           "rgb(253,219,199)"
          ],
          [
           0.5,
           "rgb(247,247,247)"
          ],
          [
           0.6,
           "rgb(209,229,240)"
          ],
          [
           0.7,
           "rgb(146,197,222)"
          ],
          [
           0.8,
           "rgb(67,147,195)"
          ],
          [
           0.9,
           "rgb(33,102,172)"
          ],
          [
           1,
           "rgb(5,48,97)"
          ]
         ],
         "connectgaps": true,
         "opacity": 0.5,
         "reversescale": true,
         "type": "heatmap",
         "x": [
          -41.325,
          -36.974999999999994,
          -32.625,
          -28.275000000000002,
          -23.925,
          -19.575000000000003,
          -15.225000000000003,
          -10.875000000000004,
          -6.525000000000002,
          -2.1750000000000007,
          2.174999999999997,
          6.524999999999995,
          10.874999999999996,
          15.224999999999994,
          19.574999999999996,
          23.924999999999997,
          28.27499999999999,
          32.62499999999999,
          36.974999999999994,
          41.324999999999996
         ],
         "y": [
          0.13749999999999996,
          2.4124999999999996,
          4.6875,
          6.9624999999999995,
          9.2375,
          11.5125,
          13.787499999999998,
          16.0625,
          18.3375,
          20.612499999999997,
          22.8875,
          25.162499999999998,
          27.4375,
          29.7125,
          31.987499999999997,
          34.2625,
          36.537499999999994,
          38.8125,
          41.0875,
          43.3625,
          45.6375,
          47.912499999999994,
          50.1875,
          52.46249999999999,
          54.7375,
          57.0125,
          59.287499999999994,
          61.5625,
          63.83749999999999,
          66.1125,
          68.38749999999999,
          70.6625,
          72.9375,
          75.2125,
          77.4875,
          79.76249999999999,
          82.0375,
          84.3125,
          86.5875,
          88.8625
         ],
         "z": [
          [
           0.18327519681627186,
           0.013062646061037877,
           -0.2268632257591306,
           -0.4515357217212021,
           -0.5948275167989424,
           -0.638845408834192,
           -0.621363775636501,
           -0.5898835704916241,
           -0.5578598973748419,
           -0.5210986051055547,
           -0.48854675328403047,
           -0.485146121148532,
           -0.5198096415245781,
           -0.5764489870436368,
           -0.6087992636796892,
           -0.5852489300929756,
           -0.5622885900858383,
           -0.5960749284101969,
           -0.6768499165598532,
           -0.7615344691189474
          ],
          [
           0.08622271827609632,
           -0.020546077431040102,
           -0.19952781990979007,
           -0.3852004339581445,
           -0.5001452943459427,
           -0.524002889452599,
           -0.5040949879851889,
           -0.48148175394759624,
           -0.4605623298712561,
           -0.43810641283137863,
           -0.42495021094862956,
           -0.4381358444110855,
           -0.4808247587290668,
           -0.5387760738013396,
           -0.5731388741223422,
           -0.5588948789673462,
           -0.5454585018286495,
           -0.5775515128486245,
           -0.6441584371245492,
           -0.7110406910668158
          ],
          [
           -0.07219614928896133,
           -0.09573026805699819,
           -0.18620539066478045,
           -0.3039489013424544,
           -0.3715070040972234,
           -0.37252181078953983,
           -0.35843189041086004,
           -0.3569445385396636,
           -0.360093414010701,
           -0.36111577238934317,
           -0.3671700357784182,
           -0.38984045041422255,
           -0.4325955794815455,
           -0.4847344273735085,
           -0.5127440750321088,
           -0.49675353142893747,
           -0.48393094591498703,
           -0.5147136860380725,
           -0.5779600772839525,
           -0.6412528004740764
          ],
          [
           -0.21989882592010912,
           -0.17338881142059678,
           -0.17806582309041505,
           -0.22081760205100193,
           -0.23560970631702555,
           -0.21195498346536001,
           -0.202313424494748,
           -0.22386329156937262,
           -0.255541619829252,
           -0.2815938122747965,
           -0.30244961501807105,
           -0.3270106203838776,
           -0.3624386754875605,
           -0.404127217073597,
           -0.4241597446254761,
           -0.40397006782934775,
           -0.38860183801816156,
           -0.4215897102461213,
           -0.4933471638716853,
           -0.5654258161290546
          ],
          [
           -0.33094440357746063,
           -0.23996973329752636,
           -0.17682699678543068,
           -0.15337535333813834,
           -0.11981698027248688,
           -0.062339320832820885,
           -0.03565295474677674,
           -0.06423331741182167,
           -0.11839748351984795,
           -0.16689957376079861,
           -0.19926367906078052,
           -0.2216741327198132,
           -0.24632140217418066,
           -0.2780641657472343,
           -0.2981333320933881,
           -0.2870417014649704,
           -0.2800470810853096,
           -0.3201399933191875,
           -0.39988671062384545,
           -0.47716949535259146
          ],
          [
           -0.4153449290706619,
           -0.30214663270486886,
           -0.19542004724436626,
           -0.12738646701454148,
           -0.060832498130365543,
           0.03764921212681755,
           0.11678342082840085,
           0.1196570407361491,
           0.066032691746634,
           0.0050597409012352705,
           -0.035789600811349534,
           -0.057546387598196684,
           -0.07755052835841965,
           -0.11079982417261652,
           -0.14666827483082212,
           -0.16374019725723915,
           -0.1815856716037719,
           -0.23153277709787604,
           -0.3073531000490191,
           -0.37461280496998706
          ],
          [
           -0.45832678841619745,
           -0.3351424207120359,
           -0.20770974626226754,
           -0.12245821528592675,
           -0.04828399319208233,
           0.07424882104854823,
           0.2155051612677184,
           0.2873049301153727,
           0.2715413011513904,
           0.2187313209637154,
           0.17325780952070818,
           0.1423364912128322,
           0.10711778981048607,
           0.05166711503238082,
           -0.010166743073507184,
           -0.05844393976313727,
           -0.10560523567966879,
           -0.1679276254780139,
           -0.23813669564230708,
           -0.2933285768985551
          ],
          [
           -0.43071530502839356,
           -0.3096389964851885,
           -0.18173399360520415,
           -0.09894228734419766,
           -0.03519476384492906,
           0.08357559051970141,
           0.25841138301572647,
           0.399497698801405,
           0.44526592137897525,
           0.41983747469740107,
           0.3719370447811099,
           0.3185438836017378,
           0.24941191574229005,
           0.1638128535274178,
           0.08416573103727278,
           0.017159961905981506,
           -0.054654775952118644,
           -0.13735505820526814,
           -0.21949047426909246,
           -0.28052811840677566
          ],
          [
           -0.3352566965980418,
           -0.24011696648279598,
           -0.1366448278925572,
           -0.06651033668685774,
           -0.011032285355969191,
           0.0967564575358008,
           0.2766514269970821,
           0.45725301430958115,
           0.5540295384845807,
           0.5563456955517078,
           0.5041828680348984,
           0.42359368041208817,
           0.32249067924821534,
           0.2200037103238733,
           0.134270837153355,
           0.05202933744097063,
           -0.045484485605638766,
           -0.15479528243221,
           -0.2599979117713756,
           -0.3384612927322383
          ],
          [
           -0.21642665927666765,
           -0.17051660904932814,
           -0.11115230504828595,
           -0.0555508717963946,
           0.006355924130384102,
           0.11546841252537163,
           0.28885343256691715,
           0.47486217875832926,
           0.591892412566995,
           0.6090973634164621,
           0.5530484401643733,
           0.4542156046163668,
           0.3374621078017595,
           0.23239251627401913,
           0.14328273070357944,
           0.04500527293461504,
           -0.07454985428713136,
           -0.20215012102900626,
           -0.31876254412390587,
           -0.40417301788659016
          ],
          [
           -0.13234883069779463,
           -0.1328160964186787,
           -0.109941484934336,
           -0.05999387365481645,
           0.016269190239513752,
           0.13076802148324648,
           0.28885080538103564,
           0.4566265108605492,
           0.5724526928903807,
           0.6002806009979391,
           0.5499013960495396,
           0.4464808422324091,
           0.3232158299455976,
           0.21762796617690336,
           0.13089323708844253,
           0.033159285895309636,
           -0.08907004004268808,
           -0.21994746477052346,
           -0.3354888322260663,
           -0.41621644384479184
          ],
          [
           -0.10580297606054268,
           -0.12498166355728771,
           -0.1112403654864692,
           -0.054100048006185696,
           0.03295676597745946,
           0.14127173315958771,
           0.2699634972431746,
           0.40410228025930844,
           0.5087397949870182,
           0.550562608638227,
           0.5198869851304,
           0.4265979823357104,
           0.3039524078556664,
           0.20178749822746697,
           0.13061072446831215,
           0.055874967634651156,
           -0.04896016483730337,
           -0.17501913444601278,
           -0.2918072150134743,
           -0.3713836096228387
          ],
          [
           -0.117658708376248,
           -0.1198950187374666,
           -0.08892565881442764,
           -0.01948007153096582,
           0.06863034832779816,
           0.1592371922642689,
           0.24946571677496376,
           0.3353975230741276,
           0.4078835365541774,
           0.4519565526720537,
           0.449507676502752,
           0.39035269611126067,
           0.2931037873763972,
           0.20746567605117833,
           0.15374100001166935,
           0.10243117818100214,
           0.021457194449065235,
           -0.08980276907920803,
           -0.2007347711247606,
           -0.27578855001169106
          ],
          [
           -0.138840633078819,
           -0.10059108845916571,
           -0.040596021266540355,
           0.03690357793818579,
           0.11911715636663713,
           0.19409563515182796,
           0.25336424092991006,
           0.2862397922791121,
           0.3015003434655802,
           0.3219096061529704,
           0.34270540613804307,
           0.3372482344415944,
           0.29258514204430947,
           0.2311262373323337,
           0.1767109074541933,
           0.12447611049718031,
           0.0587278813475102,
           -0.02343380338433422,
           -0.10146402194136772,
           -0.14865623898744276
          ],
          [
           -0.16382414550920796,
           -0.0887555216899016,
           -0.006284763362153651,
           0.07301624553533645,
           0.14937280477670226,
           0.21783513482312797,
           0.260894529063509,
           0.2536948159325603,
           0.2154775189476132,
           0.20660561251048118,
           0.2429654960156502,
           0.2886236735422502,
           0.29732767837104457,
           0.25304009925275867,
           0.179532420168788,
           0.10379270462138226,
           0.036649856556259935,
           -0.019211741918773336,
           -0.055939888910151093,
           -0.06660267261311413
          ],
          [
           -0.18701090734553374,
           -0.09921468311575164,
           -0.010421477438309415,
           0.06611954740748607,
           0.1360408165186138,
           0.19748299764519608,
           0.22881172774038658,
           0.20164453635577942,
           0.14242178556572999,
           0.12667725043064684,
           0.17903398674966342,
           0.2593544427682301,
           0.29943473984297236,
           0.2569372870138414,
           0.15777033406107374,
           0.052027354960617146,
           -0.030391598150342165,
           -0.08132667357036387,
           -0.1026534529506136,
           -0.10181847987227388
          ],
          [
           -0.17555942195176108,
           -0.10165326074142343,
           -0.02226954922175032,
           0.04683354879061246,
           0.1040047640117378,
           0.147902321875391,
           0.16630878098332935,
           0.14155437361249834,
           0.0941007625318065,
           0.08490624144445652,
           0.1415910097782329,
           0.2304855429062883,
           0.2747116312522357,
           0.22135006206252839,
           0.10159624772804556,
           -0.02385747261570471,
           -0.12034860312644635,
           -0.18125843872475564,
           -0.21610951707423454,
           -0.23552745679592993
          ],
          [
           -0.11569656329389386,
           -0.06300090070490616,
           0.002094259507542286,
           0.05982609412553938,
           0.09754049251048764,
           0.1166459378430426,
           0.1241380617651089,
           0.11639310089900551,
           0.09167657477199809,
           0.0808571092097981,
           0.11886748729647549,
           0.1890159390048993,
           0.21657647347774275,
           0.1480861546081251,
           0.021467076719802927,
           -0.10038394864756606,
           -0.19048401486600874,
           -0.25324039097510587,
           -0.3067587454879998,
           -0.35736831457514395
          ],
          [
           -0.04674468350207987,
           0.00487196575433607,
           0.06735993976901686,
           0.11582522465393616,
           0.1347209538360072,
           0.129797868631811,
           0.12058256039913573,
           0.11533027170066466,
           0.10384492406903675,
           0.09594070714311442,
           0.12056485319947602,
           0.16725447338195873,
           0.17075893197942593,
           0.08920083899656843,
           -0.02995965466492002,
           -0.1274030240176644,
           -0.19234767516489767,
           -0.2462567901673287,
           -0.3151215641529318,
           -0.3963078561861074
          ],
          [
           -0.002682334524522979,
           0.07810297601845104,
           0.15749278310976525,
           0.20563321205472912,
           0.21284549717917994,
           0.18677701711305164,
           0.14614077342335413,
           0.11153304289860537,
           0.09528070417385363,
           0.10221872312190647,
           0.13393928483244744,
           0.1709816553956984,
           0.163840138600222,
           0.08839928628449131,
           -0.006505895955684708,
           -0.07433385144440252,
           -0.120655080096904,
           -0.177400218847601,
           -0.2699176276251009,
           -0.3833031500644949
          ],
          [
           -0.0038260893463696105,
           0.12178090593323235,
           0.2280377210980582,
           0.28486258972327133,
           0.29206175640901627,
           0.25687727057020554,
           0.19062767953820786,
           0.12069800454970164,
           0.08699589724199393,
           0.09840670054907064,
           0.13419406763021158,
           0.17252759105866725,
           0.1833560160437548,
           0.14543648830156172,
           0.08439687236187392,
           0.029043234270506015,
           -0.028334136460136477,
           -0.11191550164979476,
           -0.23533465467298292,
           -0.37411024101198254
          ],
          [
           -0.07806526626091291,
           0.07962825449009649,
           0.2068776719634962,
           0.27899156065098524,
           0.3029529075132785,
           0.2856013494295801,
           0.23223363615279255,
           0.16507713220449607,
           0.12584472570303035,
           0.12705436778094376,
           0.15234447342773194,
           0.1919635045031429,
           0.22830905943801916,
           0.22678019550563758,
           0.18141285895994805,
           0.11041443024224888,
           0.018057896399367432,
           -0.10079280687471737,
           -0.24481142375955295,
           -0.387532655431498
          ],
          [
           -0.22959645959598637,
           -0.06027112486671413,
           0.08133132009843724,
           0.175166889516244,
           0.2309031582258411,
           0.25602906179131507,
           0.2529801849110414,
           0.2314045337885096,
           0.2124308237237103,
           0.20668708788773904,
           0.21779899613389295,
           0.25100970307736353,
           0.29074540891723083,
           0.29127963625715897,
           0.23084281410190505,
           0.12675464632097216,
           -0.0024087535089608,
           -0.1444091668118859,
           -0.28766886508714634,
           -0.4111614495782544
          ],
          [
           -0.40875975603422615,
           -0.23999008216256132,
           -0.08796918718126275,
           0.02827303564805054,
           0.11795600989903944,
           0.18861416830132877,
           0.2401386732060269,
           0.2710358661413995,
           0.2831740784530588,
           0.28264552372633617,
           0.28797338347265666,
           0.312747591021787,
           0.33727667561956176,
           0.3120052315438485,
           0.21623386715507417,
           0.07489873935454919,
           -0.08025581064073267,
           -0.226566257570866,
           -0.35109945365158696,
           -0.4436853621692495
          ],
          [
           -0.5441500144233344,
           -0.3844690497402374,
           -0.23131087744119336,
           -0.10379285578549403,
           0.006155292851511586,
           0.10380719319352863,
           0.18403865890994345,
           0.24107744464069888,
           0.27495409921981406,
           0.28960745685350225,
           0.30397741106100085,
           0.33026211487301593,
           0.34014633165902536,
           0.2810631378590224,
           0.14439694241942475,
           -0.027652507211762045,
           -0.19166253177546058,
           -0.3244403414965014,
           -0.42147555518867036,
           -0.4849920805141123
          ],
          [
           -0.6153988287297983,
           -0.46827306941362346,
           -0.3237244685083734,
           -0.20080045438651445,
           -0.09087025862790112,
           0.0091134815950379,
           0.08795159495045636,
           0.1415739638963068,
           0.18290115866467702,
           0.21647125036200468,
           0.25130492360848367,
           0.2921732367917492,
           0.2984726360556268,
           0.21025492508684196,
           0.038113972077987036,
           -0.14938256899005467,
           -0.30172136568093605,
           -0.40692284314855176,
           -0.4757283743806469,
           -0.5196139207711216
          ],
          [
           -0.6478800152297617,
           -0.509293945039486,
           -0.37511829691621235,
           -0.2673463845132773,
           -0.17560885708637913,
           -0.09542021312537287,
           -0.04026614847831708,
           -0.008844315601977881,
           0.027794224158378435,
           0.07460516443352473,
           0.1307713114087457,
           0.1953237681370967,
           0.21402671400956472,
           0.11256085609265301,
           -0.0784870975278073,
           -0.26000662985064676,
           -0.38126022265730325,
           -0.45131591123902337,
           -0.4988576184730524,
           -0.5380216673760134
          ],
          [
           -0.6572941240379153,
           -0.511898209280896,
           -0.376329013699042,
           -0.2885718965926453,
           -0.23988004759365436,
           -0.2142244701971283,
           -0.21008889838553732,
           -0.2127737334119366,
           -0.19081396986054192,
           -0.1468358605625762,
           -0.08193821196765298,
           0.005310237136729583,
           0.053022685496730004,
           -0.028845205300268923,
           -0.19839973094474744,
           -0.3357005272135848,
           -0.40127773584751647,
           -0.4329806596934563,
           -0.47686881089255984,
           -0.5370949135108534
          ],
          [
           -0.6082126603172852,
           -0.41461909027701843,
           -0.23891687670033945,
           -0.17081478639864167,
           -0.21931703723623222,
           -0.32964632020626067,
           -0.4209450519075756,
           -0.44095035278198313,
           -0.41646717086926904,
           -0.3830712956360836,
           -0.3285183410452985,
           -0.24539155786956826,
           -0.18627328451041553,
           -0.22349332472018352,
           -0.3090080481174202,
           -0.3394314223662001,
           -0.3131964901533866,
           -0.30731850282094036,
           -0.37930277849045735,
           -0.4985141916107533
          ],
          [
           -0.48613169249684024,
           -0.22615511965952775,
           0.005839281845730553,
           0.06243480814084252,
           -0.09308786554234177,
           -0.3600876612792483,
           -0.5332096283988512,
           -0.5312663471366198,
           -0.4827725036382661,
           -0.44807487691000697,
           -0.4002145215828705,
           -0.33870463259265243,
           -0.310644278366275,
           -0.3403553247123262,
           -0.35622897486149857,
           -0.29325688206161343,
           -0.20135059736606747,
           -0.18583633435164215,
           -0.2976903699873058,
           -0.4693789299821828
          ],
          [
           -0.3700780651399595,
           -0.10150656758973461,
           0.11863506216378414,
           0.14804313816335476,
           -0.031672225689161775,
           -0.30997157333213815,
           -0.4860518385728781,
           -0.4901751581220698,
           -0.44295372335699784,
           -0.3962329042481451,
           -0.3336621317703489,
           -0.2792418356542931,
           -0.2872921160701518,
           -0.34303488523432646,
           -0.3492797822831389,
           -0.2741448454356498,
           -0.19959334119321626,
           -0.21828478578666624,
           -0.3541351797814636,
           -0.5315646634057517
          ],
          [
           -0.30529333870268377,
           -0.06274165174344946,
           0.11463867078182467,
           0.12100077570272426,
           -0.018112475875757414,
           -0.20751554706005015,
           -0.34999656123220385,
           -0.40168816154871284,
           -0.3843836755129295,
           -0.31987714426478464,
           -0.22827725660599277,
           -0.1765289937007754,
           -0.22458676149782955,
           -0.3056696354977845,
           -0.29708168669950763,
           -0.22124478079926121,
           -0.19218209455058466,
           -0.2691009572556377,
           -0.43727413801550447,
           -0.6161887232973643
          ],
          [
           -0.3345716871572309,
           -0.11907355944919903,
           0.037600750611226474,
           0.06006123673557782,
           -0.0015819373510199649,
           -0.08317708274018788,
           -0.19109328152939506,
           -0.3010380132581131,
           -0.3268518603607018,
           -0.2496480031271215,
           -0.13214113215942666,
           -0.09010194799664085,
           -0.1760097176477887,
           -0.2524299641997293,
           -0.1834135615081683,
           -0.07621970695732985,
           -0.07752772806802581,
           -0.2093658675530044,
           -0.42069750093311803,
           -0.6189114440876556
          ],
          [
           -0.4287072440959087,
           -0.23927678811930198,
           -0.08820584584315914,
           -0.03435485534953748,
           -0.02790821509341767,
           -0.030559189676533816,
           -0.09830344336720093,
           -0.22375641769256988,
           -0.2851187872835753,
           -0.23349864835060327,
           -0.13216383748264304,
           -0.10619783591637294,
           -0.18606693677576838,
           -0.18931084988474223,
           -0.012841657590027065,
           0.1487909244970415,
           0.14042697740132556,
           -0.023332379711236115,
           -0.2665350455774398,
           -0.48624197028417004
          ],
          [
           -0.4639032680898781,
           -0.2917323735459339,
           -0.1516435815865017,
           -0.10457741290600797,
           -0.10407839749872798,
           -0.09490372536008074,
           -0.11033572033111103,
           -0.1791337367294609,
           -0.25668091749764926,
           -0.29183167729463955,
           -0.27405709647665255,
           -0.2640468837798251,
           -0.2733341744952022,
           -0.14817970973702652,
           0.14604485412948254,
           0.37296942797357596,
           0.39410593654324744,
           0.24551931345032918,
           0.009666800987416456,
           -0.20939666818387673
          ],
          [
           -0.38560370485910517,
           -0.21186291049755984,
           -0.08256686729914572,
           -0.08286700784058526,
           -0.16906036034670355,
           -0.2272111554622458,
           -0.21664639838458447,
           -0.20941066965748395,
           -0.2816928443470513,
           -0.3927792146469461,
           -0.4454972407925176,
           -0.42881101358225027,
           -0.3606932541846749,
           -0.1629837519729585,
           0.16686868184134493,
           0.4341738336649851,
           0.520902081296318,
           0.4455331061826765,
           0.2699238873484996,
           0.08706760174092554
          ],
          [
           -0.288668075643091,
           -0.1070604762000201,
           0.018905767431014252,
           -0.023853835035443888,
           -0.20244699778208272,
           -0.35652105463066586,
           -0.37547015569439,
           -0.34434409341254607,
           -0.39585611432287016,
           -0.49115187787916165,
           -0.5153164897349433,
           -0.4433992312023417,
           -0.3197834044832414,
           -0.15609613868479139,
           0.07150465061758556,
           0.2965345812801349,
           0.4251331134641524,
           0.4271284204247209,
           0.3270877002632205,
           0.19815046848733034
          ],
          [
           -0.25725433175329626,
           -0.07048781987483438,
           0.05933695268274856,
           0.003969412506915099,
           -0.2129176962572844,
           -0.41803362002999594,
           -0.4820906220424684,
           -0.48712311832922484,
           -0.5310719840220414,
           -0.5606606299989322,
           -0.49855801932629057,
           -0.33112150461895384,
           -0.12594733892813093,
           -0.016791286748949974,
           0.01828435857254582,
           0.09781493999963985,
           0.1892389281865411,
           0.21539545278814026,
           0.15892429909814296,
           0.069747731056252
          ],
          [
           -0.3029855925605074,
           -0.11169716536769678,
           0.029926884357390163,
           -0.006233520822981261,
           -0.19237849420190728,
           -0.3587462798883365,
           -0.42668257066656523,
           -0.5143856870937857,
           -0.6086993936135452,
           -0.6023550640481284,
           -0.4663224358165403,
           -0.19283732586525862,
           0.14821696566078288,
           0.27335579540936633,
           0.11412365167416962,
           -0.02063936814039798,
           -0.041253246757108314,
           -0.046868429189512055,
           -0.10334382820080192,
           -0.18453415489561864
          ],
          [
           -0.3730348759663849,
           -0.1785846774582985,
           -0.02495137077986175,
           -0.03182798666869532,
           -0.15752196549122877,
           -0.23401833635159977,
           -0.2646121065586764,
           -0.44232772443298035,
           -0.6230403335430869,
           -0.6258888568189679,
           -0.4569012435535405,
           -0.10775851241425939,
           0.3657329541508346,
           0.5626357508169387,
           0.287306895183212,
           -0.02445074340181364,
           -0.15707689189062377,
           -0.2086455262248036,
           -0.2871452859293667,
           -0.38307014219975943
          ]
         ],
         "zsmooth": "best"
        }
       ],
       "layout": {
        "height": 800,
        "images": [
         {
          "layer": "below",
          "opacity": 1,
          "sizex": 85,
          "sizey": 89,
          "sizing": "stretch",
          "source": "data:image/png;base64,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",
          "x": -42.5,
          "xref": "x",
          "y": 0,
          "yref": "y"
         }
        ],
        "margin": {
         "b": 0,
         "l": 0,
         "r": 0,
         "t": 0
        },
        "template": {
         "data": {
          "bar": [
           {
            "error_x": {
             "color": "#2a3f5f"
            },
            "error_y": {
             "color": "#2a3f5f"
            },
            "marker": {
             "line": {
              "color": "#E5ECF6",
              "width": 0.5
             },
             "pattern": {
              "fillmode": "overlay",
              "size": 10,
              "solidity": 0.2
             }
            },
            "type": "bar"
           }
          ],
          "barpolar": [
           {
            "marker": {
             "line": {
              "color": "#E5ECF6",
              "width": 0.5
             },
             "pattern": {
              "fillmode": "overlay",
              "size": 10,
              "solidity": 0.2
             }
            },
            "type": "barpolar"
           }
          ],
          "carpet": [
           {
            "aaxis": {
             "endlinecolor": "#2a3f5f",
             "gridcolor": "white",
             "linecolor": "white",
             "minorgridcolor": "white",
             "startlinecolor": "#2a3f5f"
            },
            "baxis": {
             "endlinecolor": "#2a3f5f",
             "gridcolor": "white",
             "linecolor": "white",
             "minorgridcolor": "white",
             "startlinecolor": "#2a3f5f"
            },
            "type": "carpet"
           }
          ],
          "choropleth": [
           {
            "colorbar": {
             "outlinewidth": 0,
             "ticks": ""
            },
            "type": "choropleth"
           }
          ],
          "contour": [
           {
            "colorbar": {
             "outlinewidth": 0,
             "ticks": ""
            },
            "colorscale": [
             [
              0,
              "#0d0887"
             ],
             [
              0.1111111111111111,
              "#46039f"
             ],
             [
              0.2222222222222222,
              "#7201a8"
             ],
             [
              0.3333333333333333,
              "#9c179e"
             ],
             [
              0.4444444444444444,
              "#bd3786"
             ],
             [
              0.5555555555555556,
              "#d8576b"
             ],
             [
              0.6666666666666666,
              "#ed7953"
             ],
             [
              0.7777777777777778,
              "#fb9f3a"
             ],
             [
              0.8888888888888888,
              "#fdca26"
             ],
             [
              1,
              "#f0f921"
             ]
            ],
            "type": "contour"
           }
          ],
          "contourcarpet": [
           {
            "colorbar": {
             "outlinewidth": 0,
             "ticks": ""
            },
            "type": "contourcarpet"
           }
          ],
          "heatmap": [
           {
            "colorbar": {
             "outlinewidth": 0,
             "ticks": ""
            },
            "colorscale": [
             [
              0,
              "#0d0887"
             ],
             [
              0.1111111111111111,
              "#46039f"
             ],
             [
              0.2222222222222222,
              "#7201a8"
             ],
             [
              0.3333333333333333,
              "#9c179e"
             ],
             [
              0.4444444444444444,
              "#bd3786"
             ],
             [
              0.5555555555555556,
              "#d8576b"
             ],
             [
              0.6666666666666666,
              "#ed7953"
             ],
             [
              0.7777777777777778,
              "#fb9f3a"
             ],
             [
              0.8888888888888888,
              "#fdca26"
             ],
             [
              1,
              "#f0f921"
             ]
            ],
            "type": "heatmap"
           }
          ],
          "heatmapgl": [
           {
            "colorbar": {
             "outlinewidth": 0,
             "ticks": ""
            },
            "colorscale": [
             [
              0,
              "#0d0887"
             ],
             [
              0.1111111111111111,
              "#46039f"
             ],
             [
              0.2222222222222222,
              "#7201a8"
             ],
             [
              0.3333333333333333,
              "#9c179e"
             ],
             [
              0.4444444444444444,
              "#bd3786"
             ],
             [
              0.5555555555555556,
              "#d8576b"
             ],
             [
              0.6666666666666666,
              "#ed7953"
             ],
             [
              0.7777777777777778,
              "#fb9f3a"
             ],
             [
              0.8888888888888888,
              "#fdca26"
             ],
             [
              1,
              "#f0f921"
             ]
            ],
            "type": "heatmapgl"
           }
          ],
          "histogram": [
           {
            "marker": {
             "pattern": {
              "fillmode": "overlay",
              "size": 10,
              "solidity": 0.2
             }
            },
            "type": "histogram"
           }
          ],
          "histogram2d": [
           {
            "colorbar": {
             "outlinewidth": 0,
             "ticks": ""
            },
            "colorscale": [
             [
              0,
              "#0d0887"
             ],
             [
              0.1111111111111111,
              "#46039f"
             ],
             [
              0.2222222222222222,
              "#7201a8"
             ],
             [
              0.3333333333333333,
              "#9c179e"
             ],
             [
              0.4444444444444444,
              "#bd3786"
             ],
             [
              0.5555555555555556,
              "#d8576b"
             ],
             [
              0.6666666666666666,
              "#ed7953"
             ],
             [
              0.7777777777777778,
              "#fb9f3a"
             ],
             [
              0.8888888888888888,
              "#fdca26"
             ],
             [
              1,
              "#f0f921"
             ]
            ],
            "type": "histogram2d"
           }
          ],
          "histogram2dcontour": [
           {
            "colorbar": {
             "outlinewidth": 0,
             "ticks": ""
            },
            "colorscale": [
             [
              0,
              "#0d0887"
             ],
             [
              0.1111111111111111,
              "#46039f"
             ],
             [
              0.2222222222222222,
              "#7201a8"
             ],
             [
              0.3333333333333333,
              "#9c179e"
             ],
             [
              0.4444444444444444,
              "#bd3786"
             ],
             [
              0.5555555555555556,
              "#d8576b"
             ],
             [
              0.6666666666666666,
              "#ed7953"
             ],
             [
              0.7777777777777778,
              "#fb9f3a"
             ],
             [
              0.8888888888888888,
              "#fdca26"
             ],
             [
              1,
              "#f0f921"
             ]
            ],
            "type": "histogram2dcontour"
           }
          ],
          "mesh3d": [
           {
            "colorbar": {
             "outlinewidth": 0,
             "ticks": ""
            },
            "type": "mesh3d"
           }
          ],
          "parcoords": [
           {
            "line": {
             "colorbar": {
              "outlinewidth": 0,
              "ticks": ""
             }
            },
            "type": "parcoords"
           }
          ],
          "pie": [
           {
            "automargin": true,
            "type": "pie"
           }
          ],
          "scatter": [
           {
            "fillpattern": {
             "fillmode": "overlay",
             "size": 10,
             "solidity": 0.2
            },
            "type": "scatter"
           }
          ],
          "scatter3d": [
           {
            "line": {
             "colorbar": {
              "outlinewidth": 0,
              "ticks": ""
             }
            },
            "marker": {
             "colorbar": {
              "outlinewidth": 0,
              "ticks": ""
             }
            },
            "type": "scatter3d"
           }
          ],
          "scattercarpet": [
           {
            "marker": {
             "colorbar": {
              "outlinewidth": 0,
              "ticks": ""
             }
            },
            "type": "scattercarpet"
           }
          ],
          "scattergeo": [
           {
            "marker": {
             "colorbar": {
              "outlinewidth": 0,
              "ticks": ""
             }
            },
            "type": "scattergeo"
           }
          ],
          "scattergl": [
           {
            "marker": {
             "colorbar": {
              "outlinewidth": 0,
              "ticks": ""
             }
            },
            "type": "scattergl"
           }
          ],
          "scattermapbox": [
           {
            "marker": {
             "colorbar": {
              "outlinewidth": 0,
              "ticks": ""
             }
            },
            "type": "scattermapbox"
           }
          ],
          "scatterpolar": [
           {
            "marker": {
             "colorbar": {
              "outlinewidth": 0,
              "ticks": ""
             }
            },
            "type": "scatterpolar"
           }
          ],
          "scatterpolargl": [
           {
            "marker": {
             "colorbar": {
              "outlinewidth": 0,
              "ticks": ""
             }
            },
            "type": "scatterpolargl"
           }
          ],
          "scatterternary": [
           {
            "marker": {
             "colorbar": {
              "outlinewidth": 0,
              "ticks": ""
             }
            },
            "type": "scatterternary"
           }
          ],
          "surface": [
           {
            "colorbar": {
             "outlinewidth": 0,
             "ticks": ""
            },
            "colorscale": [
             [
              0,
              "#0d0887"
             ],
             [
              0.1111111111111111,
              "#46039f"
             ],
             [
              0.2222222222222222,
              "#7201a8"
             ],
             [
              0.3333333333333333,
              "#9c179e"
             ],
             [
              0.4444444444444444,
              "#bd3786"
             ],
             [
              0.5555555555555556,
              "#d8576b"
             ],
             [
              0.6666666666666666,
              "#ed7953"
             ],
             [
              0.7777777777777778,
              "#fb9f3a"
             ],
             [
              0.8888888888888888,
              "#fdca26"
             ],
             [
              1,
              "#f0f921"
             ]
            ],
            "type": "surface"
           }
          ],
          "table": [
           {
            "cells": {
             "fill": {
              "color": "#EBF0F8"
             },
             "line": {
              "color": "white"
             }
            },
            "header": {
             "fill": {
              "color": "#C8D4E3"
             },
             "line": {
              "color": "white"
             }
            },
            "type": "table"
           }
          ]
         },
         "layout": {
          "annotationdefaults": {
           "arrowcolor": "#2a3f5f",
           "arrowhead": 0,
           "arrowwidth": 1
          },
          "autotypenumbers": "strict",
          "coloraxis": {
           "colorbar": {
            "outlinewidth": 0,
            "ticks": ""
           }
          },
          "colorscale": {
           "diverging": [
            [
             0,
             "#8e0152"
            ],
            [
             0.1,
             "#c51b7d"
            ],
            [
             0.2,
             "#de77ae"
            ],
            [
             0.3,
             "#f1b6da"
            ],
            [
             0.4,
             "#fde0ef"
            ],
            [
             0.5,
             "#f7f7f7"
            ],
            [
             0.6,
             "#e6f5d0"
            ],
            [
             0.7,
             "#b8e186"
            ],
            [
             0.8,
             "#7fbc41"
            ],
            [
             0.9,
             "#4d9221"
            ],
            [
             1,
             "#276419"
            ]
           ],
           "sequential": [
            [
             0,
             "#0d0887"
            ],
            [
             0.1111111111111111,
             "#46039f"
            ],
            [
             0.2222222222222222,
             "#7201a8"
            ],
            [
             0.3333333333333333,
             "#9c179e"
            ],
            [
             0.4444444444444444,
             "#bd3786"
            ],
            [
             0.5555555555555556,
             "#d8576b"
            ],
            [
             0.6666666666666666,
             "#ed7953"
            ],
            [
             0.7777777777777778,
             "#fb9f3a"
            ],
            [
             0.8888888888888888,
             "#fdca26"
            ],
            [
             1,
             "#f0f921"
            ]
           ],
           "sequentialminus": [
            [
             0,
             "#0d0887"
            ],
            [
             0.1111111111111111,
             "#46039f"
            ],
            [
             0.2222222222222222,
             "#7201a8"
            ],
            [
             0.3333333333333333,
             "#9c179e"
            ],
            [
             0.4444444444444444,
             "#bd3786"
            ],
            [
             0.5555555555555556,
             "#d8576b"
            ],
            [
             0.6666666666666666,
             "#ed7953"
            ],
            [
             0.7777777777777778,
             "#fb9f3a"
            ],
            [
             0.8888888888888888,
             "#fdca26"
            ],
            [
             1,
             "#f0f921"
            ]
           ]
          },
          "colorway": [
           "#636efa",
           "#EF553B",
           "#00cc96",
           "#ab63fa",
           "#FFA15A",
           "#19d3f3",
           "#FF6692",
           "#B6E880",
           "#FF97FF",
           "#FECB52"
          ],
          "font": {
           "color": "#2a3f5f"
          },
          "geo": {
           "bgcolor": "white",
           "lakecolor": "white",
           "landcolor": "#E5ECF6",
           "showlakes": true,
           "showland": true,
           "subunitcolor": "white"
          },
          "hoverlabel": {
           "align": "left"
          },
          "hovermode": "closest",
          "mapbox": {
           "style": "light"
          },
          "paper_bgcolor": "white",
          "plot_bgcolor": "#E5ECF6",
          "polar": {
           "angularaxis": {
            "gridcolor": "white",
            "linecolor": "white",
            "ticks": ""
           },
           "bgcolor": "#E5ECF6",
           "radialaxis": {
            "gridcolor": "white",
            "linecolor": "white",
            "ticks": ""
           }
          },
          "scene": {
           "xaxis": {
            "backgroundcolor": "#E5ECF6",
            "gridcolor": "white",
            "gridwidth": 2,
            "linecolor": "white",
            "showbackground": true,
            "ticks": "",
            "zerolinecolor": "white"
           },
           "yaxis": {
            "backgroundcolor": "#E5ECF6",
            "gridcolor": "white",
            "gridwidth": 2,
            "linecolor": "white",
            "showbackground": true,
            "ticks": "",
            "zerolinecolor": "white"
           },
           "zaxis": {
            "backgroundcolor": "#E5ECF6",
            "gridcolor": "white",
            "gridwidth": 2,
            "linecolor": "white",
            "showbackground": true,
            "ticks": "",
            "zerolinecolor": "white"
           }
          },
          "shapedefaults": {
           "line": {
            "color": "#2a3f5f"
           }
          },
          "ternary": {
           "aaxis": {
            "gridcolor": "white",
            "linecolor": "white",
            "ticks": ""
           },
           "baxis": {
            "gridcolor": "white",
            "linecolor": "white",
            "ticks": ""
           },
           "bgcolor": "#E5ECF6",
           "caxis": {
            "gridcolor": "white",
            "linecolor": "white",
            "ticks": ""
           }
          },
          "title": {
           "x": 0.05
          },
          "xaxis": {
           "automargin": true,
           "gridcolor": "white",
           "linecolor": "white",
           "ticks": "",
           "title": {
            "standoff": 15
           },
           "zerolinecolor": "white",
           "zerolinewidth": 2
          },
          "yaxis": {
           "automargin": true,
           "gridcolor": "white",
           "linecolor": "white",
           "ticks": "",
           "title": {
            "standoff": 15
           },
           "zerolinecolor": "white",
           "zerolinewidth": 2
          }
         }
        },
        "width": 800,
        "xaxis": {
         "range": [
          -42.5,
          42.5
         ],
         "showgrid": false
        },
        "yaxis": {
         "range": [
          89,
          -11
         ]
        }
       }
      },
      "text/html": [
       "<div>                            <div id=\"f2a5400e-9502-40c4-bb77-be28a9e5b470\" class=\"plotly-graph-div\" style=\"height:800.0px; width:800.0px;\"></div>            <script type=\"text/javascript\">                require([\"plotly\"], function(Plotly) {                    window.PLOTLYENV=window.PLOTLYENV || {};                                    if (document.getElementById(\"f2a5400e-9502-40c4-bb77-be28a9e5b470\")) {                    Plotly.newPlot(                        \"f2a5400e-9502-40c4-bb77-be28a9e5b470\",                        [{\"colorscale\":[[0.0,\"rgb(103,0,31)\"],[0.1,\"rgb(178,24,43)\"],[0.2,\"rgb(214,96,77)\"],[0.3,\"rgb(244,165,130)\"],[0.4,\"rgb(253,219,199)\"],[0.5,\"rgb(247,247,247)\"],[0.6,\"rgb(209,229,240)\"],[0.7,\"rgb(146,197,222)\"],[0.8,\"rgb(67,147,195)\"],[0.9,\"rgb(33,102,172)\"],[1.0,\"rgb(5,48,97)\"]],\"connectgaps\":true,\"opacity\":0.5,\"reversescale\":true,\"x\":[-41.325,-36.974999999999994,-32.625,-28.275000000000002,-23.925,-19.575000000000003,-15.225000000000003,-10.875000000000004,-6.525000000000002,-2.1750000000000007,2.174999999999997,6.524999999999995,10.874999999999996,15.224999999999994,19.574999999999996,23.924999999999997,28.27499999999999,32.62499999999999,36.974999999999994,41.324999999999996],\"y\":[0.13749999999999996,2.4124999999999996,4.6875,6.9624999999999995,9.2375,11.5125,13.787499999999998,16.0625,18.3375,20.612499999999997,22.8875,25.162499999999998,27.4375,29.7125,31.987499999999997,34.2625,36.537499999999994,38.8125,41.0875,43.3625,45.6375,47.912499999999994,50.1875,52.46249999999999,54.7375,57.0125,59.287499999999994,61.5625,63.83749999999999,66.1125,68.38749999999999,70.6625,72.9375,75.2125,77.4875,79.76249999999999,82.0375,84.3125,86.5875,88.8625],\"z\":[[0.18327519681627186,0.013062646061037877,-0.2268632257591306,-0.4515357217212021,-0.5948275167989424,-0.638845408834192,-0.621363775636501,-0.5898835704916241,-0.5578598973748419,-0.5210986051055547,-0.48854675328403047,-0.485146121148532,-0.5198096415245781,-0.5764489870436368,-0.6087992636796892,-0.5852489300929756,-0.5622885900858383,-0.5960749284101969,-0.6768499165598532,-0.7615344691189474],[0.08622271827609632,-0.020546077431040102,-0.19952781990979007,-0.3852004339581445,-0.5001452943459427,-0.524002889452599,-0.5040949879851889,-0.48148175394759624,-0.4605623298712561,-0.43810641283137863,-0.42495021094862956,-0.4381358444110855,-0.4808247587290668,-0.5387760738013396,-0.5731388741223422,-0.5588948789673462,-0.5454585018286495,-0.5775515128486245,-0.6441584371245492,-0.7110406910668158],[-0.07219614928896133,-0.09573026805699819,-0.18620539066478045,-0.3039489013424544,-0.3715070040972234,-0.37252181078953983,-0.35843189041086004,-0.3569445385396636,-0.360093414010701,-0.36111577238934317,-0.3671700357784182,-0.38984045041422255,-0.4325955794815455,-0.4847344273735085,-0.5127440750321088,-0.49675353142893747,-0.48393094591498703,-0.5147136860380725,-0.5779600772839525,-0.6412528004740764],[-0.21989882592010912,-0.17338881142059678,-0.17806582309041505,-0.22081760205100193,-0.23560970631702555,-0.21195498346536001,-0.202313424494748,-0.22386329156937262,-0.255541619829252,-0.2815938122747965,-0.30244961501807105,-0.3270106203838776,-0.3624386754875605,-0.404127217073597,-0.4241597446254761,-0.40397006782934775,-0.38860183801816156,-0.4215897102461213,-0.4933471638716853,-0.5654258161290546],[-0.33094440357746063,-0.23996973329752636,-0.17682699678543068,-0.15337535333813834,-0.11981698027248688,-0.062339320832820885,-0.03565295474677674,-0.06423331741182167,-0.11839748351984795,-0.16689957376079861,-0.19926367906078052,-0.2216741327198132,-0.24632140217418066,-0.2780641657472343,-0.2981333320933881,-0.2870417014649704,-0.2800470810853096,-0.3201399933191875,-0.39988671062384545,-0.47716949535259146],[-0.4153449290706619,-0.30214663270486886,-0.19542004724436626,-0.12738646701454148,-0.060832498130365543,0.03764921212681755,0.11678342082840085,0.1196570407361491,0.066032691746634,0.0050597409012352705,-0.035789600811349534,-0.057546387598196684,-0.07755052835841965,-0.11079982417261652,-0.14666827483082212,-0.16374019725723915,-0.1815856716037719,-0.23153277709787604,-0.3073531000490191,-0.37461280496998706],[-0.45832678841619745,-0.3351424207120359,-0.20770974626226754,-0.12245821528592675,-0.04828399319208233,0.07424882104854823,0.2155051612677184,0.2873049301153727,0.2715413011513904,0.2187313209637154,0.17325780952070818,0.1423364912128322,0.10711778981048607,0.05166711503238082,-0.010166743073507184,-0.05844393976313727,-0.10560523567966879,-0.1679276254780139,-0.23813669564230708,-0.2933285768985551],[-0.43071530502839356,-0.3096389964851885,-0.18173399360520415,-0.09894228734419766,-0.03519476384492906,0.08357559051970141,0.25841138301572647,0.399497698801405,0.44526592137897525,0.41983747469740107,0.3719370447811099,0.3185438836017378,0.24941191574229005,0.1638128535274178,0.08416573103727278,0.017159961905981506,-0.054654775952118644,-0.13735505820526814,-0.21949047426909246,-0.28052811840677566],[-0.3352566965980418,-0.24011696648279598,-0.1366448278925572,-0.06651033668685774,-0.011032285355969191,0.0967564575358008,0.2766514269970821,0.45725301430958115,0.5540295384845807,0.5563456955517078,0.5041828680348984,0.42359368041208817,0.32249067924821534,0.2200037103238733,0.134270837153355,0.05202933744097063,-0.045484485605638766,-0.15479528243221,-0.2599979117713756,-0.3384612927322383],[-0.21642665927666765,-0.17051660904932814,-0.11115230504828595,-0.0555508717963946,0.006355924130384102,0.11546841252537163,0.28885343256691715,0.47486217875832926,0.591892412566995,0.6090973634164621,0.5530484401643733,0.4542156046163668,0.3374621078017595,0.23239251627401913,0.14328273070357944,0.04500527293461504,-0.07454985428713136,-0.20215012102900626,-0.31876254412390587,-0.40417301788659016],[-0.13234883069779463,-0.1328160964186787,-0.109941484934336,-0.05999387365481645,0.016269190239513752,0.13076802148324648,0.28885080538103564,0.4566265108605492,0.5724526928903807,0.6002806009979391,0.5499013960495396,0.4464808422324091,0.3232158299455976,0.21762796617690336,0.13089323708844253,0.033159285895309636,-0.08907004004268808,-0.21994746477052346,-0.3354888322260663,-0.41621644384479184],[-0.10580297606054268,-0.12498166355728771,-0.1112403654864692,-0.054100048006185696,0.03295676597745946,0.14127173315958771,0.2699634972431746,0.40410228025930844,0.5087397949870182,0.550562608638227,0.5198869851304,0.4265979823357104,0.3039524078556664,0.20178749822746697,0.13061072446831215,0.055874967634651156,-0.04896016483730337,-0.17501913444601278,-0.2918072150134743,-0.3713836096228387],[-0.117658708376248,-0.1198950187374666,-0.08892565881442764,-0.01948007153096582,0.06863034832779816,0.1592371922642689,0.24946571677496376,0.3353975230741276,0.4078835365541774,0.4519565526720537,0.449507676502752,0.39035269611126067,0.2931037873763972,0.20746567605117833,0.15374100001166935,0.10243117818100214,0.021457194449065235,-0.08980276907920803,-0.2007347711247606,-0.27578855001169106],[-0.138840633078819,-0.10059108845916571,-0.040596021266540355,0.03690357793818579,0.11911715636663713,0.19409563515182796,0.25336424092991006,0.2862397922791121,0.3015003434655802,0.3219096061529704,0.34270540613804307,0.3372482344415944,0.29258514204430947,0.2311262373323337,0.1767109074541933,0.12447611049718031,0.0587278813475102,-0.02343380338433422,-0.10146402194136772,-0.14865623898744276],[-0.16382414550920796,-0.0887555216899016,-0.006284763362153651,0.07301624553533645,0.14937280477670226,0.21783513482312797,0.260894529063509,0.2536948159325603,0.2154775189476132,0.20660561251048118,0.2429654960156502,0.2886236735422502,0.29732767837104457,0.25304009925275867,0.179532420168788,0.10379270462138226,0.036649856556259935,-0.019211741918773336,-0.055939888910151093,-0.06660267261311413],[-0.18701090734553374,-0.09921468311575164,-0.010421477438309415,0.06611954740748607,0.1360408165186138,0.19748299764519608,0.22881172774038658,0.20164453635577942,0.14242178556572999,0.12667725043064684,0.17903398674966342,0.2593544427682301,0.29943473984297236,0.2569372870138414,0.15777033406107374,0.052027354960617146,-0.030391598150342165,-0.08132667357036387,-0.1026534529506136,-0.10181847987227388],[-0.17555942195176108,-0.10165326074142343,-0.02226954922175032,0.04683354879061246,0.1040047640117378,0.147902321875391,0.16630878098332935,0.14155437361249834,0.0941007625318065,0.08490624144445652,0.1415910097782329,0.2304855429062883,0.2747116312522357,0.22135006206252839,0.10159624772804556,-0.02385747261570471,-0.12034860312644635,-0.18125843872475564,-0.21610951707423454,-0.23552745679592993],[-0.11569656329389386,-0.06300090070490616,0.002094259507542286,0.05982609412553938,0.09754049251048764,0.1166459378430426,0.1241380617651089,0.11639310089900551,0.09167657477199809,0.0808571092097981,0.11886748729647549,0.1890159390048993,0.21657647347774275,0.1480861546081251,0.021467076719802927,-0.10038394864756606,-0.19048401486600874,-0.25324039097510587,-0.3067587454879998,-0.35736831457514395],[-0.04674468350207987,0.00487196575433607,0.06735993976901686,0.11582522465393616,0.1347209538360072,0.129797868631811,0.12058256039913573,0.11533027170066466,0.10384492406903675,0.09594070714311442,0.12056485319947602,0.16725447338195873,0.17075893197942593,0.08920083899656843,-0.02995965466492002,-0.1274030240176644,-0.19234767516489767,-0.2462567901673287,-0.3151215641529318,-0.3963078561861074],[-0.002682334524522979,0.07810297601845104,0.15749278310976525,0.20563321205472912,0.21284549717917994,0.18677701711305164,0.14614077342335413,0.11153304289860537,0.09528070417385363,0.10221872312190647,0.13393928483244744,0.1709816553956984,0.163840138600222,0.08839928628449131,-0.006505895955684708,-0.07433385144440252,-0.120655080096904,-0.177400218847601,-0.2699176276251009,-0.3833031500644949],[-0.0038260893463696105,0.12178090593323235,0.2280377210980582,0.28486258972327133,0.29206175640901627,0.25687727057020554,0.19062767953820786,0.12069800454970164,0.08699589724199393,0.09840670054907064,0.13419406763021158,0.17252759105866725,0.1833560160437548,0.14543648830156172,0.08439687236187392,0.029043234270506015,-0.028334136460136477,-0.11191550164979476,-0.23533465467298292,-0.37411024101198254],[-0.07806526626091291,0.07962825449009649,0.2068776719634962,0.27899156065098524,0.3029529075132785,0.2856013494295801,0.23223363615279255,0.16507713220449607,0.12584472570303035,0.12705436778094376,0.15234447342773194,0.1919635045031429,0.22830905943801916,0.22678019550563758,0.18141285895994805,0.11041443024224888,0.018057896399367432,-0.10079280687471737,-0.24481142375955295,-0.387532655431498],[-0.22959645959598637,-0.06027112486671413,0.08133132009843724,0.175166889516244,0.2309031582258411,0.25602906179131507,0.2529801849110414,0.2314045337885096,0.2124308237237103,0.20668708788773904,0.21779899613389295,0.25100970307736353,0.29074540891723083,0.29127963625715897,0.23084281410190505,0.12675464632097216,-0.0024087535089608,-0.1444091668118859,-0.28766886508714634,-0.4111614495782544],[-0.40875975603422615,-0.23999008216256132,-0.08796918718126275,0.02827303564805054,0.11795600989903944,0.18861416830132877,0.2401386732060269,0.2710358661413995,0.2831740784530588,0.28264552372633617,0.28797338347265666,0.312747591021787,0.33727667561956176,0.3120052315438485,0.21623386715507417,0.07489873935454919,-0.08025581064073267,-0.226566257570866,-0.35109945365158696,-0.4436853621692495],[-0.5441500144233344,-0.3844690497402374,-0.23131087744119336,-0.10379285578549403,0.006155292851511586,0.10380719319352863,0.18403865890994345,0.24107744464069888,0.27495409921981406,0.28960745685350225,0.30397741106100085,0.33026211487301593,0.34014633165902536,0.2810631378590224,0.14439694241942475,-0.027652507211762045,-0.19166253177546058,-0.3244403414965014,-0.42147555518867036,-0.4849920805141123],[-0.6153988287297983,-0.46827306941362346,-0.3237244685083734,-0.20080045438651445,-0.09087025862790112,0.0091134815950379,0.08795159495045636,0.1415739638963068,0.18290115866467702,0.21647125036200468,0.25130492360848367,0.2921732367917492,0.2984726360556268,0.21025492508684196,0.038113972077987036,-0.14938256899005467,-0.30172136568093605,-0.40692284314855176,-0.4757283743806469,-0.5196139207711216],[-0.6478800152297617,-0.509293945039486,-0.37511829691621235,-0.2673463845132773,-0.17560885708637913,-0.09542021312537287,-0.04026614847831708,-0.008844315601977881,0.027794224158378435,0.07460516443352473,0.1307713114087457,0.1953237681370967,0.21402671400956472,0.11256085609265301,-0.0784870975278073,-0.26000662985064676,-0.38126022265730325,-0.45131591123902337,-0.4988576184730524,-0.5380216673760134],[-0.6572941240379153,-0.511898209280896,-0.376329013699042,-0.2885718965926453,-0.23988004759365436,-0.2142244701971283,-0.21008889838553732,-0.2127737334119366,-0.19081396986054192,-0.1468358605625762,-0.08193821196765298,0.005310237136729583,0.053022685496730004,-0.028845205300268923,-0.19839973094474744,-0.3357005272135848,-0.40127773584751647,-0.4329806596934563,-0.47686881089255984,-0.5370949135108534],[-0.6082126603172852,-0.41461909027701843,-0.23891687670033945,-0.17081478639864167,-0.21931703723623222,-0.32964632020626067,-0.4209450519075756,-0.44095035278198313,-0.41646717086926904,-0.3830712956360836,-0.3285183410452985,-0.24539155786956826,-0.18627328451041553,-0.22349332472018352,-0.3090080481174202,-0.3394314223662001,-0.3131964901533866,-0.30731850282094036,-0.37930277849045735,-0.4985141916107533],[-0.48613169249684024,-0.22615511965952775,0.005839281845730553,0.06243480814084252,-0.09308786554234177,-0.3600876612792483,-0.5332096283988512,-0.5312663471366198,-0.4827725036382661,-0.44807487691000697,-0.4002145215828705,-0.33870463259265243,-0.310644278366275,-0.3403553247123262,-0.35622897486149857,-0.29325688206161343,-0.20135059736606747,-0.18583633435164215,-0.2976903699873058,-0.4693789299821828],[-0.3700780651399595,-0.10150656758973461,0.11863506216378414,0.14804313816335476,-0.031672225689161775,-0.30997157333213815,-0.4860518385728781,-0.4901751581220698,-0.44295372335699784,-0.3962329042481451,-0.3336621317703489,-0.2792418356542931,-0.2872921160701518,-0.34303488523432646,-0.3492797822831389,-0.2741448454356498,-0.19959334119321626,-0.21828478578666624,-0.3541351797814636,-0.5315646634057517],[-0.30529333870268377,-0.06274165174344946,0.11463867078182467,0.12100077570272426,-0.018112475875757414,-0.20751554706005015,-0.34999656123220385,-0.40168816154871284,-0.3843836755129295,-0.31987714426478464,-0.22827725660599277,-0.1765289937007754,-0.22458676149782955,-0.3056696354977845,-0.29708168669950763,-0.22124478079926121,-0.19218209455058466,-0.2691009572556377,-0.43727413801550447,-0.6161887232973643],[-0.3345716871572309,-0.11907355944919903,0.037600750611226474,0.06006123673557782,-0.0015819373510199649,-0.08317708274018788,-0.19109328152939506,-0.3010380132581131,-0.3268518603607018,-0.2496480031271215,-0.13214113215942666,-0.09010194799664085,-0.1760097176477887,-0.2524299641997293,-0.1834135615081683,-0.07621970695732985,-0.07752772806802581,-0.2093658675530044,-0.42069750093311803,-0.6189114440876556],[-0.4287072440959087,-0.23927678811930198,-0.08820584584315914,-0.03435485534953748,-0.02790821509341767,-0.030559189676533816,-0.09830344336720093,-0.22375641769256988,-0.2851187872835753,-0.23349864835060327,-0.13216383748264304,-0.10619783591637294,-0.18606693677576838,-0.18931084988474223,-0.012841657590027065,0.1487909244970415,0.14042697740132556,-0.023332379711236115,-0.2665350455774398,-0.48624197028417004],[-0.4639032680898781,-0.2917323735459339,-0.1516435815865017,-0.10457741290600797,-0.10407839749872798,-0.09490372536008074,-0.11033572033111103,-0.1791337367294609,-0.25668091749764926,-0.29183167729463955,-0.27405709647665255,-0.2640468837798251,-0.2733341744952022,-0.14817970973702652,0.14604485412948254,0.37296942797357596,0.39410593654324744,0.24551931345032918,0.009666800987416456,-0.20939666818387673],[-0.38560370485910517,-0.21186291049755984,-0.08256686729914572,-0.08286700784058526,-0.16906036034670355,-0.2272111554622458,-0.21664639838458447,-0.20941066965748395,-0.2816928443470513,-0.3927792146469461,-0.4454972407925176,-0.42881101358225027,-0.3606932541846749,-0.1629837519729585,0.16686868184134493,0.4341738336649851,0.520902081296318,0.4455331061826765,0.2699238873484996,0.08706760174092554],[-0.288668075643091,-0.1070604762000201,0.018905767431014252,-0.023853835035443888,-0.20244699778208272,-0.35652105463066586,-0.37547015569439,-0.34434409341254607,-0.39585611432287016,-0.49115187787916165,-0.5153164897349433,-0.4433992312023417,-0.3197834044832414,-0.15609613868479139,0.07150465061758556,0.2965345812801349,0.4251331134641524,0.4271284204247209,0.3270877002632205,0.19815046848733034],[-0.25725433175329626,-0.07048781987483438,0.05933695268274856,0.003969412506915099,-0.2129176962572844,-0.41803362002999594,-0.4820906220424684,-0.48712311832922484,-0.5310719840220414,-0.5606606299989322,-0.49855801932629057,-0.33112150461895384,-0.12594733892813093,-0.016791286748949974,0.01828435857254582,0.09781493999963985,0.1892389281865411,0.21539545278814026,0.15892429909814296,0.069747731056252],[-0.3029855925605074,-0.11169716536769678,0.029926884357390163,-0.006233520822981261,-0.19237849420190728,-0.3587462798883365,-0.42668257066656523,-0.5143856870937857,-0.6086993936135452,-0.6023550640481284,-0.4663224358165403,-0.19283732586525862,0.14821696566078288,0.27335579540936633,0.11412365167416962,-0.02063936814039798,-0.041253246757108314,-0.046868429189512055,-0.10334382820080192,-0.18453415489561864],[-0.3730348759663849,-0.1785846774582985,-0.02495137077986175,-0.03182798666869532,-0.15752196549122877,-0.23401833635159977,-0.2646121065586764,-0.44232772443298035,-0.6230403335430869,-0.6258888568189679,-0.4569012435535405,-0.10775851241425939,0.3657329541508346,0.5626357508169387,0.287306895183212,-0.02445074340181364,-0.15707689189062377,-0.2086455262248036,-0.2871452859293667,-0.38307014219975943]],\"zsmooth\":\"best\",\"type\":\"heatmap\"}],                        {\"template\":{\"data\":{\"histogram2dcontour\":[{\"type\":\"histogram2dcontour\",\"colorbar\":{\"outlinewidth\":0,\"ticks\":\"\"},\"colorscale\":[[0.0,\"#0d0887\"],[0.1111111111111111,\"#46039f\"],[0.2222222222222222,\"#7201a8\"],[0.3333333333333333,\"#9c179e\"],[0.4444444444444444,\"#bd3786\"],[0.5555555555555556,\"#d8576b\"],[0.6666666666666666,\"#ed7953\"],[0.7777777777777778,\"#fb9f3a\"],[0.8888888888888888,\"#fdca26\"],[1.0,\"#f0f921\"]]}],\"choropleth\":[{\"type\":\"choropleth\",\"colorbar\":{\"outlinewidth\":0,\"ticks\":\"\"}}],\"histogram2d\":[{\"type\":\"histogram2d\",\"colorbar\":{\"outlinewidth\":0,\"ticks\":\"\"},\"colorscale\":[[0.0,\"#0d0887\"],[0.1111111111111111,\"#46039f\"],[0.2222222222222222,\"#7201a8\"],[0.3333333333333333,\"#9c179e\"],[0.4444444444444444,\"#bd3786\"],[0.5555555555555556,\"#d8576b\"],[0.6666666666666666,\"#ed7953\"],[0.7777777777777778,\"#fb9f3a\"],[0.8888888888888888,\"#fdca26\"],[1.0,\"#f0f921\"]]}],\"heatmap\":[{\"type\":\"heatmap\",\"colorbar\":{\"outlinewidth\":0,\"ticks\":\"\"},\"colorscale\":[[0.0,\"#0d0887\"],[0.1111111111111111,\"#46039f\"],[0.2222222222222222,\"#7201a8\"],[0.3333333333333333,\"#9c179e\"],[0.4444444444444444,\"#bd3786\"],[0.5555555555555556,\"#d8576b\"],[0.6666666666666666,\"#ed7953\"],[0.7777777777777778,\"#fb9f3a\"],[0.8888888888888888,\"#fdca26\"],[1.0,\"#f0f921\"]]}],\"heatmapgl\":[{\"type\":\"heatmapgl\",\"colorbar\":{\"outlinewidth\":0,\"ticks\":\"\"},\"colorscale\":[[0.0,\"#0d0887\"],[0.1111111111111111,\"#46039f\"],[0.2222222222222222,\"#7201a8\"],[0.3333333333333333,\"#9c179e\"],[0.4444444444444444,\"#bd3786\"],[0.5555555555555556,\"#d8576b\"],[0.6666666666666666,\"#ed7953\"],[0.7777777777777778,\"#fb9f3a\"],[0.8888888888888888,\"#fdca26\"],[1.0,\"#f0f921\"]]}],\"contourcarpet\":[{\"type\":\"contourcarpet\",\"colorbar\":{\"outlinewidth\":0,\"ticks\":\"\"}}],\"contour\":[{\"type\":\"contour\",\"colorbar\":{\"outlinewidth\":0,\"ticks\":\"\"},\"colorscale\":[[0.0,\"#0d0887\"],[0.1111111111111111,\"#46039f\"],[0.2222222222222222,\"#7201a8\"],[0.3333333333333333,\"#9c179e\"],[0.4444444444444444,\"#bd3786\"],[0.5555555555555556,\"#d8576b\"],[0.6666666666666666,\"#ed7953\"],[0.7777777777777778,\"#fb9f3a\"],[0.8888888888888888,\"#fdca26\"],[1.0,\"#f0f921\"]]}],\"surface\":[{\"type\":\"surface\",\"colorbar\":{\"outlinewidth\":0,\"ticks\":\"\"},\"colorscale\":[[0.0,\"#0d0887\"],[0.1111111111111111,\"#46039f\"],[0.2222222222222222,\"#7201a8\"],[0.3333333333333333,\"#9c179e\"],[0.4444444444444444,\"#bd3786\"],[0.5555555555555556,\"#d8576b\"],[0.6666666666666666,\"#ed7953\"],[0.7777777777777778,\"#fb9f3a\"],[0.8888888888888888,\"#fdca26\"],[1.0,\"#f0f921\"]]}],\"mesh3d\":[{\"type\":\"mesh3d\",\"colorbar\":{\"outlinewidth\":0,\"ticks\":\"\"}}],\"scatter\":[{\"fillpattern\":{\"fillmode\":\"overlay\",\"size\":10,\"solidity\":0.2},\"type\":\"scatter\"}],\"parcoords\":[{\"type\":\"parcoords\",\"line\":{\"colorbar\":{\"outlinewidth\":0,\"ticks\":\"\"}}}],\"scatterpolargl\":[{\"type\":\"scatterpolargl\",\"marker\":{\"colorbar\":{\"outlinewidth\":0,\"ticks\":\"\"}}}],\"bar\":[{\"error_x\":{\"color\":\"#2a3f5f\"},\"error_y\":{\"color\":\"#2a3f5f\"},\"marker\":{\"line\":{\"color\":\"#E5ECF6\",\"width\":0.5},\"pattern\":{\"fillmode\":\"overlay\",\"size\":10,\"solidity\":0.2}},\"type\":\"bar\"}],\"scattergeo\":[{\"type\":\"scattergeo\",\"marker\":{\"colorbar\":{\"outlinewidth\":0,\"ticks\":\"\"}}}],\"scatterpolar\":[{\"type\":\"scatterpolar\",\"marker\":{\"colorbar\":{\"outlinewidth\":0,\"ticks\":\"\"}}}],\"histogram\":[{\"marker\":{\"pattern\":{\"fillmode\":\"overlay\",\"size\":10,\"solidity\":0.2}},\"type\":\"histogram\"}],\"scattergl\":[{\"type\":\"scattergl\",\"marker\":{\"colorbar\":{\"outlinewidth\":0,\"ticks\":\"\"}}}],\"scatter3d\":[{\"type\":\"scatter3d\",\"line\":{\"colorbar\":{\"outlinewidth\":0,\"ticks\":\"\"}},\"marker\":{\"colorbar\":{\"outlinewidth\":0,\"ticks\":\"\"}}}],\"scattermapbox\":[{\"type\":\"scattermapbox\",\"marker\":{\"colorbar\":{\"outlinewidth\":0,\"ticks\":\"\"}}}],\"scatterternary\":[{\"type\":\"scatterternary\",\"marker\":{\"colorbar\":{\"outlinewidth\":0,\"ticks\":\"\"}}}],\"scattercarpet\":[{\"type\":\"scattercarpet\",\"marker\":{\"colorbar\":{\"outlinewidth\":0,\"ticks\":\"\"}}}],\"carpet\":[{\"aaxis\":{\"endlinecolor\":\"#2a3f5f\",\"gridcolor\":\"white\",\"linecolor\":\"white\",\"minorgridcolor\":\"white\",\"startlinecolor\":\"#2a3f5f\"},\"baxis\":{\"endlinecolor\":\"#2a3f5f\",\"gridcolor\":\"white\",\"linecolor\":\"white\",\"minorgridcolor\":\"white\",\"startlinecolor\":\"#2a3f5f\"},\"type\":\"carpet\"}],\"table\":[{\"cells\":{\"fill\":{\"color\":\"#EBF0F8\"},\"line\":{\"color\":\"white\"}},\"header\":{\"fill\":{\"color\":\"#C8D4E3\"},\"line\":{\"color\":\"white\"}},\"type\":\"table\"}],\"barpolar\":[{\"marker\":{\"line\":{\"color\":\"#E5ECF6\",\"width\":0.5},\"pattern\":{\"fillmode\":\"overlay\",\"size\":10,\"solidity\":0.2}},\"type\":\"barpolar\"}],\"pie\":[{\"automargin\":true,\"type\":\"pie\"}]},\"layout\":{\"autotypenumbers\":\"strict\",\"colorway\":[\"#636efa\",\"#EF553B\",\"#00cc96\",\"#ab63fa\",\"#FFA15A\",\"#19d3f3\",\"#FF6692\",\"#B6E880\",\"#FF97FF\",\"#FECB52\"],\"font\":{\"color\":\"#2a3f5f\"},\"hovermode\":\"closest\",\"hoverlabel\":{\"align\":\"left\"},\"paper_bgcolor\":\"white\",\"plot_bgcolor\":\"#E5ECF6\",\"polar\":{\"bgcolor\":\"#E5ECF6\",\"angularaxis\":{\"gridcolor\":\"white\",\"linecolor\":\"white\",\"ticks\":\"\"},\"radialaxis\":{\"gridcolor\":\"white\",\"linecolor\":\"white\",\"ticks\":\"\"}},\"ternary\":{\"bgcolor\":\"#E5ECF6\",\"aaxis\":{\"gridcolor\":\"white\",\"linecolor\":\"white\",\"ticks\":\"\"},\"baxis\":{\"gridcolor\":\"white\",\"linecolor\":\"white\",\"ticks\":\"\"},\"caxis\":{\"gridcolor\":\"white\",\"linecolor\":\"white\",\"ticks\":\"\"}},\"coloraxis\":{\"colorbar\":{\"outlinewidth\":0,\"ticks\":\"\"}},\"colorscale\":{\"sequential\":[[0.0,\"#0d0887\"],[0.1111111111111111,\"#46039f\"],[0.2222222222222222,\"#7201a8\"],[0.3333333333333333,\"#9c179e\"],[0.4444444444444444,\"#bd3786\"],[0.5555555555555556,\"#d8576b\"],[0.6666666666666666,\"#ed7953\"],[0.7777777777777778,\"#fb9f3a\"],[0.8888888888888888,\"#fdca26\"],[1.0,\"#f0f921\"]],\"sequentialminus\":[[0.0,\"#0d0887\"],[0.1111111111111111,\"#46039f\"],[0.2222222222222222,\"#7201a8\"],[0.3333333333333333,\"#9c179e\"],[0.4444444444444444,\"#bd3786\"],[0.5555555555555556,\"#d8576b\"],[0.6666666666666666,\"#ed7953\"],[0.7777777777777778,\"#fb9f3a\"],[0.8888888888888888,\"#fdca26\"],[1.0,\"#f0f921\"]],\"diverging\":[[0,\"#8e0152\"],[0.1,\"#c51b7d\"],[0.2,\"#de77ae\"],[0.3,\"#f1b6da\"],[0.4,\"#fde0ef\"],[0.5,\"#f7f7f7\"],[0.6,\"#e6f5d0\"],[0.7,\"#b8e186\"],[0.8,\"#7fbc41\"],[0.9,\"#4d9221\"],[1,\"#276419\"]]},\"xaxis\":{\"gridcolor\":\"white\",\"linecolor\":\"white\",\"ticks\":\"\",\"title\":{\"standoff\":15},\"zerolinecolor\":\"white\",\"automargin\":true,\"zerolinewidth\":2},\"yaxis\":{\"gridcolor\":\"white\",\"linecolor\":\"white\",\"ticks\":\"\",\"title\":{\"standoff\":15},\"zerolinecolor\":\"white\",\"automargin\":true,\"zerolinewidth\":2},\"scene\":{\"xaxis\":{\"backgroundcolor\":\"#E5ECF6\",\"gridcolor\":\"white\",\"linecolor\":\"white\",\"showbackground\":true,\"ticks\":\"\",\"zerolinecolor\":\"white\",\"gridwidth\":2},\"yaxis\":{\"backgroundcolor\":\"#E5ECF6\",\"gridcolor\":\"white\",\"linecolor\":\"white\",\"showbackground\":true,\"ticks\":\"\",\"zerolinecolor\":\"white\",\"gridwidth\":2},\"zaxis\":{\"backgroundcolor\":\"#E5ECF6\",\"gridcolor\":\"white\",\"linecolor\":\"white\",\"showbackground\":true,\"ticks\":\"\",\"zerolinecolor\":\"white\",\"gridwidth\":2}},\"shapedefaults\":{\"line\":{\"color\":\"#2a3f5f\"}},\"annotationdefaults\":{\"arrowcolor\":\"#2a3f5f\",\"arrowhead\":0,\"arrowwidth\":1},\"geo\":{\"bgcolor\":\"white\",\"landcolor\":\"#E5ECF6\",\"subunitcolor\":\"white\",\"showland\":true,\"showlakes\":true,\"lakecolor\":\"white\"},\"title\":{\"x\":0.05},\"mapbox\":{\"style\":\"light\"}}},\"margin\":{\"l\":0,\"r\":0,\"t\":0,\"b\":0},\"width\":800.0,\"height\":800.0,\"xaxis\":{\"showgrid\":false,\"range\":[-42.5,42.5]},\"yaxis\":{\"range\":[89,-11]},\"images\":[{\"layer\":\"below\",\"opacity\":1.0,\"sizex\":85.0,\"sizey\":89,\"sizing\":\"stretch\",\"source\":\"data:image/png;base64,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\",\"x\":-42.5,\"xref\":\"x\",\"y\":0,\"yref\":\"y\"}]},                        {\"responsive\": true}                    ).then(function(){\n",
       "                            \n",
       "var gd = document.getElementById('f2a5400e-9502-40c4-bb77-be28a9e5b470');\n",
       "var x = new MutationObserver(function (mutations, observer) {{\n",
       "        var display = window.getComputedStyle(gd).display;\n",
       "        if (!display || display === 'none') {{\n",
       "            console.log([gd, 'removed!']);\n",
       "            Plotly.purge(gd);\n",
       "            observer.disconnect();\n",
       "        }}\n",
       "}});\n",
       "\n",
       "// Listen for the removal of the full notebook cells\n",
       "var notebookContainer = gd.closest('#notebook-container');\n",
       "if (notebookContainer) {{\n",
       "    x.observe(notebookContainer, {childList: true});\n",
       "}}\n",
       "\n",
       "// Listen for the clearing of the current output cell\n",
       "var outputEl = gd.closest('.output');\n",
       "if (outputEl) {{\n",
       "    x.observe(outputEl, {childList: true});\n",
       "}}\n",
       "\n",
       "                        })                };                });            </script>        </div>"
      ]
     },
     "metadata": {},
     "output_type": "display_data"
    }
   ],
   "source": [
    "import plotly.graph_objects as go\n",
    "import plotly.express as px\n",
    "\n",
    "import pandas as pd\n",
    "from PIL import Image\n",
    "\n",
    "# load dataset\n",
    "\n",
    "# Create figure\n",
    "fig = go.Figure()\n",
    "\n",
    "rink_img = Image.open(\"./figures/nhl_rink.png\")\n",
    "width, height = rink_img.size\n",
    "rink_half_img = rink_img.crop((0, 0, width/2, height))\n",
    "rink_half_img = rink_half_img.rotate(270, expand=1)\n",
    "\n",
    "# Constants\n",
    "img_width = 800\n",
    "img_height = 1600/2\n",
    "scale_factor = 1.0\n",
    "\n",
    "\n",
    "fig.add_trace(\n",
    "    go.Heatmap(\n",
    "        z=diff.tolist(),\n",
    "        x=y_grid,\n",
    "        y=x_grid,\n",
    "        colorscale=\"Rdbu\", \n",
    "        reversescale=True,\n",
    "        connectgaps=True,\n",
    "        zsmooth='best',\n",
    "        opacity=0.5\n",
    "    )\n",
    ")\n",
    "\n",
    "fig.update_layout(\n",
    "    width=img_width * scale_factor,\n",
    "    height=img_height * scale_factor,\n",
    "    margin={\"l\": 0, \"r\": 0, \"t\": 0, \"b\": 0},\n",
    ")\n",
    "\n",
    "fig.update_xaxes(\n",
    "    # visible=True,\n",
    "    showgrid=False,\n",
    "    range=[-42.5, 42.5])\n",
    "\n",
    "fig.update_yaxes(\n",
    "    # visible=True,\n",
    "    # showgrid=False,\n",
    "    # autorange=\"reversed\",\n",
    "    range=[89, -11])\n",
    "\n",
    "fig.add_layout_image(\n",
    "    dict(\n",
    "        x=-42.5,\n",
    "        sizex=42.5*2,\n",
    "        y=0,\n",
    "        sizey=89,\n",
    "        xref=\"x\",\n",
    "        yref=\"y\",\n",
    "        opacity=1.0,\n",
    "        layer=\"below\",\n",
    "        sizing=\"stretch\",\n",
    "        source=rink_half_img)\n",
    ")\n",
    "\n",
    "\n",
    "fig.show()"
   ]
  },
  {
   "cell_type": "code",
   "execution_count": null,
   "metadata": {},
   "outputs": [],
   "source": []
  },
  {
   "cell_type": "code",
   "execution_count": 206,
   "metadata": {},
   "outputs": [
    {
     "data": {
      "image/png": "[encoded data removed]",
      "text/plain": [
       "<Figure size 1200x1200 with 3 Axes>"
      ]
     },
     "metadata": {},
     "output_type": "display_data"
    }
   ],
   "source": [
    "x_min, x_max = 0, 89\n",
    "y_min, y_max = -42.5, 42.5\n",
    "\n",
    "\n",
    "def get_kde(x_shots, y_shots):\n",
    "\n",
    "   X, Y = np.mgrid[x_min:x_max:100j, y_min:y_max:100j]\n",
    "   positions = np.vstack([X.ravel(), Y.ravel()])\n",
    "   values = np.vstack([x_shots, y_shots])\n",
    "   kernel = stats.gaussian_kde(values)\n",
    "   Z = np.reshape(kernel(positions).T, X.shape)\n",
    "\n",
    "   # Z = Z / Z.max()\n",
    "\n",
    "   return Z\n",
    "\n",
    "fig, ax = plt.subplots(1, 3, figsize=(12, 12))\n",
    "\n",
    "kde_season = get_kde(x_shots_season, y_shots_season)\n",
    "ax[0].imshow(kde_season, cmap='bwr', extent=[y_min, y_max, x_max, x_min])\n",
    "# ax[0].plot(y_shots_season, x_shots_season, 'k.', markersize=2)\n",
    "ax[0].set_xlim([y_min, y_max])\n",
    "ax[0].set_ylim([x_max, x_min])\n",
    "\n",
    "kde_team = get_kde(x_shots_one_team, y_shots_one_team)\n",
    "ax[1].imshow(kde_team, cmap='bwr', extent=[y_min, y_max, x_max, x_min])\n",
    "# ax[1].plot(y_shots_one_team, x_shots_one_team, 'k.', markersize=2)\n",
    "ax[1].set_xlim([y_min, y_max])\n",
    "ax[1].set_ylim([x_max, x_min])\n",
    "\n",
    "kde_diff = (kde_team - kde_season) / kde_season\n",
    "ax[2].imshow(kde_diff, cmap='bwr', extent=[y_min, y_max, x_max, x_min])\n",
    "# ax[2].plot(y_shots_one_team, x_shots_one_team, 'k.', markersize=2)\n",
    "ax[2].set_xlim([y_min, y_max])\n",
    "ax[2].set_ylim([x_max, x_min])\n",
    "plt.show()\n"
   ]
  },
  {
   "cell_type": "code",
   "execution_count": 207,
   "metadata": {},
   "outputs": [
    {
     "data": {
      "text/plain": [
       "0.001151841672788501"
      ]
     },
     "execution_count": 207,
     "metadata": {},
     "output_type": "execute_result"
    }
   ],
   "source": [
    "kde_season.max()"
   ]
  },
  {
   "cell_type": "code",
   "execution_count": 204,
   "metadata": {},
   "outputs": [
    {
     "name": "stdout",
     "output_type": "stream",
     "text": [
      "-0.9999999999999999\n",
      "1.0\n"
     ]
    }
   ],
   "source": [
    "diff_min = kde_diff.min()\n",
    "diff_max = kde_diff.max()\n",
    "\n",
    "alpha = (-2./(diff_min-diff_max)) \n",
    "beta = (diff_min + diff_max) / (diff_min - diff_max)\n",
    "kde_diff_norm = alpha * kde_diff + beta\n",
    "\n",
    "print(kde_diff_norm.min())\n",
    "print(kde_diff_norm.max())"
   ]
  },
  {
   "cell_type": "code",
   "execution_count": 203,
   "metadata": {},
   "outputs": [
    {
     "data": {
      "text/plain": [
       "<matplotlib.image.AxesImage at 0x7f04c0e8ff70>"
      ]
     },
     "execution_count": 203,
     "metadata": {},
     "output_type": "execute_result"
    },
    {
     "data": {
      "image/png": "[encoded data removed]",
      "text/plain": [
       "<Figure size 1000x1000 with 2 Axes>"
      ]
     },
     "metadata": {},
     "output_type": "display_data"
    }
   ],
   "source": [
    "x_min, x_max = 0, 89\n",
    "y_min, y_max = -42.5, 42.5\n",
    "\n",
    "y_grid, x_grid = np.mgrid[x_min:x_max:100j, y_min:y_max:100j]\n",
    "\n",
    "fig = plt.figure(figsize=(10,10))\n",
    "# plt.contourf(x_grid, y_grid, kde_diff, alpha=0.8, cmap='bwr', levels = np.linspace(kde_diff.min(), kde_diff.max(), 10), vmin=kde_diff.min(), vmax=kde_diff.max())\n",
    "plt.contourf(x_grid, y_grid, kde_diff, alpha=0.8, cmap='bwr', levels = np.linspace(kde_diff_norm.min(), kde_diff_norm.max(), 10), vmin=kde_diff_norm.min(), vmax=kde_diff_norm.max())\n",
    "plt.colorbar(orientation = 'vertical')\n",
    "plt.imshow(rink_half_img, extent=[-42.5, 42.5, 89, -11])"
   ]
  },
  {
   "cell_type": "code",
   "execution_count": null,
   "metadata": {},
   "outputs": [],
   "source": []
  }
 ],
 "metadata": {
  "kernelspec": {
   "display_name": "Python 3.9.13 ('NHL')",
   "language": "python",
   "name": "python3"
  },
  "language_info": {
   "codemirror_mode": {
    "name": "ipython",
    "version": 3
   },
   "file_extension": ".py",
   "mimetype": "text/x-python",
   "name": "python",
   "nbconvert_exporter": "python",
   "pygments_lexer": "ipython3",
   "version": "3.9.13"
  },
  "orig_nbformat": 4,
  "vscode": {
   "interpreter": {
    "hash": "92f48083c8218174491cd4f669c156bacd48c2621c374208378e0b05beed392f"
   }
  }
 },
 "nbformat": 4,
 "nbformat_minor": 2
}
