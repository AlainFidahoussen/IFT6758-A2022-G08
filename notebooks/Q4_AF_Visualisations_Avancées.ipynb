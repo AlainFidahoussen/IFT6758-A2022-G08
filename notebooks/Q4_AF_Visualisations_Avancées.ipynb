{
 "cells": [
  {
   "cell_type": "code",
   "execution_count": 2,
   "metadata": {},
   "outputs": [],
   "source": [
    "%load_ext autoreload\n",
    "%autoreload 2\n",
    "\n",
    "# To load the environment variable defined in the .env file\n",
    "from dotenv import load_dotenv\n",
    "load_dotenv();\n",
    "\n",
    "import os\n",
    "import pandas as pd\n",
    "from tqdm import tqdm\n",
    "import matplotlib.pyplot as plt\n",
    "import matplotlib.image as mpimg\n",
    "import numpy as np\n",
    "from scipy import ndimage\n",
    "from scipy import stats\n",
    "from scipy.ndimage import gaussian_filter \n",
    "from sklearn.neighbors import KernelDensity\n",
    "import seaborn as sns\n",
    "import plotly.graph_objects as go"
   ]
  },
  {
   "cell_type": "code",
   "execution_count": 1,
   "metadata": {},
   "outputs": [],
   "source": [
    "season_year = 2017\n",
    "season_type = \"Regular\""
   ]
  },
  {
   "cell_type": "code",
   "execution_count": 3,
   "metadata": {},
   "outputs": [],
   "source": [
    "import src.data.NHLDataManager as DataManager\n",
    "data_manager = DataManager.NHLDataManager()"
   ]
  },
  {
   "cell_type": "code",
   "execution_count": 4,
   "metadata": {},
   "outputs": [],
   "source": [
    "game_numbers = data_manager.get_game_numbers(season_year=season_year, season_type=season_type)\n",
    "data_season_df = data_manager.get_goals_and_shots_df(season_year=season_year, season_type=season_type, game_number=game_numbers[0])\n",
    "\n",
    "for game_number in game_numbers[1:]:\n",
    "    data_season_df = pd.concat([data_season_df, data_manager.get_goals_and_shots_df(season_year=season_year, season_type=season_type, game_number=game_number)], ignore_index=True)\n"
   ]
  },
  {
   "cell_type": "code",
   "execution_count": 5,
   "metadata": {},
   "outputs": [
    {
     "name": "stdout",
     "output_type": "stream",
     "text": [
      "          Game ID Event Index   Time Period                         Team  \\\n",
      "51072  2017020795         103  03:10      2         Buffalo Sabres (BUF)   \n",
      "53686  2017020836         118  17:01      1       New York Rangers (NYR)   \n",
      "22687  2017020353         222  16:13      2    Pittsburgh Penguins (PIT)   \n",
      "2785   2017020042          43  08:15      1    Nashville Predators (NSH)   \n",
      "38012  2017020593         279  14:15      3   Vegas Golden Knights (VGK)   \n",
      "10504  2017020162         219  00:38      3  Columbus Blue Jackets (CBJ)   \n",
      "14541  2017020225         279  15:41      3     New York Islanders (NYI)   \n",
      "64389  2017020999         131  02:42      2          Anaheim Ducks (ANA)   \n",
      "48802  2017020760         168  17:09      2       New York Rangers (NYR)   \n",
      "74963  2017021163           4  00:26      1    Philadelphia Flyers (PHI)   \n",
      "\n",
      "       Type   Shot Type        Shooter             Goalie Empty Net  \\\n",
      "51072  SHOT   Snap Shot    Kyle Okposo      Carter Hutton       NaN   \n",
      "53686  SHOT   Snap Shot  Peter Holland         Mike Smith       NaN   \n",
      "22687  SHOT  Wrist Shot   Carl Hagelin        Peter Budaj       NaN   \n",
      "2785   SHOT  Wrist Shot  Ryan Johansen      Brian Elliott       NaN   \n",
      "38012  SHOT    Backhand      Alex Tuch  Frederik Andersen       NaN   \n",
      "10504  SHOT      Tip-In  Josh Anderson         Jake Allen       NaN   \n",
      "14541  SHOT   Snap Shot  Thomas Hickey         Cam Talbot       NaN   \n",
      "64389  SHOT  Wrist Shot    Corey Perry   Sergei Bobrovsky       NaN   \n",
      "48802  GOAL   Deflected    Brady Skjei         Aaron Dell     False   \n",
      "74963  SHOT      Tip-In  Claude Giroux        Matt Murray       NaN   \n",
      "\n",
      "           Strength     X     Y  \n",
      "51072           NaN -80.0  11.0  \n",
      "53686           NaN -79.0   7.0  \n",
      "22687           NaN  58.0  32.0  \n",
      "2785            NaN  81.0   2.0  \n",
      "38012           NaN -54.0 -22.0  \n",
      "10504           NaN -82.0 -11.0  \n",
      "14541           NaN  29.0  19.0  \n",
      "64389           NaN -71.0  22.0  \n",
      "48802  Short Handed  74.0   2.0  \n",
      "74963           NaN -43.0 -19.0  \n"
     ]
    }
   ],
   "source": [
    "data_season_df.to_json(os.path.join(data_manager.data_dir, str(season_year), season_type, f\"data_season_df_{season_year}_{season_type}.json\"))\n",
    "print(data_season_df.sample(10))"
   ]
  },
  {
   "cell_type": "code",
   "execution_count": 6,
   "metadata": {},
   "outputs": [
    {
     "name": "stdout",
     "output_type": "stream",
     "text": [
      "Total number of shots during season 2017 (Regular) = 81873\n",
      "Number of games during season 2017 (Regular) = 1271\n",
      "Mean shots per hour during season 2017 (Regular) = 64.4162077104642\n",
      "Mean goals per hour during season 2017 (Regular) = 6.051140833988985\n"
     ]
    }
   ],
   "source": [
    "total_shots_league = len(data_season_df)\n",
    "number_of_games = len(data_season_df['Game ID'].unique())\n",
    "print(f'Total number of shots during season {season_year} ({season_type}) = {total_shots_league}')\n",
    "print(f'Number of games during season {season_year} ({season_type}) = {number_of_games}')\n",
    "\n",
    "mean_shots_per_hour = total_shots_league / number_of_games\n",
    "print(f'Mean shots per hour during season {season_year} ({season_type}) = {mean_shots_per_hour}')\n",
    "\n",
    "total_goals_league = len(data_season_df[data_season_df['Type'] == 'GOAL'])\n",
    "mean_goals_per_hour = total_goals_league / number_of_games\n",
    "print(f'Mean goals per hour during season {season_year} ({season_type}) = {mean_goals_per_hour}')\n"
   ]
  },
  {
   "cell_type": "code",
   "execution_count": 7,
   "metadata": {},
   "outputs": [
    {
     "name": "stdout",
     "output_type": "stream",
     "text": [
      "Number of Teams during season 2017 (Regular) = 31\n"
     ]
    }
   ],
   "source": [
    "list_of_teams = data_season_df['Team'].unique()\n",
    "number_of_teams = len(list_of_teams)\n",
    "\n",
    "print(f'Number of Teams during season {season_year} ({season_type}) = {number_of_teams}')"
   ]
  },
  {
   "cell_type": "code",
   "execution_count": 8,
   "metadata": {},
   "outputs": [],
   "source": [
    "number_of_games_by_team = int(2 * len(data_season_df['Game ID'].unique()) / len(data_season_df['Team'].unique()))\n",
    "assert(number_of_games_by_team == 82)"
   ]
  },
  {
   "cell_type": "code",
   "execution_count": 9,
   "metadata": {},
   "outputs": [
    {
     "data": {
      "text/html": [
       "<div>\n",
       "<style scoped>\n",
       "    .dataframe tbody tr th:only-of-type {\n",
       "        vertical-align: middle;\n",
       "    }\n",
       "\n",
       "    .dataframe tbody tr th {\n",
       "        vertical-align: top;\n",
       "    }\n",
       "\n",
       "    .dataframe thead th {\n",
       "        text-align: right;\n",
       "    }\n",
       "</style>\n",
       "<table border=\"1\" class=\"dataframe\">\n",
       "  <thead>\n",
       "    <tr style=\"text-align: right;\">\n",
       "      <th></th>\n",
       "      <th>Team</th>\n",
       "      <th>Type</th>\n",
       "      <th>X</th>\n",
       "      <th>Y</th>\n",
       "      <th>Period</th>\n",
       "      <th>Game ID</th>\n",
       "    </tr>\n",
       "  </thead>\n",
       "  <tbody>\n",
       "    <tr>\n",
       "      <th>0</th>\n",
       "      <td>Toronto Maple Leafs (TOR)</td>\n",
       "      <td>GOAL</td>\n",
       "      <td>84.0</td>\n",
       "      <td>-6.0</td>\n",
       "      <td>1</td>\n",
       "      <td>2017020001</td>\n",
       "    </tr>\n",
       "    <tr>\n",
       "      <th>1</th>\n",
       "      <td>Toronto Maple Leafs (TOR)</td>\n",
       "      <td>GOAL</td>\n",
       "      <td>62.0</td>\n",
       "      <td>5.0</td>\n",
       "      <td>1</td>\n",
       "      <td>2017020001</td>\n",
       "    </tr>\n",
       "    <tr>\n",
       "      <th>2</th>\n",
       "      <td>Toronto Maple Leafs (TOR)</td>\n",
       "      <td>GOAL</td>\n",
       "      <td>84.0</td>\n",
       "      <td>-22.0</td>\n",
       "      <td>1</td>\n",
       "      <td>2017020001</td>\n",
       "    </tr>\n",
       "    <tr>\n",
       "      <th>3</th>\n",
       "      <td>Toronto Maple Leafs (TOR)</td>\n",
       "      <td>GOAL</td>\n",
       "      <td>-82.0</td>\n",
       "      <td>2.0</td>\n",
       "      <td>2</td>\n",
       "      <td>2017020001</td>\n",
       "    </tr>\n",
       "    <tr>\n",
       "      <th>4</th>\n",
       "      <td>Toronto Maple Leafs (TOR)</td>\n",
       "      <td>GOAL</td>\n",
       "      <td>68.0</td>\n",
       "      <td>12.0</td>\n",
       "      <td>3</td>\n",
       "      <td>2017020001</td>\n",
       "    </tr>\n",
       "    <tr>\n",
       "      <th>5</th>\n",
       "      <td>Toronto Maple Leafs (TOR)</td>\n",
       "      <td>GOAL</td>\n",
       "      <td>85.0</td>\n",
       "      <td>-6.0</td>\n",
       "      <td>3</td>\n",
       "      <td>2017020001</td>\n",
       "    </tr>\n",
       "    <tr>\n",
       "      <th>6</th>\n",
       "      <td>Winnipeg Jets (WPG)</td>\n",
       "      <td>GOAL</td>\n",
       "      <td>-82.0</td>\n",
       "      <td>8.0</td>\n",
       "      <td>3</td>\n",
       "      <td>2017020001</td>\n",
       "    </tr>\n",
       "    <tr>\n",
       "      <th>7</th>\n",
       "      <td>Toronto Maple Leafs (TOR)</td>\n",
       "      <td>GOAL</td>\n",
       "      <td>84.0</td>\n",
       "      <td>-3.0</td>\n",
       "      <td>3</td>\n",
       "      <td>2017020001</td>\n",
       "    </tr>\n",
       "    <tr>\n",
       "      <th>8</th>\n",
       "      <td>Winnipeg Jets (WPG)</td>\n",
       "      <td>GOAL</td>\n",
       "      <td>-80.0</td>\n",
       "      <td>1.0</td>\n",
       "      <td>3</td>\n",
       "      <td>2017020001</td>\n",
       "    </tr>\n",
       "    <tr>\n",
       "      <th>9</th>\n",
       "      <td>Winnipeg Jets (WPG)</td>\n",
       "      <td>SHOT</td>\n",
       "      <td>-36.0</td>\n",
       "      <td>-28.0</td>\n",
       "      <td>1</td>\n",
       "      <td>2017020001</td>\n",
       "    </tr>\n",
       "    <tr>\n",
       "      <th>10</th>\n",
       "      <td>Winnipeg Jets (WPG)</td>\n",
       "      <td>SHOT</td>\n",
       "      <td>-75.0</td>\n",
       "      <td>1.0</td>\n",
       "      <td>1</td>\n",
       "      <td>2017020001</td>\n",
       "    </tr>\n",
       "    <tr>\n",
       "      <th>11</th>\n",
       "      <td>Winnipeg Jets (WPG)</td>\n",
       "      <td>SHOT</td>\n",
       "      <td>-73.0</td>\n",
       "      <td>10.0</td>\n",
       "      <td>1</td>\n",
       "      <td>2017020001</td>\n",
       "    </tr>\n",
       "    <tr>\n",
       "      <th>12</th>\n",
       "      <td>Toronto Maple Leafs (TOR)</td>\n",
       "      <td>SHOT</td>\n",
       "      <td>80.0</td>\n",
       "      <td>-3.0</td>\n",
       "      <td>1</td>\n",
       "      <td>2017020001</td>\n",
       "    </tr>\n",
       "    <tr>\n",
       "      <th>13</th>\n",
       "      <td>Winnipeg Jets (WPG)</td>\n",
       "      <td>SHOT</td>\n",
       "      <td>-44.0</td>\n",
       "      <td>-21.0</td>\n",
       "      <td>1</td>\n",
       "      <td>2017020001</td>\n",
       "    </tr>\n",
       "    <tr>\n",
       "      <th>14</th>\n",
       "      <td>Winnipeg Jets (WPG)</td>\n",
       "      <td>SHOT</td>\n",
       "      <td>-38.0</td>\n",
       "      <td>-5.0</td>\n",
       "      <td>1</td>\n",
       "      <td>2017020001</td>\n",
       "    </tr>\n",
       "  </tbody>\n",
       "</table>\n",
       "</div>"
      ],
      "text/plain": [
       "                         Team  Type     X     Y Period     Game ID\n",
       "0   Toronto Maple Leafs (TOR)  GOAL  84.0  -6.0      1  2017020001\n",
       "1   Toronto Maple Leafs (TOR)  GOAL  62.0   5.0      1  2017020001\n",
       "2   Toronto Maple Leafs (TOR)  GOAL  84.0 -22.0      1  2017020001\n",
       "3   Toronto Maple Leafs (TOR)  GOAL -82.0   2.0      2  2017020001\n",
       "4   Toronto Maple Leafs (TOR)  GOAL  68.0  12.0      3  2017020001\n",
       "5   Toronto Maple Leafs (TOR)  GOAL  85.0  -6.0      3  2017020001\n",
       "6         Winnipeg Jets (WPG)  GOAL -82.0   8.0      3  2017020001\n",
       "7   Toronto Maple Leafs (TOR)  GOAL  84.0  -3.0      3  2017020001\n",
       "8         Winnipeg Jets (WPG)  GOAL -80.0   1.0      3  2017020001\n",
       "9         Winnipeg Jets (WPG)  SHOT -36.0 -28.0      1  2017020001\n",
       "10        Winnipeg Jets (WPG)  SHOT -75.0   1.0      1  2017020001\n",
       "11        Winnipeg Jets (WPG)  SHOT -73.0  10.0      1  2017020001\n",
       "12  Toronto Maple Leafs (TOR)  SHOT  80.0  -3.0      1  2017020001\n",
       "13        Winnipeg Jets (WPG)  SHOT -44.0 -21.0      1  2017020001\n",
       "14        Winnipeg Jets (WPG)  SHOT -38.0  -5.0      1  2017020001"
      ]
     },
     "execution_count": 9,
     "metadata": {},
     "output_type": "execute_result"
    }
   ],
   "source": [
    "data_season_df[['Team', 'Type', 'X', 'Y', 'Period', 'Game ID']].head(15)"
   ]
  },
  {
   "cell_type": "code",
   "execution_count": 10,
   "metadata": {},
   "outputs": [
    {
     "data": {
      "text/plain": [
       "Team\n",
       "Chicago Blackhawks (CHI)     2805\n",
       "San Jose Sharks (SJS)        2736\n",
       "Dallas Stars (DAL)           2579\n",
       "New York Rangers (NYR)       2562\n",
       "Toronto Maple Leafs (TOR)    2674\n",
       "Carolina Hurricanes (CAR)    2796\n",
       "Montréal Canadiens (MTL)     2710\n",
       "Minnesota Wild (MIN)         2501\n",
       "Edmonton Oilers (EDM)        2756\n",
       "Washington Capitals (WSH)    2388\n",
       "Philadelphia Flyers (PHI)    2664\n",
       "New Jersey Devils (NJD)      2628\n",
       "Vancouver Canucks (VAN)      2486\n",
       "Arizona Coyotes (ARI)        2472\n",
       "Buffalo Sabres (BUF)         2565\n",
       "Los Angeles Kings (LAK)      2553\n",
       "Ottawa Senators (OTT)        2542\n",
       "Anaheim Ducks (ANA)          2514\n",
       "Detroit Red Wings (DET)      2517\n",
       "Pittsburgh Penguins (PIT)    2832\n",
       "dtype: int64"
      ]
     },
     "execution_count": 10,
     "metadata": {},
     "output_type": "execute_result"
    }
   ],
   "source": [
    "df_total_shots_season_by_team = data_season_df[['Team', 'Type', 'X', 'Y']].dropna().groupby('Team').size()\n",
    "df_total_shots_season_by_team.sample(20)"
   ]
  },
  {
   "cell_type": "code",
   "execution_count": 11,
   "metadata": {},
   "outputs": [
    {
     "name": "stdout",
     "output_type": "stream",
     "text": [
      "Team\n",
      "Edmonton Oilers (EDM)        33.609756\n",
      "Tampa Bay Lightning (TBL)    32.878049\n",
      "New York Islanders (NYI)     31.548780\n",
      "Buffalo Sabres (BUF)         31.280488\n",
      "Minnesota Wild (MIN)         30.500000\n",
      "Ottawa Senators (OTT)        31.000000\n",
      "Montréal Canadiens (MTL)     33.048780\n",
      "Winnipeg Jets (WPG)          32.475610\n",
      "Carolina Hurricanes (CAR)    34.097561\n",
      "Toronto Maple Leafs (TOR)    32.609756\n",
      "dtype: float64\n"
     ]
    }
   ],
   "source": [
    "df_mean_shots_per_team_by_hour = df_total_shots_season_by_team / number_of_games_by_team\n",
    "print(df_mean_shots_per_team_by_hour.sample(10))"
   ]
  },
  {
   "cell_type": "code",
   "execution_count": 12,
   "metadata": {},
   "outputs": [],
   "source": [
    "def convert_shots_to_offensize_zone(x_shots, y_shots):\n",
    "\n",
    "   # Shots taken from behind the goal is from the defensive zone.\n",
    "   # Since we are only interested in shots taken in the offensive zone, we skip them\n",
    "   shots_defzone_mask = (x_shots < -89) | (x_shots > 89)\n",
    "   x_shots = x_shots[~shots_defzone_mask] \n",
    "   y_shots = y_shots[~shots_defzone_mask]\n",
    "\n",
    "   # Flip the y coordinates if x is negative\n",
    "   shots_xneg_mask = x_shots < 0\n",
    "   x_shots = abs(x_shots)\n",
    "   y_shots[shots_xneg_mask] = -y_shots[shots_xneg_mask] \n",
    "\n",
    "   # Reverse the x axis, so the goal is at 0\n",
    "   x_shots = 89 - x_shots\n",
    "\n",
    "   return [x_shots, y_shots]"
   ]
  },
  {
   "cell_type": "code",
   "execution_count": 13,
   "metadata": {},
   "outputs": [
    {
     "name": "stdout",
     "output_type": "stream",
     "text": [
      "1271\n"
     ]
    }
   ],
   "source": [
    "x_shots_season = data_season_df['X'].dropna().to_numpy().copy().astype(np.float32)\n",
    "y_shots_season = data_season_df['Y'].dropna().to_numpy().copy().astype(np.float32)\n",
    "\n",
    "[x_shots_season, y_shots_season] = convert_shots_to_offensize_zone(x_shots_season, y_shots_season)\n",
    "\n",
    "number_of_games = len(data_season_df['Game ID'].unique())\n",
    "print(number_of_games)\n",
    "\n",
    "#print(x_shots_season.__len__())"
   ]
  },
  {
   "cell_type": "code",
   "execution_count": 14,
   "metadata": {},
   "outputs": [],
   "source": [
    "data_one_team_df = data_season_df.loc[data_season_df['Team'] == \"Buffalo Sabres (BUF)\"]\n",
    "# data_one_team_df = data_season_df.loc[data_season_df['Team'] == \"Tampa Bay Lightning (TBL)\"]\n",
    "\n",
    "\n",
    "df_total_shots_one_team = data_one_team_df[['Team', 'Type', 'X', 'Y']].dropna()\n",
    "\n",
    "x_shots_one_team = df_total_shots_one_team['X'].dropna().to_numpy().copy().astype(np.float32)\n",
    "y_shots_one_team = df_total_shots_one_team['Y'].dropna().to_numpy().copy().astype(np.float32)\n",
    "\n",
    "[x_shots_one_team, y_shots_one_team] = convert_shots_to_offensize_zone(x_shots_one_team, y_shots_one_team)\n"
   ]
  },
  {
   "cell_type": "code",
   "execution_count": 15,
   "metadata": {},
   "outputs": [],
   "source": [
    "def get_shots_hist2D(x_shots, y_shots, num_pts_x=20, num_pts_y=20):\n",
    "\n",
    "    x_min, x_max = 0.0, 89.0\n",
    "    y_min, y_max = -42.5, 42.5\n",
    "\n",
    "    x_grid = np.linspace(x_min-1, x_max+1, num_pts_x+1)\n",
    "    y_grid = np.linspace(y_min-1, y_max+1, num_pts_y+1)\n",
    "\n",
    "    ret = stats.binned_statistic_2d(x_shots.tolist(), y_shots.tolist(), None, 'count', bins=[x_grid.tolist(), y_grid.tolist()])\n",
    "\n",
    "    x_bins = (0.5 * (x_grid[1:] + x_grid[0:-1]))\n",
    "    y_bins = (0.5 * (y_grid[1:] + y_grid[0:-1]))\n",
    "\n",
    "    return  ret.statistic, x_bins, y_bins\n"
   ]
  },
  {
   "cell_type": "code",
   "execution_count": 16,
   "metadata": {},
   "outputs": [
    {
     "name": "stdout",
     "output_type": "stream",
     "text": [
      "0.4634146341463415\n"
     ]
    },
    {
     "data": {
      "image/png": "[encoded data removed]",
      "text/plain": [
       "<Figure size 1200x1200 with 3 Axes>"
      ]
     },
     "metadata": {},
     "output_type": "display_data"
    }
   ],
   "source": [
    "shots_hist2D_season, _, _ = get_shots_hist2D(x_shots_season, y_shots_season, num_pts_x=40, num_pts_y=20)\n",
    "shots_hist2D_season_by_hour = shots_hist2D_season / (number_of_games*2)\n",
    "\n",
    "shots_hist2D_one_team, _, _ = get_shots_hist2D(x_shots_one_team, y_shots_one_team, num_pts_x=40, num_pts_y=20)\n",
    "shots_hist2D_one_team_by_hour = shots_hist2D_one_team / number_of_games_by_team\n",
    "\n",
    "\n",
    "fig, ax = plt.subplots(1, 3, figsize=(12,12))\n",
    "\n",
    "ax[0].imshow(shots_hist2D_season_by_hour, extent=[-42.5, 42.5, 89, 0])\n",
    "ax[1].imshow(shots_hist2D_one_team_by_hour, extent=[-42.5, 42.5, 89, 0])\n",
    "ax[2].imshow(shots_hist2D_one_team_by_hour-shots_hist2D_season_by_hour, extent=[-42.5, 42.5, 89, 0])\n",
    "\n",
    "print(shots_hist2D_one_team_by_hour.max())\n",
    "plt.show()\n"
   ]
  },
  {
   "cell_type": "code",
   "execution_count": 77,
   "metadata": {},
   "outputs": [
    {
     "data": {
      "text/plain": [
       "<matplotlib.image.AxesImage at 0x7fcb4717d040>"
      ]
     },
     "execution_count": 77,
     "metadata": {},
     "output_type": "execute_result"
    },
    {
     "data": {
      "image/png": "[encoded data removed]",
      "text/plain": [
       "<Figure size 1000x1000 with 2 Axes>"
      ]
     },
     "metadata": {},
     "output_type": "display_data"
    }
   ],
   "source": [
    "shots_hist2D_season, x_grid, y_grid = get_shots_hist2D(x_shots_season, y_shots_season, num_pts_x=40, num_pts_y=20)\n",
    "shots_hist2D_season_by_hour = shots_hist2D_season / (number_of_games*2)\n",
    "\n",
    "shots_hist2D_one_team, x_grid, y_grid = get_shots_hist2D(x_shots_one_team, y_shots_one_team, num_pts_x=40, num_pts_y=20)\n",
    "shots_hist2D_one_team_by_hour = shots_hist2D_one_team / (number_of_games_by_team)\n",
    "\n",
    "shots_hist2D_season_by_hour_s = gaussian_filter(shots_hist2D_season_by_hour, sigma = 1.5)\n",
    "shots_hist2D_one_team_by_hour_s = gaussian_filter(shots_hist2D_one_team_by_hour, sigma = 1.5)\n",
    "\n",
    "diff = (shots_hist2D_one_team_by_hour_s-shots_hist2D_season_by_hour_s) / shots_hist2D_season_by_hour_s\n",
    "\n",
    "# Not necessary\n",
    "diff_min = diff.min()\n",
    "diff_max = diff.max()\n",
    "alpha = (-2./(diff_min-diff_max)) \n",
    "beta = (diff_min + diff_max) / (diff_min - diff_max)\n",
    "diff_norm = alpha * diff + beta\n",
    "\n",
    "rink_img = (255 * mpimg.imread(\"./figures/nhl_rink.png\")).astype(int)\n",
    "(h, w, c) = rink_img.shape\n",
    "rink_half_img = rink_img[:, int(w/2):, :]\n",
    "rink_half_img = ndimage.rotate(rink_half_img, 90).astype(int)\n",
    "\n",
    "fig = plt.figure(figsize=(10,10))\n",
    "plt.contourf(y_grid, x_grid, diff, alpha=0.8, cmap='bwr', levels = np.linspace(diff.min(), diff.max(), 12), vmin=diff.min(), vmax=diff.max())\n",
    "plt.colorbar(orientation = 'vertical')\n",
    "plt.imshow(rink_half_img, extent=[-42.5, 42.5, 89, -11])\n",
    "\n",
    "# plt.contourf(y_grid, x_grid, diff_norm, alpha=0.8, cmap='bwr', levels = np.linspace(-1, 1, 20))\n"
   ]
  },
  {
   "cell_type": "code",
   "execution_count": 85,
   "metadata": {},
   "outputs": [
    {
     "data": {
      "application/vnd.plotly.v1+json": {
       "config": {
        "plotlyServerURL": "https://plot.ly"
       },
       "data": [
        {
         "colorscale": [
          [
           0,
           "rgb(103,0,31)"
          ],
          [
           0.1,
           "rgb(178,24,43)"
          ],
          [
           0.2,
           "rgb(214,96,77)"
          ],
          [
           0.3,
           "rgb(244,165,130)"
          ],
          [
           0.4,
           "rgb(253,219,199)"
          ],
          [
           0.5,
           "rgb(247,247,247)"
          ],
          [
           0.6,
           "rgb(209,229,240)"
          ],
          [
           0.7,
           "rgb(146,197,222)"
          ],
          [
           0.8,
           "rgb(67,147,195)"
          ],
          [
           0.9,
           "rgb(33,102,172)"
          ],
          [
           1,
           "rgb(5,48,97)"
          ]
         ],
         "type": "heatmap",
         "z": [
          [
           -0.0922213526386684,
           -0.08138439490049873,
           -0.07632444747581675,
           -0.09062217418404886,
           -0.09606160299363176,
           -0.051783941924499824,
           0.013158967114549338,
           0.04663108171128852,
           0.0313088126127388,
           -0.02505086422962056,
           -0.08306231456601937,
           -0.10284824119084082,
           -0.095808891584791,
           -0.07842143053648336,
           -0.03495892870980995,
           0.04176815211715929,
           0.1390048448626638,
           0.2916879544614901,
           0.5535973565717345,
           0.8718851423472282
          ],
          [
           0.20569625611157308,
           0.1172230380998907,
           0.018452244510285785,
           -0.06725413613107825,
           -0.10888596591012427,
           -0.08264898907654923,
           -0.030874455763254406,
           -0.00911349103311502,
           -0.030399854874077033,
           -0.07609386387791248,
           -0.1080795966334971,
           -0.10559576103468728,
           -0.08412026016158376,
           -0.0536018446216219,
           0.0028421337113212547,
           0.09159787473491365,
           0.20694463736321825,
           0.3878946286000464,
           0.669750575936619,
           0.9751710663525452
          ],
          [
           0.37091455491080294,
           0.22638173414641233,
           0.07232504747972954,
           -0.04654774903431881,
           -0.10801371413200213,
           -0.10444075404598323,
           -0.07300305839240535,
           -0.061500061108790346,
           -0.08061553454370095,
           -0.10999004730904598,
           -0.12101521107544254,
           -0.1054221016044696,
           -0.07636256943299853,
           -0.039396208802411715,
           0.020988946521994702,
           0.11288334896057631,
           0.23806986828369608,
           0.43547275381663003,
           0.7228353784286637,
           1.008078525377595
          ],
          [
           0.3217403931337457,
           0.19668542246275872,
           0.06492067255077764,
           -0.02920957522238601,
           -0.08079231736719406,
           -0.0978125214282557,
           -0.0944751640416243,
           -0.09517862121203174,
           -0.10892581956592697,
           -0.12271508722731274,
           -0.12088772823889758,
           -0.10252735234788211,
           -0.07697585889338196,
           -0.04616555122082799,
           0.004976887664540895,
           0.08731955089482031,
           0.20688282706117977,
           0.40011653743572617,
           0.6761175482723811,
           0.9394110283711927
          ],
          [
           0.1873183114177324,
           0.1131528551594794,
           0.03379956967926147,
           -0.016165028688002597,
           -0.044716364485636664,
           -0.07541407772241832,
           -0.1021857415747187,
           -0.11803166738319111,
           -0.12696297267879467,
           -0.12751175348615612,
           -0.11807184253320267,
           -0.10418962022444477,
           -0.0928736879107634,
           -0.0801555856459155,
           -0.04501293601038233,
           0.024292533146277266,
           0.1274162356476617,
           0.2953047816106317,
           0.5373400351096013,
           0.7654918431979387
          ],
          [
           0.13894907946329133,
           0.08773661710607418,
           0.028115471685740044,
           -0.007631286490111731,
           -0.027835485172711352,
           -0.06600852277059321,
           -0.11397227064896444,
           -0.14242294662246663,
           -0.14677256054808915,
           -0.13620117615714408,
           -0.12219291699892856,
           -0.11678441386786119,
           -0.12647686264777172,
           -0.1392091739128489,
           -0.1226922773865251,
           -0.06526126564352779,
           0.021275233634269315,
           0.15752422269693098,
           0.35403679136302124,
           0.5388291193234248
          ],
          [
           0.2395142601094585,
           0.16051638568691426,
           0.06565763334222104,
           0.0003753987955188064,
           -0.03639690086994386,
           -0.0819634814125468,
           -0.13866942706188545,
           -0.17295804080015256,
           -0.1728055629169018,
           -0.1537176931940801,
           -0.13672303897245874,
           -0.1386447229612333,
           -0.16556172524995624,
           -0.19886998160426356,
           -0.200282405611915,
           -0.15736436267776407,
           -0.08062597862628296,
           0.04270246361559708,
           0.21589099537292972,
           0.37689799447272054
          ],
          [
           0.4393639527072719,
           0.2983201001853045,
           0.1306160793291845,
           0.0069775756567615225,
           -0.06301468047286057,
           -0.1190927114169798,
           -0.17761032908509414,
           -0.2123060767802835,
           -0.2079355390035165,
           -0.18264513471302762,
           -0.16269542444276294,
           -0.16570067744122055,
           -0.19516415932963066,
           -0.2310753691209727,
           -0.24077097065389821,
           -0.2117688388369401,
           -0.14098741046155108,
           -0.013709189425040368,
           0.16298735067521786,
           0.32391447750841623
          ],
          [
           0.6603662930952674,
           0.4512333516806354,
           0.20358939583852145,
           0.013171982699211125,
           -0.0982440730895483,
           -0.1701628320540731,
           -0.23225913956952338,
           -0.2690623751389221,
           -0.2627823820183869,
           -0.23116545797550225,
           -0.20402160659422422,
           -0.19733675890548477,
           -0.21106015843211282,
           -0.22944162912012733,
           -0.23121011725393376,
           -0.20405265922465482,
           -0.13320451805178707,
           -0.0001026927068324161,
           0.18089822584596388,
           0.3400910381771533
          ],
          [
           0.8040753310838328,
           0.5503889992947189,
           0.253187503370516,
           0.018288605412341258,
           -0.12519114567439615,
           -0.2125637549965877,
           -0.2826062119867611,
           -0.32969221591550774,
           -0.3297326320403135,
           -0.29304001515283085,
           -0.25220284316801367,
           -0.2249173646673568,
           -0.21225794529642794,
           -0.20599476933073582,
           -0.19074750995137663,
           -0.1500221466125663,
           -0.06591523257772945,
           0.07330201142791445,
           0.2444822389725197,
           0.3832820999647095
          ],
          [
           0.8395118941990775,
           0.5680129839915109,
           0.2573539891537394,
           0.01133721287864733,
           -0.14054101937388574,
           -0.23062102513597613,
           -0.3033510124623335,
           -0.3598896652128735,
           -0.36952744447784475,
           -0.3310880622016817,
           -0.27657113756714696,
           -0.22863397694415385,
           -0.19436196959824906,
           -0.1707985151806819,
           -0.14022787157793007,
           -0.07933998033822447,
           0.027053316490153245,
           0.17464855926189282,
           0.3297280621687638,
           0.4411965512197346
          ],
          [
           0.8354525791678284,
           0.5509821126391817,
           0.23649790421766426,
           -0.005792058780277223,
           -0.15075313324100795,
           -0.23301799305312096,
           -0.30033934230229636,
           -0.3554328394009457,
           -0.3647185179506161,
           -0.32239439505027606,
           -0.25874558219183225,
           -0.19875686710315824,
           -0.1533856753652754,
           -0.12083765868275158,
           -0.08073684398612017,
           -0.004546948417869842,
           0.12205902777201191,
           0.28051688099272354,
           0.4279083652803249,
           0.5249868467676098
          ],
          [
           0.8553272309339,
           0.5578960132080466,
           0.23839341239656053,
           0.000276149199570101,
           -0.1378098418873091,
           -0.21492826874013485,
           -0.27754754836325984,
           -0.32556951397044726,
           -0.32631643706289465,
           -0.2770944938624712,
           -0.20853148767258448,
           -0.1456778544974533,
           -0.09916155837629391,
           -0.06511848358687275,
           -0.02342574248049262,
           0.05778676184966998,
           0.19781691250592726,
           0.3705543175338827,
           0.5228527468410228,
           0.6200336673831258
          ],
          [
           0.8927721771828603,
           0.6056490926858833,
           0.2950498013811738,
           0.0611200841119,
           -0.07758615385790818,
           -0.1569940043730893,
           -0.2181638258664384,
           -0.2613734521651574,
           -0.25960719959803513,
           -0.2129790498765361,
           -0.15190410789775932,
           -0.10104439259056684,
           -0.06593479127756764,
           -0.036985607249761084,
           0.002808045884869513,
           0.08484757826002216,
           0.23348811725565163,
           0.41723872619901115,
           0.5691267679392991,
           0.6556656626888238
          ],
          [
           0.8909065052191996,
           0.6521571229145537,
           0.3766840176039423,
           0.1529472846399139,
           0.011422514755113074,
           -0.06874471897929553,
           -0.12354564105127105,
           -0.164487610591942,
           -0.17601157948030102,
           -0.15384089451858302,
           -0.12236539558070769,
           -0.10178608532726695,
           -0.08486863486395012,
           -0.05640453719148182,
           -0.011133796541748326,
           0.07453042603313893,
           0.22575265578357204,
           0.40630532706931116,
           0.53626160946916,
           0.5852173489702859
          ],
          [
           0.7994197103991801,
           0.6327381525200273,
           0.4148613942044421,
           0.21687575034201573,
           0.08373439366374805,
           0.013477725809671168,
           -0.027377416413700117,
           -0.0684223350882085,
           -0.10554683487248451,
           -0.12269314980525652,
           -0.13446820762829098,
           -0.15197575774840402,
           -0.14862797486585902,
           -0.10830032393526026,
           -0.04801109145723183,
           0.041985631466475375,
           0.18414882045702233,
           0.34069670744394376,
           0.42796499729524656,
           0.42316319409237096
          ],
          [
           0.6203780699872621,
           0.5184702245298645,
           0.3625730293779447,
           0.20693590358272626,
           0.10109238490871708,
           0.05249954307102214,
           0.02593746534800428,
           -0.02033074207728568,
           -0.08120343954910665,
           -0.12695128979780984,
           -0.16952635780743183,
           -0.2136676072601214,
           -0.21449821413932116,
           -0.1577272081830459,
           -0.08173182391261272,
           0.009761313681615936,
           0.132467545703632,
           0.24869735592745587,
           0.28303116727436467,
           0.2267671395791544
          ],
          [
           0.45847862924702276,
           0.38257391808926405,
           0.26159912998753854,
           0.14142984430319677,
           0.06554625861717,
           0.03722461984534741,
           0.01590645178809708,
           -0.03988528740893318,
           -0.11022030171577742,
           -0.15614602495284094,
           -0.19769431340490282,
           -0.24222956155142594,
           -0.23869126579476624,
           -0.17432783797446713,
           -0.09378164010696208,
           -0.005887787371825979,
           0.09797832743084887,
           0.18203526187806401,
           0.18505629471640772,
           0.1094895940053634
          ],
          [
           0.4016159465930734,
           0.3221519147372092,
           0.20611776195775405,
           0.09553858275920396,
           0.025353773285763735,
           -0.005009817534422759,
           -0.03361585891444286,
           -0.09353610349716707,
           -0.15488517753258968,
           -0.1798037190390329,
           -0.19829857117944286,
           -0.22599819785705444,
           -0.21815713552018307,
           -0.16043406702167537,
           -0.0884278270697686,
           -0.0081536311835332,
           0.08711410347017833,
           0.16954507365365673,
           0.19213094901388839,
           0.1523763363868367
          ],
          [
           0.4137238615442811,
           0.3384727300511919,
           0.22410306647572173,
           0.10503522745858077,
           0.012284908632038861,
           -0.04694745330886884,
           -0.09105465351079384,
           -0.13764001840096884,
           -0.16523903705719212,
           -0.155215518244965,
           -0.14622415449314957,
           -0.16148194012111733,
           -0.16500531891468187,
           -0.13049204976680115,
           -0.07345566740071299,
           0.002556864097364813,
           0.10291778874626098,
           0.21211842854969634,
           0.2990402788351548,
           0.34472884787869434
          ],
          [
           0.44991079334779266,
           0.3881442160601099,
           0.27470316029508907,
           0.1386555439802431,
           0.014090808540703761,
           -0.07824097200465645,
           -0.13037853899095742,
           -0.14170050951959542,
           -0.11483894085882325,
           -0.06685404737346926,
           -0.04052339550382892,
           -0.05979380376411877,
           -0.09480734880141717,
           -0.09670050016347334,
           -0.05340439378527133,
           0.027357358920295487,
           0.14213969841378063,
           0.28528326878120325,
           0.4444898377241985,
           0.589380596659381
          ],
          [
           0.5105814324492154,
           0.4376334483593125,
           0.30594004991225415,
           0.1471132832750929,
           0.00009024768731312855,
           -0.10387184290560858,
           -0.1400303301502709,
           -0.10163851061929394,
           -0.022937134642958577,
           0.046336221258313874,
           0.06960640429956914,
           0.030445341733128427,
           -0.04201657722784133,
           -0.07532191439310101,
           -0.03623611198117917,
           0.054546492653137706,
           0.17950943873698605,
           0.33799753237266705,
           0.5328309145985369,
           0.7336943946696559
          ],
          [
           0.6063773273078572,
           0.4885734021656126,
           0.3177454961360192,
           0.13095987274391832,
           -0.029767602095905475,
           -0.12657794027420177,
           -0.13131695309298408,
           -0.04739778011685223,
           0.06459936673709558,
           0.1398532295813237,
           0.1492496426083943,
           0.08363473670354675,
           -0.020111900450990504,
           -0.06949939637134746,
           -0.02575069088995235,
           0.07240395847551935,
           0.19529336474804676,
           0.3435081887937098,
           0.5246940477533135,
           0.713368632713429
          ],
          [
           0.7173730285510013,
           0.5558016860830862,
           0.3470435315640821,
           0.13424765650308634,
           -0.03694925127405081,
           -0.12565985099385965,
           -0.10999044776776837,
           -0.006440271571809655,
           0.11726871364286282,
           0.1931368931698222,
           0.1880348088015477,
           0.09651498335084739,
           -0.028945896711364737,
           -0.08185337925681936,
           -0.030652294251016742,
           0.07019438866686484,
           0.1836254349019404,
           0.3073070928941848,
           0.4442033753399053,
           0.5744171449401025
          ],
          [
           0.7831207646077021,
           0.620007349794561,
           0.40343532446166697,
           0.1819267792278155,
           0.00645691081482974,
           -0.08338535678636502,
           -0.07457768178811519,
           0.016091872409315575,
           0.1329507891670629,
           0.2024458593252108,
           0.17827566401944336,
           0.06168701883278067,
           -0.07587373413326194,
           -0.12275283746120146,
           -0.061352457949768714,
           0.04230509952592538,
           0.14639027920323291,
           0.2434407778219065,
           0.3305595005546375,
           0.3959412310134004
          ],
          [
           0.7573792175343065,
           0.6400663096440008,
           0.4559588675023746,
           0.25274650889322253,
           0.08504372750470586,
           -0.012991658050799399,
           -0.0329778584847227,
           0.02573724348600875,
           0.12719778370880946,
           0.18240731613458713,
           0.13191936775182322,
           -0.009476922206895872,
           -0.15334314169976604,
           -0.1892783308306483,
           -0.11373803865041462,
           -0.004836386433814657,
           0.08956936336760671,
           0.16000124912153735,
           0.20468795085192523,
           0.2225720976781766
          ],
          [
           0.6451340529976225,
           0.595848947803109,
           0.47479207269598206,
           0.31914722159898484,
           0.17789176528379594,
           0.07223832610193372,
           0.011978109633965619,
           0.034359175543827274,
           0.12438193446851305,
           0.16400107584308737,
           0.08343269666910225,
           -0.08246936373084726,
           -0.23295801647107187,
           -0.2624561338564071,
           -0.17589624560959038,
           -0.06519803665575921,
           0.012790409654293152,
           0.052529387776742674,
           0.062131809243740094,
           0.05133453304644229
          ],
          [
           0.5148804341894538,
           0.5225607620441056,
           0.47803603015345225,
           0.40278753738264067,
           0.31833489330898823,
           0.21059234302642962,
           0.09525501444360138,
           0.08192034795088644,
           0.17936363467592173,
           0.21389849858962295,
           0.10258460636122922,
           -0.09421891510626199,
           -0.2663342028016537,
           -0.31449956422651093,
           -0.2398349924060622,
           -0.14277454696358793,
           -0.09307366735336732,
           -0.08937695647231504,
           -0.10674443996434385,
           -0.1273712198019559
          ],
          [
           0.5063119457126573,
           0.5379469474324172,
           0.5536770680941746,
           0.5664359279915733,
           0.5522184158259444,
           0.435783704211873,
           0.24875042726061505,
           0.21225184473276726,
           0.33643392260773686,
           0.3807606552654512,
           0.25375607229956454,
           0.030343694176525503,
           -0.1817578372149886,
           -0.29286835406336187,
           -0.27547621397126465,
           -0.21320015181609417,
           -0.19367243325016195,
           -0.21856705489707967,
           -0.24757455257174488,
           -0.2597041249135365
          ],
          [
           0.5708132446939177,
           0.6107494842542057,
           0.6369838488391882,
           0.64939806499007,
           0.6154965945324743,
           0.4678532606158576,
           0.2814690867139417,
           0.2783514151055329,
           0.4121476688015442,
           0.4661643363944756,
           0.36481832032328126,
           0.1681558735633153,
           -0.041358112739644425,
           -0.19709213801988024,
           -0.2362734437853164,
           -0.19245531641871053,
           -0.16218746811640541,
           -0.17128519000771755,
           -0.18597624606108762,
           -0.18540886404447599
          ],
          [
           0.5344000000222169,
           0.5516185359639662,
           0.5364084346225609,
           0.47728739180955876,
           0.36692167152381217,
           0.21766112945293942,
           0.12894173309096257,
           0.1847150034627987,
           0.3009998308669828,
           0.3528796028060539,
           0.29047458907936596,
           0.14950285729233956,
           -0.01683966231640238,
           -0.16483966365339117,
           -0.21173868321069764,
           -0.1415249815147515,
           -0.04444789990773238,
           0.02595079494987797,
           0.07700053505353374,
           0.11675391465595267
          ],
          [
           0.5688767560588294,
           0.49488268037467475,
           0.3824921165650635,
           0.24826875752655697,
           0.10564228060623435,
           -0.007687362248358899,
           -0.027290973905170494,
           0.03568930937227173,
           0.10732659998275385,
           0.13240461859764344,
           0.07945793673927058,
           -0.030890694327567563,
           -0.16061052290083036,
           -0.27511854414956916,
           -0.2889283152168489,
           -0.1660115598814608,
           0.013133789836415768,
           0.1814456859080301,
           0.32173999326342884,
           0.4203733013854542
          ],
          [
           0.7496682559458716,
           0.5587095546692292,
           0.3254556718069581,
           0.1189083745302051,
           -0.03206803451288955,
           -0.11226509055211636,
           -0.1062712220552136,
           -0.052227961277430686,
           -0.0179819996994452,
           -0.04291355007616171,
           -0.14022479841361307,
           -0.27393027460785774,
           -0.3889436724549376,
           -0.44561613491561225,
           -0.3957100066515834,
           -0.23170290580873346,
           -0.017349993280657942,
           0.18886622554273294,
           0.35975525796107566,
           0.473853234373128
          ],
          [
           0.8582945512342629,
           0.6094480582168861,
           0.31505857486480404,
           0.07360560214895585,
           -0.07789420075262599,
           -0.1389150076686175,
           -0.10442573689528797,
           -0.014698448166194948,
           0.0272306104701366,
           -0.03897827537128439,
           -0.20175079274060959,
           -0.3893377154291771,
           -0.5079987335559272,
           -0.5054196229553977,
           -0.4056263435895028,
           -0.25432094623192836,
           -0.0831618739556221,
           0.0746454311897794,
           0.1971981991109377,
           0.2743578615091035
          ],
          [
           0.6730169245652335,
           0.4492773818223568,
           0.1998589496503621,
           0.009461650941131154,
           -0.1006137499471052,
           -0.13107389623356752,
           -0.05920109925007808,
           0.07488232771314211,
           0.1428102366342329,
           0.08679793856183979,
           -0.07003133012879938,
           -0.2673521962986551,
           -0.4051407633469768,
           -0.40380564639615696,
           -0.322301781599809,
           -0.24089214030520795,
           -0.1627556473410585,
           -0.09102080240001142,
           -0.028282681071092164,
           0.025649586370231823
          ],
          [
           0.2838985195174471,
           0.12860503947396895,
           -0.008286240875340765,
           -0.0727784358048519,
           -0.07939958340686434,
           -0.05200876016725534,
           0.02099939308314551,
           0.1153928494353845,
           0.16569370154364976,
           0.16010261970745607,
           0.09501768495186054,
           -0.03803602949627122,
           -0.18633283261549566,
           -0.24777855220068112,
           -0.23837477022552558,
           -0.23643138758350335,
           -0.2411878455666413,
           -0.23160055645463345,
           -0.18679121009681848,
           -0.11260784667390786
          ],
          [
           -0.0432960000109688,
           -0.12011367454814603,
           -0.14022929720039068,
           -0.06896385808461826,
           0.05664161797507659,
           0.1614480366171075,
           0.18444595255063942,
           0.13657490554339177,
           0.09842387528181186,
           0.1099905934144853,
           0.12249126762570509,
           0.07579936550020876,
           -0.02917345696246398,
           -0.1095896669797256,
           -0.1390402431188969,
           -0.1797237805922433,
           -0.23363803820985599,
           -0.25904332198615265,
           -0.21944450156957268,
           -0.13172476727455526
          ],
          [
           -0.21975742986934882,
           -0.21500386597062293,
           -0.1362365838991393,
           0.040516792488541765,
           0.28094906421100607,
           0.4566971116791933,
           0.39557161575244815,
           0.14564641230483252,
           -0.033410992869153916,
           -0.05826732608128345,
           -0.01671399593018701,
           0.013233273587746702,
           0.012790879388964749,
           0.027900215562156907,
           0.05387613423265793,
           0.021281979298808647,
           -0.053058596756439654,
           -0.10391417582263061,
           -0.09491922092049093,
           -0.043978342757090894
          ],
          [
           -0.24262482914486042,
           -0.1661332651042726,
           -0.018605906961505256,
           0.20987158745344783,
           0.4971072871233981,
           0.6815252616122437,
           0.49986641685182076,
           0.04706979523654878,
           -0.2571347986253032,
           -0.3208170391872841,
           -0.26843080750489623,
           -0.1752226096129768,
           -0.04054505324778974,
           0.16356096882350585,
           0.33279554998069205,
           0.36261899537002,
           0.313722417817444,
           0.2620586113496788,
           0.22026451614190562,
           0.18805742355156518
          ],
          [
           -0.1678906463144628,
           -0.04913452890348087,
           0.12768249558629216,
           0.3566712600800368,
           0.6209240277708675,
           0.7481559527813779,
           0.445810064733657,
           -0.13005875002921874,
           -0.4800156666787984,
           -0.5502858561096824,
           -0.4898546145996573,
           -0.3592522325254125,
           -0.12227395491701211,
           0.25308338071453984,
           0.5634507268303233,
           0.6729497028223219,
           0.6863097693410255,
           0.665185880617261,
           0.585019853103427,
           0.4731523916849365
          ]
         ]
        }
       ],
       "layout": {
        "annotations": [
         {
          "showarrow": false,
          "text": "Lines",
          "x": 0.54,
          "xref": "paper",
          "y": 1.06,
          "yref": "paper"
         }
        ],
        "autosize": false,
        "height": 900,
        "margin": {
         "b": 0,
         "l": 0,
         "r": 0,
         "t": 100
        },
        "scene": {
         "aspectmode": "manual",
         "aspectratio": {
          "x": 1,
          "y": 1,
          "z": 0.7
         }
        },
        "template": {
         "data": {
          "bar": [
           {
            "error_x": {
             "color": "#2a3f5f"
            },
            "error_y": {
             "color": "#2a3f5f"
            },
            "marker": {
             "line": {
              "color": "#E5ECF6",
              "width": 0.5
             },
             "pattern": {
              "fillmode": "overlay",
              "size": 10,
              "solidity": 0.2
             }
            },
            "type": "bar"
           }
          ],
          "barpolar": [
           {
            "marker": {
             "line": {
              "color": "#E5ECF6",
              "width": 0.5
             },
             "pattern": {
              "fillmode": "overlay",
              "size": 10,
              "solidity": 0.2
             }
            },
            "type": "barpolar"
           }
          ],
          "carpet": [
           {
            "aaxis": {
             "endlinecolor": "#2a3f5f",
             "gridcolor": "white",
             "linecolor": "white",
             "minorgridcolor": "white",
             "startlinecolor": "#2a3f5f"
            },
            "baxis": {
             "endlinecolor": "#2a3f5f",
             "gridcolor": "white",
             "linecolor": "white",
             "minorgridcolor": "white",
             "startlinecolor": "#2a3f5f"
            },
            "type": "carpet"
           }
          ],
          "choropleth": [
           {
            "colorbar": {
             "outlinewidth": 0,
             "ticks": ""
            },
            "type": "choropleth"
           }
          ],
          "contour": [
           {
            "colorbar": {
             "outlinewidth": 0,
             "ticks": ""
            },
            "colorscale": [
             [
              0,
              "#0d0887"
             ],
             [
              0.1111111111111111,
              "#46039f"
             ],
             [
              0.2222222222222222,
              "#7201a8"
             ],
             [
              0.3333333333333333,
              "#9c179e"
             ],
             [
              0.4444444444444444,
              "#bd3786"
             ],
             [
              0.5555555555555556,
              "#d8576b"
             ],
             [
              0.6666666666666666,
              "#ed7953"
             ],
             [
              0.7777777777777778,
              "#fb9f3a"
             ],
             [
              0.8888888888888888,
              "#fdca26"
             ],
             [
              1,
              "#f0f921"
             ]
            ],
            "type": "contour"
           }
          ],
          "contourcarpet": [
           {
            "colorbar": {
             "outlinewidth": 0,
             "ticks": ""
            },
            "type": "contourcarpet"
           }
          ],
          "heatmap": [
           {
            "colorbar": {
             "outlinewidth": 0,
             "ticks": ""
            },
            "colorscale": [
             [
              0,
              "#0d0887"
             ],
             [
              0.1111111111111111,
              "#46039f"
             ],
             [
              0.2222222222222222,
              "#7201a8"
             ],
             [
              0.3333333333333333,
              "#9c179e"
             ],
             [
              0.4444444444444444,
              "#bd3786"
             ],
             [
              0.5555555555555556,
              "#d8576b"
             ],
             [
              0.6666666666666666,
              "#ed7953"
             ],
             [
              0.7777777777777778,
              "#fb9f3a"
             ],
             [
              0.8888888888888888,
              "#fdca26"
             ],
             [
              1,
              "#f0f921"
             ]
            ],
            "type": "heatmap"
           }
          ],
          "heatmapgl": [
           {
            "colorbar": {
             "outlinewidth": 0,
             "ticks": ""
            },
            "colorscale": [
             [
              0,
              "#0d0887"
             ],
             [
              0.1111111111111111,
              "#46039f"
             ],
             [
              0.2222222222222222,
              "#7201a8"
             ],
             [
              0.3333333333333333,
              "#9c179e"
             ],
             [
              0.4444444444444444,
              "#bd3786"
             ],
             [
              0.5555555555555556,
              "#d8576b"
             ],
             [
              0.6666666666666666,
              "#ed7953"
             ],
             [
              0.7777777777777778,
              "#fb9f3a"
             ],
             [
              0.8888888888888888,
              "#fdca26"
             ],
             [
              1,
              "#f0f921"
             ]
            ],
            "type": "heatmapgl"
           }
          ],
          "histogram": [
           {
            "marker": {
             "pattern": {
              "fillmode": "overlay",
              "size": 10,
              "solidity": 0.2
             }
            },
            "type": "histogram"
           }
          ],
          "histogram2d": [
           {
            "colorbar": {
             "outlinewidth": 0,
             "ticks": ""
            },
            "colorscale": [
             [
              0,
              "#0d0887"
             ],
             [
              0.1111111111111111,
              "#46039f"
             ],
             [
              0.2222222222222222,
              "#7201a8"
             ],
             [
              0.3333333333333333,
              "#9c179e"
             ],
             [
              0.4444444444444444,
              "#bd3786"
             ],
             [
              0.5555555555555556,
              "#d8576b"
             ],
             [
              0.6666666666666666,
              "#ed7953"
             ],
             [
              0.7777777777777778,
              "#fb9f3a"
             ],
             [
              0.8888888888888888,
              "#fdca26"
             ],
             [
              1,
              "#f0f921"
             ]
            ],
            "type": "histogram2d"
           }
          ],
          "histogram2dcontour": [
           {
            "colorbar": {
             "outlinewidth": 0,
             "ticks": ""
            },
            "colorscale": [
             [
              0,
              "#0d0887"
             ],
             [
              0.1111111111111111,
              "#46039f"
             ],
             [
              0.2222222222222222,
              "#7201a8"
             ],
             [
              0.3333333333333333,
              "#9c179e"
             ],
             [
              0.4444444444444444,
              "#bd3786"
             ],
             [
              0.5555555555555556,
              "#d8576b"
             ],
             [
              0.6666666666666666,
              "#ed7953"
             ],
             [
              0.7777777777777778,
              "#fb9f3a"
             ],
             [
              0.8888888888888888,
              "#fdca26"
             ],
             [
              1,
              "#f0f921"
             ]
            ],
            "type": "histogram2dcontour"
           }
          ],
          "mesh3d": [
           {
            "colorbar": {
             "outlinewidth": 0,
             "ticks": ""
            },
            "type": "mesh3d"
           }
          ],
          "parcoords": [
           {
            "line": {
             "colorbar": {
              "outlinewidth": 0,
              "ticks": ""
             }
            },
            "type": "parcoords"
           }
          ],
          "pie": [
           {
            "automargin": true,
            "type": "pie"
           }
          ],
          "scatter": [
           {
            "fillpattern": {
             "fillmode": "overlay",
             "size": 10,
             "solidity": 0.2
            },
            "type": "scatter"
           }
          ],
          "scatter3d": [
           {
            "line": {
             "colorbar": {
              "outlinewidth": 0,
              "ticks": ""
             }
            },
            "marker": {
             "colorbar": {
              "outlinewidth": 0,
              "ticks": ""
             }
            },
            "type": "scatter3d"
           }
          ],
          "scattercarpet": [
           {
            "marker": {
             "colorbar": {
              "outlinewidth": 0,
              "ticks": ""
             }
            },
            "type": "scattercarpet"
           }
          ],
          "scattergeo": [
           {
            "marker": {
             "colorbar": {
              "outlinewidth": 0,
              "ticks": ""
             }
            },
            "type": "scattergeo"
           }
          ],
          "scattergl": [
           {
            "marker": {
             "colorbar": {
              "outlinewidth": 0,
              "ticks": ""
             }
            },
            "type": "scattergl"
           }
          ],
          "scattermapbox": [
           {
            "marker": {
             "colorbar": {
              "outlinewidth": 0,
              "ticks": ""
             }
            },
            "type": "scattermapbox"
           }
          ],
          "scatterpolar": [
           {
            "marker": {
             "colorbar": {
              "outlinewidth": 0,
              "ticks": ""
             }
            },
            "type": "scatterpolar"
           }
          ],
          "scatterpolargl": [
           {
            "marker": {
             "colorbar": {
              "outlinewidth": 0,
              "ticks": ""
             }
            },
            "type": "scatterpolargl"
           }
          ],
          "scatterternary": [
           {
            "marker": {
             "colorbar": {
              "outlinewidth": 0,
              "ticks": ""
             }
            },
            "type": "scatterternary"
           }
          ],
          "surface": [
           {
            "colorbar": {
             "outlinewidth": 0,
             "ticks": ""
            },
            "colorscale": [
             [
              0,
              "#0d0887"
             ],
             [
              0.1111111111111111,
              "#46039f"
             ],
             [
              0.2222222222222222,
              "#7201a8"
             ],
             [
              0.3333333333333333,
              "#9c179e"
             ],
             [
              0.4444444444444444,
              "#bd3786"
             ],
             [
              0.5555555555555556,
              "#d8576b"
             ],
             [
              0.6666666666666666,
              "#ed7953"
             ],
             [
              0.7777777777777778,
              "#fb9f3a"
             ],
             [
              0.8888888888888888,
              "#fdca26"
             ],
             [
              1,
              "#f0f921"
             ]
            ],
            "type": "surface"
           }
          ],
          "table": [
           {
            "cells": {
             "fill": {
              "color": "#EBF0F8"
             },
             "line": {
              "color": "white"
             }
            },
            "header": {
             "fill": {
              "color": "#C8D4E3"
             },
             "line": {
              "color": "white"
             }
            },
            "type": "table"
           }
          ]
         },
         "layout": {
          "annotationdefaults": {
           "arrowcolor": "#2a3f5f",
           "arrowhead": 0,
           "arrowwidth": 1
          },
          "autotypenumbers": "strict",
          "coloraxis": {
           "colorbar": {
            "outlinewidth": 0,
            "ticks": ""
           }
          },
          "colorscale": {
           "diverging": [
            [
             0,
             "#8e0152"
            ],
            [
             0.1,
             "#c51b7d"
            ],
            [
             0.2,
             "#de77ae"
            ],
            [
             0.3,
             "#f1b6da"
            ],
            [
             0.4,
             "#fde0ef"
            ],
            [
             0.5,
             "#f7f7f7"
            ],
            [
             0.6,
             "#e6f5d0"
            ],
            [
             0.7,
             "#b8e186"
            ],
            [
             0.8,
             "#7fbc41"
            ],
            [
             0.9,
             "#4d9221"
            ],
            [
             1,
             "#276419"
            ]
           ],
           "sequential": [
            [
             0,
             "#0d0887"
            ],
            [
             0.1111111111111111,
             "#46039f"
            ],
            [
             0.2222222222222222,
             "#7201a8"
            ],
            [
             0.3333333333333333,
             "#9c179e"
            ],
            [
             0.4444444444444444,
             "#bd3786"
            ],
            [
             0.5555555555555556,
             "#d8576b"
            ],
            [
             0.6666666666666666,
             "#ed7953"
            ],
            [
             0.7777777777777778,
             "#fb9f3a"
            ],
            [
             0.8888888888888888,
             "#fdca26"
            ],
            [
             1,
             "#f0f921"
            ]
           ],
           "sequentialminus": [
            [
             0,
             "#0d0887"
            ],
            [
             0.1111111111111111,
             "#46039f"
            ],
            [
             0.2222222222222222,
             "#7201a8"
            ],
            [
             0.3333333333333333,
             "#9c179e"
            ],
            [
             0.4444444444444444,
             "#bd3786"
            ],
            [
             0.5555555555555556,
             "#d8576b"
            ],
            [
             0.6666666666666666,
             "#ed7953"
            ],
            [
             0.7777777777777778,
             "#fb9f3a"
            ],
            [
             0.8888888888888888,
             "#fdca26"
            ],
            [
             1,
             "#f0f921"
            ]
           ]
          },
          "colorway": [
           "#636efa",
           "#EF553B",
           "#00cc96",
           "#ab63fa",
           "#FFA15A",
           "#19d3f3",
           "#FF6692",
           "#B6E880",
           "#FF97FF",
           "#FECB52"
          ],
          "font": {
           "color": "#2a3f5f"
          },
          "geo": {
           "bgcolor": "white",
           "lakecolor": "white",
           "landcolor": "#E5ECF6",
           "showlakes": true,
           "showland": true,
           "subunitcolor": "white"
          },
          "hoverlabel": {
           "align": "left"
          },
          "hovermode": "closest",
          "mapbox": {
           "style": "light"
          },
          "paper_bgcolor": "white",
          "plot_bgcolor": "#E5ECF6",
          "polar": {
           "angularaxis": {
            "gridcolor": "white",
            "linecolor": "white",
            "ticks": ""
           },
           "bgcolor": "#E5ECF6",
           "radialaxis": {
            "gridcolor": "white",
            "linecolor": "white",
            "ticks": ""
           }
          },
          "scene": {
           "xaxis": {
            "backgroundcolor": "#E5ECF6",
            "gridcolor": "white",
            "gridwidth": 2,
            "linecolor": "white",
            "showbackground": true,
            "ticks": "",
            "zerolinecolor": "white"
           },
           "yaxis": {
            "backgroundcolor": "#E5ECF6",
            "gridcolor": "white",
            "gridwidth": 2,
            "linecolor": "white",
            "showbackground": true,
            "ticks": "",
            "zerolinecolor": "white"
           },
           "zaxis": {
            "backgroundcolor": "#E5ECF6",
            "gridcolor": "white",
            "gridwidth": 2,
            "linecolor": "white",
            "showbackground": true,
            "ticks": "",
            "zerolinecolor": "white"
           }
          },
          "shapedefaults": {
           "line": {
            "color": "#2a3f5f"
           }
          },
          "ternary": {
           "aaxis": {
            "gridcolor": "white",
            "linecolor": "white",
            "ticks": ""
           },
           "baxis": {
            "gridcolor": "white",
            "linecolor": "white",
            "ticks": ""
           },
           "bgcolor": "#E5ECF6",
           "caxis": {
            "gridcolor": "white",
            "linecolor": "white",
            "ticks": ""
           }
          },
          "title": {
           "x": 0.05
          },
          "xaxis": {
           "automargin": true,
           "gridcolor": "white",
           "linecolor": "white",
           "ticks": "",
           "title": {
            "standoff": 15
           },
           "zerolinecolor": "white",
           "zerolinewidth": 2
          },
          "yaxis": {
           "automargin": true,
           "gridcolor": "white",
           "linecolor": "white",
           "ticks": "",
           "title": {
            "standoff": 15
           },
           "zerolinecolor": "white",
           "zerolinewidth": 2
          }
         }
        },
        "updatemenus": [
         {
          "buttons": [
           {
            "args": [
             {
              "contours.showlines": false,
              "type": "contour"
             }
            ],
            "label": "Hide lines",
            "method": "restyle"
           },
           {
            "args": [
             {
              "contours.showlines": true,
              "type": "contour"
             }
            ],
            "label": "Show lines",
            "method": "restyle"
           }
          ],
          "direction": "down",
          "pad": {
           "r": 10,
           "t": 10
          },
          "showactive": true,
          "x": 0.58,
          "xanchor": "left",
          "y": 1.08,
          "yanchor": "top"
         }
        ],
        "width": 800
       }
      },
      "text/html": [
       "<div>                            <div id=\"cd33be6a-abbf-43aa-ba51-e84c399d9701\" class=\"plotly-graph-div\" style=\"height:900px; width:800px;\"></div>            <script type=\"text/javascript\">                require([\"plotly\"], function(Plotly) {                    window.PLOTLYENV=window.PLOTLYENV || {};                                    if (document.getElementById(\"cd33be6a-abbf-43aa-ba51-e84c399d9701\")) {                    Plotly.newPlot(                        \"cd33be6a-abbf-43aa-ba51-e84c399d9701\",                        [{\"colorscale\":[[0.0,\"rgb(103,0,31)\"],[0.1,\"rgb(178,24,43)\"],[0.2,\"rgb(214,96,77)\"],[0.3,\"rgb(244,165,130)\"],[0.4,\"rgb(253,219,199)\"],[0.5,\"rgb(247,247,247)\"],[0.6,\"rgb(209,229,240)\"],[0.7,\"rgb(146,197,222)\"],[0.8,\"rgb(67,147,195)\"],[0.9,\"rgb(33,102,172)\"],[1.0,\"rgb(5,48,97)\"]],\"z\":[[-0.0922213526386684,-0.08138439490049873,-0.07632444747581675,-0.09062217418404886,-0.09606160299363176,-0.051783941924499824,0.013158967114549338,0.04663108171128852,0.0313088126127388,-0.02505086422962056,-0.08306231456601937,-0.10284824119084082,-0.095808891584791,-0.07842143053648336,-0.03495892870980995,0.04176815211715929,0.1390048448626638,0.2916879544614901,0.5535973565717345,0.8718851423472282],[0.20569625611157308,0.1172230380998907,0.018452244510285785,-0.06725413613107825,-0.10888596591012427,-0.08264898907654923,-0.030874455763254406,-0.00911349103311502,-0.030399854874077033,-0.07609386387791248,-0.1080795966334971,-0.10559576103468728,-0.08412026016158376,-0.0536018446216219,0.0028421337113212547,0.09159787473491365,0.20694463736321825,0.3878946286000464,0.669750575936619,0.9751710663525452],[0.37091455491080294,0.22638173414641233,0.07232504747972954,-0.04654774903431881,-0.10801371413200213,-0.10444075404598323,-0.07300305839240535,-0.061500061108790346,-0.08061553454370095,-0.10999004730904598,-0.12101521107544254,-0.1054221016044696,-0.07636256943299853,-0.039396208802411715,0.020988946521994702,0.11288334896057631,0.23806986828369608,0.43547275381663003,0.7228353784286637,1.008078525377595],[0.3217403931337457,0.19668542246275872,0.06492067255077764,-0.02920957522238601,-0.08079231736719406,-0.0978125214282557,-0.0944751640416243,-0.09517862121203174,-0.10892581956592697,-0.12271508722731274,-0.12088772823889758,-0.10252735234788211,-0.07697585889338196,-0.04616555122082799,0.004976887664540895,0.08731955089482031,0.20688282706117977,0.40011653743572617,0.6761175482723811,0.9394110283711927],[0.1873183114177324,0.1131528551594794,0.03379956967926147,-0.016165028688002597,-0.044716364485636664,-0.07541407772241832,-0.1021857415747187,-0.11803166738319111,-0.12696297267879467,-0.12751175348615612,-0.11807184253320267,-0.10418962022444477,-0.0928736879107634,-0.0801555856459155,-0.04501293601038233,0.024292533146277266,0.1274162356476617,0.2953047816106317,0.5373400351096013,0.7654918431979387],[0.13894907946329133,0.08773661710607418,0.028115471685740044,-0.007631286490111731,-0.027835485172711352,-0.06600852277059321,-0.11397227064896444,-0.14242294662246663,-0.14677256054808915,-0.13620117615714408,-0.12219291699892856,-0.11678441386786119,-0.12647686264777172,-0.1392091739128489,-0.1226922773865251,-0.06526126564352779,0.021275233634269315,0.15752422269693098,0.35403679136302124,0.5388291193234248],[0.2395142601094585,0.16051638568691426,0.06565763334222104,0.0003753987955188064,-0.03639690086994386,-0.0819634814125468,-0.13866942706188545,-0.17295804080015256,-0.1728055629169018,-0.1537176931940801,-0.13672303897245874,-0.1386447229612333,-0.16556172524995624,-0.19886998160426356,-0.200282405611915,-0.15736436267776407,-0.08062597862628296,0.04270246361559708,0.21589099537292972,0.37689799447272054],[0.4393639527072719,0.2983201001853045,0.1306160793291845,0.0069775756567615225,-0.06301468047286057,-0.1190927114169798,-0.17761032908509414,-0.2123060767802835,-0.2079355390035165,-0.18264513471302762,-0.16269542444276294,-0.16570067744122055,-0.19516415932963066,-0.2310753691209727,-0.24077097065389821,-0.2117688388369401,-0.14098741046155108,-0.013709189425040368,0.16298735067521786,0.32391447750841623],[0.6603662930952674,0.4512333516806354,0.20358939583852145,0.013171982699211125,-0.0982440730895483,-0.1701628320540731,-0.23225913956952338,-0.2690623751389221,-0.2627823820183869,-0.23116545797550225,-0.20402160659422422,-0.19733675890548477,-0.21106015843211282,-0.22944162912012733,-0.23121011725393376,-0.20405265922465482,-0.13320451805178707,-0.0001026927068324161,0.18089822584596388,0.3400910381771533],[0.8040753310838328,0.5503889992947189,0.253187503370516,0.018288605412341258,-0.12519114567439615,-0.2125637549965877,-0.2826062119867611,-0.32969221591550774,-0.3297326320403135,-0.29304001515283085,-0.25220284316801367,-0.2249173646673568,-0.21225794529642794,-0.20599476933073582,-0.19074750995137663,-0.1500221466125663,-0.06591523257772945,0.07330201142791445,0.2444822389725197,0.3832820999647095],[0.8395118941990775,0.5680129839915109,0.2573539891537394,0.01133721287864733,-0.14054101937388574,-0.23062102513597613,-0.3033510124623335,-0.3598896652128735,-0.36952744447784475,-0.3310880622016817,-0.27657113756714696,-0.22863397694415385,-0.19436196959824906,-0.1707985151806819,-0.14022787157793007,-0.07933998033822447,0.027053316490153245,0.17464855926189282,0.3297280621687638,0.4411965512197346],[0.8354525791678284,0.5509821126391817,0.23649790421766426,-0.005792058780277223,-0.15075313324100795,-0.23301799305312096,-0.30033934230229636,-0.3554328394009457,-0.3647185179506161,-0.32239439505027606,-0.25874558219183225,-0.19875686710315824,-0.1533856753652754,-0.12083765868275158,-0.08073684398612017,-0.004546948417869842,0.12205902777201191,0.28051688099272354,0.4279083652803249,0.5249868467676098],[0.8553272309339,0.5578960132080466,0.23839341239656053,0.000276149199570101,-0.1378098418873091,-0.21492826874013485,-0.27754754836325984,-0.32556951397044726,-0.32631643706289465,-0.2770944938624712,-0.20853148767258448,-0.1456778544974533,-0.09916155837629391,-0.06511848358687275,-0.02342574248049262,0.05778676184966998,0.19781691250592726,0.3705543175338827,0.5228527468410228,0.6200336673831258],[0.8927721771828603,0.6056490926858833,0.2950498013811738,0.0611200841119,-0.07758615385790818,-0.1569940043730893,-0.2181638258664384,-0.2613734521651574,-0.25960719959803513,-0.2129790498765361,-0.15190410789775932,-0.10104439259056684,-0.06593479127756764,-0.036985607249761084,0.002808045884869513,0.08484757826002216,0.23348811725565163,0.41723872619901115,0.5691267679392991,0.6556656626888238],[0.8909065052191996,0.6521571229145537,0.3766840176039423,0.1529472846399139,0.011422514755113074,-0.06874471897929553,-0.12354564105127105,-0.164487610591942,-0.17601157948030102,-0.15384089451858302,-0.12236539558070769,-0.10178608532726695,-0.08486863486395012,-0.05640453719148182,-0.011133796541748326,0.07453042603313893,0.22575265578357204,0.40630532706931116,0.53626160946916,0.5852173489702859],[0.7994197103991801,0.6327381525200273,0.4148613942044421,0.21687575034201573,0.08373439366374805,0.013477725809671168,-0.027377416413700117,-0.0684223350882085,-0.10554683487248451,-0.12269314980525652,-0.13446820762829098,-0.15197575774840402,-0.14862797486585902,-0.10830032393526026,-0.04801109145723183,0.041985631466475375,0.18414882045702233,0.34069670744394376,0.42796499729524656,0.42316319409237096],[0.6203780699872621,0.5184702245298645,0.3625730293779447,0.20693590358272626,0.10109238490871708,0.05249954307102214,0.02593746534800428,-0.02033074207728568,-0.08120343954910665,-0.12695128979780984,-0.16952635780743183,-0.2136676072601214,-0.21449821413932116,-0.1577272081830459,-0.08173182391261272,0.009761313681615936,0.132467545703632,0.24869735592745587,0.28303116727436467,0.2267671395791544],[0.45847862924702276,0.38257391808926405,0.26159912998753854,0.14142984430319677,0.06554625861717,0.03722461984534741,0.01590645178809708,-0.03988528740893318,-0.11022030171577742,-0.15614602495284094,-0.19769431340490282,-0.24222956155142594,-0.23869126579476624,-0.17432783797446713,-0.09378164010696208,-0.005887787371825979,0.09797832743084887,0.18203526187806401,0.18505629471640772,0.1094895940053634],[0.4016159465930734,0.3221519147372092,0.20611776195775405,0.09553858275920396,0.025353773285763735,-0.005009817534422759,-0.03361585891444286,-0.09353610349716707,-0.15488517753258968,-0.1798037190390329,-0.19829857117944286,-0.22599819785705444,-0.21815713552018307,-0.16043406702167537,-0.0884278270697686,-0.0081536311835332,0.08711410347017833,0.16954507365365673,0.19213094901388839,0.1523763363868367],[0.4137238615442811,0.3384727300511919,0.22410306647572173,0.10503522745858077,0.012284908632038861,-0.04694745330886884,-0.09105465351079384,-0.13764001840096884,-0.16523903705719212,-0.155215518244965,-0.14622415449314957,-0.16148194012111733,-0.16500531891468187,-0.13049204976680115,-0.07345566740071299,0.002556864097364813,0.10291778874626098,0.21211842854969634,0.2990402788351548,0.34472884787869434],[0.44991079334779266,0.3881442160601099,0.27470316029508907,0.1386555439802431,0.014090808540703761,-0.07824097200465645,-0.13037853899095742,-0.14170050951959542,-0.11483894085882325,-0.06685404737346926,-0.04052339550382892,-0.05979380376411877,-0.09480734880141717,-0.09670050016347334,-0.05340439378527133,0.027357358920295487,0.14213969841378063,0.28528326878120325,0.4444898377241985,0.589380596659381],[0.5105814324492154,0.4376334483593125,0.30594004991225415,0.1471132832750929,9.024768731312855e-05,-0.10387184290560858,-0.1400303301502709,-0.10163851061929394,-0.022937134642958577,0.046336221258313874,0.06960640429956914,0.030445341733128427,-0.04201657722784133,-0.07532191439310101,-0.03623611198117917,0.054546492653137706,0.17950943873698605,0.33799753237266705,0.5328309145985369,0.7336943946696559],[0.6063773273078572,0.4885734021656126,0.3177454961360192,0.13095987274391832,-0.029767602095905475,-0.12657794027420177,-0.13131695309298408,-0.04739778011685223,0.06459936673709558,0.1398532295813237,0.1492496426083943,0.08363473670354675,-0.020111900450990504,-0.06949939637134746,-0.02575069088995235,0.07240395847551935,0.19529336474804676,0.3435081887937098,0.5246940477533135,0.713368632713429],[0.7173730285510013,0.5558016860830862,0.3470435315640821,0.13424765650308634,-0.03694925127405081,-0.12565985099385965,-0.10999044776776837,-0.006440271571809655,0.11726871364286282,0.1931368931698222,0.1880348088015477,0.09651498335084739,-0.028945896711364737,-0.08185337925681936,-0.030652294251016742,0.07019438866686484,0.1836254349019404,0.3073070928941848,0.4442033753399053,0.5744171449401025],[0.7831207646077021,0.620007349794561,0.40343532446166697,0.1819267792278155,0.00645691081482974,-0.08338535678636502,-0.07457768178811519,0.016091872409315575,0.1329507891670629,0.2024458593252108,0.17827566401944336,0.06168701883278067,-0.07587373413326194,-0.12275283746120146,-0.061352457949768714,0.04230509952592538,0.14639027920323291,0.2434407778219065,0.3305595005546375,0.3959412310134004],[0.7573792175343065,0.6400663096440008,0.4559588675023746,0.25274650889322253,0.08504372750470586,-0.012991658050799399,-0.0329778584847227,0.02573724348600875,0.12719778370880946,0.18240731613458713,0.13191936775182322,-0.009476922206895872,-0.15334314169976604,-0.1892783308306483,-0.11373803865041462,-0.004836386433814657,0.08956936336760671,0.16000124912153735,0.20468795085192523,0.2225720976781766],[0.6451340529976225,0.595848947803109,0.47479207269598206,0.31914722159898484,0.17789176528379594,0.07223832610193372,0.011978109633965619,0.034359175543827274,0.12438193446851305,0.16400107584308737,0.08343269666910225,-0.08246936373084726,-0.23295801647107187,-0.2624561338564071,-0.17589624560959038,-0.06519803665575921,0.012790409654293152,0.052529387776742674,0.062131809243740094,0.05133453304644229],[0.5148804341894538,0.5225607620441056,0.47803603015345225,0.40278753738264067,0.31833489330898823,0.21059234302642962,0.09525501444360138,0.08192034795088644,0.17936363467592173,0.21389849858962295,0.10258460636122922,-0.09421891510626199,-0.2663342028016537,-0.31449956422651093,-0.2398349924060622,-0.14277454696358793,-0.09307366735336732,-0.08937695647231504,-0.10674443996434385,-0.1273712198019559],[0.5063119457126573,0.5379469474324172,0.5536770680941746,0.5664359279915733,0.5522184158259444,0.435783704211873,0.24875042726061505,0.21225184473276726,0.33643392260773686,0.3807606552654512,0.25375607229956454,0.030343694176525503,-0.1817578372149886,-0.29286835406336187,-0.27547621397126465,-0.21320015181609417,-0.19367243325016195,-0.21856705489707967,-0.24757455257174488,-0.2597041249135365],[0.5708132446939177,0.6107494842542057,0.6369838488391882,0.64939806499007,0.6154965945324743,0.4678532606158576,0.2814690867139417,0.2783514151055329,0.4121476688015442,0.4661643363944756,0.36481832032328126,0.1681558735633153,-0.041358112739644425,-0.19709213801988024,-0.2362734437853164,-0.19245531641871053,-0.16218746811640541,-0.17128519000771755,-0.18597624606108762,-0.18540886404447599],[0.5344000000222169,0.5516185359639662,0.5364084346225609,0.47728739180955876,0.36692167152381217,0.21766112945293942,0.12894173309096257,0.1847150034627987,0.3009998308669828,0.3528796028060539,0.29047458907936596,0.14950285729233956,-0.01683966231640238,-0.16483966365339117,-0.21173868321069764,-0.1415249815147515,-0.04444789990773238,0.02595079494987797,0.07700053505353374,0.11675391465595267],[0.5688767560588294,0.49488268037467475,0.3824921165650635,0.24826875752655697,0.10564228060623435,-0.007687362248358899,-0.027290973905170494,0.03568930937227173,0.10732659998275385,0.13240461859764344,0.07945793673927058,-0.030890694327567563,-0.16061052290083036,-0.27511854414956916,-0.2889283152168489,-0.1660115598814608,0.013133789836415768,0.1814456859080301,0.32173999326342884,0.4203733013854542],[0.7496682559458716,0.5587095546692292,0.3254556718069581,0.1189083745302051,-0.03206803451288955,-0.11226509055211636,-0.1062712220552136,-0.052227961277430686,-0.0179819996994452,-0.04291355007616171,-0.14022479841361307,-0.27393027460785774,-0.3889436724549376,-0.44561613491561225,-0.3957100066515834,-0.23170290580873346,-0.017349993280657942,0.18886622554273294,0.35975525796107566,0.473853234373128],[0.8582945512342629,0.6094480582168861,0.31505857486480404,0.07360560214895585,-0.07789420075262599,-0.1389150076686175,-0.10442573689528797,-0.014698448166194948,0.0272306104701366,-0.03897827537128439,-0.20175079274060959,-0.3893377154291771,-0.5079987335559272,-0.5054196229553977,-0.4056263435895028,-0.25432094623192836,-0.0831618739556221,0.0746454311897794,0.1971981991109377,0.2743578615091035],[0.6730169245652335,0.4492773818223568,0.1998589496503621,0.009461650941131154,-0.1006137499471052,-0.13107389623356752,-0.05920109925007808,0.07488232771314211,0.1428102366342329,0.08679793856183979,-0.07003133012879938,-0.2673521962986551,-0.4051407633469768,-0.40380564639615696,-0.322301781599809,-0.24089214030520795,-0.1627556473410585,-0.09102080240001142,-0.028282681071092164,0.025649586370231823],[0.2838985195174471,0.12860503947396895,-0.008286240875340765,-0.0727784358048519,-0.07939958340686434,-0.05200876016725534,0.02099939308314551,0.1153928494353845,0.16569370154364976,0.16010261970745607,0.09501768495186054,-0.03803602949627122,-0.18633283261549566,-0.24777855220068112,-0.23837477022552558,-0.23643138758350335,-0.2411878455666413,-0.23160055645463345,-0.18679121009681848,-0.11260784667390786],[-0.0432960000109688,-0.12011367454814603,-0.14022929720039068,-0.06896385808461826,0.05664161797507659,0.1614480366171075,0.18444595255063942,0.13657490554339177,0.09842387528181186,0.1099905934144853,0.12249126762570509,0.07579936550020876,-0.02917345696246398,-0.1095896669797256,-0.1390402431188969,-0.1797237805922433,-0.23363803820985599,-0.25904332198615265,-0.21944450156957268,-0.13172476727455526],[-0.21975742986934882,-0.21500386597062293,-0.1362365838991393,0.040516792488541765,0.28094906421100607,0.4566971116791933,0.39557161575244815,0.14564641230483252,-0.033410992869153916,-0.05826732608128345,-0.01671399593018701,0.013233273587746702,0.012790879388964749,0.027900215562156907,0.05387613423265793,0.021281979298808647,-0.053058596756439654,-0.10391417582263061,-0.09491922092049093,-0.043978342757090894],[-0.24262482914486042,-0.1661332651042726,-0.018605906961505256,0.20987158745344783,0.4971072871233981,0.6815252616122437,0.49986641685182076,0.04706979523654878,-0.2571347986253032,-0.3208170391872841,-0.26843080750489623,-0.1752226096129768,-0.04054505324778974,0.16356096882350585,0.33279554998069205,0.36261899537002,0.313722417817444,0.2620586113496788,0.22026451614190562,0.18805742355156518],[-0.1678906463144628,-0.04913452890348087,0.12768249558629216,0.3566712600800368,0.6209240277708675,0.7481559527813779,0.445810064733657,-0.13005875002921874,-0.4800156666787984,-0.5502858561096824,-0.4898546145996573,-0.3592522325254125,-0.12227395491701211,0.25308338071453984,0.5634507268303233,0.6729497028223219,0.6863097693410255,0.665185880617261,0.585019853103427,0.4731523916849365]],\"type\":\"heatmap\"}],                        {\"template\":{\"data\":{\"histogram2dcontour\":[{\"type\":\"histogram2dcontour\",\"colorbar\":{\"outlinewidth\":0,\"ticks\":\"\"},\"colorscale\":[[0.0,\"#0d0887\"],[0.1111111111111111,\"#46039f\"],[0.2222222222222222,\"#7201a8\"],[0.3333333333333333,\"#9c179e\"],[0.4444444444444444,\"#bd3786\"],[0.5555555555555556,\"#d8576b\"],[0.6666666666666666,\"#ed7953\"],[0.7777777777777778,\"#fb9f3a\"],[0.8888888888888888,\"#fdca26\"],[1.0,\"#f0f921\"]]}],\"choropleth\":[{\"type\":\"choropleth\",\"colorbar\":{\"outlinewidth\":0,\"ticks\":\"\"}}],\"histogram2d\":[{\"type\":\"histogram2d\",\"colorbar\":{\"outlinewidth\":0,\"ticks\":\"\"},\"colorscale\":[[0.0,\"#0d0887\"],[0.1111111111111111,\"#46039f\"],[0.2222222222222222,\"#7201a8\"],[0.3333333333333333,\"#9c179e\"],[0.4444444444444444,\"#bd3786\"],[0.5555555555555556,\"#d8576b\"],[0.6666666666666666,\"#ed7953\"],[0.7777777777777778,\"#fb9f3a\"],[0.8888888888888888,\"#fdca26\"],[1.0,\"#f0f921\"]]}],\"heatmap\":[{\"type\":\"heatmap\",\"colorbar\":{\"outlinewidth\":0,\"ticks\":\"\"},\"colorscale\":[[0.0,\"#0d0887\"],[0.1111111111111111,\"#46039f\"],[0.2222222222222222,\"#7201a8\"],[0.3333333333333333,\"#9c179e\"],[0.4444444444444444,\"#bd3786\"],[0.5555555555555556,\"#d8576b\"],[0.6666666666666666,\"#ed7953\"],[0.7777777777777778,\"#fb9f3a\"],[0.8888888888888888,\"#fdca26\"],[1.0,\"#f0f921\"]]}],\"heatmapgl\":[{\"type\":\"heatmapgl\",\"colorbar\":{\"outlinewidth\":0,\"ticks\":\"\"},\"colorscale\":[[0.0,\"#0d0887\"],[0.1111111111111111,\"#46039f\"],[0.2222222222222222,\"#7201a8\"],[0.3333333333333333,\"#9c179e\"],[0.4444444444444444,\"#bd3786\"],[0.5555555555555556,\"#d8576b\"],[0.6666666666666666,\"#ed7953\"],[0.7777777777777778,\"#fb9f3a\"],[0.8888888888888888,\"#fdca26\"],[1.0,\"#f0f921\"]]}],\"contourcarpet\":[{\"type\":\"contourcarpet\",\"colorbar\":{\"outlinewidth\":0,\"ticks\":\"\"}}],\"contour\":[{\"type\":\"contour\",\"colorbar\":{\"outlinewidth\":0,\"ticks\":\"\"},\"colorscale\":[[0.0,\"#0d0887\"],[0.1111111111111111,\"#46039f\"],[0.2222222222222222,\"#7201a8\"],[0.3333333333333333,\"#9c179e\"],[0.4444444444444444,\"#bd3786\"],[0.5555555555555556,\"#d8576b\"],[0.6666666666666666,\"#ed7953\"],[0.7777777777777778,\"#fb9f3a\"],[0.8888888888888888,\"#fdca26\"],[1.0,\"#f0f921\"]]}],\"surface\":[{\"type\":\"surface\",\"colorbar\":{\"outlinewidth\":0,\"ticks\":\"\"},\"colorscale\":[[0.0,\"#0d0887\"],[0.1111111111111111,\"#46039f\"],[0.2222222222222222,\"#7201a8\"],[0.3333333333333333,\"#9c179e\"],[0.4444444444444444,\"#bd3786\"],[0.5555555555555556,\"#d8576b\"],[0.6666666666666666,\"#ed7953\"],[0.7777777777777778,\"#fb9f3a\"],[0.8888888888888888,\"#fdca26\"],[1.0,\"#f0f921\"]]}],\"mesh3d\":[{\"type\":\"mesh3d\",\"colorbar\":{\"outlinewidth\":0,\"ticks\":\"\"}}],\"scatter\":[{\"fillpattern\":{\"fillmode\":\"overlay\",\"size\":10,\"solidity\":0.2},\"type\":\"scatter\"}],\"parcoords\":[{\"type\":\"parcoords\",\"line\":{\"colorbar\":{\"outlinewidth\":0,\"ticks\":\"\"}}}],\"scatterpolargl\":[{\"type\":\"scatterpolargl\",\"marker\":{\"colorbar\":{\"outlinewidth\":0,\"ticks\":\"\"}}}],\"bar\":[{\"error_x\":{\"color\":\"#2a3f5f\"},\"error_y\":{\"color\":\"#2a3f5f\"},\"marker\":{\"line\":{\"color\":\"#E5ECF6\",\"width\":0.5},\"pattern\":{\"fillmode\":\"overlay\",\"size\":10,\"solidity\":0.2}},\"type\":\"bar\"}],\"scattergeo\":[{\"type\":\"scattergeo\",\"marker\":{\"colorbar\":{\"outlinewidth\":0,\"ticks\":\"\"}}}],\"scatterpolar\":[{\"type\":\"scatterpolar\",\"marker\":{\"colorbar\":{\"outlinewidth\":0,\"ticks\":\"\"}}}],\"histogram\":[{\"marker\":{\"pattern\":{\"fillmode\":\"overlay\",\"size\":10,\"solidity\":0.2}},\"type\":\"histogram\"}],\"scattergl\":[{\"type\":\"scattergl\",\"marker\":{\"colorbar\":{\"outlinewidth\":0,\"ticks\":\"\"}}}],\"scatter3d\":[{\"type\":\"scatter3d\",\"line\":{\"colorbar\":{\"outlinewidth\":0,\"ticks\":\"\"}},\"marker\":{\"colorbar\":{\"outlinewidth\":0,\"ticks\":\"\"}}}],\"scattermapbox\":[{\"type\":\"scattermapbox\",\"marker\":{\"colorbar\":{\"outlinewidth\":0,\"ticks\":\"\"}}}],\"scatterternary\":[{\"type\":\"scatterternary\",\"marker\":{\"colorbar\":{\"outlinewidth\":0,\"ticks\":\"\"}}}],\"scattercarpet\":[{\"type\":\"scattercarpet\",\"marker\":{\"colorbar\":{\"outlinewidth\":0,\"ticks\":\"\"}}}],\"carpet\":[{\"aaxis\":{\"endlinecolor\":\"#2a3f5f\",\"gridcolor\":\"white\",\"linecolor\":\"white\",\"minorgridcolor\":\"white\",\"startlinecolor\":\"#2a3f5f\"},\"baxis\":{\"endlinecolor\":\"#2a3f5f\",\"gridcolor\":\"white\",\"linecolor\":\"white\",\"minorgridcolor\":\"white\",\"startlinecolor\":\"#2a3f5f\"},\"type\":\"carpet\"}],\"table\":[{\"cells\":{\"fill\":{\"color\":\"#EBF0F8\"},\"line\":{\"color\":\"white\"}},\"header\":{\"fill\":{\"color\":\"#C8D4E3\"},\"line\":{\"color\":\"white\"}},\"type\":\"table\"}],\"barpolar\":[{\"marker\":{\"line\":{\"color\":\"#E5ECF6\",\"width\":0.5},\"pattern\":{\"fillmode\":\"overlay\",\"size\":10,\"solidity\":0.2}},\"type\":\"barpolar\"}],\"pie\":[{\"automargin\":true,\"type\":\"pie\"}]},\"layout\":{\"autotypenumbers\":\"strict\",\"colorway\":[\"#636efa\",\"#EF553B\",\"#00cc96\",\"#ab63fa\",\"#FFA15A\",\"#19d3f3\",\"#FF6692\",\"#B6E880\",\"#FF97FF\",\"#FECB52\"],\"font\":{\"color\":\"#2a3f5f\"},\"hovermode\":\"closest\",\"hoverlabel\":{\"align\":\"left\"},\"paper_bgcolor\":\"white\",\"plot_bgcolor\":\"#E5ECF6\",\"polar\":{\"bgcolor\":\"#E5ECF6\",\"angularaxis\":{\"gridcolor\":\"white\",\"linecolor\":\"white\",\"ticks\":\"\"},\"radialaxis\":{\"gridcolor\":\"white\",\"linecolor\":\"white\",\"ticks\":\"\"}},\"ternary\":{\"bgcolor\":\"#E5ECF6\",\"aaxis\":{\"gridcolor\":\"white\",\"linecolor\":\"white\",\"ticks\":\"\"},\"baxis\":{\"gridcolor\":\"white\",\"linecolor\":\"white\",\"ticks\":\"\"},\"caxis\":{\"gridcolor\":\"white\",\"linecolor\":\"white\",\"ticks\":\"\"}},\"coloraxis\":{\"colorbar\":{\"outlinewidth\":0,\"ticks\":\"\"}},\"colorscale\":{\"sequential\":[[0.0,\"#0d0887\"],[0.1111111111111111,\"#46039f\"],[0.2222222222222222,\"#7201a8\"],[0.3333333333333333,\"#9c179e\"],[0.4444444444444444,\"#bd3786\"],[0.5555555555555556,\"#d8576b\"],[0.6666666666666666,\"#ed7953\"],[0.7777777777777778,\"#fb9f3a\"],[0.8888888888888888,\"#fdca26\"],[1.0,\"#f0f921\"]],\"sequentialminus\":[[0.0,\"#0d0887\"],[0.1111111111111111,\"#46039f\"],[0.2222222222222222,\"#7201a8\"],[0.3333333333333333,\"#9c179e\"],[0.4444444444444444,\"#bd3786\"],[0.5555555555555556,\"#d8576b\"],[0.6666666666666666,\"#ed7953\"],[0.7777777777777778,\"#fb9f3a\"],[0.8888888888888888,\"#fdca26\"],[1.0,\"#f0f921\"]],\"diverging\":[[0,\"#8e0152\"],[0.1,\"#c51b7d\"],[0.2,\"#de77ae\"],[0.3,\"#f1b6da\"],[0.4,\"#fde0ef\"],[0.5,\"#f7f7f7\"],[0.6,\"#e6f5d0\"],[0.7,\"#b8e186\"],[0.8,\"#7fbc41\"],[0.9,\"#4d9221\"],[1,\"#276419\"]]},\"xaxis\":{\"gridcolor\":\"white\",\"linecolor\":\"white\",\"ticks\":\"\",\"title\":{\"standoff\":15},\"zerolinecolor\":\"white\",\"automargin\":true,\"zerolinewidth\":2},\"yaxis\":{\"gridcolor\":\"white\",\"linecolor\":\"white\",\"ticks\":\"\",\"title\":{\"standoff\":15},\"zerolinecolor\":\"white\",\"automargin\":true,\"zerolinewidth\":2},\"scene\":{\"xaxis\":{\"backgroundcolor\":\"#E5ECF6\",\"gridcolor\":\"white\",\"linecolor\":\"white\",\"showbackground\":true,\"ticks\":\"\",\"zerolinecolor\":\"white\",\"gridwidth\":2},\"yaxis\":{\"backgroundcolor\":\"#E5ECF6\",\"gridcolor\":\"white\",\"linecolor\":\"white\",\"showbackground\":true,\"ticks\":\"\",\"zerolinecolor\":\"white\",\"gridwidth\":2},\"zaxis\":{\"backgroundcolor\":\"#E5ECF6\",\"gridcolor\":\"white\",\"linecolor\":\"white\",\"showbackground\":true,\"ticks\":\"\",\"zerolinecolor\":\"white\",\"gridwidth\":2}},\"shapedefaults\":{\"line\":{\"color\":\"#2a3f5f\"}},\"annotationdefaults\":{\"arrowcolor\":\"#2a3f5f\",\"arrowhead\":0,\"arrowwidth\":1},\"geo\":{\"bgcolor\":\"white\",\"landcolor\":\"#E5ECF6\",\"subunitcolor\":\"white\",\"showland\":true,\"showlakes\":true,\"lakecolor\":\"white\"},\"title\":{\"x\":0.05},\"mapbox\":{\"style\":\"light\"}}},\"margin\":{\"t\":100,\"b\":0,\"l\":0,\"r\":0},\"width\":800,\"height\":900,\"autosize\":false,\"scene\":{\"aspectratio\":{\"x\":1,\"y\":1,\"z\":0.7},\"aspectmode\":\"manual\"},\"updatemenus\":[{\"buttons\":[{\"args\":[{\"contours.showlines\":false,\"type\":\"contour\"}],\"label\":\"Hide lines\",\"method\":\"restyle\"},{\"args\":[{\"contours.showlines\":true,\"type\":\"contour\"}],\"label\":\"Show lines\",\"method\":\"restyle\"}],\"direction\":\"down\",\"pad\":{\"r\":10,\"t\":10},\"showactive\":true,\"x\":0.58,\"xanchor\":\"left\",\"y\":1.08,\"yanchor\":\"top\"}],\"annotations\":[{\"showarrow\":false,\"text\":\"Lines\",\"x\":0.54,\"xref\":\"paper\",\"y\":1.06,\"yref\":\"paper\"}]},                        {\"responsive\": true}                    ).then(function(){\n",
       "                            \n",
       "var gd = document.getElementById('cd33be6a-abbf-43aa-ba51-e84c399d9701');\n",
       "var x = new MutationObserver(function (mutations, observer) {{\n",
       "        var display = window.getComputedStyle(gd).display;\n",
       "        if (!display || display === 'none') {{\n",
       "            console.log([gd, 'removed!']);\n",
       "            Plotly.purge(gd);\n",
       "            observer.disconnect();\n",
       "        }}\n",
       "}});\n",
       "\n",
       "// Listen for the removal of the full notebook cells\n",
       "var notebookContainer = gd.closest('#notebook-container');\n",
       "if (notebookContainer) {{\n",
       "    x.observe(notebookContainer, {childList: true});\n",
       "}}\n",
       "\n",
       "// Listen for the clearing of the current output cell\n",
       "var outputEl = gd.closest('.output');\n",
       "if (outputEl) {{\n",
       "    x.observe(outputEl, {childList: true});\n",
       "}}\n",
       "\n",
       "                        })                };                });            </script>        </div>"
      ]
     },
     "metadata": {},
     "output_type": "display_data"
    }
   ],
   "source": [
    "import plotly.graph_objects as go\n",
    "\n",
    "import pandas as pd\n",
    "\n",
    "# load dataset\n",
    "df = pd.read_csv(\"https://raw.githubusercontent.com/plotly/datasets/master/volcano.csv\")\n",
    "\n",
    "# Create figure\n",
    "fig = go.Figure()\n",
    "\n",
    "# Add surface trace\n",
    "fig.add_trace(go.Heatmap(z=diff.tolist(), colorscale=\"rdbu\"))\n",
    "\n",
    "# Update plot sizing\n",
    "fig.update_layout(\n",
    "    width=800,\n",
    "    height=900,\n",
    "    autosize=False,\n",
    "    margin=dict(t=100, b=0, l=0, r=0),\n",
    ")\n",
    "\n",
    "# Update 3D scene options\n",
    "fig.update_scenes(\n",
    "    aspectratio=dict(x=1, y=1, z=0.7),\n",
    "    aspectmode=\"manual\"\n",
    ")\n",
    "\n",
    "# Add dropdowns\n",
    "button_layer_1_height = 1.08\n",
    "fig.update_layout(\n",
    "    updatemenus=[\n",
    "        dict(\n",
    "            buttons=list([\n",
    "                dict(\n",
    "                    args=[{\"contours.showlines\": False, \"type\": \"contour\"}],\n",
    "                    label=\"Hide lines\",\n",
    "                    method=\"restyle\"\n",
    "                ),\n",
    "                dict(\n",
    "                    args=[{\"contours.showlines\": True, \"type\": \"contour\"}],\n",
    "                    label=\"Show lines\",\n",
    "                    method=\"restyle\"\n",
    "                ),\n",
    "            ]),\n",
    "            direction=\"down\",\n",
    "            pad={\"r\": 10, \"t\": 10},\n",
    "            showactive=True,\n",
    "            x=0.58,\n",
    "            xanchor=\"left\",\n",
    "            y=button_layer_1_height,\n",
    "            yanchor=\"top\"\n",
    "        ),\n",
    "    ]\n",
    ")\n",
    "\n",
    "fig.update_layout(\n",
    "    annotations=[\n",
    "        dict(text=\"Lines\", x=0.54, xref=\"paper\", y=1.06, yref=\"paper\", showarrow=False)\n",
    "    ])\n",
    "\n",
    "fig.show()"
   ]
  },
  {
   "cell_type": "code",
   "execution_count": 51,
   "metadata": {},
   "outputs": [
    {
     "data": {
      "application/vnd.plotly.v1+json": {
       "config": {
        "plotlyServerURL": "https://plot.ly"
       },
       "data": [
        {
         "hovertemplate": "x: %{x}<br>y: %{y}<br>color: %{z}<extra></extra>",
         "name": "0",
         "source": "data:image/png;base64,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",
         "type": "image",
         "xaxis": "x",
         "yaxis": "y"
        }
       ],
       "layout": {
        "images": [
         {
          "layer": "below",
          "opacity": 1,
          "sizex": 256,
          "sizey": 256,
          "source": "./figures/nhl_rink.png",
          "x": 0,
          "xref": "x",
          "y": 0,
          "yref": "y"
         },
         {
          "layer": "below",
          "opacity": 1,
          "sizex": 256,
          "sizey": 256,
          "source": "./figures/nhl_rink.png",
          "x": 0,
          "xref": "x",
          "y": 0,
          "yref": "y"
         },
         {
          "layer": "below",
          "opacity": 1,
          "sizex": 256,
          "sizey": 512,
          "source": "./figures/nhl_rink.png",
          "x": 0,
          "xref": "x",
          "y": 0,
          "yref": "y"
         },
         {
          "layer": "below",
          "opacity": 1,
          "sizex": 512,
          "sizey": 512,
          "source": "./figures/nhl_rink.png",
          "x": 0,
          "xref": "x",
          "y": 0,
          "yref": "y"
         }
        ],
        "margin": {
         "t": 60
        },
        "template": {
         "data": {
          "bar": [
           {
            "error_x": {
             "color": "#2a3f5f"
            },
            "error_y": {
             "color": "#2a3f5f"
            },
            "marker": {
             "line": {
              "color": "#E5ECF6",
              "width": 0.5
             },
             "pattern": {
              "fillmode": "overlay",
              "size": 10,
              "solidity": 0.2
             }
            },
            "type": "bar"
           }
          ],
          "barpolar": [
           {
            "marker": {
             "line": {
              "color": "#E5ECF6",
              "width": 0.5
             },
             "pattern": {
              "fillmode": "overlay",
              "size": 10,
              "solidity": 0.2
             }
            },
            "type": "barpolar"
           }
          ],
          "carpet": [
           {
            "aaxis": {
             "endlinecolor": "#2a3f5f",
             "gridcolor": "white",
             "linecolor": "white",
             "minorgridcolor": "white",
             "startlinecolor": "#2a3f5f"
            },
            "baxis": {
             "endlinecolor": "#2a3f5f",
             "gridcolor": "white",
             "linecolor": "white",
             "minorgridcolor": "white",
             "startlinecolor": "#2a3f5f"
            },
            "type": "carpet"
           }
          ],
          "choropleth": [
           {
            "colorbar": {
             "outlinewidth": 0,
             "ticks": ""
            },
            "type": "choropleth"
           }
          ],
          "contour": [
           {
            "colorbar": {
             "outlinewidth": 0,
             "ticks": ""
            },
            "colorscale": [
             [
              0,
              "#0d0887"
             ],
             [
              0.1111111111111111,
              "#46039f"
             ],
             [
              0.2222222222222222,
              "#7201a8"
             ],
             [
              0.3333333333333333,
              "#9c179e"
             ],
             [
              0.4444444444444444,
              "#bd3786"
             ],
             [
              0.5555555555555556,
              "#d8576b"
             ],
             [
              0.6666666666666666,
              "#ed7953"
             ],
             [
              0.7777777777777778,
              "#fb9f3a"
             ],
             [
              0.8888888888888888,
              "#fdca26"
             ],
             [
              1,
              "#f0f921"
             ]
            ],
            "type": "contour"
           }
          ],
          "contourcarpet": [
           {
            "colorbar": {
             "outlinewidth": 0,
             "ticks": ""
            },
            "type": "contourcarpet"
           }
          ],
          "heatmap": [
           {
            "colorbar": {
             "outlinewidth": 0,
             "ticks": ""
            },
            "colorscale": [
             [
              0,
              "#0d0887"
             ],
             [
              0.1111111111111111,
              "#46039f"
             ],
             [
              0.2222222222222222,
              "#7201a8"
             ],
             [
              0.3333333333333333,
              "#9c179e"
             ],
             [
              0.4444444444444444,
              "#bd3786"
             ],
             [
              0.5555555555555556,
              "#d8576b"
             ],
             [
              0.6666666666666666,
              "#ed7953"
             ],
             [
              0.7777777777777778,
              "#fb9f3a"
             ],
             [
              0.8888888888888888,
              "#fdca26"
             ],
             [
              1,
              "#f0f921"
             ]
            ],
            "type": "heatmap"
           }
          ],
          "heatmapgl": [
           {
            "colorbar": {
             "outlinewidth": 0,
             "ticks": ""
            },
            "colorscale": [
             [
              0,
              "#0d0887"
             ],
             [
              0.1111111111111111,
              "#46039f"
             ],
             [
              0.2222222222222222,
              "#7201a8"
             ],
             [
              0.3333333333333333,
              "#9c179e"
             ],
             [
              0.4444444444444444,
              "#bd3786"
             ],
             [
              0.5555555555555556,
              "#d8576b"
             ],
             [
              0.6666666666666666,
              "#ed7953"
             ],
             [
              0.7777777777777778,
              "#fb9f3a"
             ],
             [
              0.8888888888888888,
              "#fdca26"
             ],
             [
              1,
              "#f0f921"
             ]
            ],
            "type": "heatmapgl"
           }
          ],
          "histogram": [
           {
            "marker": {
             "pattern": {
              "fillmode": "overlay",
              "size": 10,
              "solidity": 0.2
             }
            },
            "type": "histogram"
           }
          ],
          "histogram2d": [
           {
            "colorbar": {
             "outlinewidth": 0,
             "ticks": ""
            },
            "colorscale": [
             [
              0,
              "#0d0887"
             ],
             [
              0.1111111111111111,
              "#46039f"
             ],
             [
              0.2222222222222222,
              "#7201a8"
             ],
             [
              0.3333333333333333,
              "#9c179e"
             ],
             [
              0.4444444444444444,
              "#bd3786"
             ],
             [
              0.5555555555555556,
              "#d8576b"
             ],
             [
              0.6666666666666666,
              "#ed7953"
             ],
             [
              0.7777777777777778,
              "#fb9f3a"
             ],
             [
              0.8888888888888888,
              "#fdca26"
             ],
             [
              1,
              "#f0f921"
             ]
            ],
            "type": "histogram2d"
           }
          ],
          "histogram2dcontour": [
           {
            "colorbar": {
             "outlinewidth": 0,
             "ticks": ""
            },
            "colorscale": [
             [
              0,
              "#0d0887"
             ],
             [
              0.1111111111111111,
              "#46039f"
             ],
             [
              0.2222222222222222,
              "#7201a8"
             ],
             [
              0.3333333333333333,
              "#9c179e"
             ],
             [
              0.4444444444444444,
              "#bd3786"
             ],
             [
              0.5555555555555556,
              "#d8576b"
             ],
             [
              0.6666666666666666,
              "#ed7953"
             ],
             [
              0.7777777777777778,
              "#fb9f3a"
             ],
             [
              0.8888888888888888,
              "#fdca26"
             ],
             [
              1,
              "#f0f921"
             ]
            ],
            "type": "histogram2dcontour"
           }
          ],
          "mesh3d": [
           {
            "colorbar": {
             "outlinewidth": 0,
             "ticks": ""
            },
            "type": "mesh3d"
           }
          ],
          "parcoords": [
           {
            "line": {
             "colorbar": {
              "outlinewidth": 0,
              "ticks": ""
             }
            },
            "type": "parcoords"
           }
          ],
          "pie": [
           {
            "automargin": true,
            "type": "pie"
           }
          ],
          "scatter": [
           {
            "fillpattern": {
             "fillmode": "overlay",
             "size": 10,
             "solidity": 0.2
            },
            "type": "scatter"
           }
          ],
          "scatter3d": [
           {
            "line": {
             "colorbar": {
              "outlinewidth": 0,
              "ticks": ""
             }
            },
            "marker": {
             "colorbar": {
              "outlinewidth": 0,
              "ticks": ""
             }
            },
            "type": "scatter3d"
           }
          ],
          "scattercarpet": [
           {
            "marker": {
             "colorbar": {
              "outlinewidth": 0,
              "ticks": ""
             }
            },
            "type": "scattercarpet"
           }
          ],
          "scattergeo": [
           {
            "marker": {
             "colorbar": {
              "outlinewidth": 0,
              "ticks": ""
             }
            },
            "type": "scattergeo"
           }
          ],
          "scattergl": [
           {
            "marker": {
             "colorbar": {
              "outlinewidth": 0,
              "ticks": ""
             }
            },
            "type": "scattergl"
           }
          ],
          "scattermapbox": [
           {
            "marker": {
             "colorbar": {
              "outlinewidth": 0,
              "ticks": ""
             }
            },
            "type": "scattermapbox"
           }
          ],
          "scatterpolar": [
           {
            "marker": {
             "colorbar": {
              "outlinewidth": 0,
              "ticks": ""
             }
            },
            "type": "scatterpolar"
           }
          ],
          "scatterpolargl": [
           {
            "marker": {
             "colorbar": {
              "outlinewidth": 0,
              "ticks": ""
             }
            },
            "type": "scatterpolargl"
           }
          ],
          "scatterternary": [
           {
            "marker": {
             "colorbar": {
              "outlinewidth": 0,
              "ticks": ""
             }
            },
            "type": "scatterternary"
           }
          ],
          "surface": [
           {
            "colorbar": {
             "outlinewidth": 0,
             "ticks": ""
            },
            "colorscale": [
             [
              0,
              "#0d0887"
             ],
             [
              0.1111111111111111,
              "#46039f"
             ],
             [
              0.2222222222222222,
              "#7201a8"
             ],
             [
              0.3333333333333333,
              "#9c179e"
             ],
             [
              0.4444444444444444,
              "#bd3786"
             ],
             [
              0.5555555555555556,
              "#d8576b"
             ],
             [
              0.6666666666666666,
              "#ed7953"
             ],
             [
              0.7777777777777778,
              "#fb9f3a"
             ],
             [
              0.8888888888888888,
              "#fdca26"
             ],
             [
              1,
              "#f0f921"
             ]
            ],
            "type": "surface"
           }
          ],
          "table": [
           {
            "cells": {
             "fill": {
              "color": "#EBF0F8"
             },
             "line": {
              "color": "white"
             }
            },
            "header": {
             "fill": {
              "color": "#C8D4E3"
             },
             "line": {
              "color": "white"
             }
            },
            "type": "table"
           }
          ]
         },
         "layout": {
          "annotationdefaults": {
           "arrowcolor": "#2a3f5f",
           "arrowhead": 0,
           "arrowwidth": 1
          },
          "autotypenumbers": "strict",
          "coloraxis": {
           "colorbar": {
            "outlinewidth": 0,
            "ticks": ""
           }
          },
          "colorscale": {
           "diverging": [
            [
             0,
             "#8e0152"
            ],
            [
             0.1,
             "#c51b7d"
            ],
            [
             0.2,
             "#de77ae"
            ],
            [
             0.3,
             "#f1b6da"
            ],
            [
             0.4,
             "#fde0ef"
            ],
            [
             0.5,
             "#f7f7f7"
            ],
            [
             0.6,
             "#e6f5d0"
            ],
            [
             0.7,
             "#b8e186"
            ],
            [
             0.8,
             "#7fbc41"
            ],
            [
             0.9,
             "#4d9221"
            ],
            [
             1,
             "#276419"
            ]
           ],
           "sequential": [
            [
             0,
             "#0d0887"
            ],
            [
             0.1111111111111111,
             "#46039f"
            ],
            [
             0.2222222222222222,
             "#7201a8"
            ],
            [
             0.3333333333333333,
             "#9c179e"
            ],
            [
             0.4444444444444444,
             "#bd3786"
            ],
            [
             0.5555555555555556,
             "#d8576b"
            ],
            [
             0.6666666666666666,
             "#ed7953"
            ],
            [
             0.7777777777777778,
             "#fb9f3a"
            ],
            [
             0.8888888888888888,
             "#fdca26"
            ],
            [
             1,
             "#f0f921"
            ]
           ],
           "sequentialminus": [
            [
             0,
             "#0d0887"
            ],
            [
             0.1111111111111111,
             "#46039f"
            ],
            [
             0.2222222222222222,
             "#7201a8"
            ],
            [
             0.3333333333333333,
             "#9c179e"
            ],
            [
             0.4444444444444444,
             "#bd3786"
            ],
            [
             0.5555555555555556,
             "#d8576b"
            ],
            [
             0.6666666666666666,
             "#ed7953"
            ],
            [
             0.7777777777777778,
             "#fb9f3a"
            ],
            [
             0.8888888888888888,
             "#fdca26"
            ],
            [
             1,
             "#f0f921"
            ]
           ]
          },
          "colorway": [
           "#636efa",
           "#EF553B",
           "#00cc96",
           "#ab63fa",
           "#FFA15A",
           "#19d3f3",
           "#FF6692",
           "#B6E880",
           "#FF97FF",
           "#FECB52"
          ],
          "font": {
           "color": "#2a3f5f"
          },
          "geo": {
           "bgcolor": "white",
           "lakecolor": "white",
           "landcolor": "#E5ECF6",
           "showlakes": true,
           "showland": true,
           "subunitcolor": "white"
          },
          "hoverlabel": {
           "align": "left"
          },
          "hovermode": "closest",
          "mapbox": {
           "style": "light"
          },
          "paper_bgcolor": "white",
          "plot_bgcolor": "#E5ECF6",
          "polar": {
           "angularaxis": {
            "gridcolor": "white",
            "linecolor": "white",
            "ticks": ""
           },
           "bgcolor": "#E5ECF6",
           "radialaxis": {
            "gridcolor": "white",
            "linecolor": "white",
            "ticks": ""
           }
          },
          "scene": {
           "xaxis": {
            "backgroundcolor": "#E5ECF6",
            "gridcolor": "white",
            "gridwidth": 2,
            "linecolor": "white",
            "showbackground": true,
            "ticks": "",
            "zerolinecolor": "white"
           },
           "yaxis": {
            "backgroundcolor": "#E5ECF6",
            "gridcolor": "white",
            "gridwidth": 2,
            "linecolor": "white",
            "showbackground": true,
            "ticks": "",
            "zerolinecolor": "white"
           },
           "zaxis": {
            "backgroundcolor": "#E5ECF6",
            "gridcolor": "white",
            "gridwidth": 2,
            "linecolor": "white",
            "showbackground": true,
            "ticks": "",
            "zerolinecolor": "white"
           }
          },
          "shapedefaults": {
           "line": {
            "color": "#2a3f5f"
           }
          },
          "ternary": {
           "aaxis": {
            "gridcolor": "white",
            "linecolor": "white",
            "ticks": ""
           },
           "baxis": {
            "gridcolor": "white",
            "linecolor": "white",
            "ticks": ""
           },
           "bgcolor": "#E5ECF6",
           "caxis": {
            "gridcolor": "white",
            "linecolor": "white",
            "ticks": ""
           }
          },
          "title": {
           "x": 0.05
          },
          "xaxis": {
           "automargin": true,
           "gridcolor": "white",
           "linecolor": "white",
           "ticks": "",
           "title": {
            "standoff": 15
           },
           "zerolinecolor": "white",
           "zerolinewidth": 2
          },
          "yaxis": {
           "automargin": true,
           "gridcolor": "white",
           "linecolor": "white",
           "ticks": "",
           "title": {
            "standoff": 15
           },
           "zerolinecolor": "white",
           "zerolinewidth": 2
          }
         }
        },
        "xaxis": {
         "anchor": "y",
         "domain": [
          0,
          1
         ]
        },
        "yaxis": {
         "anchor": "x",
         "domain": [
          0,
          1
         ]
        }
       }
      },
      "text/html": [
       "<div>                            <div id=\"08e75e5e-000f-4925-9ac0-a544b467fb0c\" class=\"plotly-graph-div\" style=\"height:525px; width:100%;\"></div>            <script type=\"text/javascript\">                require([\"plotly\"], function(Plotly) {                    window.PLOTLYENV=window.PLOTLYENV || {};                                    if (document.getElementById(\"08e75e5e-000f-4925-9ac0-a544b467fb0c\")) {                    Plotly.newPlot(                        \"08e75e5e-000f-4925-9ac0-a544b467fb0c\",                        [{\"name\":\"0\",\"source\":\"data:image/png;base64,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\",\"type\":\"image\",\"xaxis\":\"x\",\"yaxis\":\"y\",\"hovertemplate\":\"x: %{x}<br>y: %{y}<br>color: %{z}<extra></extra>\"}],                        {\"template\":{\"data\":{\"histogram2dcontour\":[{\"type\":\"histogram2dcontour\",\"colorbar\":{\"outlinewidth\":0,\"ticks\":\"\"},\"colorscale\":[[0.0,\"#0d0887\"],[0.1111111111111111,\"#46039f\"],[0.2222222222222222,\"#7201a8\"],[0.3333333333333333,\"#9c179e\"],[0.4444444444444444,\"#bd3786\"],[0.5555555555555556,\"#d8576b\"],[0.6666666666666666,\"#ed7953\"],[0.7777777777777778,\"#fb9f3a\"],[0.8888888888888888,\"#fdca26\"],[1.0,\"#f0f921\"]]}],\"choropleth\":[{\"type\":\"choropleth\",\"colorbar\":{\"outlinewidth\":0,\"ticks\":\"\"}}],\"histogram2d\":[{\"type\":\"histogram2d\",\"colorbar\":{\"outlinewidth\":0,\"ticks\":\"\"},\"colorscale\":[[0.0,\"#0d0887\"],[0.1111111111111111,\"#46039f\"],[0.2222222222222222,\"#7201a8\"],[0.3333333333333333,\"#9c179e\"],[0.4444444444444444,\"#bd3786\"],[0.5555555555555556,\"#d8576b\"],[0.6666666666666666,\"#ed7953\"],[0.7777777777777778,\"#fb9f3a\"],[0.8888888888888888,\"#fdca26\"],[1.0,\"#f0f921\"]]}],\"heatmap\":[{\"type\":\"heatmap\",\"colorbar\":{\"outlinewidth\":0,\"ticks\":\"\"},\"colorscale\":[[0.0,\"#0d0887\"],[0.1111111111111111,\"#46039f\"],[0.2222222222222222,\"#7201a8\"],[0.3333333333333333,\"#9c179e\"],[0.4444444444444444,\"#bd3786\"],[0.5555555555555556,\"#d8576b\"],[0.6666666666666666,\"#ed7953\"],[0.7777777777777778,\"#fb9f3a\"],[0.8888888888888888,\"#fdca26\"],[1.0,\"#f0f921\"]]}],\"heatmapgl\":[{\"type\":\"heatmapgl\",\"colorbar\":{\"outlinewidth\":0,\"ticks\":\"\"},\"colorscale\":[[0.0,\"#0d0887\"],[0.1111111111111111,\"#46039f\"],[0.2222222222222222,\"#7201a8\"],[0.3333333333333333,\"#9c179e\"],[0.4444444444444444,\"#bd3786\"],[0.5555555555555556,\"#d8576b\"],[0.6666666666666666,\"#ed7953\"],[0.7777777777777778,\"#fb9f3a\"],[0.8888888888888888,\"#fdca26\"],[1.0,\"#f0f921\"]]}],\"contourcarpet\":[{\"type\":\"contourcarpet\",\"colorbar\":{\"outlinewidth\":0,\"ticks\":\"\"}}],\"contour\":[{\"type\":\"contour\",\"colorbar\":{\"outlinewidth\":0,\"ticks\":\"\"},\"colorscale\":[[0.0,\"#0d0887\"],[0.1111111111111111,\"#46039f\"],[0.2222222222222222,\"#7201a8\"],[0.3333333333333333,\"#9c179e\"],[0.4444444444444444,\"#bd3786\"],[0.5555555555555556,\"#d8576b\"],[0.6666666666666666,\"#ed7953\"],[0.7777777777777778,\"#fb9f3a\"],[0.8888888888888888,\"#fdca26\"],[1.0,\"#f0f921\"]]}],\"surface\":[{\"type\":\"surface\",\"colorbar\":{\"outlinewidth\":0,\"ticks\":\"\"},\"colorscale\":[[0.0,\"#0d0887\"],[0.1111111111111111,\"#46039f\"],[0.2222222222222222,\"#7201a8\"],[0.3333333333333333,\"#9c179e\"],[0.4444444444444444,\"#bd3786\"],[0.5555555555555556,\"#d8576b\"],[0.6666666666666666,\"#ed7953\"],[0.7777777777777778,\"#fb9f3a\"],[0.8888888888888888,\"#fdca26\"],[1.0,\"#f0f921\"]]}],\"mesh3d\":[{\"type\":\"mesh3d\",\"colorbar\":{\"outlinewidth\":0,\"ticks\":\"\"}}],\"scatter\":[{\"fillpattern\":{\"fillmode\":\"overlay\",\"size\":10,\"solidity\":0.2},\"type\":\"scatter\"}],\"parcoords\":[{\"type\":\"parcoords\",\"line\":{\"colorbar\":{\"outlinewidth\":0,\"ticks\":\"\"}}}],\"scatterpolargl\":[{\"type\":\"scatterpolargl\",\"marker\":{\"colorbar\":{\"outlinewidth\":0,\"ticks\":\"\"}}}],\"bar\":[{\"error_x\":{\"color\":\"#2a3f5f\"},\"error_y\":{\"color\":\"#2a3f5f\"},\"marker\":{\"line\":{\"color\":\"#E5ECF6\",\"width\":0.5},\"pattern\":{\"fillmode\":\"overlay\",\"size\":10,\"solidity\":0.2}},\"type\":\"bar\"}],\"scattergeo\":[{\"type\":\"scattergeo\",\"marker\":{\"colorbar\":{\"outlinewidth\":0,\"ticks\":\"\"}}}],\"scatterpolar\":[{\"type\":\"scatterpolar\",\"marker\":{\"colorbar\":{\"outlinewidth\":0,\"ticks\":\"\"}}}],\"histogram\":[{\"marker\":{\"pattern\":{\"fillmode\":\"overlay\",\"size\":10,\"solidity\":0.2}},\"type\":\"histogram\"}],\"scattergl\":[{\"type\":\"scattergl\",\"marker\":{\"colorbar\":{\"outlinewidth\":0,\"ticks\":\"\"}}}],\"scatter3d\":[{\"type\":\"scatter3d\",\"line\":{\"colorbar\":{\"outlinewidth\":0,\"ticks\":\"\"}},\"marker\":{\"colorbar\":{\"outlinewidth\":0,\"ticks\":\"\"}}}],\"scattermapbox\":[{\"type\":\"scattermapbox\",\"marker\":{\"colorbar\":{\"outlinewidth\":0,\"ticks\":\"\"}}}],\"scatterternary\":[{\"type\":\"scatterternary\",\"marker\":{\"colorbar\":{\"outlinewidth\":0,\"ticks\":\"\"}}}],\"scattercarpet\":[{\"type\":\"scattercarpet\",\"marker\":{\"colorbar\":{\"outlinewidth\":0,\"ticks\":\"\"}}}],\"carpet\":[{\"aaxis\":{\"endlinecolor\":\"#2a3f5f\",\"gridcolor\":\"white\",\"linecolor\":\"white\",\"minorgridcolor\":\"white\",\"startlinecolor\":\"#2a3f5f\"},\"baxis\":{\"endlinecolor\":\"#2a3f5f\",\"gridcolor\":\"white\",\"linecolor\":\"white\",\"minorgridcolor\":\"white\",\"startlinecolor\":\"#2a3f5f\"},\"type\":\"carpet\"}],\"table\":[{\"cells\":{\"fill\":{\"color\":\"#EBF0F8\"},\"line\":{\"color\":\"white\"}},\"header\":{\"fill\":{\"color\":\"#C8D4E3\"},\"line\":{\"color\":\"white\"}},\"type\":\"table\"}],\"barpolar\":[{\"marker\":{\"line\":{\"color\":\"#E5ECF6\",\"width\":0.5},\"pattern\":{\"fillmode\":\"overlay\",\"size\":10,\"solidity\":0.2}},\"type\":\"barpolar\"}],\"pie\":[{\"automargin\":true,\"type\":\"pie\"}]},\"layout\":{\"autotypenumbers\":\"strict\",\"colorway\":[\"#636efa\",\"#EF553B\",\"#00cc96\",\"#ab63fa\",\"#FFA15A\",\"#19d3f3\",\"#FF6692\",\"#B6E880\",\"#FF97FF\",\"#FECB52\"],\"font\":{\"color\":\"#2a3f5f\"},\"hovermode\":\"closest\",\"hoverlabel\":{\"align\":\"left\"},\"paper_bgcolor\":\"white\",\"plot_bgcolor\":\"#E5ECF6\",\"polar\":{\"bgcolor\":\"#E5ECF6\",\"angularaxis\":{\"gridcolor\":\"white\",\"linecolor\":\"white\",\"ticks\":\"\"},\"radialaxis\":{\"gridcolor\":\"white\",\"linecolor\":\"white\",\"ticks\":\"\"}},\"ternary\":{\"bgcolor\":\"#E5ECF6\",\"aaxis\":{\"gridcolor\":\"white\",\"linecolor\":\"white\",\"ticks\":\"\"},\"baxis\":{\"gridcolor\":\"white\",\"linecolor\":\"white\",\"ticks\":\"\"},\"caxis\":{\"gridcolor\":\"white\",\"linecolor\":\"white\",\"ticks\":\"\"}},\"coloraxis\":{\"colorbar\":{\"outlinewidth\":0,\"ticks\":\"\"}},\"colorscale\":{\"sequential\":[[0.0,\"#0d0887\"],[0.1111111111111111,\"#46039f\"],[0.2222222222222222,\"#7201a8\"],[0.3333333333333333,\"#9c179e\"],[0.4444444444444444,\"#bd3786\"],[0.5555555555555556,\"#d8576b\"],[0.6666666666666666,\"#ed7953\"],[0.7777777777777778,\"#fb9f3a\"],[0.8888888888888888,\"#fdca26\"],[1.0,\"#f0f921\"]],\"sequentialminus\":[[0.0,\"#0d0887\"],[0.1111111111111111,\"#46039f\"],[0.2222222222222222,\"#7201a8\"],[0.3333333333333333,\"#9c179e\"],[0.4444444444444444,\"#bd3786\"],[0.5555555555555556,\"#d8576b\"],[0.6666666666666666,\"#ed7953\"],[0.7777777777777778,\"#fb9f3a\"],[0.8888888888888888,\"#fdca26\"],[1.0,\"#f0f921\"]],\"diverging\":[[0,\"#8e0152\"],[0.1,\"#c51b7d\"],[0.2,\"#de77ae\"],[0.3,\"#f1b6da\"],[0.4,\"#fde0ef\"],[0.5,\"#f7f7f7\"],[0.6,\"#e6f5d0\"],[0.7,\"#b8e186\"],[0.8,\"#7fbc41\"],[0.9,\"#4d9221\"],[1,\"#276419\"]]},\"xaxis\":{\"gridcolor\":\"white\",\"linecolor\":\"white\",\"ticks\":\"\",\"title\":{\"standoff\":15},\"zerolinecolor\":\"white\",\"automargin\":true,\"zerolinewidth\":2},\"yaxis\":{\"gridcolor\":\"white\",\"linecolor\":\"white\",\"ticks\":\"\",\"title\":{\"standoff\":15},\"zerolinecolor\":\"white\",\"automargin\":true,\"zerolinewidth\":2},\"scene\":{\"xaxis\":{\"backgroundcolor\":\"#E5ECF6\",\"gridcolor\":\"white\",\"linecolor\":\"white\",\"showbackground\":true,\"ticks\":\"\",\"zerolinecolor\":\"white\",\"gridwidth\":2},\"yaxis\":{\"backgroundcolor\":\"#E5ECF6\",\"gridcolor\":\"white\",\"linecolor\":\"white\",\"showbackground\":true,\"ticks\":\"\",\"zerolinecolor\":\"white\",\"gridwidth\":2},\"zaxis\":{\"backgroundcolor\":\"#E5ECF6\",\"gridcolor\":\"white\",\"linecolor\":\"white\",\"showbackground\":true,\"ticks\":\"\",\"zerolinecolor\":\"white\",\"gridwidth\":2}},\"shapedefaults\":{\"line\":{\"color\":\"#2a3f5f\"}},\"annotationdefaults\":{\"arrowcolor\":\"#2a3f5f\",\"arrowhead\":0,\"arrowwidth\":1},\"geo\":{\"bgcolor\":\"white\",\"landcolor\":\"#E5ECF6\",\"subunitcolor\":\"white\",\"showland\":true,\"showlakes\":true,\"lakecolor\":\"white\"},\"title\":{\"x\":0.05},\"mapbox\":{\"style\":\"light\"}}},\"xaxis\":{\"anchor\":\"y\",\"domain\":[0.0,1.0]},\"yaxis\":{\"anchor\":\"x\",\"domain\":[0.0,1.0]},\"margin\":{\"t\":60},\"images\":[{\"layer\":\"below\",\"opacity\":1.0,\"sizex\":256,\"sizey\":256,\"source\":\"./figures/nhl_rink.png\",\"x\":0,\"xref\":\"x\",\"y\":0,\"yref\":\"y\"},{\"layer\":\"below\",\"opacity\":1.0,\"sizex\":256,\"sizey\":256,\"source\":\"./figures/nhl_rink.png\",\"x\":0,\"xref\":\"x\",\"y\":0,\"yref\":\"y\"},{\"layer\":\"below\",\"opacity\":1.0,\"sizex\":256,\"sizey\":512,\"source\":\"./figures/nhl_rink.png\",\"x\":0,\"xref\":\"x\",\"y\":0,\"yref\":\"y\"},{\"layer\":\"below\",\"opacity\":1.0,\"sizex\":512,\"sizey\":512,\"source\":\"./figures/nhl_rink.png\",\"x\":0,\"xref\":\"x\",\"y\":0,\"yref\":\"y\"}]},                        {\"responsive\": true}                    ).then(function(){\n",
       "                            \n",
       "var gd = document.getElementById('08e75e5e-000f-4925-9ac0-a544b467fb0c');\n",
       "var x = new MutationObserver(function (mutations, observer) {{\n",
       "        var display = window.getComputedStyle(gd).display;\n",
       "        if (!display || display === 'none') {{\n",
       "            console.log([gd, 'removed!']);\n",
       "            Plotly.purge(gd);\n",
       "            observer.disconnect();\n",
       "        }}\n",
       "}});\n",
       "\n",
       "// Listen for the removal of the full notebook cells\n",
       "var notebookContainer = gd.closest('#notebook-container');\n",
       "if (notebookContainer) {{\n",
       "    x.observe(notebookContainer, {childList: true});\n",
       "}}\n",
       "\n",
       "// Listen for the clearing of the current output cell\n",
       "var outputEl = gd.closest('.output');\n",
       "if (outputEl) {{\n",
       "    x.observe(outputEl, {childList: true});\n",
       "}}\n",
       "\n",
       "                        })                };                });            </script>        </div>"
      ]
     },
     "metadata": {},
     "output_type": "display_data"
    }
   ],
   "source": [
    "import plotly.express as px\n",
    "from skimage import io\n",
    "# fig = go.Figure(data =\n",
    "#     go.Contour(\n",
    "#         z=diff,\n",
    "#         x=x_grid,\n",
    "#         y=y_grid,\n",
    "#         colorscale='rdbu'\n",
    "#     ))\n",
    "\n",
    "# rink_img = io.imread(\"./figures/nhl_rink.png\")\n",
    "# (h, w, c) = rink_img.shape\n",
    "# rink_half_img = rink_img[:, int(w/2):, :]\n",
    "# rink_half_img = ndimage.rotate(rink_half_img, 90)\n",
    "\n",
    "# fig.add_layout_image(\n",
    "#         x=0,\n",
    "#         sizex=512,\n",
    "#         y=0,\n",
    "#         sizey=512,\n",
    "#         xref=\"x\",\n",
    "#         yref=\"y\",\n",
    "#         opacity=1.0,\n",
    "#         layer=\"below\",\n",
    "#         source=\"./figures/nhl_rink.png\"\n",
    "# )\n",
    "\n",
    "\n",
    "# fig.add_trace(go.Figure(data =\n",
    "#     go.Contour(\n",
    "#         z=diff,\n",
    "#         x=x_grid,\n",
    "#         y=y_grid,\n",
    "#         colorscale='rdbu'\n",
    "#     )))\n",
    "\n",
    "fig.show()"
   ]
  },
  {
   "cell_type": "code",
   "execution_count": null,
   "metadata": {},
   "outputs": [],
   "source": []
  },
  {
   "cell_type": "code",
   "execution_count": 206,
   "metadata": {},
   "outputs": [
    {
     "data": {
      "image/png": "[encoded data removed]",
      "text/plain": [
       "<Figure size 1200x1200 with 3 Axes>"
      ]
     },
     "metadata": {},
     "output_type": "display_data"
    }
   ],
   "source": [
    "x_min, x_max = 0, 89\n",
    "y_min, y_max = -42.5, 42.5\n",
    "\n",
    "\n",
    "def get_kde(x_shots, y_shots):\n",
    "\n",
    "   X, Y = np.mgrid[x_min:x_max:100j, y_min:y_max:100j]\n",
    "   positions = np.vstack([X.ravel(), Y.ravel()])\n",
    "   values = np.vstack([x_shots, y_shots])\n",
    "   kernel = stats.gaussian_kde(values)\n",
    "   Z = np.reshape(kernel(positions).T, X.shape)\n",
    "\n",
    "   # Z = Z / Z.max()\n",
    "\n",
    "   return Z\n",
    "\n",
    "fig, ax = plt.subplots(1, 3, figsize=(12, 12))\n",
    "\n",
    "kde_season = get_kde(x_shots_season, y_shots_season)\n",
    "ax[0].imshow(kde_season, cmap='bwr', extent=[y_min, y_max, x_max, x_min])\n",
    "# ax[0].plot(y_shots_season, x_shots_season, 'k.', markersize=2)\n",
    "ax[0].set_xlim([y_min, y_max])\n",
    "ax[0].set_ylim([x_max, x_min])\n",
    "\n",
    "kde_team = get_kde(x_shots_one_team, y_shots_one_team)\n",
    "ax[1].imshow(kde_team, cmap='bwr', extent=[y_min, y_max, x_max, x_min])\n",
    "# ax[1].plot(y_shots_one_team, x_shots_one_team, 'k.', markersize=2)\n",
    "ax[1].set_xlim([y_min, y_max])\n",
    "ax[1].set_ylim([x_max, x_min])\n",
    "\n",
    "kde_diff = (kde_team - kde_season) / kde_season\n",
    "ax[2].imshow(kde_diff, cmap='bwr', extent=[y_min, y_max, x_max, x_min])\n",
    "# ax[2].plot(y_shots_one_team, x_shots_one_team, 'k.', markersize=2)\n",
    "ax[2].set_xlim([y_min, y_max])\n",
    "ax[2].set_ylim([x_max, x_min])\n",
    "plt.show()\n"
   ]
  },
  {
   "cell_type": "code",
   "execution_count": 207,
   "metadata": {},
   "outputs": [
    {
     "data": {
      "text/plain": [
       "0.001151841672788501"
      ]
     },
     "execution_count": 207,
     "metadata": {},
     "output_type": "execute_result"
    }
   ],
   "source": [
    "kde_season.max()"
   ]
  },
  {
   "cell_type": "code",
   "execution_count": 204,
   "metadata": {},
   "outputs": [
    {
     "name": "stdout",
     "output_type": "stream",
     "text": [
      "-0.9999999999999999\n",
      "1.0\n"
     ]
    }
   ],
   "source": [
    "diff_min = kde_diff.min()\n",
    "diff_max = kde_diff.max()\n",
    "\n",
    "alpha = (-2./(diff_min-diff_max)) \n",
    "beta = (diff_min + diff_max) / (diff_min - diff_max)\n",
    "kde_diff_norm = alpha * kde_diff + beta\n",
    "\n",
    "print(kde_diff_norm.min())\n",
    "print(kde_diff_norm.max())"
   ]
  },
  {
   "cell_type": "code",
   "execution_count": 203,
   "metadata": {},
   "outputs": [
    {
     "data": {
      "text/plain": [
       "<matplotlib.image.AxesImage at 0x7f04c0e8ff70>"
      ]
     },
     "execution_count": 203,
     "metadata": {},
     "output_type": "execute_result"
    },
    {
     "data": {
      "image/png": "[encoded data removed]",
      "text/plain": [
       "<Figure size 1000x1000 with 2 Axes>"
      ]
     },
     "metadata": {},
     "output_type": "display_data"
    }
   ],
   "source": [
    "x_min, x_max = 0, 89\n",
    "y_min, y_max = -42.5, 42.5\n",
    "\n",
    "y_grid, x_grid = np.mgrid[x_min:x_max:100j, y_min:y_max:100j]\n",
    "\n",
    "fig = plt.figure(figsize=(10,10))\n",
    "# plt.contourf(x_grid, y_grid, kde_diff, alpha=0.8, cmap='bwr', levels = np.linspace(kde_diff.min(), kde_diff.max(), 10), vmin=kde_diff.min(), vmax=kde_diff.max())\n",
    "plt.contourf(x_grid, y_grid, kde_diff, alpha=0.8, cmap='bwr', levels = np.linspace(kde_diff_norm.min(), kde_diff_norm.max(), 10), vmin=kde_diff_norm.min(), vmax=kde_diff_norm.max())\n",
    "plt.colorbar(orientation = 'vertical')\n",
    "plt.imshow(rink_half_img, extent=[-42.5, 42.5, 89, -11])"
   ]
  },
  {
   "cell_type": "code",
   "execution_count": null,
   "metadata": {},
   "outputs": [],
   "source": []
  }
 ],
 "metadata": {
  "kernelspec": {
   "display_name": "Python 3.9.13 ('NHL')",
   "language": "python",
   "name": "python3"
  },
  "language_info": {
   "codemirror_mode": {
    "name": "ipython",
    "version": 3
   },
   "file_extension": ".py",
   "mimetype": "text/x-python",
   "name": "python",
   "nbconvert_exporter": "python",
   "pygments_lexer": "ipython3",
   "version": "3.9.13"
  },
  "orig_nbformat": 4,
  "vscode": {
   "interpreter": {
    "hash": "92f48083c8218174491cd4f669c156bacd48c2621c374208378e0b05beed392f"
   }
  }
 },
 "nbformat": 4,
 "nbformat_minor": 2
}
