{
 "cells": [
  {
   "cell_type": "code",
   "execution_count": 2,
   "metadata": {},
   "outputs": [],
   "source": [
    "%load_ext autoreload\n",
    "%autoreload 2\n",
    "\n",
    "# To load the environment variable defined in the .env file\n",
    "from dotenv import load_dotenv\n",
    "load_dotenv();\n",
    "\n",
    "import os\n",
    "import pandas as pd\n",
    "from tqdm import tqdm\n",
    "import matplotlib.pyplot as plt\n",
    "import matplotlib.image as mpimg\n",
    "import numpy as np\n",
    "from scipy import ndimage\n",
    "from scipy import stats\n",
    "from scipy.ndimage import gaussian_filter \n",
    "from sklearn.neighbors import KernelDensity\n",
    "import seaborn as sns\n",
    "import plotly.graph_objects as go"
   ]
  },
  {
   "cell_type": "code",
   "execution_count": 1,
   "metadata": {},
   "outputs": [],
   "source": [
    "season_year = 2017\n",
    "season_type = \"Regular\""
   ]
  },
  {
   "cell_type": "code",
   "execution_count": 3,
   "metadata": {},
   "outputs": [],
   "source": [
    "import src.data.NHLDataManager as DataManager\n",
    "data_manager = DataManager.NHLDataManager()"
   ]
  },
  {
   "cell_type": "code",
   "execution_count": 410,
   "metadata": {},
   "outputs": [],
   "source": [
    "game_numbers = data_manager.get_game_numbers(season_year=season_year, season_type=season_type)\n",
    "data_season_df = data_manager.get_goals_and_shots_df(season_year=season_year, season_type=season_type, game_number=game_numbers[0])\n",
    "\n",
    "for game_number in game_numbers[1:]:\n",
    "    data_season_df = pd.concat([data_season_df, data_manager.get_goals_and_shots_df(season_year=season_year, season_type=season_type, game_number=game_number)], ignore_index=True)"
   ]
  },
  {
   "cell_type": "code",
   "execution_count": 5,
   "metadata": {},
   "outputs": [
    {
     "name": "stdout",
     "output_type": "stream",
     "text": [
      "          Game ID Event Index   Time Period                         Team  \\\n",
      "51072  2017020795         103  03:10      2         Buffalo Sabres (BUF)   \n",
      "53686  2017020836         118  17:01      1       New York Rangers (NYR)   \n",
      "22687  2017020353         222  16:13      2    Pittsburgh Penguins (PIT)   \n",
      "2785   2017020042          43  08:15      1    Nashville Predators (NSH)   \n",
      "38012  2017020593         279  14:15      3   Vegas Golden Knights (VGK)   \n",
      "10504  2017020162         219  00:38      3  Columbus Blue Jackets (CBJ)   \n",
      "14541  2017020225         279  15:41      3     New York Islanders (NYI)   \n",
      "64389  2017020999         131  02:42      2          Anaheim Ducks (ANA)   \n",
      "48802  2017020760         168  17:09      2       New York Rangers (NYR)   \n",
      "74963  2017021163           4  00:26      1    Philadelphia Flyers (PHI)   \n",
      "\n",
      "       Type   Shot Type        Shooter             Goalie Empty Net  \\\n",
      "51072  SHOT   Snap Shot    Kyle Okposo      Carter Hutton       NaN   \n",
      "53686  SHOT   Snap Shot  Peter Holland         Mike Smith       NaN   \n",
      "22687  SHOT  Wrist Shot   Carl Hagelin        Peter Budaj       NaN   \n",
      "2785   SHOT  Wrist Shot  Ryan Johansen      Brian Elliott       NaN   \n",
      "38012  SHOT    Backhand      Alex Tuch  Frederik Andersen       NaN   \n",
      "10504  SHOT      Tip-In  Josh Anderson         Jake Allen       NaN   \n",
      "14541  SHOT   Snap Shot  Thomas Hickey         Cam Talbot       NaN   \n",
      "64389  SHOT  Wrist Shot    Corey Perry   Sergei Bobrovsky       NaN   \n",
      "48802  GOAL   Deflected    Brady Skjei         Aaron Dell     False   \n",
      "74963  SHOT      Tip-In  Claude Giroux        Matt Murray       NaN   \n",
      "\n",
      "           Strength     X     Y  \n",
      "51072           NaN -80.0  11.0  \n",
      "53686           NaN -79.0   7.0  \n",
      "22687           NaN  58.0  32.0  \n",
      "2785            NaN  81.0   2.0  \n",
      "38012           NaN -54.0 -22.0  \n",
      "10504           NaN -82.0 -11.0  \n",
      "14541           NaN  29.0  19.0  \n",
      "64389           NaN -71.0  22.0  \n",
      "48802  Short Handed  74.0   2.0  \n",
      "74963           NaN -43.0 -19.0  \n"
     ]
    }
   ],
   "source": [
    "data_season_df.to_json(os.path.join(data_manager.data_dir, str(season_year), season_type, f\"data_season_df_{season_year}_{season_type}.json\"))\n",
    "print(data_season_df.sample(10))"
   ]
  },
  {
   "cell_type": "code",
   "execution_count": 6,
   "metadata": {},
   "outputs": [
    {
     "name": "stdout",
     "output_type": "stream",
     "text": [
      "Total number of shots during season 2017 (Regular) = 81873\n",
      "Number of games during season 2017 (Regular) = 1271\n",
      "Mean shots per hour during season 2017 (Regular) = 64.4162077104642\n",
      "Mean goals per hour during season 2017 (Regular) = 6.051140833988985\n"
     ]
    }
   ],
   "source": [
    "total_shots_league = len(data_season_df)\n",
    "number_of_games = len(data_season_df['Game ID'].unique())\n",
    "print(f'Total number of shots during season {season_year} ({season_type}) = {total_shots_league}')\n",
    "print(f'Number of games during season {season_year} ({season_type}) = {number_of_games}')\n",
    "\n",
    "mean_shots_per_hour = total_shots_league / number_of_games\n",
    "print(f'Mean shots per hour during season {season_year} ({season_type}) = {mean_shots_per_hour}')\n",
    "\n",
    "total_goals_league = len(data_season_df[data_season_df['Type'] == 'GOAL'])\n",
    "mean_goals_per_hour = total_goals_league / number_of_games\n",
    "print(f'Mean goals per hour during season {season_year} ({season_type}) = {mean_goals_per_hour}')\n"
   ]
  },
  {
   "cell_type": "code",
   "execution_count": 7,
   "metadata": {},
   "outputs": [
    {
     "name": "stdout",
     "output_type": "stream",
     "text": [
      "Number of Teams during season 2017 (Regular) = 31\n"
     ]
    }
   ],
   "source": [
    "list_of_teams = data_season_df['Team'].unique()\n",
    "number_of_teams = len(list_of_teams)\n",
    "\n",
    "print(f'Number of Teams during season {season_year} ({season_type}) = {number_of_teams}')"
   ]
  },
  {
   "cell_type": "code",
   "execution_count": 8,
   "metadata": {},
   "outputs": [],
   "source": [
    "number_of_games_by_team = int(2 * len(data_season_df['Game ID'].unique()) / len(data_season_df['Team'].unique()))\n",
    "assert(number_of_games_by_team == 82)"
   ]
  },
  {
   "cell_type": "code",
   "execution_count": 9,
   "metadata": {},
   "outputs": [
    {
     "data": {
      "text/html": [
       "<div>\n",
       "<style scoped>\n",
       "    .dataframe tbody tr th:only-of-type {\n",
       "        vertical-align: middle;\n",
       "    }\n",
       "\n",
       "    .dataframe tbody tr th {\n",
       "        vertical-align: top;\n",
       "    }\n",
       "\n",
       "    .dataframe thead th {\n",
       "        text-align: right;\n",
       "    }\n",
       "</style>\n",
       "<table border=\"1\" class=\"dataframe\">\n",
       "  <thead>\n",
       "    <tr style=\"text-align: right;\">\n",
       "      <th></th>\n",
       "      <th>Team</th>\n",
       "      <th>Type</th>\n",
       "      <th>X</th>\n",
       "      <th>Y</th>\n",
       "      <th>Period</th>\n",
       "      <th>Game ID</th>\n",
       "    </tr>\n",
       "  </thead>\n",
       "  <tbody>\n",
       "    <tr>\n",
       "      <th>0</th>\n",
       "      <td>Toronto Maple Leafs (TOR)</td>\n",
       "      <td>GOAL</td>\n",
       "      <td>84.0</td>\n",
       "      <td>-6.0</td>\n",
       "      <td>1</td>\n",
       "      <td>2017020001</td>\n",
       "    </tr>\n",
       "    <tr>\n",
       "      <th>1</th>\n",
       "      <td>Toronto Maple Leafs (TOR)</td>\n",
       "      <td>GOAL</td>\n",
       "      <td>62.0</td>\n",
       "      <td>5.0</td>\n",
       "      <td>1</td>\n",
       "      <td>2017020001</td>\n",
       "    </tr>\n",
       "    <tr>\n",
       "      <th>2</th>\n",
       "      <td>Toronto Maple Leafs (TOR)</td>\n",
       "      <td>GOAL</td>\n",
       "      <td>84.0</td>\n",
       "      <td>-22.0</td>\n",
       "      <td>1</td>\n",
       "      <td>2017020001</td>\n",
       "    </tr>\n",
       "    <tr>\n",
       "      <th>3</th>\n",
       "      <td>Toronto Maple Leafs (TOR)</td>\n",
       "      <td>GOAL</td>\n",
       "      <td>-82.0</td>\n",
       "      <td>2.0</td>\n",
       "      <td>2</td>\n",
       "      <td>2017020001</td>\n",
       "    </tr>\n",
       "    <tr>\n",
       "      <th>4</th>\n",
       "      <td>Toronto Maple Leafs (TOR)</td>\n",
       "      <td>GOAL</td>\n",
       "      <td>68.0</td>\n",
       "      <td>12.0</td>\n",
       "      <td>3</td>\n",
       "      <td>2017020001</td>\n",
       "    </tr>\n",
       "    <tr>\n",
       "      <th>5</th>\n",
       "      <td>Toronto Maple Leafs (TOR)</td>\n",
       "      <td>GOAL</td>\n",
       "      <td>85.0</td>\n",
       "      <td>-6.0</td>\n",
       "      <td>3</td>\n",
       "      <td>2017020001</td>\n",
       "    </tr>\n",
       "    <tr>\n",
       "      <th>6</th>\n",
       "      <td>Winnipeg Jets (WPG)</td>\n",
       "      <td>GOAL</td>\n",
       "      <td>-82.0</td>\n",
       "      <td>8.0</td>\n",
       "      <td>3</td>\n",
       "      <td>2017020001</td>\n",
       "    </tr>\n",
       "    <tr>\n",
       "      <th>7</th>\n",
       "      <td>Toronto Maple Leafs (TOR)</td>\n",
       "      <td>GOAL</td>\n",
       "      <td>84.0</td>\n",
       "      <td>-3.0</td>\n",
       "      <td>3</td>\n",
       "      <td>2017020001</td>\n",
       "    </tr>\n",
       "    <tr>\n",
       "      <th>8</th>\n",
       "      <td>Winnipeg Jets (WPG)</td>\n",
       "      <td>GOAL</td>\n",
       "      <td>-80.0</td>\n",
       "      <td>1.0</td>\n",
       "      <td>3</td>\n",
       "      <td>2017020001</td>\n",
       "    </tr>\n",
       "    <tr>\n",
       "      <th>9</th>\n",
       "      <td>Winnipeg Jets (WPG)</td>\n",
       "      <td>SHOT</td>\n",
       "      <td>-36.0</td>\n",
       "      <td>-28.0</td>\n",
       "      <td>1</td>\n",
       "      <td>2017020001</td>\n",
       "    </tr>\n",
       "    <tr>\n",
       "      <th>10</th>\n",
       "      <td>Winnipeg Jets (WPG)</td>\n",
       "      <td>SHOT</td>\n",
       "      <td>-75.0</td>\n",
       "      <td>1.0</td>\n",
       "      <td>1</td>\n",
       "      <td>2017020001</td>\n",
       "    </tr>\n",
       "    <tr>\n",
       "      <th>11</th>\n",
       "      <td>Winnipeg Jets (WPG)</td>\n",
       "      <td>SHOT</td>\n",
       "      <td>-73.0</td>\n",
       "      <td>10.0</td>\n",
       "      <td>1</td>\n",
       "      <td>2017020001</td>\n",
       "    </tr>\n",
       "    <tr>\n",
       "      <th>12</th>\n",
       "      <td>Toronto Maple Leafs (TOR)</td>\n",
       "      <td>SHOT</td>\n",
       "      <td>80.0</td>\n",
       "      <td>-3.0</td>\n",
       "      <td>1</td>\n",
       "      <td>2017020001</td>\n",
       "    </tr>\n",
       "    <tr>\n",
       "      <th>13</th>\n",
       "      <td>Winnipeg Jets (WPG)</td>\n",
       "      <td>SHOT</td>\n",
       "      <td>-44.0</td>\n",
       "      <td>-21.0</td>\n",
       "      <td>1</td>\n",
       "      <td>2017020001</td>\n",
       "    </tr>\n",
       "    <tr>\n",
       "      <th>14</th>\n",
       "      <td>Winnipeg Jets (WPG)</td>\n",
       "      <td>SHOT</td>\n",
       "      <td>-38.0</td>\n",
       "      <td>-5.0</td>\n",
       "      <td>1</td>\n",
       "      <td>2017020001</td>\n",
       "    </tr>\n",
       "  </tbody>\n",
       "</table>\n",
       "</div>"
      ],
      "text/plain": [
       "                         Team  Type     X     Y Period     Game ID\n",
       "0   Toronto Maple Leafs (TOR)  GOAL  84.0  -6.0      1  2017020001\n",
       "1   Toronto Maple Leafs (TOR)  GOAL  62.0   5.0      1  2017020001\n",
       "2   Toronto Maple Leafs (TOR)  GOAL  84.0 -22.0      1  2017020001\n",
       "3   Toronto Maple Leafs (TOR)  GOAL -82.0   2.0      2  2017020001\n",
       "4   Toronto Maple Leafs (TOR)  GOAL  68.0  12.0      3  2017020001\n",
       "5   Toronto Maple Leafs (TOR)  GOAL  85.0  -6.0      3  2017020001\n",
       "6         Winnipeg Jets (WPG)  GOAL -82.0   8.0      3  2017020001\n",
       "7   Toronto Maple Leafs (TOR)  GOAL  84.0  -3.0      3  2017020001\n",
       "8         Winnipeg Jets (WPG)  GOAL -80.0   1.0      3  2017020001\n",
       "9         Winnipeg Jets (WPG)  SHOT -36.0 -28.0      1  2017020001\n",
       "10        Winnipeg Jets (WPG)  SHOT -75.0   1.0      1  2017020001\n",
       "11        Winnipeg Jets (WPG)  SHOT -73.0  10.0      1  2017020001\n",
       "12  Toronto Maple Leafs (TOR)  SHOT  80.0  -3.0      1  2017020001\n",
       "13        Winnipeg Jets (WPG)  SHOT -44.0 -21.0      1  2017020001\n",
       "14        Winnipeg Jets (WPG)  SHOT -38.0  -5.0      1  2017020001"
      ]
     },
     "execution_count": 9,
     "metadata": {},
     "output_type": "execute_result"
    }
   ],
   "source": [
    "data_season_df[['Team', 'Type', 'X', 'Y', 'Period', 'Game ID']].head(15)"
   ]
  },
  {
   "cell_type": "code",
   "execution_count": 10,
   "metadata": {},
   "outputs": [
    {
     "data": {
      "text/plain": [
       "Team\n",
       "Chicago Blackhawks (CHI)     2805\n",
       "San Jose Sharks (SJS)        2736\n",
       "Dallas Stars (DAL)           2579\n",
       "New York Rangers (NYR)       2562\n",
       "Toronto Maple Leafs (TOR)    2674\n",
       "Carolina Hurricanes (CAR)    2796\n",
       "Montréal Canadiens (MTL)     2710\n",
       "Minnesota Wild (MIN)         2501\n",
       "Edmonton Oilers (EDM)        2756\n",
       "Washington Capitals (WSH)    2388\n",
       "Philadelphia Flyers (PHI)    2664\n",
       "New Jersey Devils (NJD)      2628\n",
       "Vancouver Canucks (VAN)      2486\n",
       "Arizona Coyotes (ARI)        2472\n",
       "Buffalo Sabres (BUF)         2565\n",
       "Los Angeles Kings (LAK)      2553\n",
       "Ottawa Senators (OTT)        2542\n",
       "Anaheim Ducks (ANA)          2514\n",
       "Detroit Red Wings (DET)      2517\n",
       "Pittsburgh Penguins (PIT)    2832\n",
       "dtype: int64"
      ]
     },
     "execution_count": 10,
     "metadata": {},
     "output_type": "execute_result"
    }
   ],
   "source": [
    "df_total_shots_season_by_team = data_season_df[['Team', 'Type', 'X', 'Y']].dropna().groupby('Team').size()\n",
    "df_total_shots_season_by_team.sample(20)"
   ]
  },
  {
   "cell_type": "code",
   "execution_count": 11,
   "metadata": {},
   "outputs": [
    {
     "name": "stdout",
     "output_type": "stream",
     "text": [
      "Team\n",
      "Edmonton Oilers (EDM)        33.609756\n",
      "Tampa Bay Lightning (TBL)    32.878049\n",
      "New York Islanders (NYI)     31.548780\n",
      "Buffalo Sabres (BUF)         31.280488\n",
      "Minnesota Wild (MIN)         30.500000\n",
      "Ottawa Senators (OTT)        31.000000\n",
      "Montréal Canadiens (MTL)     33.048780\n",
      "Winnipeg Jets (WPG)          32.475610\n",
      "Carolina Hurricanes (CAR)    34.097561\n",
      "Toronto Maple Leafs (TOR)    32.609756\n",
      "dtype: float64\n"
     ]
    }
   ],
   "source": [
    "df_mean_shots_per_team_by_hour = df_total_shots_season_by_team / number_of_games_by_team\n",
    "print(df_mean_shots_per_team_by_hour.sample(10))"
   ]
  },
  {
   "cell_type": "code",
   "execution_count": 12,
   "metadata": {},
   "outputs": [],
   "source": [
    "def convert_shots_to_offensize_zone(x_shots, y_shots):\n",
    "\n",
    "   # Shots taken from behind the goal is from the defensive zone.\n",
    "   # Since we are only interested in shots taken in the offensive zone, we skip them\n",
    "   shots_defzone_mask = (x_shots < -89) | (x_shots > 89)\n",
    "   x_shots = x_shots[~shots_defzone_mask] \n",
    "   y_shots = y_shots[~shots_defzone_mask]\n",
    "\n",
    "   # Flip the y coordinates if x is negative\n",
    "   shots_xneg_mask = x_shots < 0\n",
    "   x_shots = abs(x_shots)\n",
    "   y_shots[shots_xneg_mask] = -y_shots[shots_xneg_mask] \n",
    "\n",
    "   # Reverse the x axis, so the goal is at 0\n",
    "   x_shots = 89 - x_shots\n",
    "\n",
    "   return [x_shots, y_shots]"
   ]
  },
  {
   "cell_type": "code",
   "execution_count": 13,
   "metadata": {},
   "outputs": [
    {
     "name": "stdout",
     "output_type": "stream",
     "text": [
      "1271\n"
     ]
    }
   ],
   "source": [
    "x_shots_season = data_season_df['X'].dropna().to_numpy().copy().astype(np.float32)\n",
    "y_shots_season = data_season_df['Y'].dropna().to_numpy().copy().astype(np.float32)\n",
    "\n",
    "[x_shots_season, y_shots_season] = convert_shots_to_offensize_zone(x_shots_season, y_shots_season)\n",
    "\n",
    "number_of_games = len(data_season_df['Game ID'].unique())\n",
    "print(number_of_games)\n",
    "\n",
    "#print(x_shots_season.__len__())"
   ]
  },
  {
   "cell_type": "code",
   "execution_count": 270,
   "metadata": {},
   "outputs": [],
   "source": [
    "# data_one_team_df = data_season_df.loc[data_season_df['Team'] == \"Buffalo Sabres (BUF)\"]\n",
    "data_one_team_df = data_season_df.loc[data_season_df['Team'] == \"Tampa Bay Lightning (TBL)\"]\n",
    "\n",
    "\n",
    "df_total_shots_one_team = data_one_team_df[['Team', 'Type', 'X', 'Y']].dropna()\n",
    "\n",
    "x_shots_one_team = df_total_shots_one_team['X'].dropna().to_numpy().copy().astype(np.float32)\n",
    "y_shots_one_team = df_total_shots_one_team['Y'].dropna().to_numpy().copy().astype(np.float32)\n",
    "\n",
    "[x_shots_one_team, y_shots_one_team] = convert_shots_to_offensize_zone(x_shots_one_team, y_shots_one_team)\n"
   ]
  },
  {
   "cell_type": "code",
   "execution_count": 417,
   "metadata": {},
   "outputs": [],
   "source": [
    "def get_shots_hist2D(x_shots, y_shots, num_pts_x=20, num_pts_y=20):\n",
    "\n",
    "    x_min, x_max = 0.0, 89.0\n",
    "    y_min, y_max = -42.5, 42.5\n",
    "\n",
    "    x_grid = np.linspace(x_min, x_max, num_pts_x+1)\n",
    "    y_grid = np.linspace(y_min, y_max, num_pts_y+1)\n",
    "\n",
    "    ret = stats.binned_statistic_2d(x_shots.tolist(), y_shots.tolist(), None, 'count', bins=[x_grid.tolist(), y_grid.tolist()])\n",
    "\n",
    "    x_bins = (0.5 * (x_grid[1:] + x_grid[0:-1]))\n",
    "    y_bins = (0.5 * (y_grid[1:] + y_grid[0:-1]))\n",
    "\n",
    "    return  ret.statistic, x_bins, y_bins\n"
   ]
  },
  {
   "cell_type": "code",
   "execution_count": 418,
   "metadata": {},
   "outputs": [
    {
     "name": "stdout",
     "output_type": "stream",
     "text": [
      "0.4878048780487805\n"
     ]
    },
    {
     "data": {
      "image/png": "[encoded data removed]",
      "text/plain": [
       "<Figure size 1200x1200 with 3 Axes>"
      ]
     },
     "metadata": {},
     "output_type": "display_data"
    }
   ],
   "source": [
    "shots_hist2D_season, _, _ = get_shots_hist2D(x_shots_season, y_shots_season, num_pts_x=40, num_pts_y=20)\n",
    "shots_hist2D_season_by_hour = shots_hist2D_season / (number_of_games*2)\n",
    "\n",
    "shots_hist2D_one_team, _, _ = get_shots_hist2D(x_shots_one_team, y_shots_one_team, num_pts_x=40, num_pts_y=20)\n",
    "shots_hist2D_one_team_by_hour = shots_hist2D_one_team / number_of_games_by_team\n",
    "\n",
    "\n",
    "fig, ax = plt.subplots(1, 3, figsize=(12,12))\n",
    "\n",
    "ax[0].imshow(shots_hist2D_season_by_hour, extent=[-42.5, 42.5, 89, 0])\n",
    "ax[1].imshow(shots_hist2D_one_team_by_hour, extent=[-42.5, 42.5, 89, 0])\n",
    "ax[2].imshow(shots_hist2D_one_team_by_hour-shots_hist2D_season_by_hour, extent=[-42.5, 42.5, 89, 0])\n",
    "\n",
    "print(shots_hist2D_one_team_by_hour.max())\n",
    "plt.show()\n"
   ]
  },
  {
   "cell_type": "code",
   "execution_count": 419,
   "metadata": {},
   "outputs": [
    {
     "data": {
      "text/plain": [
       "<matplotlib.image.AxesImage at 0x7fcb3506ba30>"
      ]
     },
     "execution_count": 419,
     "metadata": {},
     "output_type": "execute_result"
    },
    {
     "data": {
      "image/png": "[encoded data removed]",
      "text/plain": [
       "<Figure size 1000x1000 with 2 Axes>"
      ]
     },
     "metadata": {},
     "output_type": "display_data"
    }
   ],
   "source": [
    "shots_hist2D_season, x_grid, y_grid = get_shots_hist2D(x_shots_season, y_shots_season, num_pts_x=40, num_pts_y=20)\n",
    "shots_hist2D_season_by_hour = shots_hist2D_season / (number_of_games*2)\n",
    "\n",
    "shots_hist2D_one_team, x_grid, y_grid = get_shots_hist2D(x_shots_one_team, y_shots_one_team, num_pts_x=40, num_pts_y=20)\n",
    "shots_hist2D_one_team_by_hour = shots_hist2D_one_team / (number_of_games_by_team)\n",
    "\n",
    "shots_hist2D_season_by_hour_s = gaussian_filter(shots_hist2D_season_by_hour, sigma = 1.5)\n",
    "shots_hist2D_one_team_by_hour_s = gaussian_filter(shots_hist2D_one_team_by_hour, sigma = 1.5)\n",
    "\n",
    "diff = (shots_hist2D_one_team_by_hour_s-shots_hist2D_season_by_hour_s) / shots_hist2D_season_by_hour_s\n",
    "\n",
    "# Not necessary\n",
    "diff_min = diff.min()\n",
    "diff_max = diff.max()\n",
    "alpha = (-2./(diff_min-diff_max)) \n",
    "beta = (diff_min + diff_max) / (diff_min - diff_max)\n",
    "diff_norm = alpha * diff + beta\n",
    "\n",
    "rink_img = (255 * mpimg.imread(\"./figures/nhl_rink.png\")).astype(int)\n",
    "(h, w, c) = rink_img.shape\n",
    "rink_half_img = rink_img[:, int(w/2):, :]\n",
    "rink_half_img = ndimage.rotate(rink_half_img, 90).astype(int)\n",
    "\n",
    "fig = plt.figure(figsize=(10,10))\n",
    "plt.contourf(y_grid, x_grid, diff, alpha=0.8, cmap='bwr', levels = np.linspace(diff.min(), diff.max(), 12), vmin=diff.min(), vmax=diff.max())\n",
    "plt.colorbar(orientation = 'vertical')\n",
    "plt.imshow(rink_half_img, extent=[-42.5, 42.5, 89, -11])\n",
    "\n",
    "# plt.contourf(y_grid, x_grid, diff_norm, alpha=0.8, cmap='bwr', levels = np.linspace(-1, 1, 20))\n",
    "\n",
    "\n"
   ]
  },
  {
   "cell_type": "code",
   "execution_count": 420,
   "metadata": {},
   "outputs": [
    {
     "data": {
      "application/vnd.plotly.v1+json": {
       "config": {
        "plotlyServerURL": "https://plot.ly"
       },
       "data": [
        {
         "colorscale": [
          [
           0,
           "rgb(103,0,31)"
          ],
          [
           0.1,
           "rgb(178,24,43)"
          ],
          [
           0.2,
           "rgb(214,96,77)"
          ],
          [
           0.3,
           "rgb(244,165,130)"
          ],
          [
           0.4,
           "rgb(253,219,199)"
          ],
          [
           0.5,
           "rgb(247,247,247)"
          ],
          [
           0.6,
           "rgb(209,229,240)"
          ],
          [
           0.7,
           "rgb(146,197,222)"
          ],
          [
           0.8,
           "rgb(67,147,195)"
          ],
          [
           0.9,
           "rgb(33,102,172)"
          ],
          [
           1,
           "rgb(5,48,97)"
          ]
         ],
         "connectgaps": true,
         "opacity": 0.5,
         "reversescale": true,
         "type": "heatmap",
         "x": [
          -40.375,
          -36.125,
          -31.875,
          -27.625,
          -23.375,
          -19.125,
          -14.875,
          -10.625,
          -6.375,
          -2.125,
          2.125,
          6.375,
          10.625,
          14.875,
          19.125,
          23.375,
          27.625,
          31.875,
          36.125,
          40.375
         ],
         "y": [
          1.1125,
          3.3375000000000004,
          5.5625,
          7.7875000000000005,
          10.0125,
          12.2375,
          14.462500000000002,
          16.6875,
          18.9125,
          21.137500000000003,
          23.3625,
          25.587500000000002,
          27.8125,
          30.0375,
          32.2625,
          34.4875,
          36.712500000000006,
          38.9375,
          41.1625,
          43.3875,
          45.6125,
          47.837500000000006,
          50.0625,
          52.28750000000001,
          54.5125,
          56.7375,
          58.962500000000006,
          61.1875,
          63.41250000000001,
          65.6375,
          67.86250000000001,
          70.0875,
          72.3125,
          74.5375,
          76.7625,
          78.98750000000001,
          81.2125,
          83.4375,
          85.6625,
          87.8875
         ],
         "z": [
          [
           0.1095296373199851,
           -0.07899742121593832,
           -0.2749265747703184,
           -0.44640965637921437,
           -0.5650310454721644,
           -0.6016500917922387,
           -0.5868103625733464,
           -0.5591079346865536,
           -0.5272859349472626,
           -0.489951182033221,
           -0.4598480460804437,
           -0.461760668862184,
           -0.5057155637958982,
           -0.5813226000685652,
           -0.646618986897896,
           -0.6592451043420797,
           -0.6398970527077119,
           -0.6202219739243581,
           -0.6063984539151793,
           -0.6019274775661091
          ],
          [
           0.043737157351814805,
           -0.08351827466172616,
           -0.23247464462168296,
           -0.3781055513604023,
           -0.4764368374650365,
           -0.4997648458001876,
           -0.48737769532468683,
           -0.47058254284735745,
           -0.4494271661648164,
           -0.4227765865115811,
           -0.40506611904314627,
           -0.4165433248091917,
           -0.46320435065873716,
           -0.5305480813675747,
           -0.5757563930169393,
           -0.5727657440232925,
           -0.5644125887927883,
           -0.5797600441778356,
           -0.6013653276505785,
           -0.6162569401042636
          ],
          [
           -0.10669068685448181,
           -0.12460706058993283,
           -0.18109553180283142,
           -0.2674407667009741,
           -0.32448784564484295,
           -0.32550705634448074,
           -0.31732562154805327,
           -0.322931027999955,
           -0.33006227242045705,
           -0.33144011359810066,
           -0.33565434566507935,
           -0.3569729845534105,
           -0.40182398381728074,
           -0.45649453078950736,
           -0.47849536858869646,
           -0.45494995977214164,
           -0.4514409000465266,
           -0.5010356455367919,
           -0.5646928114947246,
           -0.6074171950111491
          ],
          [
           -0.25759524576713266,
           -0.1855805350673583,
           -0.1503387852663124,
           -0.16360466076190028,
           -0.1672224848692623,
           -0.13765878801051026,
           -0.12670536287766743,
           -0.15496989160176095,
           -0.19684338859428602,
           -0.23085994504753637,
           -0.2555073602074451,
           -0.28122680363006664,
           -0.3184539927373667,
           -0.36135827548451444,
           -0.37421274214834327,
           -0.3458687383812291,
           -0.3435019815490028,
           -0.40641873338697854,
           -0.4928379946841918,
           -0.5550080877117135
          ],
          [
           -0.3684239326634648,
           -0.2562104959003818,
           -0.16270486891527938,
           -0.1133282388140741,
           -0.06343582586422884,
           0.006165472880301587,
           0.04004328260108922,
           0.008679090457458022,
           -0.05481932311839311,
           -0.1117374630529659,
           -0.14854356849941133,
           -0.1721130574150347,
           -0.1979645762663047,
           -0.23348088958421204,
           -0.2560140843351914,
           -0.24725965356930432,
           -0.252977726512392,
           -0.3114428706751469,
           -0.39354398151307857,
           -0.4557624900793596
          ],
          [
           -0.44499107335664567,
           -0.3232767876270031,
           -0.2022071380424727,
           -0.11322922203988725,
           -0.024963767843989612,
           0.08384515351946047,
           0.16238808518741568,
           0.16268092404352957,
           0.10716130551213074,
           0.04574271220678823,
           0.005834487721412476,
           -0.013487547922805574,
           -0.03226811518451515,
           -0.07139799164474774,
           -0.11835132943954438,
           -0.14369725693135577,
           -0.16632544080458392,
           -0.21603431014461036,
           -0.2786920844240303,
           -0.32583395042224317
          ],
          [
           -0.46620509607623667,
           -0.34023511698226655,
           -0.20831317322465817,
           -0.10828199991848245,
           -0.014306186688125905,
           0.10947937249531527,
           0.2340686036612313,
           0.29882839595598126,
           0.29088374365820835,
           0.2491130705990444,
           0.21165764029820386,
           0.18695200970818468,
           0.15511625970255408,
           0.09360102094327372,
           0.0194605151083511,
           -0.03444985726845277,
           -0.07928573805099082,
           -0.13653485886204667,
           -0.19519423056599347,
           -0.23523003326840966
          ],
          [
           -0.40810671029120993,
           -0.2843490766076731,
           -0.1579728210526254,
           -0.07067700632412992,
           0.0028361840692477853,
           0.11434384056942852,
           0.26351431233602635,
           0.39579837891837416,
           0.4584848050129218,
           0.452821919646686,
           0.41542080552470695,
           0.3663062119256403,
           0.2981303083402713,
           0.20736355783704447,
           0.1195193377531223,
           0.05006396349045879,
           -0.021799533733499236,
           -0.10951934692563008,
           -0.19280265808580777,
           -0.24698580755900207
          ],
          [
           -0.2967082018767148,
           -0.19981967363038763,
           -0.10359711924255094,
           -0.03798407150829508,
           0.019954328637918378,
           0.1198680212565964,
           0.27668877808268433,
           0.44885488435899457,
           0.5623692962224356,
           0.5833912528281602,
           0.5396912403352636,
           0.46114243389316195,
           0.3603718377531819,
           0.25581919667173936,
           0.16575603294018318,
           0.08059349535592167,
           -0.023786139478052224,
           -0.14747636029372843,
           -0.2593900793739853,
           -0.33021754346721066
          ],
          [
           -0.19283110046093688,
           -0.14109133908758442,
           -0.0858238574715781,
           -0.03419072285619694,
           0.029404978846669236,
           0.13403251354591358,
           0.29280027901765937,
           0.47341325088854525,
           0.6000810293612054,
           0.6275576403138527,
           0.5778619972477818,
           0.48274877969060315,
           0.3657545273653595,
           0.25574251792906866,
           0.160782745519354,
           0.057920104717333054,
           -0.07279282594293193,
           -0.21832930053098717,
           -0.3405703705516863,
           -0.4124603290380112
          ],
          [
           -0.14592623777975589,
           -0.12797296913143758,
           -0.09352496628637869,
           -0.03556916026230072,
           0.046591354153719254,
           0.15750797206074696,
           0.3052453240661936,
           0.46900503923678055,
           0.5864066360727039,
           0.6155495805887099,
           0.5699007574171013,
           0.47093940682954005,
           0.34176086178044873,
           0.2226294000344216,
           0.1273208338648014,
           0.027746847532823988,
           -0.10106571169234925,
           -0.2464111398314175,
           -0.3671801027614992,
           -0.4348402906788631
          ],
          [
           -0.15126175901617198,
           -0.135596212208569,
           -0.09047750414215916,
           -0.011730844346405304,
           0.08305177088982102,
           0.18250318282420902,
           0.29655864412114846,
           0.42136926071295977,
           0.5188353429451142,
           0.5555353241978174,
           0.528999557966468,
           0.44128986962767114,
           0.3102345627473743,
           0.19244425485837913,
           0.11591655302446169,
           0.04723304674829016,
           -0.052942210969939466,
           -0.18435643489388617,
           -0.306437902689552,
           -0.3799310013656316
          ],
          [
           -0.16599614629877407,
           -0.12661376796955842,
           -0.057330491189028665,
           0.03513997167306843,
           0.12682247754946008,
           0.20417887350857225,
           0.2772274566473991,
           0.3496226382803832,
           0.409618096729324,
           0.4456150498582753,
           0.4463821579760496,
           0.3938253609486426,
           0.2915527368361209,
           0.19652204802105466,
           0.14410144647650303,
           0.10300399353776411,
           0.029779979252419393,
           -0.08412746724645064,
           -0.2022404911750696,
           -0.27849497989759414
          ],
          [
           -0.1703877860894555,
           -0.10065662864009144,
           -0.014701419147348781,
           0.07374180422365663,
           0.1536210396188929,
           0.21864164259906,
           0.26728014831142594,
           0.2914524368933382,
           0.29913011356035035,
           0.3159932333749826,
           0.3389347893940431,
           0.33616318873513046,
           0.2882282442052006,
           0.22678356329247606,
           0.18359656725309864,
           0.14302231208051355,
           0.0762569617155816,
           -0.02181027868964808,
           -0.12020267085494876,
           -0.1801526266230186
          ],
          [
           -0.1718634718274769,
           -0.0854099645951883,
           0.0004435441090708587,
           0.07359603626436596,
           0.14308731477416956,
           0.2089397751807233,
           0.2514626519728442,
           0.24390094326539413,
           0.2059892332935099,
           0.19960321035473694,
           0.23759120914815596,
           0.28310490983937275,
           0.2935768429375532,
           0.26094119861653226,
           0.2067040191778945,
           0.13931587800362308,
           0.05705130425918227,
           -0.03134328058781502,
           -0.10116436945598571,
           -0.1333109637509677
          ],
          [
           -0.16787974993179205,
           -0.08998239896704635,
           -0.01790290482996619,
           0.04115199193184257,
           0.10280483396102127,
           0.16637655761438513,
           0.20403322554053735,
           0.18417170324385862,
           0.1299769595467371,
           0.11577707646441907,
           0.16604355434180584,
           0.24650962286408115,
           0.2962711632410335,
           0.27202578520540477,
           0.18983211038794645,
           0.08279259285024458,
           -0.024331772945495527,
           -0.10929166251797903,
           -0.15744390585822693,
           -0.17161864415675038
          ],
          [
           -0.13678620451845874,
           -0.08323816462640635,
           -0.027780507332580605,
           0.022725286129227827,
           0.07256173647466292,
           0.11833328252144311,
           0.14500585709882996,
           0.13340688199964515,
           0.09318929263369904,
           0.07969082230450943,
           0.12781609488910625,
           0.21557997089072117,
           0.2712525258436862,
           0.2336191045779852,
           0.12339554339212859,
           -0.009602854512307593,
           -0.12812144133933895,
           -0.20918904678508676,
           -0.2526405556231444,
           -0.272941669293559
          ],
          [
           -0.07699661900156692,
           -0.039501901765847544,
           0.005197483047320151,
           0.04639439120350567,
           0.0768915861493481,
           0.09676319543105988,
           0.11274052246530587,
           0.119057173667341,
           0.10087446660245837,
           0.0835494912748682,
           0.11201920394473058,
           0.18075032561885102,
           0.21789739099095737,
           0.16122376037305877,
           0.04035657950615718,
           -0.08839107038676397,
           -0.19194258037613643,
           -0.26209266167366463,
           -0.3144027042348204,
           -0.36041532100690177
          ],
          [
           -0.007895774190611306,
           0.03816654181541593,
           0.08355032900107237,
           0.11296543519533554,
           0.12045930559375215,
           0.11442911417453308,
           0.11358880226296794,
           0.12043375123828176,
           0.11436505270549069,
           0.10217403270580622,
           0.11907931541735878,
           0.16323881338430585,
           0.1747380756664865,
           0.10550884295252254,
           -0.006505421815945912,
           -0.10666314053516497,
           -0.17737193772316337,
           -0.23336949844794916,
           -0.30223424451561426,
           -0.38253689069350494
          ],
          [
           0.053756359233358385,
           0.135215674083378,
           0.19722987518900242,
           0.22204136949921413,
           0.2136380410076067,
           0.18448158392037003,
           0.15060232491891073,
           0.12375322908838773,
           0.10977097152183492,
           0.11290763748962311,
           0.13555076268251545,
           0.1653967762841573,
           0.1635266954007003,
           0.10307298018357976,
           0.019560013850374855,
           -0.04581905337299756,
           -0.09225718019318947,
           -0.14724468757818648,
           -0.23833949676684343,
           -0.3504206254677821
          ],
          [
           0.06882699146681942,
           0.19042612500896125,
           0.2757080346877205,
           0.31072065116869063,
           0.3066705207667664,
           0.27087656317280556,
           0.2102212018711061,
           0.14442482707609006,
           0.10879362867391162,
           0.113460232715699,
           0.13817011267279583,
           0.16679028875368665,
           0.1803695174306812,
           0.15929008460592045,
           0.11416636588806076,
           0.062176127013608605,
           0.0010527779201655555,
           -0.08237890319770504,
           -0.1997864933116059,
           -0.3302586800318745
          ],
          [
           -0.011644345586124451,
           0.12682236830681354,
           0.22798150641549372,
           0.2839947068855757,
           0.305487907060789,
           0.29185852319064537,
           0.24396309125939888,
           0.18193547218971048,
           0.14260406384940078,
           0.13905462165079874,
           0.15820766015550217,
           0.19221532103040223,
           0.22950833588744401,
           0.2435402726059649,
           0.21633508367274076,
           0.14505169926176828,
           0.037386876407540015,
           -0.09171148935190819,
           -0.23322128794008576,
           -0.36716205899013843
          ],
          [
           -0.17376207172681382,
           -0.033818848158833396,
           0.08037217016121657,
           0.1623835519503316,
           0.21937640236358,
           0.24685136629260115,
           0.24320829707945193,
           0.22282056310968562,
           0.2060661936638516,
           0.2030336475166749,
           0.21890261865400462,
           0.25469455108301176,
           0.2955738497157724,
           0.31038187800655676,
           0.27059965600635305,
           0.16571113142177912,
           0.01418792586969958,
           -0.1485047739719598,
           -0.300417233393558,
           -0.4255738841019701
          ],
          [
           -0.356794700564728,
           -0.21522327017533024,
           -0.085778122608891,
           0.022830467759857417,
           0.11490315362453628,
           0.18419632591770865,
           0.2259778269405521,
           0.2481235289993192,
           0.25850174044455176,
           0.2637814400604516,
           0.28146917838140706,
           0.3169534291823814,
           0.3468327294923941,
           0.3375001472402555,
           0.2661230858085252,
           0.1277214821145862,
           -0.04962109144881345,
           -0.2215689832083766,
           -0.3643111654174208,
           -0.4691381593521192
          ],
          [
           -0.5012463854491276,
           -0.36083465664830106,
           -0.2229824788685711,
           -0.09783973361979803,
           0.0180766495314014,
           0.11557968276629393,
           0.18339462990570074,
           0.22620195419799183,
           0.2531676352262436,
           0.27072916955636994,
           0.29781886447062705,
           0.3390714911360087,
           0.3590684040170828,
           0.31691065705310745,
           0.2048820411600447,
           0.037309561441234845,
           -0.14711928601250898,
           -0.3053624899078185,
           -0.4221693250509969,
           -0.49915444639003687
          ],
          [
           -0.5840706178809304,
           -0.4520893529414796,
           -0.32039170540718703,
           -0.19808022466222394,
           -0.0787926006234336,
           0.02593909399648515,
           0.0968127245462908,
           0.13945270278208374,
           0.1748299646390187,
           0.20826753592492,
           0.24925995046181348,
           0.2990626953991018,
           0.31312955810652515,
           0.24043548467674636,
           0.09047259315383256,
           -0.09455234070163772,
           -0.26598633419711715,
           -0.392074015315565,
           -0.4743689689405106,
           -0.5248787666252288
          ],
          [
           -0.626610611825415,
           -0.5049404755616028,
           -0.3873991143030824,
           -0.2827877837025466,
           -0.17961853251665144,
           -0.0879034480710436,
           -0.030939457357304866,
           0.0015465711352946074,
           0.04245364529984977,
           0.0889285307148301,
           0.1361444793211696,
           0.18560500643397695,
           0.19503871968806513,
           0.10698183150058592,
           -0.060693987645665075,
           -0.24225127260132662,
           -0.38249196252062995,
           -0.4671103977670974,
           -0.517070917741942,
           -0.5505342548707184
          ],
          [
           -0.6475850716208627,
           -0.5280235445435298,
           -0.41985073908911874,
           -0.339185346394654,
           -0.27124674273478105,
           -0.21688975953208817,
           -0.1909436847202745,
           -0.1754412729161528,
           -0.13829520054951536,
           -0.09676884578929684,
           -0.06119466567587901,
           -0.021329287348863597,
           -0.006339893835359639,
           -0.07648297980136431,
           -0.2228493314853,
           -0.3730759007077028,
           -0.47025464227387875,
           -0.5140704162281505,
           -0.5376981920762685,
           -0.5596284884546787
          ],
          [
           -0.60297409031233,
           -0.4534495424183153,
           -0.330673638747796,
           -0.28382271217697175,
           -0.30129005977854806,
           -0.34833753842476733,
           -0.38688832082355445,
           -0.3859045481271983,
           -0.3595354640683066,
           -0.34420613411418016,
           -0.3309890467165552,
           -0.2969202946447809,
           -0.2590332162602443,
           -0.27484261400737964,
           -0.353140765931056,
           -0.4372932720674568,
           -0.48090833979044445,
           -0.48616984344757735,
           -0.4791624644758142,
           -0.4765684752946518
          ],
          [
           -0.44328886018661123,
           -0.21792785752780905,
           -0.04236058102705232,
           -0.0293031134354785,
           -0.1836014530292378,
           -0.4022258260277496,
           -0.5199527572152075,
           -0.4976328183061619,
           -0.45947566626815184,
           -0.4569724639258354,
           -0.4480603768202222,
           -0.4083375512442342,
           -0.36334478392067576,
           -0.358688601169878,
           -0.38513597254652987,
           -0.40153603914089364,
           -0.39640397079435985,
           -0.37435879460712856,
           -0.339354877731375,
           -0.3065431705165953
          ],
          [
           -0.3100969289493546,
           -0.04143831887153577,
           0.1622787836884406,
           0.1655102850875702,
           -0.03983249188196229,
           -0.32736042254554637,
           -0.4777284561505553,
           -0.4514529108769926,
           -0.40391622085923723,
           -0.3827145829904652,
           -0.3446584236900801,
           -0.2888857635950265,
           -0.27167238055569976,
           -0.31953746338119576,
           -0.36177176195523664,
           -0.35605163332416756,
           -0.3371090674340964,
           -0.3216392817243898,
           -0.295647782067039,
           -0.2650484941475021
          ],
          [
           -0.2726104092058699,
           -0.0042675687503758155,
           0.19588938571504538,
           0.2069690411983228,
           0.04054972874931025,
           -0.19691441291351938,
           -0.3482946215001138,
           -0.3676631724423979,
           -0.33570739291663654,
           -0.2835049754201226,
           -0.20208327917973778,
           -0.13719436049804945,
           -0.17084524594416378,
           -0.28013782661609354,
           -0.33278170863579326,
           -0.31076039921655113,
           -0.29706325906153375,
           -0.31526616426589993,
           -0.3364902525151192,
           -0.346401617136602
          ],
          [
           -0.30986821034250295,
           -0.058574506371332026,
           0.1358326116021818,
           0.17416241571713584,
           0.08584284493482144,
           -0.05704067713862583,
           -0.1952977914233104,
           -0.2819250349025195,
           -0.28818955335237373,
           -0.2141672598854939,
           -0.096370960646222,
           -0.036351972593848106,
           -0.12365320900850633,
           -0.25898018831780134,
           -0.2738617222029197,
           -0.21118801334984583,
           -0.19636816207201543,
           -0.2522832665579431,
           -0.3417411526280934,
           -0.42262885730800914
          ],
          [
           -0.4051032555729615,
           -0.1863406010338676,
           -0.00466837829886934,
           0.06440044421421583,
           0.05768215218207172,
           0.01465714165900932,
           -0.08156567588397413,
           -0.19933533787575095,
           -0.2457459078554083,
           -0.18444272028455913,
           -0.06807399524367362,
           -0.028717608927450403,
           -0.13916911204943952,
           -0.23258734659617383,
           -0.15446000164281262,
           -0.02489871759240717,
           0.00844850806964026,
           -0.07218805661004046,
           -0.23008315888826858,
           -0.392664362669772
          ],
          [
           -0.47085314913742654,
           -0.28032548045858907,
           -0.119322562076811,
           -0.051357579119559925,
           -0.03498454504421849,
           -0.028536981900906953,
           -0.060545507161000774,
           -0.13516534168811087,
           -0.19982619636615906,
           -0.20626977035674116,
           -0.15696004612374131,
           -0.14365644229008268,
           -0.21281098227356218,
           -0.19664451484149692,
           0.009364131579265201,
           0.2278804272080195,
           0.29705228620038154,
           0.20466568917977854,
           -0.0052965649096022895,
           -0.22939627979028537
          ],
          [
           -0.43868220707044897,
           -0.24810144171187082,
           -0.09608535312329401,
           -0.0624446101823813,
           -0.10761249190755909,
           -0.14447308169555156,
           -0.14436402819830835,
           -0.14993851435729644,
           -0.2108050087992424,
           -0.2896233475618996,
           -0.31119001439504945,
           -0.29711721249267764,
           -0.2914539377235368,
           -0.18654965156152878,
           0.10221455958348957,
           0.40111256102198023,
           0.5262805592829796,
           0.4503716295000106,
           0.22824876598285274,
           -0.013372723132769151
          ],
          [
           -0.35859634691265,
           -0.15508219267613674,
           0.0000016374727827829235,
           -0.004798436694235242,
           -0.1450228015731437,
           -0.2835053804149666,
           -0.31147264307390754,
           -0.2891506767416348,
           -0.33433440829047706,
           -0.414914368743405,
           -0.4259626183870713,
           -0.3607423153815596,
           -0.2861409757778086,
           -0.1869120536997245,
           0.04894028605894536,
           0.3576674786111766,
           0.552731878967187,
           0.5427123497522739,
           0.3598115685609333,
           0.13955794775935745
          ],
          [
           -0.3244978945641686,
           -0.12602623391597378,
           0.02474823797584658,
           0.0006512793912541737,
           -0.18837799960623686,
           -0.38890896153697474,
           -0.46175851317595934,
           -0.4703774214141308,
           -0.5090928936055152,
           -0.5301988016883041,
           -0.46010827687389644,
           -0.29653532324431103,
           -0.13087850129205006,
           -0.08468349714141067,
           -0.03978263421081536,
           0.14897073592092355,
           0.36433507899388945,
           0.4253933895499624,
           0.2950045757001179,
           0.10423765740908773
          ],
          [
           -0.37085799569663846,
           -0.1987661667557595,
           -0.066624073341842,
           -0.0880659440941973,
           -0.24663238377806038,
           -0.40298234070574285,
           -0.47538046248312504,
           -0.5544843757479442,
           -0.6298207800245663,
           -0.6062844951352074,
           -0.45699235073034244,
           -0.18198780238559947,
           0.12308963064929511,
           0.17487258405252312,
           0.008969984853664114,
           -0.026751030630418223,
           0.09388088286794803,
           0.15350517636765587,
           0.04059620715344352,
           -0.1324994069806191
          ],
          [
           -0.43496950480401547,
           -0.2859977277933598,
           -0.17090311318246668,
           -0.1835510184081012,
           -0.29026362431072006,
           -0.36281133307917907,
           -0.4004045270911934,
           -0.542585242120839,
           -0.6732927241597867,
           -0.6462588293600884,
           -0.4613110699476808,
           -0.11333657827178062,
           0.312079497262113,
           0.4179042292739558,
           0.13589743961496828,
           -0.07871396968244418,
           -0.0819496441191936,
           -0.07181685154347617,
           -0.19398143710665713,
           -0.3584265490994852
          ]
         ],
         "zsmooth": "best"
        }
       ],
       "layout": {
        "height": 800,
        "images": [
         {
          "layer": "below",
          "opacity": 1,
          "sizex": 85,
          "sizey": 100,
          "sizing": "stretch",
          "source": "data:image/png;base64,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",
          "x": -42.5,
          "xref": "x",
          "y": -11,
          "yref": "y"
         }
        ],
        "margin": {
         "b": 0,
         "l": 0,
         "r": 0,
         "t": 0
        },
        "template": {
         "data": {
          "bar": [
           {
            "error_x": {
             "color": "#2a3f5f"
            },
            "error_y": {
             "color": "#2a3f5f"
            },
            "marker": {
             "line": {
              "color": "#E5ECF6",
              "width": 0.5
             },
             "pattern": {
              "fillmode": "overlay",
              "size": 10,
              "solidity": 0.2
             }
            },
            "type": "bar"
           }
          ],
          "barpolar": [
           {
            "marker": {
             "line": {
              "color": "#E5ECF6",
              "width": 0.5
             },
             "pattern": {
              "fillmode": "overlay",
              "size": 10,
              "solidity": 0.2
             }
            },
            "type": "barpolar"
           }
          ],
          "carpet": [
           {
            "aaxis": {
             "endlinecolor": "#2a3f5f",
             "gridcolor": "white",
             "linecolor": "white",
             "minorgridcolor": "white",
             "startlinecolor": "#2a3f5f"
            },
            "baxis": {
             "endlinecolor": "#2a3f5f",
             "gridcolor": "white",
             "linecolor": "white",
             "minorgridcolor": "white",
             "startlinecolor": "#2a3f5f"
            },
            "type": "carpet"
           }
          ],
          "choropleth": [
           {
            "colorbar": {
             "outlinewidth": 0,
             "ticks": ""
            },
            "type": "choropleth"
           }
          ],
          "contour": [
           {
            "colorbar": {
             "outlinewidth": 0,
             "ticks": ""
            },
            "colorscale": [
             [
              0,
              "#0d0887"
             ],
             [
              0.1111111111111111,
              "#46039f"
             ],
             [
              0.2222222222222222,
              "#7201a8"
             ],
             [
              0.3333333333333333,
              "#9c179e"
             ],
             [
              0.4444444444444444,
              "#bd3786"
             ],
             [
              0.5555555555555556,
              "#d8576b"
             ],
             [
              0.6666666666666666,
              "#ed7953"
             ],
             [
              0.7777777777777778,
              "#fb9f3a"
             ],
             [
              0.8888888888888888,
              "#fdca26"
             ],
             [
              1,
              "#f0f921"
             ]
            ],
            "type": "contour"
           }
          ],
          "contourcarpet": [
           {
            "colorbar": {
             "outlinewidth": 0,
             "ticks": ""
            },
            "type": "contourcarpet"
           }
          ],
          "heatmap": [
           {
            "colorbar": {
             "outlinewidth": 0,
             "ticks": ""
            },
            "colorscale": [
             [
              0,
              "#0d0887"
             ],
             [
              0.1111111111111111,
              "#46039f"
             ],
             [
              0.2222222222222222,
              "#7201a8"
             ],
             [
              0.3333333333333333,
              "#9c179e"
             ],
             [
              0.4444444444444444,
              "#bd3786"
             ],
             [
              0.5555555555555556,
              "#d8576b"
             ],
             [
              0.6666666666666666,
              "#ed7953"
             ],
             [
              0.7777777777777778,
              "#fb9f3a"
             ],
             [
              0.8888888888888888,
              "#fdca26"
             ],
             [
              1,
              "#f0f921"
             ]
            ],
            "type": "heatmap"
           }
          ],
          "heatmapgl": [
           {
            "colorbar": {
             "outlinewidth": 0,
             "ticks": ""
            },
            "colorscale": [
             [
              0,
              "#0d0887"
             ],
             [
              0.1111111111111111,
              "#46039f"
             ],
             [
              0.2222222222222222,
              "#7201a8"
             ],
             [
              0.3333333333333333,
              "#9c179e"
             ],
             [
              0.4444444444444444,
              "#bd3786"
             ],
             [
              0.5555555555555556,
              "#d8576b"
             ],
             [
              0.6666666666666666,
              "#ed7953"
             ],
             [
              0.7777777777777778,
              "#fb9f3a"
             ],
             [
              0.8888888888888888,
              "#fdca26"
             ],
             [
              1,
              "#f0f921"
             ]
            ],
            "type": "heatmapgl"
           }
          ],
          "histogram": [
           {
            "marker": {
             "pattern": {
              "fillmode": "overlay",
              "size": 10,
              "solidity": 0.2
             }
            },
            "type": "histogram"
           }
          ],
          "histogram2d": [
           {
            "colorbar": {
             "outlinewidth": 0,
             "ticks": ""
            },
            "colorscale": [
             [
              0,
              "#0d0887"
             ],
             [
              0.1111111111111111,
              "#46039f"
             ],
             [
              0.2222222222222222,
              "#7201a8"
             ],
             [
              0.3333333333333333,
              "#9c179e"
             ],
             [
              0.4444444444444444,
              "#bd3786"
             ],
             [
              0.5555555555555556,
              "#d8576b"
             ],
             [
              0.6666666666666666,
              "#ed7953"
             ],
             [
              0.7777777777777778,
              "#fb9f3a"
             ],
             [
              0.8888888888888888,
              "#fdca26"
             ],
             [
              1,
              "#f0f921"
             ]
            ],
            "type": "histogram2d"
           }
          ],
          "histogram2dcontour": [
           {
            "colorbar": {
             "outlinewidth": 0,
             "ticks": ""
            },
            "colorscale": [
             [
              0,
              "#0d0887"
             ],
             [
              0.1111111111111111,
              "#46039f"
             ],
             [
              0.2222222222222222,
              "#7201a8"
             ],
             [
              0.3333333333333333,
              "#9c179e"
             ],
             [
              0.4444444444444444,
              "#bd3786"
             ],
             [
              0.5555555555555556,
              "#d8576b"
             ],
             [
              0.6666666666666666,
              "#ed7953"
             ],
             [
              0.7777777777777778,
              "#fb9f3a"
             ],
             [
              0.8888888888888888,
              "#fdca26"
             ],
             [
              1,
              "#f0f921"
             ]
            ],
            "type": "histogram2dcontour"
           }
          ],
          "mesh3d": [
           {
            "colorbar": {
             "outlinewidth": 0,
             "ticks": ""
            },
            "type": "mesh3d"
           }
          ],
          "parcoords": [
           {
            "line": {
             "colorbar": {
              "outlinewidth": 0,
              "ticks": ""
             }
            },
            "type": "parcoords"
           }
          ],
          "pie": [
           {
            "automargin": true,
            "type": "pie"
           }
          ],
          "scatter": [
           {
            "fillpattern": {
             "fillmode": "overlay",
             "size": 10,
             "solidity": 0.2
            },
            "type": "scatter"
           }
          ],
          "scatter3d": [
           {
            "line": {
             "colorbar": {
              "outlinewidth": 0,
              "ticks": ""
             }
            },
            "marker": {
             "colorbar": {
              "outlinewidth": 0,
              "ticks": ""
             }
            },
            "type": "scatter3d"
           }
          ],
          "scattercarpet": [
           {
            "marker": {
             "colorbar": {
              "outlinewidth": 0,
              "ticks": ""
             }
            },
            "type": "scattercarpet"
           }
          ],
          "scattergeo": [
           {
            "marker": {
             "colorbar": {
              "outlinewidth": 0,
              "ticks": ""
             }
            },
            "type": "scattergeo"
           }
          ],
          "scattergl": [
           {
            "marker": {
             "colorbar": {
              "outlinewidth": 0,
              "ticks": ""
             }
            },
            "type": "scattergl"
           }
          ],
          "scattermapbox": [
           {
            "marker": {
             "colorbar": {
              "outlinewidth": 0,
              "ticks": ""
             }
            },
            "type": "scattermapbox"
           }
          ],
          "scatterpolar": [
           {
            "marker": {
             "colorbar": {
              "outlinewidth": 0,
              "ticks": ""
             }
            },
            "type": "scatterpolar"
           }
          ],
          "scatterpolargl": [
           {
            "marker": {
             "colorbar": {
              "outlinewidth": 0,
              "ticks": ""
             }
            },
            "type": "scatterpolargl"
           }
          ],
          "scatterternary": [
           {
            "marker": {
             "colorbar": {
              "outlinewidth": 0,
              "ticks": ""
             }
            },
            "type": "scatterternary"
           }
          ],
          "surface": [
           {
            "colorbar": {
             "outlinewidth": 0,
             "ticks": ""
            },
            "colorscale": [
             [
              0,
              "#0d0887"
             ],
             [
              0.1111111111111111,
              "#46039f"
             ],
             [
              0.2222222222222222,
              "#7201a8"
             ],
             [
              0.3333333333333333,
              "#9c179e"
             ],
             [
              0.4444444444444444,
              "#bd3786"
             ],
             [
              0.5555555555555556,
              "#d8576b"
             ],
             [
              0.6666666666666666,
              "#ed7953"
             ],
             [
              0.7777777777777778,
              "#fb9f3a"
             ],
             [
              0.8888888888888888,
              "#fdca26"
             ],
             [
              1,
              "#f0f921"
             ]
            ],
            "type": "surface"
           }
          ],
          "table": [
           {
            "cells": {
             "fill": {
              "color": "#EBF0F8"
             },
             "line": {
              "color": "white"
             }
            },
            "header": {
             "fill": {
              "color": "#C8D4E3"
             },
             "line": {
              "color": "white"
             }
            },
            "type": "table"
           }
          ]
         },
         "layout": {
          "annotationdefaults": {
           "arrowcolor": "#2a3f5f",
           "arrowhead": 0,
           "arrowwidth": 1
          },
          "autotypenumbers": "strict",
          "coloraxis": {
           "colorbar": {
            "outlinewidth": 0,
            "ticks": ""
           }
          },
          "colorscale": {
           "diverging": [
            [
             0,
             "#8e0152"
            ],
            [
             0.1,
             "#c51b7d"
            ],
            [
             0.2,
             "#de77ae"
            ],
            [
             0.3,
             "#f1b6da"
            ],
            [
             0.4,
             "#fde0ef"
            ],
            [
             0.5,
             "#f7f7f7"
            ],
            [
             0.6,
             "#e6f5d0"
            ],
            [
             0.7,
             "#b8e186"
            ],
            [
             0.8,
             "#7fbc41"
            ],
            [
             0.9,
             "#4d9221"
            ],
            [
             1,
             "#276419"
            ]
           ],
           "sequential": [
            [
             0,
             "#0d0887"
            ],
            [
             0.1111111111111111,
             "#46039f"
            ],
            [
             0.2222222222222222,
             "#7201a8"
            ],
            [
             0.3333333333333333,
             "#9c179e"
            ],
            [
             0.4444444444444444,
             "#bd3786"
            ],
            [
             0.5555555555555556,
             "#d8576b"
            ],
            [
             0.6666666666666666,
             "#ed7953"
            ],
            [
             0.7777777777777778,
             "#fb9f3a"
            ],
            [
             0.8888888888888888,
             "#fdca26"
            ],
            [
             1,
             "#f0f921"
            ]
           ],
           "sequentialminus": [
            [
             0,
             "#0d0887"
            ],
            [
             0.1111111111111111,
             "#46039f"
            ],
            [
             0.2222222222222222,
             "#7201a8"
            ],
            [
             0.3333333333333333,
             "#9c179e"
            ],
            [
             0.4444444444444444,
             "#bd3786"
            ],
            [
             0.5555555555555556,
             "#d8576b"
            ],
            [
             0.6666666666666666,
             "#ed7953"
            ],
            [
             0.7777777777777778,
             "#fb9f3a"
            ],
            [
             0.8888888888888888,
             "#fdca26"
            ],
            [
             1,
             "#f0f921"
            ]
           ]
          },
          "colorway": [
           "#636efa",
           "#EF553B",
           "#00cc96",
           "#ab63fa",
           "#FFA15A",
           "#19d3f3",
           "#FF6692",
           "#B6E880",
           "#FF97FF",
           "#FECB52"
          ],
          "font": {
           "color": "#2a3f5f"
          },
          "geo": {
           "bgcolor": "white",
           "lakecolor": "white",
           "landcolor": "#E5ECF6",
           "showlakes": true,
           "showland": true,
           "subunitcolor": "white"
          },
          "hoverlabel": {
           "align": "left"
          },
          "hovermode": "closest",
          "mapbox": {
           "style": "light"
          },
          "paper_bgcolor": "white",
          "plot_bgcolor": "#E5ECF6",
          "polar": {
           "angularaxis": {
            "gridcolor": "white",
            "linecolor": "white",
            "ticks": ""
           },
           "bgcolor": "#E5ECF6",
           "radialaxis": {
            "gridcolor": "white",
            "linecolor": "white",
            "ticks": ""
           }
          },
          "scene": {
           "xaxis": {
            "backgroundcolor": "#E5ECF6",
            "gridcolor": "white",
            "gridwidth": 2,
            "linecolor": "white",
            "showbackground": true,
            "ticks": "",
            "zerolinecolor": "white"
           },
           "yaxis": {
            "backgroundcolor": "#E5ECF6",
            "gridcolor": "white",
            "gridwidth": 2,
            "linecolor": "white",
            "showbackground": true,
            "ticks": "",
            "zerolinecolor": "white"
           },
           "zaxis": {
            "backgroundcolor": "#E5ECF6",
            "gridcolor": "white",
            "gridwidth": 2,
            "linecolor": "white",
            "showbackground": true,
            "ticks": "",
            "zerolinecolor": "white"
           }
          },
          "shapedefaults": {
           "line": {
            "color": "#2a3f5f"
           }
          },
          "ternary": {
           "aaxis": {
            "gridcolor": "white",
            "linecolor": "white",
            "ticks": ""
           },
           "baxis": {
            "gridcolor": "white",
            "linecolor": "white",
            "ticks": ""
           },
           "bgcolor": "#E5ECF6",
           "caxis": {
            "gridcolor": "white",
            "linecolor": "white",
            "ticks": ""
           }
          },
          "title": {
           "x": 0.05
          },
          "xaxis": {
           "automargin": true,
           "gridcolor": "white",
           "linecolor": "white",
           "ticks": "",
           "title": {
            "standoff": 15
           },
           "zerolinecolor": "white",
           "zerolinewidth": 2
          },
          "yaxis": {
           "automargin": true,
           "gridcolor": "white",
           "linecolor": "white",
           "ticks": "",
           "title": {
            "standoff": 15
           },
           "zerolinecolor": "white",
           "zerolinewidth": 2
          }
         }
        },
        "width": 800,
        "xaxis": {
         "range": [
          -42.5,
          42.5
         ],
         "showgrid": false
        },
        "yaxis": {
         "range": [
          89,
          -11
         ]
        }
       }
      },
      "text/html": [
       "<div>                            <div id=\"a74225f2-3959-434a-85a0-1f48e5f0848a\" class=\"plotly-graph-div\" style=\"height:800.0px; width:800.0px;\"></div>            <script type=\"text/javascript\">                require([\"plotly\"], function(Plotly) {                    window.PLOTLYENV=window.PLOTLYENV || {};                                    if (document.getElementById(\"a74225f2-3959-434a-85a0-1f48e5f0848a\")) {                    Plotly.newPlot(                        \"a74225f2-3959-434a-85a0-1f48e5f0848a\",                        [{\"colorscale\":[[0.0,\"rgb(103,0,31)\"],[0.1,\"rgb(178,24,43)\"],[0.2,\"rgb(214,96,77)\"],[0.3,\"rgb(244,165,130)\"],[0.4,\"rgb(253,219,199)\"],[0.5,\"rgb(247,247,247)\"],[0.6,\"rgb(209,229,240)\"],[0.7,\"rgb(146,197,222)\"],[0.8,\"rgb(67,147,195)\"],[0.9,\"rgb(33,102,172)\"],[1.0,\"rgb(5,48,97)\"]],\"connectgaps\":true,\"opacity\":0.5,\"reversescale\":true,\"x\":[-40.375,-36.125,-31.875,-27.625,-23.375,-19.125,-14.875,-10.625,-6.375,-2.125,2.125,6.375,10.625,14.875,19.125,23.375,27.625,31.875,36.125,40.375],\"y\":[1.1125,3.3375000000000004,5.5625,7.7875000000000005,10.0125,12.2375,14.462500000000002,16.6875,18.9125,21.137500000000003,23.3625,25.587500000000002,27.8125,30.0375,32.2625,34.4875,36.712500000000006,38.9375,41.1625,43.3875,45.6125,47.837500000000006,50.0625,52.28750000000001,54.5125,56.7375,58.962500000000006,61.1875,63.41250000000001,65.6375,67.86250000000001,70.0875,72.3125,74.5375,76.7625,78.98750000000001,81.2125,83.4375,85.6625,87.8875],\"z\":[[0.1095296373199851,-0.07899742121593832,-0.2749265747703184,-0.44640965637921437,-0.5650310454721644,-0.6016500917922387,-0.5868103625733464,-0.5591079346865536,-0.5272859349472626,-0.489951182033221,-0.4598480460804437,-0.461760668862184,-0.5057155637958982,-0.5813226000685652,-0.646618986897896,-0.6592451043420797,-0.6398970527077119,-0.6202219739243581,-0.6063984539151793,-0.6019274775661091],[0.043737157351814805,-0.08351827466172616,-0.23247464462168296,-0.3781055513604023,-0.4764368374650365,-0.4997648458001876,-0.48737769532468683,-0.47058254284735745,-0.4494271661648164,-0.4227765865115811,-0.40506611904314627,-0.4165433248091917,-0.46320435065873716,-0.5305480813675747,-0.5757563930169393,-0.5727657440232925,-0.5644125887927883,-0.5797600441778356,-0.6013653276505785,-0.6162569401042636],[-0.10669068685448181,-0.12460706058993283,-0.18109553180283142,-0.2674407667009741,-0.32448784564484295,-0.32550705634448074,-0.31732562154805327,-0.322931027999955,-0.33006227242045705,-0.33144011359810066,-0.33565434566507935,-0.3569729845534105,-0.40182398381728074,-0.45649453078950736,-0.47849536858869646,-0.45494995977214164,-0.4514409000465266,-0.5010356455367919,-0.5646928114947246,-0.6074171950111491],[-0.25759524576713266,-0.1855805350673583,-0.1503387852663124,-0.16360466076190028,-0.1672224848692623,-0.13765878801051026,-0.12670536287766743,-0.15496989160176095,-0.19684338859428602,-0.23085994504753637,-0.2555073602074451,-0.28122680363006664,-0.3184539927373667,-0.36135827548451444,-0.37421274214834327,-0.3458687383812291,-0.3435019815490028,-0.40641873338697854,-0.4928379946841918,-0.5550080877117135],[-0.3684239326634648,-0.2562104959003818,-0.16270486891527938,-0.1133282388140741,-0.06343582586422884,0.006165472880301587,0.04004328260108922,0.008679090457458022,-0.05481932311839311,-0.1117374630529659,-0.14854356849941133,-0.1721130574150347,-0.1979645762663047,-0.23348088958421204,-0.2560140843351914,-0.24725965356930432,-0.252977726512392,-0.3114428706751469,-0.39354398151307857,-0.4557624900793596],[-0.44499107335664567,-0.3232767876270031,-0.2022071380424727,-0.11322922203988725,-0.024963767843989612,0.08384515351946047,0.16238808518741568,0.16268092404352957,0.10716130551213074,0.04574271220678823,0.005834487721412476,-0.013487547922805574,-0.03226811518451515,-0.07139799164474774,-0.11835132943954438,-0.14369725693135577,-0.16632544080458392,-0.21603431014461036,-0.2786920844240303,-0.32583395042224317],[-0.46620509607623667,-0.34023511698226655,-0.20831317322465817,-0.10828199991848245,-0.014306186688125905,0.10947937249531527,0.2340686036612313,0.29882839595598126,0.29088374365820835,0.2491130705990444,0.21165764029820386,0.18695200970818468,0.15511625970255408,0.09360102094327372,0.0194605151083511,-0.03444985726845277,-0.07928573805099082,-0.13653485886204667,-0.19519423056599347,-0.23523003326840966],[-0.40810671029120993,-0.2843490766076731,-0.1579728210526254,-0.07067700632412992,0.0028361840692477853,0.11434384056942852,0.26351431233602635,0.39579837891837416,0.4584848050129218,0.452821919646686,0.41542080552470695,0.3663062119256403,0.2981303083402713,0.20736355783704447,0.1195193377531223,0.05006396349045879,-0.021799533733499236,-0.10951934692563008,-0.19280265808580777,-0.24698580755900207],[-0.2967082018767148,-0.19981967363038763,-0.10359711924255094,-0.03798407150829508,0.019954328637918378,0.1198680212565964,0.27668877808268433,0.44885488435899457,0.5623692962224356,0.5833912528281602,0.5396912403352636,0.46114243389316195,0.3603718377531819,0.25581919667173936,0.16575603294018318,0.08059349535592167,-0.023786139478052224,-0.14747636029372843,-0.2593900793739853,-0.33021754346721066],[-0.19283110046093688,-0.14109133908758442,-0.0858238574715781,-0.03419072285619694,0.029404978846669236,0.13403251354591358,0.29280027901765937,0.47341325088854525,0.6000810293612054,0.6275576403138527,0.5778619972477818,0.48274877969060315,0.3657545273653595,0.25574251792906866,0.160782745519354,0.057920104717333054,-0.07279282594293193,-0.21832930053098717,-0.3405703705516863,-0.4124603290380112],[-0.14592623777975589,-0.12797296913143758,-0.09352496628637869,-0.03556916026230072,0.046591354153719254,0.15750797206074696,0.3052453240661936,0.46900503923678055,0.5864066360727039,0.6155495805887099,0.5699007574171013,0.47093940682954005,0.34176086178044873,0.2226294000344216,0.1273208338648014,0.027746847532823988,-0.10106571169234925,-0.2464111398314175,-0.3671801027614992,-0.4348402906788631],[-0.15126175901617198,-0.135596212208569,-0.09047750414215916,-0.011730844346405304,0.08305177088982102,0.18250318282420902,0.29655864412114846,0.42136926071295977,0.5188353429451142,0.5555353241978174,0.528999557966468,0.44128986962767114,0.3102345627473743,0.19244425485837913,0.11591655302446169,0.04723304674829016,-0.052942210969939466,-0.18435643489388617,-0.306437902689552,-0.3799310013656316],[-0.16599614629877407,-0.12661376796955842,-0.057330491189028665,0.03513997167306843,0.12682247754946008,0.20417887350857225,0.2772274566473991,0.3496226382803832,0.409618096729324,0.4456150498582753,0.4463821579760496,0.3938253609486426,0.2915527368361209,0.19652204802105466,0.14410144647650303,0.10300399353776411,0.029779979252419393,-0.08412746724645064,-0.2022404911750696,-0.27849497989759414],[-0.1703877860894555,-0.10065662864009144,-0.014701419147348781,0.07374180422365663,0.1536210396188929,0.21864164259906,0.26728014831142594,0.2914524368933382,0.29913011356035035,0.3159932333749826,0.3389347893940431,0.33616318873513046,0.2882282442052006,0.22678356329247606,0.18359656725309864,0.14302231208051355,0.0762569617155816,-0.02181027868964808,-0.12020267085494876,-0.1801526266230186],[-0.1718634718274769,-0.0854099645951883,0.0004435441090708587,0.07359603626436596,0.14308731477416956,0.2089397751807233,0.2514626519728442,0.24390094326539413,0.2059892332935099,0.19960321035473694,0.23759120914815596,0.28310490983937275,0.2935768429375532,0.26094119861653226,0.2067040191778945,0.13931587800362308,0.05705130425918227,-0.03134328058781502,-0.10116436945598571,-0.1333109637509677],[-0.16787974993179205,-0.08998239896704635,-0.01790290482996619,0.04115199193184257,0.10280483396102127,0.16637655761438513,0.20403322554053735,0.18417170324385862,0.1299769595467371,0.11577707646441907,0.16604355434180584,0.24650962286408115,0.2962711632410335,0.27202578520540477,0.18983211038794645,0.08279259285024458,-0.024331772945495527,-0.10929166251797903,-0.15744390585822693,-0.17161864415675038],[-0.13678620451845874,-0.08323816462640635,-0.027780507332580605,0.022725286129227827,0.07256173647466292,0.11833328252144311,0.14500585709882996,0.13340688199964515,0.09318929263369904,0.07969082230450943,0.12781609488910625,0.21557997089072117,0.2712525258436862,0.2336191045779852,0.12339554339212859,-0.009602854512307593,-0.12812144133933895,-0.20918904678508676,-0.2526405556231444,-0.272941669293559],[-0.07699661900156692,-0.039501901765847544,0.005197483047320151,0.04639439120350567,0.0768915861493481,0.09676319543105988,0.11274052246530587,0.119057173667341,0.10087446660245837,0.0835494912748682,0.11201920394473058,0.18075032561885102,0.21789739099095737,0.16122376037305877,0.04035657950615718,-0.08839107038676397,-0.19194258037613643,-0.26209266167366463,-0.3144027042348204,-0.36041532100690177],[-0.007895774190611306,0.03816654181541593,0.08355032900107237,0.11296543519533554,0.12045930559375215,0.11442911417453308,0.11358880226296794,0.12043375123828176,0.11436505270549069,0.10217403270580622,0.11907931541735878,0.16323881338430585,0.1747380756664865,0.10550884295252254,-0.006505421815945912,-0.10666314053516497,-0.17737193772316337,-0.23336949844794916,-0.30223424451561426,-0.38253689069350494],[0.053756359233358385,0.135215674083378,0.19722987518900242,0.22204136949921413,0.2136380410076067,0.18448158392037003,0.15060232491891073,0.12375322908838773,0.10977097152183492,0.11290763748962311,0.13555076268251545,0.1653967762841573,0.1635266954007003,0.10307298018357976,0.019560013850374855,-0.04581905337299756,-0.09225718019318947,-0.14724468757818648,-0.23833949676684343,-0.3504206254677821],[0.06882699146681942,0.19042612500896125,0.2757080346877205,0.31072065116869063,0.3066705207667664,0.27087656317280556,0.2102212018711061,0.14442482707609006,0.10879362867391162,0.113460232715699,0.13817011267279583,0.16679028875368665,0.1803695174306812,0.15929008460592045,0.11416636588806076,0.062176127013608605,0.0010527779201655555,-0.08237890319770504,-0.1997864933116059,-0.3302586800318745],[-0.011644345586124451,0.12682236830681354,0.22798150641549372,0.2839947068855757,0.305487907060789,0.29185852319064537,0.24396309125939888,0.18193547218971048,0.14260406384940078,0.13905462165079874,0.15820766015550217,0.19221532103040223,0.22950833588744401,0.2435402726059649,0.21633508367274076,0.14505169926176828,0.037386876407540015,-0.09171148935190819,-0.23322128794008576,-0.36716205899013843],[-0.17376207172681382,-0.033818848158833396,0.08037217016121657,0.1623835519503316,0.21937640236358,0.24685136629260115,0.24320829707945193,0.22282056310968562,0.2060661936638516,0.2030336475166749,0.21890261865400462,0.25469455108301176,0.2955738497157724,0.31038187800655676,0.27059965600635305,0.16571113142177912,0.01418792586969958,-0.1485047739719598,-0.300417233393558,-0.4255738841019701],[-0.356794700564728,-0.21522327017533024,-0.085778122608891,0.022830467759857417,0.11490315362453628,0.18419632591770865,0.2259778269405521,0.2481235289993192,0.25850174044455176,0.2637814400604516,0.28146917838140706,0.3169534291823814,0.3468327294923941,0.3375001472402555,0.2661230858085252,0.1277214821145862,-0.04962109144881345,-0.2215689832083766,-0.3643111654174208,-0.4691381593521192],[-0.5012463854491276,-0.36083465664830106,-0.2229824788685711,-0.09783973361979803,0.0180766495314014,0.11557968276629393,0.18339462990570074,0.22620195419799183,0.2531676352262436,0.27072916955636994,0.29781886447062705,0.3390714911360087,0.3590684040170828,0.31691065705310745,0.2048820411600447,0.037309561441234845,-0.14711928601250898,-0.3053624899078185,-0.4221693250509969,-0.49915444639003687],[-0.5840706178809304,-0.4520893529414796,-0.32039170540718703,-0.19808022466222394,-0.0787926006234336,0.02593909399648515,0.0968127245462908,0.13945270278208374,0.1748299646390187,0.20826753592492,0.24925995046181348,0.2990626953991018,0.31312955810652515,0.24043548467674636,0.09047259315383256,-0.09455234070163772,-0.26598633419711715,-0.392074015315565,-0.4743689689405106,-0.5248787666252288],[-0.626610611825415,-0.5049404755616028,-0.3873991143030824,-0.2827877837025466,-0.17961853251665144,-0.0879034480710436,-0.030939457357304866,0.0015465711352946074,0.04245364529984977,0.0889285307148301,0.1361444793211696,0.18560500643397695,0.19503871968806513,0.10698183150058592,-0.060693987645665075,-0.24225127260132662,-0.38249196252062995,-0.4671103977670974,-0.517070917741942,-0.5505342548707184],[-0.6475850716208627,-0.5280235445435298,-0.41985073908911874,-0.339185346394654,-0.27124674273478105,-0.21688975953208817,-0.1909436847202745,-0.1754412729161528,-0.13829520054951536,-0.09676884578929684,-0.06119466567587901,-0.021329287348863597,-0.006339893835359639,-0.07648297980136431,-0.2228493314853,-0.3730759007077028,-0.47025464227387875,-0.5140704162281505,-0.5376981920762685,-0.5596284884546787],[-0.60297409031233,-0.4534495424183153,-0.330673638747796,-0.28382271217697175,-0.30129005977854806,-0.34833753842476733,-0.38688832082355445,-0.3859045481271983,-0.3595354640683066,-0.34420613411418016,-0.3309890467165552,-0.2969202946447809,-0.2590332162602443,-0.27484261400737964,-0.353140765931056,-0.4372932720674568,-0.48090833979044445,-0.48616984344757735,-0.4791624644758142,-0.4765684752946518],[-0.44328886018661123,-0.21792785752780905,-0.04236058102705232,-0.0293031134354785,-0.1836014530292378,-0.4022258260277496,-0.5199527572152075,-0.4976328183061619,-0.45947566626815184,-0.4569724639258354,-0.4480603768202222,-0.4083375512442342,-0.36334478392067576,-0.358688601169878,-0.38513597254652987,-0.40153603914089364,-0.39640397079435985,-0.37435879460712856,-0.339354877731375,-0.3065431705165953],[-0.3100969289493546,-0.04143831887153577,0.1622787836884406,0.1655102850875702,-0.03983249188196229,-0.32736042254554637,-0.4777284561505553,-0.4514529108769926,-0.40391622085923723,-0.3827145829904652,-0.3446584236900801,-0.2888857635950265,-0.27167238055569976,-0.31953746338119576,-0.36177176195523664,-0.35605163332416756,-0.3371090674340964,-0.3216392817243898,-0.295647782067039,-0.2650484941475021],[-0.2726104092058699,-0.0042675687503758155,0.19588938571504538,0.2069690411983228,0.04054972874931025,-0.19691441291351938,-0.3482946215001138,-0.3676631724423979,-0.33570739291663654,-0.2835049754201226,-0.20208327917973778,-0.13719436049804945,-0.17084524594416378,-0.28013782661609354,-0.33278170863579326,-0.31076039921655113,-0.29706325906153375,-0.31526616426589993,-0.3364902525151192,-0.346401617136602],[-0.30986821034250295,-0.058574506371332026,0.1358326116021818,0.17416241571713584,0.08584284493482144,-0.05704067713862583,-0.1952977914233104,-0.2819250349025195,-0.28818955335237373,-0.2141672598854939,-0.096370960646222,-0.036351972593848106,-0.12365320900850633,-0.25898018831780134,-0.2738617222029197,-0.21118801334984583,-0.19636816207201543,-0.2522832665579431,-0.3417411526280934,-0.42262885730800914],[-0.4051032555729615,-0.1863406010338676,-0.00466837829886934,0.06440044421421583,0.05768215218207172,0.01465714165900932,-0.08156567588397413,-0.19933533787575095,-0.2457459078554083,-0.18444272028455913,-0.06807399524367362,-0.028717608927450403,-0.13916911204943952,-0.23258734659617383,-0.15446000164281262,-0.02489871759240717,0.00844850806964026,-0.07218805661004046,-0.23008315888826858,-0.392664362669772],[-0.47085314913742654,-0.28032548045858907,-0.119322562076811,-0.051357579119559925,-0.03498454504421849,-0.028536981900906953,-0.060545507161000774,-0.13516534168811087,-0.19982619636615906,-0.20626977035674116,-0.15696004612374131,-0.14365644229008268,-0.21281098227356218,-0.19664451484149692,0.009364131579265201,0.2278804272080195,0.29705228620038154,0.20466568917977854,-0.0052965649096022895,-0.22939627979028537],[-0.43868220707044897,-0.24810144171187082,-0.09608535312329401,-0.0624446101823813,-0.10761249190755909,-0.14447308169555156,-0.14436402819830835,-0.14993851435729644,-0.2108050087992424,-0.2896233475618996,-0.31119001439504945,-0.29711721249267764,-0.2914539377235368,-0.18654965156152878,0.10221455958348957,0.40111256102198023,0.5262805592829796,0.4503716295000106,0.22824876598285274,-0.013372723132769151],[-0.35859634691265,-0.15508219267613674,1.6374727827829235e-06,-0.004798436694235242,-0.1450228015731437,-0.2835053804149666,-0.31147264307390754,-0.2891506767416348,-0.33433440829047706,-0.414914368743405,-0.4259626183870713,-0.3607423153815596,-0.2861409757778086,-0.1869120536997245,0.04894028605894536,0.3576674786111766,0.552731878967187,0.5427123497522739,0.3598115685609333,0.13955794775935745],[-0.3244978945641686,-0.12602623391597378,0.02474823797584658,0.0006512793912541737,-0.18837799960623686,-0.38890896153697474,-0.46175851317595934,-0.4703774214141308,-0.5090928936055152,-0.5301988016883041,-0.46010827687389644,-0.29653532324431103,-0.13087850129205006,-0.08468349714141067,-0.03978263421081536,0.14897073592092355,0.36433507899388945,0.4253933895499624,0.2950045757001179,0.10423765740908773],[-0.37085799569663846,-0.1987661667557595,-0.066624073341842,-0.0880659440941973,-0.24663238377806038,-0.40298234070574285,-0.47538046248312504,-0.5544843757479442,-0.6298207800245663,-0.6062844951352074,-0.45699235073034244,-0.18198780238559947,0.12308963064929511,0.17487258405252312,0.008969984853664114,-0.026751030630418223,0.09388088286794803,0.15350517636765587,0.04059620715344352,-0.1324994069806191],[-0.43496950480401547,-0.2859977277933598,-0.17090311318246668,-0.1835510184081012,-0.29026362431072006,-0.36281133307917907,-0.4004045270911934,-0.542585242120839,-0.6732927241597867,-0.6462588293600884,-0.4613110699476808,-0.11333657827178062,0.312079497262113,0.4179042292739558,0.13589743961496828,-0.07871396968244418,-0.0819496441191936,-0.07181685154347617,-0.19398143710665713,-0.3584265490994852]],\"zsmooth\":\"best\",\"type\":\"heatmap\"}],                        {\"template\":{\"data\":{\"histogram2dcontour\":[{\"type\":\"histogram2dcontour\",\"colorbar\":{\"outlinewidth\":0,\"ticks\":\"\"},\"colorscale\":[[0.0,\"#0d0887\"],[0.1111111111111111,\"#46039f\"],[0.2222222222222222,\"#7201a8\"],[0.3333333333333333,\"#9c179e\"],[0.4444444444444444,\"#bd3786\"],[0.5555555555555556,\"#d8576b\"],[0.6666666666666666,\"#ed7953\"],[0.7777777777777778,\"#fb9f3a\"],[0.8888888888888888,\"#fdca26\"],[1.0,\"#f0f921\"]]}],\"choropleth\":[{\"type\":\"choropleth\",\"colorbar\":{\"outlinewidth\":0,\"ticks\":\"\"}}],\"histogram2d\":[{\"type\":\"histogram2d\",\"colorbar\":{\"outlinewidth\":0,\"ticks\":\"\"},\"colorscale\":[[0.0,\"#0d0887\"],[0.1111111111111111,\"#46039f\"],[0.2222222222222222,\"#7201a8\"],[0.3333333333333333,\"#9c179e\"],[0.4444444444444444,\"#bd3786\"],[0.5555555555555556,\"#d8576b\"],[0.6666666666666666,\"#ed7953\"],[0.7777777777777778,\"#fb9f3a\"],[0.8888888888888888,\"#fdca26\"],[1.0,\"#f0f921\"]]}],\"heatmap\":[{\"type\":\"heatmap\",\"colorbar\":{\"outlinewidth\":0,\"ticks\":\"\"},\"colorscale\":[[0.0,\"#0d0887\"],[0.1111111111111111,\"#46039f\"],[0.2222222222222222,\"#7201a8\"],[0.3333333333333333,\"#9c179e\"],[0.4444444444444444,\"#bd3786\"],[0.5555555555555556,\"#d8576b\"],[0.6666666666666666,\"#ed7953\"],[0.7777777777777778,\"#fb9f3a\"],[0.8888888888888888,\"#fdca26\"],[1.0,\"#f0f921\"]]}],\"heatmapgl\":[{\"type\":\"heatmapgl\",\"colorbar\":{\"outlinewidth\":0,\"ticks\":\"\"},\"colorscale\":[[0.0,\"#0d0887\"],[0.1111111111111111,\"#46039f\"],[0.2222222222222222,\"#7201a8\"],[0.3333333333333333,\"#9c179e\"],[0.4444444444444444,\"#bd3786\"],[0.5555555555555556,\"#d8576b\"],[0.6666666666666666,\"#ed7953\"],[0.7777777777777778,\"#fb9f3a\"],[0.8888888888888888,\"#fdca26\"],[1.0,\"#f0f921\"]]}],\"contourcarpet\":[{\"type\":\"contourcarpet\",\"colorbar\":{\"outlinewidth\":0,\"ticks\":\"\"}}],\"contour\":[{\"type\":\"contour\",\"colorbar\":{\"outlinewidth\":0,\"ticks\":\"\"},\"colorscale\":[[0.0,\"#0d0887\"],[0.1111111111111111,\"#46039f\"],[0.2222222222222222,\"#7201a8\"],[0.3333333333333333,\"#9c179e\"],[0.4444444444444444,\"#bd3786\"],[0.5555555555555556,\"#d8576b\"],[0.6666666666666666,\"#ed7953\"],[0.7777777777777778,\"#fb9f3a\"],[0.8888888888888888,\"#fdca26\"],[1.0,\"#f0f921\"]]}],\"surface\":[{\"type\":\"surface\",\"colorbar\":{\"outlinewidth\":0,\"ticks\":\"\"},\"colorscale\":[[0.0,\"#0d0887\"],[0.1111111111111111,\"#46039f\"],[0.2222222222222222,\"#7201a8\"],[0.3333333333333333,\"#9c179e\"],[0.4444444444444444,\"#bd3786\"],[0.5555555555555556,\"#d8576b\"],[0.6666666666666666,\"#ed7953\"],[0.7777777777777778,\"#fb9f3a\"],[0.8888888888888888,\"#fdca26\"],[1.0,\"#f0f921\"]]}],\"mesh3d\":[{\"type\":\"mesh3d\",\"colorbar\":{\"outlinewidth\":0,\"ticks\":\"\"}}],\"scatter\":[{\"fillpattern\":{\"fillmode\":\"overlay\",\"size\":10,\"solidity\":0.2},\"type\":\"scatter\"}],\"parcoords\":[{\"type\":\"parcoords\",\"line\":{\"colorbar\":{\"outlinewidth\":0,\"ticks\":\"\"}}}],\"scatterpolargl\":[{\"type\":\"scatterpolargl\",\"marker\":{\"colorbar\":{\"outlinewidth\":0,\"ticks\":\"\"}}}],\"bar\":[{\"error_x\":{\"color\":\"#2a3f5f\"},\"error_y\":{\"color\":\"#2a3f5f\"},\"marker\":{\"line\":{\"color\":\"#E5ECF6\",\"width\":0.5},\"pattern\":{\"fillmode\":\"overlay\",\"size\":10,\"solidity\":0.2}},\"type\":\"bar\"}],\"scattergeo\":[{\"type\":\"scattergeo\",\"marker\":{\"colorbar\":{\"outlinewidth\":0,\"ticks\":\"\"}}}],\"scatterpolar\":[{\"type\":\"scatterpolar\",\"marker\":{\"colorbar\":{\"outlinewidth\":0,\"ticks\":\"\"}}}],\"histogram\":[{\"marker\":{\"pattern\":{\"fillmode\":\"overlay\",\"size\":10,\"solidity\":0.2}},\"type\":\"histogram\"}],\"scattergl\":[{\"type\":\"scattergl\",\"marker\":{\"colorbar\":{\"outlinewidth\":0,\"ticks\":\"\"}}}],\"scatter3d\":[{\"type\":\"scatter3d\",\"line\":{\"colorbar\":{\"outlinewidth\":0,\"ticks\":\"\"}},\"marker\":{\"colorbar\":{\"outlinewidth\":0,\"ticks\":\"\"}}}],\"scattermapbox\":[{\"type\":\"scattermapbox\",\"marker\":{\"colorbar\":{\"outlinewidth\":0,\"ticks\":\"\"}}}],\"scatterternary\":[{\"type\":\"scatterternary\",\"marker\":{\"colorbar\":{\"outlinewidth\":0,\"ticks\":\"\"}}}],\"scattercarpet\":[{\"type\":\"scattercarpet\",\"marker\":{\"colorbar\":{\"outlinewidth\":0,\"ticks\":\"\"}}}],\"carpet\":[{\"aaxis\":{\"endlinecolor\":\"#2a3f5f\",\"gridcolor\":\"white\",\"linecolor\":\"white\",\"minorgridcolor\":\"white\",\"startlinecolor\":\"#2a3f5f\"},\"baxis\":{\"endlinecolor\":\"#2a3f5f\",\"gridcolor\":\"white\",\"linecolor\":\"white\",\"minorgridcolor\":\"white\",\"startlinecolor\":\"#2a3f5f\"},\"type\":\"carpet\"}],\"table\":[{\"cells\":{\"fill\":{\"color\":\"#EBF0F8\"},\"line\":{\"color\":\"white\"}},\"header\":{\"fill\":{\"color\":\"#C8D4E3\"},\"line\":{\"color\":\"white\"}},\"type\":\"table\"}],\"barpolar\":[{\"marker\":{\"line\":{\"color\":\"#E5ECF6\",\"width\":0.5},\"pattern\":{\"fillmode\":\"overlay\",\"size\":10,\"solidity\":0.2}},\"type\":\"barpolar\"}],\"pie\":[{\"automargin\":true,\"type\":\"pie\"}]},\"layout\":{\"autotypenumbers\":\"strict\",\"colorway\":[\"#636efa\",\"#EF553B\",\"#00cc96\",\"#ab63fa\",\"#FFA15A\",\"#19d3f3\",\"#FF6692\",\"#B6E880\",\"#FF97FF\",\"#FECB52\"],\"font\":{\"color\":\"#2a3f5f\"},\"hovermode\":\"closest\",\"hoverlabel\":{\"align\":\"left\"},\"paper_bgcolor\":\"white\",\"plot_bgcolor\":\"#E5ECF6\",\"polar\":{\"bgcolor\":\"#E5ECF6\",\"angularaxis\":{\"gridcolor\":\"white\",\"linecolor\":\"white\",\"ticks\":\"\"},\"radialaxis\":{\"gridcolor\":\"white\",\"linecolor\":\"white\",\"ticks\":\"\"}},\"ternary\":{\"bgcolor\":\"#E5ECF6\",\"aaxis\":{\"gridcolor\":\"white\",\"linecolor\":\"white\",\"ticks\":\"\"},\"baxis\":{\"gridcolor\":\"white\",\"linecolor\":\"white\",\"ticks\":\"\"},\"caxis\":{\"gridcolor\":\"white\",\"linecolor\":\"white\",\"ticks\":\"\"}},\"coloraxis\":{\"colorbar\":{\"outlinewidth\":0,\"ticks\":\"\"}},\"colorscale\":{\"sequential\":[[0.0,\"#0d0887\"],[0.1111111111111111,\"#46039f\"],[0.2222222222222222,\"#7201a8\"],[0.3333333333333333,\"#9c179e\"],[0.4444444444444444,\"#bd3786\"],[0.5555555555555556,\"#d8576b\"],[0.6666666666666666,\"#ed7953\"],[0.7777777777777778,\"#fb9f3a\"],[0.8888888888888888,\"#fdca26\"],[1.0,\"#f0f921\"]],\"sequentialminus\":[[0.0,\"#0d0887\"],[0.1111111111111111,\"#46039f\"],[0.2222222222222222,\"#7201a8\"],[0.3333333333333333,\"#9c179e\"],[0.4444444444444444,\"#bd3786\"],[0.5555555555555556,\"#d8576b\"],[0.6666666666666666,\"#ed7953\"],[0.7777777777777778,\"#fb9f3a\"],[0.8888888888888888,\"#fdca26\"],[1.0,\"#f0f921\"]],\"diverging\":[[0,\"#8e0152\"],[0.1,\"#c51b7d\"],[0.2,\"#de77ae\"],[0.3,\"#f1b6da\"],[0.4,\"#fde0ef\"],[0.5,\"#f7f7f7\"],[0.6,\"#e6f5d0\"],[0.7,\"#b8e186\"],[0.8,\"#7fbc41\"],[0.9,\"#4d9221\"],[1,\"#276419\"]]},\"xaxis\":{\"gridcolor\":\"white\",\"linecolor\":\"white\",\"ticks\":\"\",\"title\":{\"standoff\":15},\"zerolinecolor\":\"white\",\"automargin\":true,\"zerolinewidth\":2},\"yaxis\":{\"gridcolor\":\"white\",\"linecolor\":\"white\",\"ticks\":\"\",\"title\":{\"standoff\":15},\"zerolinecolor\":\"white\",\"automargin\":true,\"zerolinewidth\":2},\"scene\":{\"xaxis\":{\"backgroundcolor\":\"#E5ECF6\",\"gridcolor\":\"white\",\"linecolor\":\"white\",\"showbackground\":true,\"ticks\":\"\",\"zerolinecolor\":\"white\",\"gridwidth\":2},\"yaxis\":{\"backgroundcolor\":\"#E5ECF6\",\"gridcolor\":\"white\",\"linecolor\":\"white\",\"showbackground\":true,\"ticks\":\"\",\"zerolinecolor\":\"white\",\"gridwidth\":2},\"zaxis\":{\"backgroundcolor\":\"#E5ECF6\",\"gridcolor\":\"white\",\"linecolor\":\"white\",\"showbackground\":true,\"ticks\":\"\",\"zerolinecolor\":\"white\",\"gridwidth\":2}},\"shapedefaults\":{\"line\":{\"color\":\"#2a3f5f\"}},\"annotationdefaults\":{\"arrowcolor\":\"#2a3f5f\",\"arrowhead\":0,\"arrowwidth\":1},\"geo\":{\"bgcolor\":\"white\",\"landcolor\":\"#E5ECF6\",\"subunitcolor\":\"white\",\"showland\":true,\"showlakes\":true,\"lakecolor\":\"white\"},\"title\":{\"x\":0.05},\"mapbox\":{\"style\":\"light\"}}},\"margin\":{\"l\":0,\"r\":0,\"t\":0,\"b\":0},\"width\":800.0,\"height\":800.0,\"xaxis\":{\"showgrid\":false,\"range\":[-42.5,42.5]},\"yaxis\":{\"range\":[89,-11]},\"images\":[{\"layer\":\"below\",\"opacity\":1.0,\"sizex\":85.0,\"sizey\":100,\"sizing\":\"stretch\",\"source\":\"data:image/png;base64,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\",\"x\":-42.5,\"xref\":\"x\",\"y\":-11,\"yref\":\"y\"}]},                        {\"responsive\": true}                    ).then(function(){\n",
       "                            \n",
       "var gd = document.getElementById('a74225f2-3959-434a-85a0-1f48e5f0848a');\n",
       "var x = new MutationObserver(function (mutations, observer) {{\n",
       "        var display = window.getComputedStyle(gd).display;\n",
       "        if (!display || display === 'none') {{\n",
       "            console.log([gd, 'removed!']);\n",
       "            Plotly.purge(gd);\n",
       "            observer.disconnect();\n",
       "        }}\n",
       "}});\n",
       "\n",
       "// Listen for the removal of the full notebook cells\n",
       "var notebookContainer = gd.closest('#notebook-container');\n",
       "if (notebookContainer) {{\n",
       "    x.observe(notebookContainer, {childList: true});\n",
       "}}\n",
       "\n",
       "// Listen for the clearing of the current output cell\n",
       "var outputEl = gd.closest('.output');\n",
       "if (outputEl) {{\n",
       "    x.observe(outputEl, {childList: true});\n",
       "}}\n",
       "\n",
       "                        })                };                });            </script>        </div>"
      ]
     },
     "metadata": {},
     "output_type": "display_data"
    }
   ],
   "source": [
    "import plotly.graph_objects as go\n",
    "import plotly.express as px\n",
    "\n",
    "import pandas as pd\n",
    "from PIL import Image\n",
    "\n",
    "# load dataset\n",
    "\n",
    "# Create figure\n",
    "fig = go.Figure()\n",
    "\n",
    "rink_img = Image.open(\"./figures/nhl_rink.png\")\n",
    "width, height = rink_img.size\n",
    "rink_half_img = rink_img.crop((0, 0, width/2, height))\n",
    "rink_half_img = rink_half_img.rotate(270, expand=1)\n",
    "\n",
    "# Constants\n",
    "img_width = 800\n",
    "img_height = 1600/2\n",
    "scale_factor = 1.0\n",
    "\n",
    "\n",
    "fig.add_trace(\n",
    "    go.Heatmap(\n",
    "        z=diff.tolist(),\n",
    "        x=y_grid,\n",
    "        y=x_grid,\n",
    "        colorscale=\"Rdbu\", \n",
    "        reversescale=True,\n",
    "        connectgaps=True,\n",
    "        zsmooth='best',\n",
    "        opacity=0.5\n",
    "    )\n",
    ")\n",
    "\n",
    "fig.update_layout(\n",
    "    width=img_width * scale_factor,\n",
    "    height=img_height * scale_factor,\n",
    "    margin={\"l\": 0, \"r\": 0, \"t\": 0, \"b\": 0},\n",
    ")\n",
    "\n",
    "fig.update_xaxes(\n",
    "    # visible=True,\n",
    "    showgrid=False,\n",
    "    range=[-42.5, 42.5])\n",
    "\n",
    "fig.update_yaxes(\n",
    "    # visible=True,\n",
    "    # showgrid=False,\n",
    "    # autorange=\"reversed\",\n",
    "    range=[89, -11])\n",
    "\n",
    "fig.add_layout_image(\n",
    "    dict(\n",
    "        x=-42.5,\n",
    "        sizex=42.5*2,\n",
    "        y=-11,\n",
    "        sizey=100,\n",
    "        xref=\"x\",\n",
    "        yref=\"y\",\n",
    "        opacity=1.0,\n",
    "        layer=\"below\",\n",
    "        sizing=\"stretch\",\n",
    "        source=rink_half_img)\n",
    ")\n",
    "\n",
    "\n",
    "fig.show()"
   ]
  },
  {
   "cell_type": "code",
   "execution_count": null,
   "metadata": {},
   "outputs": [],
   "source": []
  },
  {
   "cell_type": "code",
   "execution_count": 206,
   "metadata": {},
   "outputs": [
    {
     "data": {
      "image/png": "[encoded data removed]",
      "text/plain": [
       "<Figure size 1200x1200 with 3 Axes>"
      ]
     },
     "metadata": {},
     "output_type": "display_data"
    }
   ],
   "source": [
    "x_min, x_max = 0, 89\n",
    "y_min, y_max = -42.5, 42.5\n",
    "\n",
    "\n",
    "def get_kde(x_shots, y_shots):\n",
    "\n",
    "   X, Y = np.mgrid[x_min:x_max:100j, y_min:y_max:100j]\n",
    "   positions = np.vstack([X.ravel(), Y.ravel()])\n",
    "   values = np.vstack([x_shots, y_shots])\n",
    "   kernel = stats.gaussian_kde(values)\n",
    "   Z = np.reshape(kernel(positions).T, X.shape)\n",
    "\n",
    "   # Z = Z / Z.max()\n",
    "\n",
    "   return Z\n",
    "\n",
    "fig, ax = plt.subplots(1, 3, figsize=(12, 12))\n",
    "\n",
    "kde_season = get_kde(x_shots_season, y_shots_season)\n",
    "ax[0].imshow(kde_season, cmap='bwr', extent=[y_min, y_max, x_max, x_min])\n",
    "# ax[0].plot(y_shots_season, x_shots_season, 'k.', markersize=2)\n",
    "ax[0].set_xlim([y_min, y_max])\n",
    "ax[0].set_ylim([x_max, x_min])\n",
    "\n",
    "kde_team = get_kde(x_shots_one_team, y_shots_one_team)\n",
    "ax[1].imshow(kde_team, cmap='bwr', extent=[y_min, y_max, x_max, x_min])\n",
    "# ax[1].plot(y_shots_one_team, x_shots_one_team, 'k.', markersize=2)\n",
    "ax[1].set_xlim([y_min, y_max])\n",
    "ax[1].set_ylim([x_max, x_min])\n",
    "\n",
    "kde_diff = (kde_team - kde_season) / kde_season\n",
    "ax[2].imshow(kde_diff, cmap='bwr', extent=[y_min, y_max, x_max, x_min])\n",
    "# ax[2].plot(y_shots_one_team, x_shots_one_team, 'k.', markersize=2)\n",
    "ax[2].set_xlim([y_min, y_max])\n",
    "ax[2].set_ylim([x_max, x_min])\n",
    "plt.show()\n"
   ]
  },
  {
   "cell_type": "code",
   "execution_count": 207,
   "metadata": {},
   "outputs": [
    {
     "data": {
      "text/plain": [
       "0.001151841672788501"
      ]
     },
     "execution_count": 207,
     "metadata": {},
     "output_type": "execute_result"
    }
   ],
   "source": [
    "kde_season.max()"
   ]
  },
  {
   "cell_type": "code",
   "execution_count": 204,
   "metadata": {},
   "outputs": [
    {
     "name": "stdout",
     "output_type": "stream",
     "text": [
      "-0.9999999999999999\n",
      "1.0\n"
     ]
    }
   ],
   "source": [
    "diff_min = kde_diff.min()\n",
    "diff_max = kde_diff.max()\n",
    "\n",
    "alpha = (-2./(diff_min-diff_max)) \n",
    "beta = (diff_min + diff_max) / (diff_min - diff_max)\n",
    "kde_diff_norm = alpha * kde_diff + beta\n",
    "\n",
    "print(kde_diff_norm.min())\n",
    "print(kde_diff_norm.max())"
   ]
  },
  {
   "cell_type": "code",
   "execution_count": 203,
   "metadata": {},
   "outputs": [
    {
     "data": {
      "text/plain": [
       "<matplotlib.image.AxesImage at 0x7f04c0e8ff70>"
      ]
     },
     "execution_count": 203,
     "metadata": {},
     "output_type": "execute_result"
    },
    {
     "data": {
      "image/png": "[encoded data removed]",
      "text/plain": [
       "<Figure size 1000x1000 with 2 Axes>"
      ]
     },
     "metadata": {},
     "output_type": "display_data"
    }
   ],
   "source": [
    "x_min, x_max = 0, 89\n",
    "y_min, y_max = -42.5, 42.5\n",
    "\n",
    "y_grid, x_grid = np.mgrid[x_min:x_max:100j, y_min:y_max:100j]\n",
    "\n",
    "fig = plt.figure(figsize=(10,10))\n",
    "# plt.contourf(x_grid, y_grid, kde_diff, alpha=0.8, cmap='bwr', levels = np.linspace(kde_diff.min(), kde_diff.max(), 10), vmin=kde_diff.min(), vmax=kde_diff.max())\n",
    "plt.contourf(x_grid, y_grid, kde_diff, alpha=0.8, cmap='bwr', levels = np.linspace(kde_diff_norm.min(), kde_diff_norm.max(), 10), vmin=kde_diff_norm.min(), vmax=kde_diff_norm.max())\n",
    "plt.colorbar(orientation = 'vertical')\n",
    "plt.imshow(rink_half_img, extent=[-42.5, 42.5, 89, -11])"
   ]
  },
  {
   "cell_type": "code",
   "execution_count": null,
   "metadata": {},
   "outputs": [],
   "source": []
  }
 ],
 "metadata": {
  "kernelspec": {
   "display_name": "Python 3.9.13 ('NHL')",
   "language": "python",
   "name": "python3"
  },
  "language_info": {
   "codemirror_mode": {
    "name": "ipython",
    "version": 3
   },
   "file_extension": ".py",
   "mimetype": "text/x-python",
   "name": "python",
   "nbconvert_exporter": "python",
   "pygments_lexer": "ipython3",
   "version": "3.9.13"
  },
  "orig_nbformat": 4,
  "vscode": {
   "interpreter": {
    "hash": "92f48083c8218174491cd4f669c156bacd48c2621c374208378e0b05beed392f"
   }
  }
 },
 "nbformat": 4,
 "nbformat_minor": 2
}
